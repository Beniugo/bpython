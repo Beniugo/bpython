{
 "cells": [
  {
   "cell_type": "code",
   "execution_count": 22,
   "metadata": {},
   "outputs": [
    {
     "name": "stdout",
     "output_type": "stream",
     "text": [
      "Hello your capital is 12000\n",
      "Hello your email is Iambolt00@gmail.com\n",
      "Hello your username is Bolt\n",
      "Hello your full name is Ghost Bolt\n",
      "Hello your Date Of Birth is 2/7/1980\n",
      "Hello Your Age is 42\n"
     ]
    }
   ],
   "source": [
    "# User Info\n",
    "\n",
    "capital = int(input(\"Enter your Capital\"))\n",
    "email = input(\"Enter your Email adress\")\n",
    "username = input(\"Enter your Username\")\n",
    "Fullname = input(\"Enter Your Full Name\")\n",
    "DOB = input(\"Enter Your Date Of Birth\")\n",
    "Age = int(input(\"Enter Your Age\"))\n",
    "\n",
    "print(f'Hello your capital is {capital}')\n",
    "print(f'Hello your email is {email}')\n",
    "print(f'Hello your username is {username}')\n",
    "print(f'Hello your full name is {Fullname}')\n",
    "print(f'Hello your Date Of Birth is {DOB}')\n",
    "print(f'Hello Your Age is {Age}')"
   ]
  },
  {
   "cell_type": "code",
   "execution_count": 12,
   "metadata": {},
   "outputs": [
    {
     "name": "stdout",
     "output_type": "stream",
     "text": [
      "Hello Emeka Ogochukwu\n",
      "Your Username is Emeka500\n",
      "This Is Your Date Of Birth 1st of January 1960\n",
      "You are 62 years old.\n",
      "The Name Of Your Pet Is Mikky\n"
     ]
    }
   ],
   "source": [
    "first_name = input(\"Enter Your First Name\")\n",
    "last_name = input(\"Enter Your Last Name\")\n",
    "username = input(\"Enter Your Username\")\n",
    "DOB = input(\"Enter Your Date Of Birth\")\n",
    "age = int(input(\"Enter Your Age\"))\n",
    "pet = input(\"Enter The Name Of Your Pet\")\n",
    "print(f'Hello {first_name} {last_name}')\n",
    "print(f'Your Username is {username}')\n",
    "print(f'This Is Your Date Of Birth {DOB}')\n",
    "print(f'You are {age} years old.')\n",
    "print(f'The Name Of Your Pet Is {pet}')"
   ]
  },
  {
   "cell_type": "code",
   "execution_count": 1,
   "metadata": {},
   "outputs": [
    {
     "name": "stdout",
     "output_type": "stream",
     "text": [
      "Victor Osuji\n"
     ]
    }
   ],
   "source": [
    "first_name = \"Victor \"\n",
    "last_name = \"Osuji\"\n",
    "print(first_name  + last_name)"
   ]
  },
  {
   "cell_type": "code",
   "execution_count": 4,
   "metadata": {},
   "outputs": [
    {
     "name": "stdout",
     "output_type": "stream",
     "text": [
      "Beard oil\n",
      "Kitchen Knife\n",
      "Gas cooker\n",
      "Fridge\n",
      "Lamp\n",
      "Basket\n",
      "Tiles\n",
      "Oven\n"
     ]
    }
   ],
   "source": [
    "jumia_cart = ['Beard oil', 'Kitchen Knife', 'Gas cooker', 'Fridge', 'Lamp']\n",
    "jumia_cart.extend(['Basket', 'Tiles', 'Oven'])\n",
    "for x in jumia_cart:\n",
    "    print(x)"
   ]
  },
  {
   "cell_type": "code",
   "execution_count": 10,
   "metadata": {},
   "outputs": [
    {
     "name": "stdout",
     "output_type": "stream",
     "text": [
      "1\n",
      "2\n",
      "3\n",
      "4\n",
      "5\n",
      "6\n",
      "7\n",
      "8\n",
      "9\n"
     ]
    }
   ],
   "source": [
    "list = [9,8,7,6,5,4,3,2,1]\n",
    "list.sort()\n",
    "for x in list:\n",
    "    print(x)"
   ]
  },
  {
   "cell_type": "code",
   "execution_count": 12,
   "metadata": {},
   "outputs": [
    {
     "name": "stdout",
     "output_type": "stream",
     "text": [
      "9\n",
      "8\n",
      "7\n",
      "6\n",
      "5\n",
      "4\n",
      "3\n",
      "2\n",
      "1\n"
     ]
    }
   ],
   "source": [
    "list = [9,8,7,6,5,4,3,2,1]\n",
    "list.sort()\n",
    "list.reverse()\n",
    "for x in list:\n",
    "    print(x)"
   ]
  },
  {
   "cell_type": "code",
   "execution_count": 13,
   "metadata": {},
   "outputs": [
    {
     "name": "stdout",
     "output_type": "stream",
     "text": [
      "1\n",
      "2\n",
      "3\n",
      "4\n",
      "5\n",
      "6\n",
      "7\n",
      "9\n"
     ]
    }
   ],
   "source": [
    "list = [9,8,7,6,5,4,3,2,1]\n",
    "list.sort()\n",
    "list.remove(8)\n",
    "for x in list:\n",
    "    print(x)"
   ]
  },
  {
   "cell_type": "code",
   "execution_count": 4,
   "metadata": {},
   "outputs": [
    {
     "name": "stdout",
     "output_type": "stream",
     "text": [
      " Hello, your surname is osuji4\n"
     ]
    }
   ],
   "source": [
    "name = input('Enter your name.')\n",
    "dictionary = {\n",
    "    'name': 'surname',\n",
    "    'Victor': 'Osuji',\n",
    "    'Lilian': 'Osuji1',\n",
    "    'Jeniffer': 'Osuji2',\n",
    "    'richeal': 'Osuji3',\n",
    "    'franca': 'osuji4',\n",
    "    'maureen': 'osuji5',\n",
    "    'patience': 'osuji6',\n",
    "    'joyce': 'osuji7'\n",
    "}\n",
    "print(f' Hello, your surname is {dictionary.get(name)}')"
   ]
  },
  {
   "cell_type": "code",
   "execution_count": 50,
   "metadata": {},
   "outputs": [
    {
     "name": "stdout",
     "output_type": "stream",
     "text": [
      "Hello, your name is \"Ghost\" and the capital of your state (Imo) is Owerri\n"
     ]
    }
   ],
   "source": [
    "# write a program to return the name of the user\n",
    "#  and the capital of his or her state \n",
    "# according to user's input.\n",
    "\n",
    "\n",
    "name = input('Enter your name.').capitalize()\n",
    "state = input('What is the name of your state?').capitalize()\n",
    "state_and_capital = {\n",
    "    'Abia': 'Umuahia',\n",
    "    'Adamawa': 'Yola',\n",
    "    'Akwa ibom': 'Uyo',\n",
    "    'Anambra': 'Awka',\n",
    "    'Bauchi': 'Bauchi',\n",
    "    'Bayelsa': 'Yenagoa',\n",
    "    'Benue': 'Makurdi',\n",
    "    'Borno': 'Maiduguri',\n",
    "    'Cross river': 'Calabar',\n",
    "    'Delta': 'Asaba',\n",
    "    'Ebonyi': 'Abakaliki',\n",
    "    'Edo': 'Benin city',\n",
    "    'Ekiti': 'Ado ekiti',\n",
    "    'Enugu': 'Enugu',\n",
    "    'Gombe': 'Gombe',\n",
    "    'Imo': 'Owerri',\n",
    "    'Jigawa': 'Dutse',\n",
    "    'Kaduna': 'Kaduna',\n",
    "    'Katsina': 'Katsina',\n",
    "    'Kirbi': 'Birnin kebbi',\n",
    "    'Kogi': 'Lokoja',\n",
    "    'Kwara': 'Ilorin',\n",
    "    'Lagos': 'Ikeja',\n",
    "    'Nasarawa': 'Lafia',\n",
    "    'Niger': 'Minna',\n",
    "    'Ogun': 'Abeokuta',\n",
    "    'Ondo': 'Akure',\n",
    "    'Osun': 'Oshogbo',\n",
    "    'Oyo': 'ibadan',\n",
    "    'Plateau': 'Jos',\n",
    "    'Rivers': 'Port Harcourt',\n",
    "    'Sokoto': 'Sokoto',\n",
    "    'Taraba': 'Jalingo',\n",
    "    'Yobe': 'Damaturu',\n",
    "    'Zamfara': 'Gusau'\n",
    "\n",
    "\n",
    "}\n",
    "for x,y in state_and_capital.items():\n",
    "  if state == x:\n",
    "    print(f'Hello, your name is \"{name}\" and the capital of your state ({x}) is {y}')\n",
    "    break\n",
    "else:\n",
    "    print(f'Sorry {name}! {state} isn\\'t among the 36 states in Nigeria.')\n",
    "    \n",
    "\n"
   ]
  },
  {
   "cell_type": "code",
   "execution_count": 10,
   "metadata": {},
   "outputs": [
    {
     "name": "stdout",
     "output_type": "stream",
     "text": [
      "50 x 0 = 0\n",
      "50 x 1 = 50\n",
      "50 x 2 = 100\n",
      "50 x 3 = 150\n",
      "50 x 4 = 200\n",
      "50 x 5 = 250\n",
      "50 x 6 = 300\n",
      "50 x 7 = 350\n",
      "50 x 8 = 400\n",
      "50 x 9 = 450\n",
      "50 x 10 = 500\n",
      "50 x 11 = 550\n",
      "50 x 12 = 600\n",
      "50 x 13 = 650\n",
      "50 x 14 = 700\n",
      "50 x 15 = 750\n",
      "50 x 16 = 800\n",
      "50 x 17 = 850\n",
      "50 x 18 = 900\n",
      "50 x 19 = 950\n",
      "50 x 20 = 1000\n",
      "50 x 21 = 1050\n",
      "50 x 22 = 1100\n",
      "50 x 23 = 1150\n",
      "50 x 24 = 1200\n",
      "50 x 25 = 1250\n",
      "50 x 26 = 1300\n",
      "50 x 27 = 1350\n",
      "50 x 28 = 1400\n",
      "50 x 29 = 1450\n",
      "50 x 30 = 1500\n"
     ]
    }
   ],
   "source": [
    "desired_number = int(input('Enter your desired time table number'))\n",
    "endpoint = int(input('Enter your time table endpoint number'))\n",
    "for x in range(0,endpoint):\n",
    "    print(f'{desired_number} x {x} =', desired_number*x)"
   ]
  },
  {
   "cell_type": "code",
   "execution_count": 51,
   "metadata": {},
   "outputs": [
    {
     "name": "stdout",
     "output_type": "stream",
     "text": [
      "Elon musk owns one of the Platforms: {('facebook', 'instagram', 'twitter')}\n",
      "\n",
      "Mark zuckerberg owns one of the Platforms: {('facebook', 'instagram', 'twitter')}\n",
      "\n",
      "Elon musk owns one of the Platforms: {('facebook', 'instagram', 'twitter')}\n",
      "\n",
      "Mark zuckerberg owns one of the Platforms: {('facebook', 'instagram', 'twitter')}\n",
      "\n",
      "Elon musk owns one of the Platforms: {('facebook', 'instagram', 'twitter')}\n",
      "\n",
      "Mark zuckerberg owns one of the Platforms: {('facebook', 'instagram', 'twitter')}\n",
      "\n"
     ]
    }
   ],
   "source": [
    "fame = [\"Davido\",\"Wizkid\",\"Burna boy\"]\n",
    "rich = [\"Elon musk\",\"Mark zuckerberg\"]\n",
    "platform = \"facebook\",\"instagram\",\"twitter\"\n",
    "fame.sort()\n",
    "for i in fame:\n",
    "    for j in rich:\n",
    "        for k in platform:\n",
    "         print(f'{j} owns one of the Platforms:', {platform})\n",
    "         break\n",
    "        print(f'')\n"
   ]
  },
  {
   "cell_type": "code",
   "execution_count": 1,
   "metadata": {},
   "outputs": [],
   "source": [
    "# write a program to detect if a user is too young,\n",
    "# at the right age or too old to drive.\n",
    "# minimum age is 18 and maximum age is 100."
   ]
  },
  {
   "cell_type": "code",
   "execution_count": 41,
   "metadata": {},
   "outputs": [
    {
     "name": "stdout",
     "output_type": "stream",
     "text": [
      "Hello Ghost, you're 27 years old and you're old enough to drive.\n"
     ]
    }
   ],
   "source": [
    "\n",
    "name = input('What is your name?').capitalize()\n",
    "age = int(input('How old are you?'))\n",
    "minimum_age = int(18)\n",
    "maximum_age = int(100)\n",
    "\n",
    "if age >= minimum_age and age <= maximum_age:\n",
    "    print(f'Hello {name}, you\\'re {age} years old and you\\'re old enough to drive.')\n",
    "elif age > maximum_age:\n",
    "    print(f'Sorry {name} you\\'re {age} years old and too old to drive.')\n",
    "else:\n",
    "    print(f'Sorry {name} you\\'re {age} years old, not upto {minimum_age} and you\\'re too young to drive.')"
   ]
  },
  {
   "cell_type": "code",
   "execution_count": 64,
   "metadata": {},
   "outputs": [
    {
     "name": "stdout",
     "output_type": "stream",
     "text": [
      "\n",
      "0 0\n",
      " ^\n",
      " —\n",
      "\n",
      "\n"
     ]
    }
   ],
   "source": [
    "emoji = '''\n",
    "0 0\n",
    " ^\n",
    " —\n",
    "\n",
    "'''\n",
    "print(emoji)"
   ]
  },
  {
   "cell_type": "code",
   "execution_count": 69,
   "metadata": {},
   "outputs": [
    {
     "name": "stdout",
     "output_type": "stream",
     "text": [
      "Message allowed\n"
     ]
    }
   ],
   "source": [
    "# Ternary operator.\n",
    "\n",
    "is_friend = True\n",
    "message = 'Message allowed' if is_friend else 'You cannot message this user because you are not friends. and you are not verified.'\n",
    "print(message)"
   ]
  },
  {
   "cell_type": "code",
   "execution_count": 8,
   "metadata": {},
   "outputs": [
    {
     "name": "stdout",
     "output_type": "stream",
     "text": [
      "Hello Ghost, your provided cridentials is correct and you can now drive your Tesla car. 😊\n"
     ]
    }
   ],
   "source": [
    "# Tesla vehicle verification.\n",
    "\n",
    "name = input('What is your name?').capitalize()\n",
    "license = input('Do you have a license? answer with Yes or No.').lower()\n",
    "minimum_age = 18\n",
    "can_you_drive = input('Can you drive? answer with Yes or No.').lower()\n",
    "\n",
    "if license == 'yes' and minimum_age >= 18 and  can_you_drive == 'yes':\n",
    "    print(f'Hello {name}, your provided cridentials is correct and you can now drive your Tesla car. 😊')\n",
    "else:\n",
    "    print(f'Sorry {name} you cannot drive because your credentials isn\\'t accurate. 😒')\n"
   ]
  },
  {
   "cell_type": "code",
   "execution_count": 10,
   "metadata": {},
   "outputs": [
    {
     "name": "stdout",
     "output_type": "stream",
     "text": [
      "False\n"
     ]
    }
   ],
   "source": [
    "# is vs ==\n",
    "\n",
    "\n",
    "print({} is {})"
   ]
  },
  {
   "cell_type": "code",
   "execution_count": 17,
   "metadata": {},
   "outputs": [
    {
     "name": "stdout",
     "output_type": "stream",
     "text": [
      "   *   \n",
      "  ***  \n",
      " ***** \n",
      "*******\n",
      "   *   \n",
      "   *   \n"
     ]
    }
   ],
   "source": [
    "picture = [\n",
    "    [0,0,0,1,0,0,0],\n",
    "    [0,0,1,1,1,0,0],\n",
    "    [0,1,1,1,1,1,0],\n",
    "    [1,1,1,1,1,1,1],\n",
    "    [0,0,0,1,0,0,0],\n",
    "    [0,0,0,1,0,0,0]\n",
    "]\n",
    "\n",
    "for x in picture:\n",
    "    for numbers in x:\n",
    "        if numbers == 1:\n",
    "            print('*', end='')\n",
    "        else:\n",
    "            print(' ', end='')\n",
    "    print('')"
   ]
  },
  {
   "cell_type": "code",
   "execution_count": 52,
   "metadata": {},
   "outputs": [
    {
     "name": "stdout",
     "output_type": "stream",
     "text": [
      "130\n",
      "160\n",
      "190\n",
      "220\n"
     ]
    }
   ],
   "source": [
    "z = 100\n",
    "\n",
    "while z in range(z,200,30):\n",
    "    z += 30\n",
    "    print(z)\n",
    "    "
   ]
  },
  {
   "cell_type": "code",
   "execution_count": 21,
   "metadata": {},
   "outputs": [
    {
     "name": "stdout",
     "output_type": "stream",
     "text": [
      "1\n",
      "2\n",
      "3\n",
      "4\n",
      "5\n",
      "6\n",
      "7\n",
      "8\n",
      "9\n"
     ]
    }
   ],
   "source": [
    "for z in range(1,10):\n",
    "    print(z)"
   ]
  },
  {
   "cell_type": "code",
   "execution_count": 39,
   "metadata": {},
   "outputs": [
    {
     "name": "stdout",
     "output_type": "stream",
     "text": [
      "   *   \n",
      "  ***  \n",
      " ***** \n",
      "*******\n",
      "   *   \n",
      "   *   \n"
     ]
    }
   ],
   "source": [
    "picture = [\n",
    "    [0,0,0,1,0,0,0],\n",
    "    [0,0,1,1,1,0,0],\n",
    "    [0,1,1,1,1,1,0],\n",
    "    [1,1,1,1,1,1,1],\n",
    "    [0,0,0,1,0,0,0],\n",
    "    [0,0,0,1,0,0,0]\n",
    "]\n",
    "\n",
    "for z in picture:\n",
    "    for i in z:\n",
    "        if i == 1:\n",
    "            print('*', end='')\n",
    "        else:\n",
    "          print(' ', end='')\n",
    "    print('')"
   ]
  },
  {
   "cell_type": "code",
   "execution_count": 48,
   "metadata": {},
   "outputs": [
    {
     "name": "stdout",
     "output_type": "stream",
     "text": [
      "10 x 10 = 100\n",
      "10 x 11 = 110\n",
      "10 x 12 = 120\n",
      "10 x 13 = 130\n",
      "10 x 14 = 140\n"
     ]
    }
   ],
   "source": [
    "number = int(input('Enter your desired time table number'))\n",
    "endpoint = int(input('Enter your endpoint value.'))\n",
    "\n",
    "for x in range(number,endpoint):\n",
    "    print(f'{number} x {x} =', number * x)"
   ]
  },
  {
   "cell_type": "code",
   "execution_count": 7,
   "metadata": {},
   "outputs": [
    {
     "name": "stdout",
     "output_type": "stream",
     "text": [
      "['b', 'n']\n"
     ]
    }
   ],
   "source": [
    "some_list = ['a','b','c','b','d','m','n','n']\n",
    "duplicate = []\n",
    "for x in some_list:\n",
    "    if some_list.count(x) > 1:\n",
    "        if x not in duplicate:\n",
    "            duplicate.append(x)\n",
    "\n",
    "print(duplicate)"
   ]
  },
  {
   "cell_type": "code",
   "execution_count": 2,
   "metadata": {},
   "outputs": [
    {
     "name": "stdout",
     "output_type": "stream",
     "text": [
      "30\n"
     ]
    }
   ],
   "source": [
    "def ghost(num1,num2):\n",
    "   print(num1 + num2)\n",
    "ghost(10,20)\n"
   ]
  },
  {
   "cell_type": "code",
   "execution_count": 3,
   "metadata": {},
   "outputs": [
    {
     "data": {
      "text/plain": [
       "30"
      ]
     },
     "execution_count": 3,
     "metadata": {},
     "output_type": "execute_result"
    }
   ],
   "source": [
    "def ghost(num1,num2):\n",
    "   return num1 + num2\n",
    "ghost(10,20)\n"
   ]
  },
  {
   "cell_type": "code",
   "execution_count": 9,
   "metadata": {},
   "outputs": [
    {
     "data": {
      "text/plain": [
       "'110010'"
      ]
     },
     "execution_count": 9,
     "metadata": {},
     "output_type": "execute_result"
    }
   ],
   "source": [
    "bin(50)[2:]"
   ]
  },
  {
   "cell_type": "code",
   "execution_count": 12,
   "metadata": {},
   "outputs": [
    {
     "name": "stdout",
     "output_type": "stream",
     "text": [
      "Hi, 9 is an odd number.\n"
     ]
    }
   ],
   "source": [
    "def even_or_odd():\n",
    "    number = int(input('Enter your desired number.'))\n",
    "    if number % 2 == 0:\n",
    "        print(f'Hi, {number} is an even number')\n",
    "    else:\n",
    "        print(f'Hi, {number} is an odd number.')\n",
    "even_or_odd()"
   ]
  },
  {
   "cell_type": "code",
   "execution_count": 18,
   "metadata": {},
   "outputs": [
    {
     "name": "stdout",
     "output_type": "stream",
     "text": [
      "1\n",
      "even\n",
      "3\n",
      "even\n",
      "5\n",
      "even\n",
      "7\n",
      "even\n",
      "9\n"
     ]
    }
   ],
   "source": [
    "a = 'even'\n",
    "\n",
    "for x in range(1,10):\n",
    "    if x % 2 == 0:\n",
    "        print(a)\n",
    "    else:\n",
    "        print(x)"
   ]
  },
  {
   "cell_type": "code",
   "execution_count": 42,
   "metadata": {},
   "outputs": [
    {
     "data": {
      "text/plain": [
       "18"
      ]
     },
     "execution_count": 42,
     "metadata": {},
     "output_type": "execute_result"
    }
   ],
   "source": [
    "def highest_even():\n",
    "    even = []\n",
    "    for x in range(2,20,2):\n",
    "        even.append(x)\n",
    "    return max(even)\n",
    "highest_even()"
   ]
  },
  {
   "cell_type": "code",
   "execution_count": 1,
   "metadata": {},
   "outputs": [
    {
     "ename": "TypeError",
     "evalue": "'int' object is not iterable",
     "output_type": "error",
     "traceback": [
      "\u001b[1;31m---------------------------------------------------------------------------\u001b[0m",
      "\u001b[1;31mTypeError\u001b[0m                                 Traceback (most recent call last)",
      "Cell \u001b[1;32mIn [1], line 9\u001b[0m\n\u001b[0;32m      7\u001b[0m     \u001b[38;5;28;01mbreak\u001b[39;00m\n\u001b[0;32m      8\u001b[0m \u001b[38;5;28;01melse\u001b[39;00m:\n\u001b[1;32m----> 9\u001b[0m     \u001b[38;5;28mprint\u001b[39m (\u001b[38;5;124mf\u001b[39m\u001b[38;5;124m\"\u001b[39m\u001b[38;5;132;01m{\u001b[39;00mnumber\u001b[38;5;132;01m}\u001b[39;00m\u001b[38;5;124m+\u001b[39m\u001b[38;5;132;01m{\u001b[39;00mnumber\u001b[38;5;132;01m}\u001b[39;00m\u001b[38;5;124m =\u001b[39m\u001b[38;5;124m\"\u001b[39m, \u001b[38;5;28;43msum\u001b[39;49m\u001b[43m(\u001b[49m\u001b[43mnumber\u001b[49m\u001b[43m)\u001b[49m)\n",
      "\u001b[1;31mTypeError\u001b[0m: 'int' object is not iterable"
     ]
    }
   ],
   "source": [
    "required_number = '18'\n",
    "\n",
    "while True:\n",
    "    number = int(input(\"Enter the number\\n\"))\n",
    "    if number == required_number:\n",
    "        print (\"GOT IT\")\n",
    "        break\n",
    "    else:\n",
    "        print (f\"{number}+{number} =\", sum(number))"
   ]
  }
 ],
 "metadata": {
  "kernelspec": {
   "display_name": "Python 3.11.0 64-bit",
   "language": "python",
   "name": "python3"
  },
  "language_info": {
   "codemirror_mode": {
    "name": "ipython",
    "version": 3
   },
   "file_extension": ".py",
   "mimetype": "text/x-python",
   "name": "python",
   "nbconvert_exporter": "python",
   "pygments_lexer": "ipython3",
   "version": "3.11.0"
  },
  "orig_nbformat": 4,
  "vscode": {
   "interpreter": {
    "hash": "de47f5c92c0ee6f12a59a5613ac5feff6aab19ddff207ba0b3964cced08c4ccc"
   }
  }
 },
 "nbformat": 4,
 "nbformat_minor": 2
}
