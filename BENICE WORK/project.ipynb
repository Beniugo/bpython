{
 "cells": [
  {
   "cell_type": "code",
   "execution_count": null,
   "metadata": {},
   "outputs": [],
   "source": [
    "#HOW TO DO VALIDATION.\n",
    "#1. A SYSTEM FOR ELECTRONIC VOTING SYSTEM FOR FORTH COMING ELECTION.\n",
    "#BUILD A SYSTEM TO TAKE CUSTOMER ORDER IN MALL AND RETURN THE RECEIPT AFTER A SUCCESSFUL TRANSACTION."
   ]
  },
  {
   "cell_type": "code",
   "execution_count": 17,
   "metadata": {},
   "outputs": [
    {
     "name": "stdout",
     "output_type": "stream",
     "text": [
      "jdjfhjfs is not valid email address\n"
     ]
    }
   ],
   "source": [
    "email_val =  \"[A-Za-z0-9._-]+@[A-Za-z0-9._-]+\\.[A-Za-z]\"\n",
    "\n",
    "def check_email(email):\n",
    "    if(re.search(email_val,email)):\n",
    "        print(F\"{email} is valid email address\")\n",
    "    else:\n",
    "        print(f\"{email} is not valid email address\")\n",
    "check_email(input(\"enter email address\"))"
   ]
  },
  {
   "cell_type": "code",
   "execution_count": 6,
   "metadata": {},
   "outputs": [
    {
     "name": "stdout",
     "output_type": "stream",
     "text": [
      "beNi#$, You have successfully logged it\n"
     ]
    }
   ],
   "source": [
    "import re\n",
    "class VotersID:\n",
    "    def pin_code(self):\n",
    "        pin_code = input(\"enter your pvc code number\")\n",
    "        if len(re.findall(\"[A-Za-z0-9.+@#$]\", pin_code))==6:\n",
    "            print(f\"{pin_code}, You have successfully logged in\")\n",
    "        else:\n",
    "            print(f\"wrong pin_code number\")\n",
    "obj = VotersID()\n",
    "obj.pin_code()"
   ]
  },
  {
   "cell_type": "code",
   "execution_count": 2,
   "metadata": {},
   "outputs": [
    {
     "name": "stdout",
     "output_type": "stream",
     "text": [
      "Welcome! You have successfully logged in for 2023 Election\n",
      "In Local Government Election you voted for LP (EMERE HOPE)\n",
      "In State Government Election, you voted for LP (ODOH BATHO)\n",
      "In Federal Government Election, you voted for LP (PETER OBI)\n"
     ]
    }
   ],
   "source": [
    "import re\n",
    "class VotersID:\n",
    "    def Serial_num(self):\n",
    "        Serial_num = input(\"WELCOME FOR 2023 ELECTION PLEASE ENTER YOUR SERIAL NUMBER\")\n",
    "        if len(re.findall(\"[A-Za-z0-9.+@#$]\", Serial_num))==6:\n",
    "            print(f\"Welcome! You have successfully logged in for 2023 Election\")\n",
    "        else:\n",
    "            print(f\"wrong pin_code number\")\n",
    "\n",
    "\n",
    "class Local_govt_election:\n",
    "    APC = \"NWOKEDI JOHN\"\n",
    "    PDP = \"ANI SUNDAY\"\n",
    "    LP= \"EMERE HOPE\"\n",
    "    def __init__(self, LG_result):\n",
    "        self.LG_result = LG_result\n",
    "    \n",
    "        if LG_result == \"NWOKEDI JOHN\":\n",
    "            print(f\"In Local Government Election, you voted for APC ({LG_result})\")\n",
    "        elif LG_result == \"ANI SUNDAY\":\n",
    "            print(f\"In Local Government Election, you voted for PDP ({LG_result})\")\n",
    "        elif LG_result == \"EMERE HOPE\":\n",
    "            print(f\"In Local Government Election you voted for LP ({LG_result})\")\n",
    "        else: \n",
    "            print(f\"Opps! invalid vote\")\n",
    "class State_govt_election:\n",
    "    APC = \"ENEMUO EKENE\"\n",
    "    PDP = \"AYIM CHIBUZOR\"\n",
    "    LP= \"ODOH BATHO\"\n",
    "    def __init__(self,SG_result):\n",
    "        self.SG_result = SG_result\n",
    "        if SG_result == \"ENEMUO EKENE\":\n",
    "            print(f\"In State Government Election, you voted for APC ({SG_result})\")\n",
    "        elif SG_result == \"AYIM HIBUZOR\":\n",
    "            print(f\"In State Government Election, you voted for PDP ({SG_result})\")\n",
    "        elif SG_result == \"ODOH BATHO\":\n",
    "             print(f\"In State Government Election, you voted for LP ({SG_result})\")\n",
    "        else: \n",
    "            print(f\"Opps! invalid vote\")\n",
    "class federal_govt_election:\n",
    "    APC = \"TINUBU\"\n",
    "    PDP = \"ATIKU ABUBARKAR\"\n",
    "    LP= \"PETER OBI\"\n",
    "    def __init__(self,FG_result):\n",
    "        self.FG_result = FG_result\n",
    "    \n",
    "        if FG_result == \"TINUBU\":\n",
    "            print(f\"In Federal Government Election, you voted for APC ({FG_result})\")\n",
    "        elif FG_result == \"ATIKU ABUBARKAR\":\n",
    "            print(f\"In Federal Government Election, you voted for PDP ({FG_result})\")\n",
    "        elif FG_result == \"PETER OBI\":\n",
    "            print(f\"In Federal Government Election, you voted for LP ({FG_result})\")\n",
    "        else: \n",
    "            print(f\"Opps! {FG_result} is a wrong candidate and invalid vote\")\n",
    "                \n",
    "            \n",
    "obj = VotersID()\n",
    "obj.Serial_num()\n",
    "local = Local_govt_election(LG_result= (input(\"enter ur\")))\n",
    "state = State_govt_election(SG_result =(input(\"Enter state\")))\n",
    "federal = federal_govt_election(FG_result =(input(\"enter president\")))\n"
   ]
  }
 ],
 "metadata": {
  "kernelspec": {
   "display_name": "Python 3.11.0 64-bit",
   "language": "python",
   "name": "python3"
  },
  "language_info": {
   "codemirror_mode": {
    "name": "ipython",
    "version": 3
   },
   "file_extension": ".py",
   "mimetype": "text/x-python",
   "name": "python",
   "nbconvert_exporter": "python",
   "pygments_lexer": "ipython3",
   "version": "3.11.0"
  },
  "orig_nbformat": 4,
  "vscode": {
   "interpreter": {
    "hash": "de47f5c92c0ee6f12a59a5613ac5feff6aab19ddff207ba0b3964cced08c4ccc"
   }
  }
 },
 "nbformat": 4,
 "nbformat_minor": 2
}
