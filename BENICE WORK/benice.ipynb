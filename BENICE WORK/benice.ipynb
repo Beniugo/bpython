{
 "cells": [
  {
   "cell_type": "code",
   "execution_count": null,
   "metadata": {},
   "outputs": [],
   "source": [
    "### data type  ###\n",
    "# string datatype\n",
    "_a = \"Today\"\n",
    "print(_a) #printing a varaiable"
   ]
  },
  {
   "cell_type": "code",
   "execution_count": null,
   "metadata": {},
   "outputs": [],
   "source": [
    "type(_a)"
   ]
  },
  {
   "cell_type": "code",
   "execution_count": null,
   "metadata": {},
   "outputs": [],
   "source": [
    "# protocols for setting a variable\n",
    "\n",
    "# 1. must be an alphabet or a word\n",
    "# 2. it can not start with special characters except underscore_\n",
    "# 3. it does not take space inbetween 2 word excpect using _inbetween"
   ]
  },
  {
   "cell_type": "code",
   "execution_count": null,
   "metadata": {},
   "outputs": [],
   "source": [
    "# integer\n",
    "\n",
    "b = 12012\n",
    "print(b)"
   ]
  },
  {
   "cell_type": "code",
   "execution_count": null,
   "metadata": {},
   "outputs": [],
   "source": [
    "type(b)"
   ]
  },
  {
   "cell_type": "code",
   "execution_count": null,
   "metadata": {},
   "outputs": [],
   "source": [
    "# boolean\n",
    "\n",
    "c = True\n",
    "print(c)"
   ]
  },
  {
   "cell_type": "code",
   "execution_count": null,
   "metadata": {},
   "outputs": [],
   "source": [
    "type(c)"
   ]
  },
  {
   "cell_type": "code",
   "execution_count": null,
   "metadata": {},
   "outputs": [],
   "source": [
    "# floating\n",
    "\n",
    "d = 4.02\n",
    "print(d)"
   ]
  },
  {
   "cell_type": "code",
   "execution_count": null,
   "metadata": {},
   "outputs": [],
   "source": [
    "type(d)"
   ]
  },
  {
   "cell_type": "code",
   "execution_count": null,
   "metadata": {},
   "outputs": [],
   "source": [
    "# complex\n",
    "\n",
    "e = 5j\n",
    "\n",
    "print(e)"
   ]
  },
  {
   "cell_type": "code",
   "execution_count": null,
   "metadata": {},
   "outputs": [],
   "source": [
    "type(e)"
   ]
  },
  {
   "cell_type": "code",
   "execution_count": null,
   "metadata": {},
   "outputs": [],
   "source": [
    "#example mathematic operetor \n",
    "# arithematic \n",
    "\n",
    "f = 20 \n",
    "g = 30 \n",
    "print(f+g)\n",
    "print(f-g)\n",
    "print(f*g)\n",
    "print(type(f/g))"
   ]
  },
  {
   "cell_type": "code",
   "execution_count": null,
   "metadata": {},
   "outputs": [],
   "source": [
    "# modulus //\n",
    "\n",
    "f//g"
   ]
  },
  {
   "cell_type": "code",
   "execution_count": 1,
   "metadata": {},
   "outputs": [
    {
     "data": {
      "text/plain": [
       "12"
      ]
     },
     "execution_count": 1,
     "metadata": {},
     "output_type": "execute_result"
    }
   ],
   "source": [
    "60//5"
   ]
  },
  {
   "cell_type": "code",
   "execution_count": null,
   "metadata": {},
   "outputs": [],
   "source": [
    "#multiplication\n",
    "5*12"
   ]
  },
  {
   "cell_type": "code",
   "execution_count": 3,
   "metadata": {},
   "outputs": [
    {
     "data": {
      "text/plain": [
       "12"
      ]
     },
     "execution_count": 3,
     "metadata": {},
     "output_type": "execute_result"
    }
   ],
   "source": [
    "61//5 #modulus"
   ]
  },
  {
   "cell_type": "code",
   "execution_count": 4,
   "metadata": {},
   "outputs": [
    {
     "data": {
      "text/plain": [
       "1"
      ]
     },
     "execution_count": 4,
     "metadata": {},
     "output_type": "execute_result"
    }
   ],
   "source": [
    "# remainder %\n",
    "\n",
    "61%5"
   ]
  },
  {
   "cell_type": "code",
   "execution_count": null,
   "metadata": {},
   "outputs": [],
   "source": [
    "# Relational Operators\n",
    "name "
   ]
  },
  {
   "cell_type": "code",
   "execution_count": null,
   "metadata": {},
   "outputs": [],
   "source": [
    "a = 10 \n",
    "b = 20\n",
    "sum = a + b \n",
    "print(sum)\n"
   ]
  },
  {
   "cell_type": "code",
   "execution_count": null,
   "metadata": {},
   "outputs": [],
   "source": [
    "print(\"Student ID Card\")\n",
    "name = \"divine\\n\"\n",
    "school = \"ebsu\\n\"\n",
    "occupation = \"student\\n\"\n",
    "state = \"imo\\n\"\n",
    "nationalism = \"nigeria\\n\"\n",
    "info = name+school+occupation+state+nationalism \n",
    "print(info)"
   ]
  },
  {
   "cell_type": "code",
   "execution_count": null,
   "metadata": {},
   "outputs": [],
   "source": [
    "name = (\"chioma eze\\n\")\n",
    "location = (\"abia state\\n\")\n",
    "total = name+location \n",
    "print(total)"
   ]
  },
  {
   "cell_type": "code",
   "execution_count": null,
   "metadata": {},
   "outputs": [],
   "source": [
    "age = (\"18\\n\")\n",
    "state = (\"anambra\\n\")\n",
    "occupation = (\"student\\n\")\n",
    "all = age+state+occupation \n",
    "print(all)"
   ]
  },
  {
   "cell_type": "code",
   "execution_count": null,
   "metadata": {},
   "outputs": [],
   "source": [
    "print(\"hello world\")"
   ]
  },
  {
   "cell_type": "code",
   "execution_count": null,
   "metadata": {},
   "outputs": [],
   "source": [
    "x = 10 \n",
    "y = 20 \n",
    "print(x+y)"
   ]
  },
  {
   "cell_type": "code",
   "execution_count": null,
   "metadata": {},
   "outputs": [],
   "source": [
    "print(\"hello world\")"
   ]
  },
  {
   "cell_type": "code",
   "execution_count": null,
   "metadata": {},
   "outputs": [],
   "source": [
    "name = input(\"what is your name\") \n",
    "print(name)"
   ]
  },
  {
   "cell_type": "code",
   "execution_count": null,
   "metadata": {},
   "outputs": [],
   "source": [
    "name = input(\"what is your name?\\n\") \n",
    "print(name)"
   ]
  },
  {
   "cell_type": "code",
   "execution_count": null,
   "metadata": {},
   "outputs": [],
   "source": [
    "x = 2 \n",
    "x = x+2 \n",
    "print(x)"
   ]
  },
  {
   "cell_type": "code",
   "execution_count": null,
   "metadata": {},
   "outputs": [],
   "source": [
    "# what is the output of the following program?\n",
    "\n",
    "language = \"python\"\n",
    "print(\"1.\", language == \"python\")\n",
    "\n",
    "age = 18\n",
    "print(\"2.\", age >= 18)\n",
    "print(\"3.\", age > 18)\n",
    "print(\"4.\", age >= 18 and language == \"java\")\n"
   ]
  },
  {
   "cell_type": "code",
   "execution_count": null,
   "metadata": {},
   "outputs": [],
   "source": [
    "val = int(input(\"enter a value\"))\n",
    "sum = 0\n",
    "\n",
    "for i in range(1,val):\n",
    "    sum = sum + i\n",
    "    print(sum) \n",
    "    "
   ]
  },
  {
   "cell_type": "code",
   "execution_count": null,
   "metadata": {},
   "outputs": [],
   "source": [
    "#for loop\n",
    "#can you modify the multiplication table program so that we get a multiplication table from 10 to 1 instead of 1 to 10?\n",
    "\n",
    "number = int(input(\"enter value for your table\"))\n",
    "value_2 = int(input(\"set the endpoint for the value above\"))\n",
    "\n",
    "for k in reversed(range(number,value_2)):\n",
    "    print(f' {number} x {k} =', number*k)\n"
   ]
  },
  {
   "cell_type": "code",
   "execution_count": null,
   "metadata": {},
   "outputs": [],
   "source": [
    "num = int(input(\"enter num\"))\n",
    "last = int(input(\"enter last num\"))\n",
    "i = 1\n",
    "\n",
    "while i < last:\n",
    "    pro = i*num\n",
    "    print(f\"{num} x {i} = {pro}\")\n",
    "    i = i + 1"
   ]
  },
  {
   "cell_type": "code",
   "execution_count": null,
   "metadata": {},
   "outputs": [],
   "source": [
    "start = int(input(\"enter start num\"))\n",
    "end = int(input(\"enter end point num\"))\n",
    "for i in range(0, end):\n",
    "    print(f'{i} x {start}=', i*start)"
   ]
  },
  {
   "cell_type": "code",
   "execution_count": null,
   "metadata": {},
   "outputs": [],
   "source": [
    "#under \"list\"\n",
    "b = [1,10,20,30,40,50,200]\n",
    "b.insert(3,300)\n",
    "print(b)"
   ]
  },
  {
   "cell_type": "code",
   "execution_count": null,
   "metadata": {},
   "outputs": [],
   "source": [
    "b = [10, 60, 70, 80, 50, 20, 30]\n",
    "b[3]\n"
   ]
  },
  {
   "cell_type": "code",
   "execution_count": null,
   "metadata": {},
   "outputs": [],
   "source": [
    "a  = (\"today\",\"tommorrow\",\"next-day\",\"today\")\n",
    "# accessing the item of a tuple\n",
    "\n",
    "a[0] #slicing"
   ]
  },
  {
   "cell_type": "code",
   "execution_count": null,
   "metadata": {},
   "outputs": [],
   "source": [
    "b = [1, 10, 20, 300, 30, 40, 50, 200]\n",
    "newlist = [400, 500, 600, 700, 800]\n",
    "b.extend(newlist)\n",
    "print(b)"
   ]
  },
  {
   "cell_type": "code",
   "execution_count": null,
   "metadata": {},
   "outputs": [],
   "source": [
    "b = [20, 90, 80, 50, 30, 40, 70, 10, 300, 400, 500]\n",
    "b.pop(-3)\n",
    "print(b)"
   ]
  },
  {
   "cell_type": "markdown",
   "metadata": {},
   "source": [
    "pass statement\n",
    "is a null statement that does nothing.\n",
    "it used to create loops, if ,else statement, function and classess withan empty body"
   ]
  },
  {
   "cell_type": "code",
   "execution_count": 14,
   "metadata": {},
   "outputs": [],
   "source": [
    "number = 5.5\n",
    "if number > 0.0:\n",
    "    pass"
   ]
  },
  {
   "cell_type": "markdown",
   "metadata": {},
   "source": [
    "INTRODUCTION TO PYTHON FUNCTIONS"
   ]
  },
  {
   "cell_type": "code",
   "execution_count": null,
   "metadata": {},
   "outputs": [],
   "source": [
    "def greet():\n",
    "    print(\"Hello\")\n",
    "    print(\"how do you do\")\n",
    "    \n",
    "greet()"
   ]
  },
  {
   "cell_type": "code",
   "execution_count": null,
   "metadata": {},
   "outputs": [],
   "source": [
    "def greet():\n",
    "    print(\"Hello\")\n",
    "    print(\"how do you do\")\n",
    "#function can be call multiple times\n",
    "    \n",
    "greet()\n",
    "greet()\n",
    "greet()"
   ]
  },
  {
   "cell_type": "markdown",
   "metadata": {},
   "source": [
    "PYTHON ARGUMENTS"
   ]
  },
  {
   "cell_type": "code",
   "execution_count": null,
   "metadata": {},
   "outputs": [],
   "source": [
    "def greet(name):\n",
    "    print(f\"Hello, {name}\")\n",
    "    print(\"how do you do\")\n",
    "    \n",
    "greet(\"Jack\")"
   ]
  },
  {
   "cell_type": "markdown",
   "metadata": {},
   "source": [
    "MULTIPLE ARGUMENTS IN PYHTON FUNCTION"
   ]
  },
  {
   "cell_type": "code",
   "execution_count": null,
   "metadata": {},
   "outputs": [],
   "source": [
    "def add_numbers(n1, n2):\n",
    "    result = n1 + n2\n",
    "    print(f\"the sum is {result}\")\n",
    "    #return result\n",
    "\n",
    "number1 = 5.4\n",
    "number2 = 6.7\n",
    "add_numbers(number1, number2)\n"
   ]
  },
  {
   "cell_type": "markdown",
   "metadata": {},
   "source": [
    "return statement"
   ]
  },
  {
   "cell_type": "code",
   "execution_count": null,
   "metadata": {},
   "outputs": [],
   "source": [
    "def add_numbers(n1, n2):\n",
    "    result = n1 + n2\n",
    "    return result\n",
    "\n",
    "number1 = 5.4\n",
    "number2 = 6.7\n",
    "result = add_numbers(number1, number2)\n",
    "print(f\"the sum is, {result}\")\n"
   ]
  },
  {
   "cell_type": "code",
   "execution_count": null,
   "metadata": {},
   "outputs": [],
   "source": [
    "marks = [55, 64, 75, 80, 34]\n",
    "length = len(marks)\n",
    "print(f\"length is {length}\")\n",
    "\n",
    "marks_sum = sum(marks)\n",
    "print(f\"the total marks you got is, {marks_sum}\")"
   ]
  },
  {
   "cell_type": "code",
   "execution_count": null,
   "metadata": {},
   "outputs": [],
   "source": [
    "#WORK\n",
    "#Suppose you just attended a university examination. the marks you obtained in various subjects are stored in alist like this:\n",
    "#marks = [55, 64, 75, 80, 65]\n",
    "#you want to find the average marks you obtained in the exam. and based on the average marks you want to find your grade. the gradeing rule is like this:\n",
    "#1 you will get Grade A if the average marks is equal to or above 80\n",
    "#2. you will get Grade B if the average marks is equal to or above 60 and less than 80.\n",
    "#3. you will get Grade C if the average marks is equal to or above 50 and less than 60.\n",
    "#4. and if the average marks is less than 50, you will get Grade F\n",
    "\n",
    "def find_average_marks(marks):\n",
    "    sum_of_marks = sum(marks)\n",
    "    total_subjects = len(marks)\n",
    "    avarage_marks = sum_of_marks / total_subjects\n",
    "    return avarage_marks\n",
    "\n",
    "#calculate the grade and return it\n",
    "def compute_grade(average_marks):\n",
    "    if average_marks >= 80:\n",
    "        grade = \"A\"\n",
    "    elif average_marks >= 60:\n",
    "        grade = \"B\"\n",
    "    elif average_marks >= 50:\n",
    "        grade = \"C\"\n",
    "    else:\n",
    "        grade = \"F\"\n",
    "    return grade\n",
    "    \n",
    "marks = [55, 64, 75, 80, 65]\n",
    "average_marks = find_average_marks(marks)\n",
    "print(f\"your average marks is, {average_marks}\")\n",
    "\n",
    "grade = compute_grade(average_marks)\n",
    "print(f\"your grade is: {grade}\")\n",
    "\n",
    " "
   ]
  },
  {
   "cell_type": "markdown",
   "metadata": {},
   "source": [
    "Positional, Keyword and Default Arguments"
   ]
  },
  {
   "cell_type": "code",
   "execution_count": null,
   "metadata": {},
   "outputs": [],
   "source": [
    "def add_numbers(n1 = 100, n2 = 1000): \n",
    "    result = n1 + n2\n",
    "    return result\n",
    "\n",
    "number1 = 5.9\n",
    "number2 = 6.7\n",
    "result = add_numbers(5.4)\n",
    "print(f\"the sum is, {result}\")\n",
    "#what happened here is 100 as default value n1, 1000 as defaulte value in n2. when we ran the program the output was 1005.4. becos we have prove 5.4 as a\n",
    "# argument and the value will pass to n1 and we havent provide the second argument so the default value n2 which was 1000 will be used.\n"
   ]
  },
  {
   "cell_type": "code",
   "execution_count": null,
   "metadata": {},
   "outputs": [],
   "source": [
    "def add_numbers(n1 = 100, n2 = 1000): \n",
    "    result = n1 + n2\n",
    "    return result\n",
    "\n",
    "number1 = 5.4\n",
    "number2 = 6.7\n",
    "result = add_numbers()\n",
    "print(f\"the sum is, {result}\")\n",
    "#let moddify it and in this case n1 and n2 will be used since there's no argument\n"
   ]
  },
  {
   "cell_type": "markdown",
   "metadata": {},
   "source": [
    "KEYWORD ARGUMENT"
   ]
  },
  {
   "cell_type": "code",
   "execution_count": 1,
   "metadata": {},
   "outputs": [
    {
     "name": "stdout",
     "output_type": "stream",
     "text": [
      "Hello, Jack\n",
      "What's going on\n",
      "Hello, Jill\n",
      "Howdy?\n"
     ]
    }
   ],
   "source": [
    "#in python we cannot only pass argument in function base on position, we can also pass them by name \n",
    "def greet(name, message):\n",
    "    print(f\"Hello, {name}\")\n",
    "    print(f\"{message}\")\n",
    "greet(\"Jack\", \"What's going on\") #we are passin jack to the name parameter and what about the message parameter\n",
    "greet(message = \"Howdy?\", name = \"Jill\")\n",
    "    "
   ]
  },
  {
   "cell_type": "markdown",
   "metadata": {},
   "source": [
    "PYTHON LOCAL AND GLOBAL VARIABLES"
   ]
  },
  {
   "cell_type": "code",
   "execution_count": null,
   "metadata": {},
   "outputs": [],
   "source": [
    "#Any variable that is created inside a function is LOCAL TO IT. Meaning that the result variable is to add function\n",
    "def add_numbers(n1, n2):\n",
    "    result = n1 + n2\n",
    "    print(result)\n",
    "add_numbers(2, 5)\n",
    "#if the print the result after the function it will gives you error an is telling us that result variable are not defined"
   ]
  },
  {
   "cell_type": "markdown",
   "metadata": {},
   "source": [
    "ANY VARIABLES CREATED OUTSIDE THE FUNCTION ARE CALLED GLOBAL VARIABLES"
   ]
  },
  {
   "cell_type": "code",
   "execution_count": null,
   "metadata": {},
   "outputs": [],
   "source": [
    "message = \"How you doing\" # Here message is a global variables because it is created outside the function;\n",
    "\n",
    "def greet():\n",
    "    print(message)\n",
    "greet()  "
   ]
  },
  {
   "cell_type": "code",
   "execution_count": null,
   "metadata": {},
   "outputs": [],
   "source": [
    "message = \"How you doing\" # Here message is a global variables because it is created outside the function;\n",
    "\n",
    "def greet():\n",
    "    message = \"How are you\"\n",
    "    print(f\"Message inside function: {message}\")\n",
    "greet()\n",
    "print(f\"Message inside function: {message}\")\n",
    "    \n",
    "    "
   ]
  },
  {
   "cell_type": "markdown",
   "metadata": {},
   "source": [
    "LIST AND TUPLES"
   ]
  },
  {
   "cell_type": "markdown",
   "metadata": {},
   "source": [
    "LIST\n",
    "LIST IS A SEQUENCE OF items IN ORDER AND is most commonly used in  python\n"
   ]
  },
  {
   "cell_type": "code",
   "execution_count": null,
   "metadata": {},
   "outputs": [],
   "source": [
    "# A list of integers:\n",
    "numbers = [1, 5, 6, -4]\n",
    "print(numbers)\n",
    "\n",
    "# A mixed list\n",
    "random_list = [2.5, 'hello world', -5, 2.5]\n",
    "print(random_list)\n",
    "\n",
    "#Empty list\n",
    "list1 = []\n",
    "print(list1)"
   ]
  },
  {
   "cell_type": "code",
   "execution_count": null,
   "metadata": {},
   "outputs": [],
   "source": [
    "# A list of integers:\n",
    "numbers = [1, 5, 6, -4]\n",
    "print(len(numbers))\n",
    "\n",
    "#empty list\n",
    "list1 =[]\n",
    "print(len(list1))\n"
   ]
  },
  {
   "cell_type": "markdown",
   "metadata": {},
   "source": [
    "How to access list element"
   ]
  },
  {
   "cell_type": "code",
   "execution_count": null,
   "metadata": {},
   "outputs": [],
   "source": [
    "languages = [\"Python\", \"JavaScript\", \"C++\", \"Kotlin\"]\n",
    "print(languages)\n",
    "\n",
    "# we can access individual using index and it start from the 0\n",
    "print(languages [2])\n",
    "\n",
    "#we can also acces  individual index using negetive index\n",
    "print(languages [-1])"
   ]
  },
  {
   "cell_type": "markdown",
   "metadata": {},
   "source": [
    "slicing a list"
   ]
  },
  {
   "cell_type": "code",
   "execution_count": null,
   "metadata": {},
   "outputs": [],
   "source": [
    "languages = [\"Python\", \"JavaScript\", \"C++\", \"Kotlin\"]\n",
    "print(languages [0:3]) #slicing the list\n",
    "\n",
    "print(languages [1:3])\n",
    "print(languages [:3]) #it means that is equivalent to [0:3]\n",
    "print(languages [1:])"
   ]
  },
  {
   "cell_type": "markdown",
   "metadata": {},
   "source": [
    "change items of the list"
   ]
  },
  {
   "cell_type": "code",
   "execution_count": null,
   "metadata": {},
   "outputs": [],
   "source": [
    "languages = [\"Python\", \"JavaScript\", \"C++\", \"Kotlin\"]\n",
    "languages[1] = \"Ruby\"\n",
    "print(languages)\n",
    "languages[1:3] = \"Ruby\", \"Ben\"\n",
    "print(languages)"
   ]
  },
  {
   "cell_type": "markdown",
   "metadata": {},
   "source": [
    "Iterating through a list"
   ]
  },
  {
   "cell_type": "code",
   "execution_count": null,
   "metadata": {},
   "outputs": [],
   "source": [
    "#Iterating through a list\n",
    "languages = [\"Python\", \"JavaScript\", \"C++\", \"Kotlin\"]\n",
    "print(\"Python\" in languages)\n",
    "print(\"rust\" in languages)\n",
    "\n",
    "#LIST METHODS\n",
    "# When we want to add an item to the list we will use append method.\n",
    "languages.append(\"rust\")\n",
    "print(languages)\n",
    "\n",
    "#using INSERT METHOD\n",
    "languages.insert(1, \"rust\")\n",
    "print(languages)\n",
    "\n",
    "#REMOVE METHOD\n",
    "languages.remove(\"JavaScript\")\n",
    "print(languages)\n",
    "\n",
    "#TO COPY THE LIST\n",
    "languages1 = languages.copy() \n",
    "print(languages1)"
   ]
  },
  {
   "cell_type": "markdown",
   "metadata": {},
   "source": [
    "TUPLES"
   ]
  },
  {
   "cell_type": "code",
   "execution_count": null,
   "metadata": {},
   "outputs": [],
   "source": [
    "numbers = (21, -5, 6, 9)\n",
    "print(numbers)"
   ]
  },
  {
   "cell_type": "code",
   "execution_count": null,
   "metadata": {},
   "outputs": [],
   "source": [
    "numbers = (21, -5, 6, 9)\n",
    "for number in numbers:\n",
    "    print(number)\n",
    "#NOTE = LIST can be changed while TUPLE cannot be changed"
   ]
  },
  {
   "cell_type": "markdown",
   "metadata": {},
   "source": [
    "HOW TO WORK WITH \"TEXT\"(PYTHON STRING)"
   ]
  },
  {
   "cell_type": "code",
   "execution_count": null,
   "metadata": {},
   "outputs": [],
   "source": [
    "text = \"\"\"Hello there\n",
    "How are you doing\"\"\"\n",
    "print(text)"
   ]
  },
  {
   "cell_type": "code",
   "execution_count": null,
   "metadata": {},
   "outputs": [],
   "source": [
    "#continuation\n",
    "text = \"He said, \\\"what\\'s there?\\\"\"\n",
    "print(text)"
   ]
  },
  {
   "cell_type": "markdown",
   "metadata": {},
   "source": [
    "Access string Character"
   ]
  },
  {
   "cell_type": "code",
   "execution_count": null,
   "metadata": {},
   "outputs": [],
   "source": [
    "text =\"python\"\n",
    "print(text[3]) #using index\n",
    "print(text[-2]) #using negative index"
   ]
  },
  {
   "cell_type": "markdown",
   "metadata": {},
   "source": [
    "PYTHON STRING OPERATIONS"
   ]
  },
  {
   "cell_type": "code",
   "execution_count": null,
   "metadata": {},
   "outputs": [],
   "source": [
    "text1 = \"Python\"\n",
    "text2 = \"Programming\"\n",
    "result = text1 + \" \" + text2\n",
    "print(result)\n",
    "\n",
    "text = \"Python\" #iterating the string using 4 loop\n",
    "for character in text:\n",
    "    print(character)\n",
    "\n",
    "new_text = text * 3\n",
    "print(new_text)"
   ]
  },
  {
   "cell_type": "markdown",
   "metadata": {},
   "source": [
    "USING LOWER METHOD AND UPPER METHOD"
   ]
  },
  {
   "cell_type": "code",
   "execution_count": null,
   "metadata": {},
   "outputs": [],
   "source": [
    "text = \"I like Python 3\"\n",
    "result = text.lower()#using lower method\n",
    "print(result)\n",
    "\n",
    "result = text.upper() #using upper method\n",
    "print(result)\n",
    "\n",
    "result = text.find(\"Python\")\n",
    "print(result)\n",
    "\n",
    "result = text.replace(\"Python 3\", \"Java\")# to replace python 3\n",
    "print(result)"
   ]
  },
  {
   "cell_type": "markdown",
   "metadata": {},
   "source": [
    "PYTHON DICTIONARIES STORE KEY/VALUE PAIRS"
   ]
  },
  {
   "cell_type": "code",
   "execution_count": null,
   "metadata": {},
   "outputs": [],
   "source": [
    "             #key   #value   #key  #value\n",
    "person1 = {\"name\": \"linus\", \"age\": 21}           "
   ]
  },
  {
   "cell_type": "code",
   "execution_count": null,
   "metadata": {},
   "outputs": [],
   "source": [
    "person1 = {\n",
    "\"name\": \"Linus\",\n",
    " \"age\": 21\n",
    " }\n",
    "print(person1[\"age\"])\n",
    "print(person1.pop(\"age\"))\n",
    "\n",
    "print(person1.get(\"hobbies\")) #to print none\n",
    "\n",
    "person1[\"name\"] = \"dennis\" #change value\n",
    "print(person1)\n",
    "\n",
    "person1[\"hobbies\"] = [\"dancing\", \"fishing\"] #add key and value\n",
    "print(person1)\n",
    "\n",
    "person1.pop(\"name\")\n",
    "print(person1)\n"
   ]
  },
  {
   "cell_type": "code",
   "execution_count": null,
   "metadata": {},
   "outputs": [],
   "source": [
    "figures = {4: \"one\",5: \"two\", 6: \"three\", 7: \"four\" \n",
    " }\n",
    "print(\"1\", figures)\n",
    "print(\"2\", figures.items())\n",
    "print(\"3\", figures.keys())\n",
    "print(\"4\", figures.values())\n",
    "print(\"5\", figures.copy())\n",
    "print(\"6\", figures.get(5))#get is expected at least one argument\n",
    "print(\"7\", figures.clear())\n",
    "print(\"9\", figures.update())\n",
    "print(\"10\", figures.setdefault(\"one\"))\n"
   ]
  },
  {
   "cell_type": "code",
   "execution_count": null,
   "metadata": {},
   "outputs": [],
   "source": [
    "eng = {\"one\": \"ones\",\n",
    " \"two\": \"twos\",\n",
    "  \"three\": \"threes\"\n",
    "}\n",
    "len(eng)"
   ]
  },
  {
   "cell_type": "code",
   "execution_count": null,
   "metadata": {},
   "outputs": [],
   "source": [
    "#how in operator work differently for dictionary\n",
    "# the in operator tells whether something appears as a key in the dictionary.\n",
    "figures = {4: \"one\",5: \"two\", 6: \"three\", 7: \"four\"}\n",
    "4 in figures "
   ]
  },
  {
   "cell_type": "markdown",
   "metadata": {},
   "source": [
    "SET"
   ]
  },
  {
   "cell_type": "code",
   "execution_count": null,
   "metadata": {},
   "outputs": [],
   "source": [
    "animals = {\"dog\", \"cat\", \"tiger\", \"elephant\"}\n",
    "print(animals)"
   ]
  },
  {
   "cell_type": "code",
   "execution_count": null,
   "metadata": {},
   "outputs": [],
   "source": [
    "#to convert list to a set\n",
    "animals = set([\"dog\", \"cat\", \"tiger\", \"elephant\"])\n",
    "print(animals)"
   ]
  },
  {
   "cell_type": "code",
   "execution_count": null,
   "metadata": {},
   "outputs": [],
   "source": [
    "#WHAT THE OUTPUT OF THE FOLLOWING PROGRAM?\n",
    "synonyms = {\n",
    "    \"mountain\": \"peak\",\n",
    "     \"forest\": \"jungle\"}\n",
    "     \n",
    "print(\"1.\",synonyms[\"mountain\"])\n",
    "\n",
    "synonyms[\"terrain\"] = \"land\"\n",
    "print(\"2.\", synonyms)\n",
    "\n",
    "print(synonyms.pop(\"forest\"))\n",
    "\n",
    "print(\"3.\", synonyms)\n",
    "            "
   ]
  },
  {
   "cell_type": "code",
   "execution_count": null,
   "metadata": {},
   "outputs": [],
   "source": [
    "synonyms = {\n",
    "    \"mountain\": \"peak\",\n",
    "     \"forest\": \"jungle\",\n",
    "     \"terrain\": \"land\",\n",
    "     }\n",
    "synonyms.pop(\"forest\")\n",
    "print(synonyms)"
   ]
  },
  {
   "cell_type": "code",
   "execution_count": null,
   "metadata": {},
   "outputs": [],
   "source": [
    "synonyms = {\n",
    "    \"mountain\": \"peak\",\n",
    "     \"forest\": \"jungle\"}\n",
    "print(synonyms.pop(\"forest\"))"
   ]
  },
  {
   "cell_type": "code",
   "execution_count": null,
   "metadata": {},
   "outputs": [],
   "source": [
    "animals = {\"dog\", \"cat\", \"tiger\", \"elephant\", \"dog\"} # a set\n",
    "animals.add(\"monkey\") #to add elements to the set\n",
    "print(animals)"
   ]
  },
  {
   "cell_type": "code",
   "execution_count": null,
   "metadata": {},
   "outputs": [],
   "source": [
    "animals = {\"dog\", \"cat\", \"tiger\", \"elephant\", \"dog\"}\n",
    "wild_animals = [\"tiger\", \"leopard\", \"elephant\"]\n",
    "animals.update(wild_animals)# to update it\n",
    "print(animals)\n",
    "animals.update(wild_animals, {\"dolpins\"})# dolpins will be added to the set\n",
    "print(animals)"
   ]
  },
  {
   "cell_type": "code",
   "execution_count": null,
   "metadata": {},
   "outputs": [],
   "source": [
    "#how to remove item from the set\n",
    "#WE HAVE DISCARD METHED AND REMOVE METHOD\n",
    "animals = {\"dog\", \"cat\", \"tiger\", \"elephant\"}\n",
    "animals.discard(\"cat\")\n",
    "print(animals)\n",
    "animals = {\"dog\", \"cat\", \"elephant\", \"spider\"}\n",
    "animals.remove(\"elephant\")\n",
    "print(animals)\n",
    "#NOTE: REMOVE AND DISCARD ACT THE WORK BUT IMPORTANT DIFFERENT B/W THEM IS WHEN U WANT ITEM DAT IS NOT IN THE LIST, DISCARD RETURNS NONE WILL REMOVE RETURN ERROR\n"
   ]
  },
  {
   "cell_type": "code",
   "execution_count": null,
   "metadata": {},
   "outputs": [],
   "source": [
    "domestic_animals = {\"dog\", \"cat\", \"elephant\"}\n",
    "wild_animals = {\"lion\", \"tiger\", \"elephant\"}\n",
    "animals = domestic_animals.union(wild_animals) #to join the two set\n",
    "print(animals)\n",
    "animals = domestic_animals|wild_animals#we can also use | method\n",
    "print(animals)\n",
    "\n"
   ]
  },
  {
   "cell_type": "code",
   "execution_count": null,
   "metadata": {},
   "outputs": [],
   "source": [
    "#to find the intersection of set\n",
    "domestic_animals = {\"dog\", \"cat\", \"elephant\"}\n",
    "wild_animals = {\"lion\", \"tiger\", \"elephant\"}\n",
    "animals = domestic_animals.intersection(wild_animals)\n",
    "print(animals)\n",
    "#we can still use & method because it act as intersection\n",
    "animals = domestic_animals & wild_animals\n",
    "print(animals)\n"
   ]
  },
  {
   "cell_type": "markdown",
   "metadata": {},
   "source": [
    "USING RANGE IN PYTHON"
   ]
  },
  {
   "cell_type": "code",
   "execution_count": null,
   "metadata": {},
   "outputs": [],
   "source": [
    "result = range(1,11)\n",
    "print(list(result))\n",
    "\n",
    "#another example RANGE IN FOR LOOP\n",
    "for value in range(1,6):\n",
    "    print(f\"{value} for iteration\")"
   ]
  },
  {
   "cell_type": "code",
   "execution_count": null,
   "metadata": {},
   "outputs": [],
   "source": [
    "result = list(range(1, 11, 3))\n",
    "print(result)"
   ]
  },
  {
   "cell_type": "code",
   "execution_count": null,
   "metadata": {},
   "outputs": [],
   "source": [
    "# class work. can you create a list like this using the range function[3, 6, 9, 12, 15, 18, 21, 24, 27, 30]?\n",
    "result = list(range(3, 31, 3))\n",
    "print(result)"
   ]
  },
  {
   "cell_type": "markdown",
   "metadata": {},
   "source": [
    "PYTHON CLASSES AND OBJECTS"
   ]
  },
  {
   "cell_type": "code",
   "execution_count": null,
   "metadata": {},
   "outputs": [],
   "source": [
    "# When we are working with objects, variables are called attributes and functions are called methods.\n",
    "class Student:\n",
    "    pass\n",
    "student1 = Student() #student1 is object to student class.\n",
    "student1.name = \"harry\"\n",
    "student1.marks = 85\n",
    "print(student1.name)\n",
    "print(student1.marks)\n",
    "# this is not the proper way to add attribute to object."
   ]
  },
  {
   "cell_type": "code",
   "execution_count": null,
   "metadata": {},
   "outputs": [],
   "source": [
    "# how to defined method inside the class then we will look to proper way to add attribute.\n",
    "\n",
    "class Student:\n",
    "    def check_pass_fail(self): #we have defined check_pass_method inside the class\n",
    "        if self.marks >= 40:\n",
    "            return True\n",
    "        else:\n",
    "            return False\n",
    "            \n",
    "student1 = Student() #we created an object \n",
    "student1.name = \"harry\" #attribute added inside object\n",
    "student1.marks = 85\n",
    "did_pass = student1.check_pass_fail()\n",
    "print(did_pass)\n",
    "\n",
    "student2 = Student() \n",
    "student2.name = \"janet\" \n",
    "student2.marks = 30\n",
    "did_pass = student2.check_pass_fail()\n",
    "print(did_pass)\n",
    "\n"
   ]
  },
  {
   "cell_type": "markdown",
   "metadata": {},
   "source": [
    "INIT METHOD is a special method that automatically gets called everytime objects are created."
   ]
  },
  {
   "cell_type": "code",
   "execution_count": null,
   "metadata": {},
   "outputs": [],
   "source": [
    "class Student:\n",
    "    def check_pass_fail(self): \n",
    "        if self.marks >= 40:\n",
    "            return True\n",
    "        else:\n",
    "            return False\n",
    "    \n",
    "    def __init__(self , name, marks):\n",
    "        self.name = name\n",
    "        self.marks = marks\n",
    "            \n",
    "student1 = Student(\"harry\", 85) \n",
    "print(student1.name) \n",
    "print(student1.marks)"
   ]
  },
  {
   "cell_type": "code",
   "execution_count": null,
   "metadata": {},
   "outputs": [],
   "source": [
    "# let add another object\n",
    "class Student:\n",
    "    def check_pass_fail(self): \n",
    "        if self.marks >= 40:\n",
    "            return True\n",
    "        else:\n",
    "            return False\n",
    "    \n",
    "    def __init__(self , name, marks):\n",
    "        self.name = name\n",
    "        self.marks = marks\n",
    "            \n",
    "student1 = Student(\"harry\", 85) \n",
    "student2 = Student(\"jane\", 30)\n",
    "print(student1.name) \n",
    "print(student1.marks)\n",
    "print(student2.name)\n",
    "print(student2.marks)\n"
   ]
  },
  {
   "cell_type": "code",
   "execution_count": null,
   "metadata": {},
   "outputs": [],
   "source": [
    "# let add did_pass\n",
    "class Student:\n",
    "    def check_pass_fail(self): \n",
    "        if self.marks >= 40:\n",
    "            return True\n",
    "        else:\n",
    "            return False\n",
    "    \n",
    "    def __init__(self , name, marks):\n",
    "        self.name = name\n",
    "        self.marks = marks\n",
    "            \n",
    "student1 = Student(\"harry\", 85) \n",
    "student2 = Student(\"jane\", 30)\n",
    "did_pass = student1.check_pass_fail()\n",
    "print(did_pass)\n",
    "did_pass = student2.check_pass_fail()\n",
    "print(did_pass)"
   ]
  },
  {
   "cell_type": "code",
   "execution_count": null,
   "metadata": {},
   "outputs": [],
   "source": [
    "#class work\n",
    "class complex:\n",
    "    def __init__(self, real, imag):\n",
    "        self.real = real\n",
    "        self.imag = imag\n",
    "\n",
    "    def add(self, number):\n",
    "        real = self.real +  number.real\n",
    "        imag = self.imag + number.imag\n",
    "        result = complex(real, imag)\n",
    "        return result\n",
    "n1 = complex(5, 6)\n",
    "n2 = complex(-4, 2)\n",
    "result = n1.add(n2)\n",
    "print(f\"real =\", result.real)\n",
    "print(f\"imag =\", result.imag)\n"
   ]
  },
  {
   "cell_type": "markdown",
   "metadata": {},
   "source": [
    "THE dir() function"
   ]
  },
  {
   "cell_type": "code",
   "execution_count": null,
   "metadata": {},
   "outputs": [],
   "source": [
    "numbers_lists = [1, 2]\n",
    "print(dir(numbers_lists))"
   ]
  },
  {
   "cell_type": "code",
   "execution_count": null,
   "metadata": {},
   "outputs": [],
   "source": [
    "numbers_list = [1, 2]\n",
    "result = numbers_list.__add__([3, 4])\n",
    "print(result)"
   ]
  },
  {
   "cell_type": "code",
   "execution_count": null,
   "metadata": {},
   "outputs": [],
   "source": [
    "numbers_list = [1, 2]\n",
    "result = numbers_list + ([3, 4]) #here + operator act totally like __ada__\n",
    "print(result)"
   ]
  },
  {
   "cell_type": "markdown",
   "metadata": {},
   "source": [
    "The Id function:\n",
    "in python, every object has an id for identity. the id of an object is always unique and constant for this object during its lifetime."
   ]
  },
  {
   "cell_type": "code",
   "execution_count": null,
   "metadata": {},
   "outputs": [],
   "source": [
    "number1 = 5\n",
    "print(id(number1))\n",
    "\n",
    "number2 = 10\n",
    "print(id(number2))"
   ]
  },
  {
   "cell_type": "code",
   "execution_count": null,
   "metadata": {},
   "outputs": [],
   "source": [
    "#lets modify this program\n",
    "number1 = 5\n",
    "print(id(number1))\n",
    "number2 = number1\n",
    "print(id(number2))"
   ]
  },
  {
   "cell_type": "code",
   "execution_count": null,
   "metadata": {},
   "outputs": [],
   "source": [
    "a = [1, 2, 3]\n",
    "b = a\n",
    "a.append(4)\n",
    "print(f\"a = {a}\")\n",
    "print(f\"b = {b}\")"
   ]
  },
  {
   "cell_type": "markdown",
   "metadata": {},
   "source": [
    "PYTHON INHERITANCE:\n",
    "Inheritance allows us to inherit attributes and methods from a parent class to child classes."
   ]
  },
  {
   "cell_type": "code",
   "execution_count": null,
   "metadata": {},
   "outputs": [],
   "source": [
    "class Animal:\n",
    "    def eat(self):\n",
    "        print(\"i can eat\")\n",
    "\n",
    "class Dog(Animal): #we derived the Dog class from the animal class, so it inherit all the features in animal class\n",
    "    def bark(self):\n",
    "        print(\"I can bark\")\n",
    "\n",
    "dog1 = Dog() #access attribute on both the Dog class and animal class\n",
    "dog1.bark()\n",
    "dog1.eat() # dog1 has access to \"i can eat\" in Animal class"
   ]
  },
  {
   "cell_type": "markdown",
   "metadata": {},
   "source": [
    "PYTHON MODULE:\n",
    "A module is a file that contains python code that we can use in our program"
   ]
  },
  {
   "cell_type": "code",
   "execution_count": null,
   "metadata": {},
   "outputs": [],
   "source": []
  },
  {
   "cell_type": "markdown",
   "metadata": {},
   "source": [
    "REGULAR EXPRESSION"
   ]
  },
  {
   "cell_type": "code",
   "execution_count": null,
   "metadata": {},
   "outputs": [],
   "source": [
    "#0, re module\n",
    "#1, method to search\n",
    "#2, methods on a match\n",
    "#3, meta method\n",
    "#4, more special sequence\n",
    "#5, sets\n",
    "#6, quantifier\n",
    "#7, conditions\n",
    "#8, grouping\n",
    "#9, modification\n",
    "#10, compilation flaGS"
   ]
  },
  {
   "cell_type": "code",
   "execution_count": null,
   "metadata": {},
   "outputs": [],
   "source": [
    "#Method on a match:\n",
    "#match(): Determine if the RE matches at the beginning of the string.\n",
    "#search(): scan through a string, looking for any location where this RE matches.\n",
    "#findall(): find all substring where the RE matches, and return them as a list.\n",
    "#finditer(): find all substrngs where the RE matches, and returns them as an iterator."
   ]
  },
  {
   "cell_type": "code",
   "execution_count": null,
   "metadata": {},
   "outputs": [],
   "source": [
    "# USING FINDITER\n",
    "import re\n",
    "string = '123abc456789abc123ABC'\n",
    "pattern = re.compile(r\"abc\")\n",
    "matches = pattern.finditer(string)\n",
    "for match in matches:\n",
    "    print(match)"
   ]
  },
  {
   "cell_type": "code",
   "execution_count": null,
   "metadata": {},
   "outputs": [],
   "source": [
    "import re\n",
    "string = '123abc456789abc123ABC'\n",
    "matches = re.finditer(r\"abc\", string)\n",
    "for match in matches:\n",
    "    print(match)"
   ]
  },
  {
   "cell_type": "code",
   "execution_count": null,
   "metadata": {},
   "outputs": [],
   "source": [
    "# USING FINDALL METHOD:\n",
    "import re\n",
    "string = '123abc456789abc123ABC'\n",
    "pattern = re.compile(r\"abc\")\n",
    "matches = pattern.findall(string)\n",
    "for match in matches:\n",
    "    print(match)\n"
   ]
  },
  {
   "cell_type": "code",
   "execution_count": null,
   "metadata": {},
   "outputs": [],
   "source": [
    "# USING FINDALL METHOD:\n",
    "import re\n",
    "string = '123abc456789abc123ABC'\n",
    "matches = re.findall(r\"abc\", string)\n",
    "for match in matches:\n",
    "    print(match)\n"
   ]
  },
  {
   "cell_type": "code",
   "execution_count": null,
   "metadata": {},
   "outputs": [],
   "source": [
    "#USING MATCH METHOD:\n",
    "import re\n",
    "string = '123abc456789abc123ABC'\n",
    "pattern = re.compile(r\"abc\")\n",
    "match = pattern.match(string)\n",
    "print(match)\n",
    "# it print none becos match looks only for python at the beginning for all string."
   ]
  },
  {
   "cell_type": "code",
   "execution_count": null,
   "metadata": {},
   "outputs": [],
   "source": [
    "#USING MATCH METHOD:\n",
    "import re\n",
    "string = '123abc456789abc123ABC'\n",
    "pattern = re.compile(r\"123\")\n",
    "match = pattern.match(string)\n",
    "print(match)"
   ]
  },
  {
   "cell_type": "code",
   "execution_count": null,
   "metadata": {},
   "outputs": [],
   "source": [
    "#USING SEARCH METHOD:\n",
    "import re\n",
    "string = '123abc456789abc123ABC'\n",
    "pattern = re.compile(r\"abc\")\n",
    "match = pattern.search(string)\n",
    "print(match)"
   ]
  },
  {
   "cell_type": "markdown",
   "metadata": {},
   "source": [
    "we have four diff methods we can use on match object:\n",
    "1,Group method. 2,Start. 3,End. 4,span"
   ]
  },
  {
   "cell_type": "code",
   "execution_count": null,
   "metadata": {},
   "outputs": [],
   "source": [
    "#USING SPAN METHOD\n",
    "import re\n",
    "string = '123abc456789abc123ABC'\n",
    "pattern = re.compile(r\"abc\")\n",
    "matches = pattern.finditer(string)\n",
    "for match in matches:\n",
    "    print(match.span())"
   ]
  },
  {
   "cell_type": "code",
   "execution_count": null,
   "metadata": {},
   "outputs": [],
   "source": [
    "#USING SPAN METHOD\n",
    "import re\n",
    "string = '123abc456789abc123ABC'\n",
    "matches = re.finditer(r\"abc\", string)\n",
    "for match in matches:\n",
    "    print(match.span())"
   ]
  },
  {
   "cell_type": "code",
   "execution_count": null,
   "metadata": {},
   "outputs": [],
   "source": [
    "#USING SPAN, START AND END METHOD;\n",
    "import re\n",
    "string = '123abc456789abc123ABC'\n",
    "pattern = re.compile(r\"abc\")\n",
    "matches = pattern.finditer(string)\n",
    "for match in matches:\n",
    "    print(match.span(), match.start(), match.end())\n"
   ]
  },
  {
   "cell_type": "code",
   "execution_count": null,
   "metadata": {},
   "outputs": [],
   "source": [
    "import re\n",
    "string = '123abc456789abc123ABC'\n",
    "pattern = re.compile(r\"abc\")\n",
    "matches = pattern.finditer(string)\n",
    "for match in matches:\n",
    "    print(match.group())"
   ]
  },
  {
   "cell_type": "markdown",
   "metadata": {},
   "source": [
    "META CHARACTER"
   ]
  },
  {
   "cell_type": "markdown",
   "metadata": {},
   "source": [
    "ALL META CHARACTER\n",
    ".,  ^, $,  *,  +,  ?,,  {}, [], \\,  (),\n",
    "1. . - Any character (except newline character)\n",
    "2. ^ - Start with \"^hello\"\n",
    "3. $ - End with \"world$\"\n",
    "4. * - Zero or more occurance \"aix*\"\n",
    "5. + - One or more occurance \"aix+\"\n",
    "6. {} - Exactly the specified number of occurance \"al{2}\"\n",
    "7. [] - A set of character \"[a-m]\"\n",
    "8. \\ - special sequence ( or escape special characters) \"\\d\"\n",
    "9. | - Either or \"falls|stays\"\n",
    "10. () - Capture and group"
   ]
  },
  {
   "cell_type": "code",
   "execution_count": null,
   "metadata": {},
   "outputs": [],
   "source": [
    "#USING . METHOD\n",
    "import re\n",
    "string = '123abc456789abc123ABC'\n",
    "pattern = re.compile(r\".\")\n",
    "matches = pattern.finditer(string)\n",
    "for match in matches:\n",
    "    print(match.group())"
   ]
  },
  {
   "cell_type": "code",
   "execution_count": null,
   "metadata": {},
   "outputs": [],
   "source": [
    "# USING . METHOD\n",
    "import re\n",
    "string = '123abc456789abc123ABC.'\n",
    "pattern = re.compile(r\"\\.\")\n",
    "matches = pattern.finditer(string)\n",
    "for match in matches:\n",
    "    print(match)"
   ]
  },
  {
   "cell_type": "code",
   "execution_count": null,
   "metadata": {},
   "outputs": [],
   "source": [
    "#USING ^ METHOD\n",
    "import re\n",
    "string = '123abc456789abc123ABC'\n",
    "pattern = re.compile(r\"^123\")\n",
    "matches = pattern.finditer(string)\n",
    "for match in matches:\n",
    "    print(match)"
   ]
  },
  {
   "cell_type": "code",
   "execution_count": null,
   "metadata": {},
   "outputs": [],
   "source": [
    "import re\n",
    "string = '123abc456789abc123ABC'\n",
    "pattern = re.compile(r\"ABC$\")\n",
    "matches = pattern.finditer(string)\n",
    "for match in matches:\n",
    "    print(match)"
   ]
  },
  {
   "cell_type": "code",
   "execution_count": null,
   "metadata": {},
   "outputs": [],
   "source": [
    " #About \\ - special sequence ( or escape special characters) \"\\d\"\n",
    "\n",
    "#More special character\n",
    "#\\d: Matches any decimal digit: [0-9]\n",
    "#\\D: matches any non-digit character.\n",
    "#\\s: matches any whitespace character: \n",
    "#\\S; matches any non- whitespace character:\n",
    "#\\w: matches any alphanumeric (word) character: [a-zA-Z0-9_].\n",
    "#\\W: matches any non-alphanumeric character:\n",
    "#\\b: matches where the specified character are at the beginning or at the end of a word r\"\\bain\" r\"ain\\b r\"ain\\B\"\n",
    "#\\B: matches where the specified character are present, but not at the beginning (or at the end) of a word r\"\\Bain\" r\"ain\\B\""
   ]
  },
  {
   "cell_type": "code",
   "execution_count": null,
   "metadata": {},
   "outputs": [],
   "source": [
    "import re\n",
    "test_string = 'hello 123_ heyho hohey'\n",
    "pattern = re.compile(r'\\d')# \\d search the numbers, it search all the digit number.\n",
    "matches = pattern.finditer(test_string)\n",
    "for match in matches:\n",
    "    print(match)"
   ]
  },
  {
   "cell_type": "code",
   "execution_count": null,
   "metadata": {},
   "outputs": [],
   "source": [
    "import re\n",
    "test_string = 'hello 123_ heyho hohey'\n",
    "pattern = re.compile(r'\\D')# search any non digit character\n",
    "matches = pattern.finditer(test_string)\n",
    "for match in matches:\n",
    "    print(match)"
   ]
  },
  {
   "cell_type": "code",
   "execution_count": null,
   "metadata": {},
   "outputs": [],
   "source": [
    "import re\n",
    "test_string = 'hello 123_ heyho hohey'\n",
    "pattern = re.compile(r'\\s')# find any wide space character\n",
    "matches = pattern.finditer(test_string)\n",
    "for match in matches:\n",
    "    print(match)"
   ]
  },
  {
   "cell_type": "code",
   "execution_count": null,
   "metadata": {},
   "outputs": [],
   "source": [
    "import re\n",
    "test_string = 'hello 123_ hey'\n",
    "pattern = re.compile(r'\\S') #search any non-wide space character\n",
    "matches = pattern.finditer(test_string)\n",
    "for match in matches:\n",
    "    print(match)"
   ]
  },
  {
   "cell_type": "code",
   "execution_count": null,
   "metadata": {},
   "outputs": [],
   "source": [
    "import re\n",
    "test_string = 'hello 123_ hey'\n",
    "pattern = re.compile(r'\\w') #it find all the word characters\n",
    "matches = pattern.finditer(test_string)\n",
    "for match in matches:\n",
    "    print(match)"
   ]
  },
  {
   "cell_type": "code",
   "execution_count": null,
   "metadata": {},
   "outputs": [],
   "source": [
    "import re\n",
    "test_string = 'hello 123_ heyho hohey'\n",
    "pattern = re.compile(r'\\W') # it will just find the spaces\n",
    "matches = pattern.finditer(test_string)\n",
    "for match in matches:\n",
    "    print(match)"
   ]
  },
  {
   "cell_type": "code",
   "execution_count": null,
   "metadata": {},
   "outputs": [],
   "source": [
    "import re\n",
    "test_string = 'hello 123_ heyho hohey'\n",
    "pattern = re.compile(r'\\bhello')# it will find it becos it is at the beginning of a block.\n",
    "matches = pattern.finditer(test_string)\n",
    "for match in matches:\n",
    "    print(match)"
   ]
  },
  {
   "cell_type": "code",
   "execution_count": null,
   "metadata": {},
   "outputs": [],
   "source": [
    "import re\n",
    "test_string = 'hello 123_ heyho hohey'\n",
    "pattern = re.compile(r'\\bhey') #it find the heyho n not hohey bcos \\b only find the matches at the beginning.\n",
    "matches = pattern.finditer(test_string)\n",
    "for match in matches:\n",
    "    print(match)"
   ]
  },
  {
   "cell_type": "markdown",
   "metadata": {},
   "source": [
    "using set []"
   ]
  },
  {
   "cell_type": "code",
   "execution_count": null,
   "metadata": {},
   "outputs": [],
   "source": [
    "import re\n",
    "test_string = 'hello 123_'\n",
    "pattern = re.compile(r'[lo]') #if you want to look for lo, it will find all of them\n",
    "matches = pattern.finditer(test_string)\n",
    "for match in matches:\n",
    "    print(match)"
   ]
  },
  {
   "cell_type": "code",
   "execution_count": null,
   "metadata": {},
   "outputs": [],
   "source": [
    "import re\n",
    "test_string = 'helloHELLO 123_'\n",
    "pattern = re.compile(r'[a-zA-Z0-9]') #it find the heyho n not hohey bcos \\b only find the matches at the beginning.\n",
    "matches = pattern.finditer(test_string)\n",
    "for match in matches:\n",
    "    print(match)"
   ]
  },
  {
   "cell_type": "markdown",
   "metadata": {},
   "source": [
    "QUANTIFIER\n"
   ]
  },
  {
   "cell_type": "code",
   "execution_count": null,
   "metadata": {},
   "outputs": [],
   "source": [
    "#QUANTIFIER\n",
    "#* : 0 OR MORE\n",
    "#+ : 1 OR MORE\n",
    "#? : 0 0r 1 -> optional character\n",
    "#{4} : exact number\n",
    "#{4,6} : range numbers (min, max)"
   ]
  },
  {
   "cell_type": "code",
   "execution_count": null,
   "metadata": {},
   "outputs": [],
   "source": [
    "#using *\n",
    "import re\n",
    "test_string = 'hello_123'\n",
    "pattern = re.compile(r'\\d*')\n",
    "matches = pattern.finditer(test_string)\n",
    "for match in matches:\n",
    "    print(match)"
   ]
  },
  {
   "cell_type": "code",
   "execution_count": null,
   "metadata": {},
   "outputs": [],
   "source": [
    "# using +\n",
    "import re\n",
    "test_string = 'hello_123'\n",
    "pattern = re.compile(r'\\d+')\n",
    "matches = pattern.finditer(test_string)\n",
    "for match in matches:\n",
    "    print(match)"
   ]
  },
  {
   "cell_type": "code",
   "execution_count": null,
   "metadata": {},
   "outputs": [],
   "source": [
    "# using _\n",
    "import re\n",
    "test_string = 'hello_123'\n",
    "pattern = re.compile(r'_\\d')\n",
    "matches = pattern.finditer(test_string)\n",
    "for match in matches:\n",
    "    print(match)"
   ]
  },
  {
   "cell_type": "code",
   "execution_count": null,
   "metadata": {},
   "outputs": [],
   "source": [
    "#using ?\n",
    "import re\n",
    "test_string = 'hello123'\n",
    "pattern = re.compile(r'_?\\d')\n",
    "matches = pattern.finditer(test_string)\n",
    "for match in matches:\n",
    "    print(match)"
   ]
  },
  {
   "cell_type": "code",
   "execution_count": null,
   "metadata": {},
   "outputs": [],
   "source": [
    "#using ?\n",
    "import re\n",
    "test_string = 'hello_1_2_3'\n",
    "pattern = re.compile(r'_?\\d')\n",
    "matches = pattern.finditer(test_string)\n",
    "for match in matches:\n",
    "    print(match)"
   ]
  },
  {
   "cell_type": "code",
   "execution_count": null,
   "metadata": {},
   "outputs": [],
   "source": [
    "# using {}\n",
    "import re\n",
    "test_string = 'hello 123'\n",
    "pattern = re.compile(r'\\d{4}') # it will print nothing bcos the digit did not reach 4\n",
    "matches = pattern.finditer(test_string)\n",
    "for match in matches:\n",
    "    print(match)"
   ]
  },
  {
   "cell_type": "code",
   "execution_count": null,
   "metadata": {},
   "outputs": [],
   "source": [
    "# using {}\n",
    "import re\n",
    "test_string = 'hello 123'\n",
    "pattern = re.compile(r'\\d{3}') # it will print bcos the digit stopped at 3\n",
    "matches = pattern.finditer(test_string)\n",
    "for match in matches:\n",
    "    print(match)"
   ]
  },
  {
   "cell_type": "code",
   "execution_count": null,
   "metadata": {},
   "outputs": [],
   "source": [
    "# using {}\n",
    "import re\n",
    "test_string = 'hello 123'\n",
    "pattern = re.compile(r'\\d{1,3}')\n",
    "matches = pattern.finditer(test_string)\n",
    "for match in matches:\n",
    "    print(match)"
   ]
  },
  {
   "cell_type": "code",
   "execution_count": null,
   "metadata": {},
   "outputs": [],
   "source": [
    "import re\n",
    "date = \"\"\" \n",
    "01.04.2020\n",
    "2020.04.01\n",
    "\n",
    "2020-04-01\n",
    "2020-05-23\n",
    "2020-06-11\n",
    "\n",
    "2020/04/02\n",
    "\n",
    "2020_04_04\n",
    "2020_04_04\n",
    "\"\"\"\n",
    "pattern = re.compile(r\"\\d\\d\\d\\d.\\d\\d.\\d\\d\")\n",
    "matches = pattern.finditer(date)\n",
    "for match in matches:\n",
    "    print(match)"
   ]
  },
  {
   "cell_type": "code",
   "execution_count": null,
   "metadata": {},
   "outputs": [],
   "source": [
    "import re\n",
    "date = \"\"\" \n",
    "01.04.2020\n",
    "2020.04.01\n",
    "\n",
    "2020-04-01\n",
    "2020-05-23\n",
    "2020-06-11\n",
    "\n",
    "2020/04/02\n",
    "\n",
    "2020_04_04\n",
    "2020_04_04\n",
    "\"\"\"\n",
    "pattern = re.compile(r\"\\d\\d\\d\\d[-]\\d\\d[-]\\d\\d\") # it will print only the date with -\n",
    "matches = pattern.finditer(date)\n",
    "for match in matches:\n",
    "    print(match)"
   ]
  },
  {
   "cell_type": "code",
   "execution_count": null,
   "metadata": {},
   "outputs": [],
   "source": [
    "import re\n",
    "date = \"\"\" \n",
    "01.04.2020\n",
    "2020.04.01\n",
    "\n",
    "2020-04-01\n",
    "2020-05-23\n",
    "2020-06-11\n",
    "\n",
    "2020/04/02\n",
    "\n",
    "2020_04_04\n",
    "2020_04_04\n",
    "\"\"\"\n",
    "pattern = re.compile(r\"\\d\\d\\d\\d[-/]\\d\\d[-/]\\d\\d\")#it will print those with - and /\n",
    "matches = pattern.finditer(date)\n",
    "for match in matches:\n",
    "    print(match)"
   ]
  },
  {
   "cell_type": "code",
   "execution_count": null,
   "metadata": {},
   "outputs": [],
   "source": [
    "import re\n",
    "date = \"\"\" \n",
    "01.04.2020\n",
    "2020.04.01\n",
    "\n",
    "2020-04-01\n",
    "2020-05-23\n",
    "2020-06-11\n",
    "\n",
    "2020/04/02\n",
    "\n",
    "2020_04_04\n",
    "2020_04_04\n",
    "\"\"\"\n",
    "pattern = re.compile(r\"\\d\\d\\d\\d[-/]0[56][-/]\\d\\d\") #to search for a partcular date and here we search 5 and 6.\n",
    "matches = pattern.finditer(date)\n",
    "for match in matches:\n",
    "    print(match)"
   ]
  },
  {
   "cell_type": "code",
   "execution_count": null,
   "metadata": {},
   "outputs": [],
   "source": [
    "import re\n",
    "date = \"\"\" \n",
    "01.04.2020\n",
    "2020.04.01\n",
    "\n",
    "2020-04-01\n",
    "2020-05-23\n",
    "2020-06-11\n",
    "\n",
    "2020/04/02\n",
    "\n",
    "2020_04_04\n",
    "2020_04_04\n",
    "\"\"\"\n",
    "pattern = re.compile(r\"\\d{4}[-/]0[4-6][-/]\\d{2}\") #using quantifier{} to find the range of the days from 4 - 6.\n",
    "matches = pattern.finditer(date)\n",
    "for match in matches:\n",
    "    print(match)"
   ]
  },
  {
   "cell_type": "markdown",
   "metadata": {},
   "source": [
    "CONDITIONS IN REGEX"
   ]
  },
  {
   "cell_type": "code",
   "execution_count": null,
   "metadata": {},
   "outputs": [],
   "source": [
    "import re\n",
    "my_string = \"\"\"\n",
    "hello world\n",
    "1223\n",
    "2020-05-20\n",
    "Mr Simpsom\n",
    "Mrs Simpsom\n",
    "Mr. Brown\n",
    "Ms Smith\n",
    "Mr. T\n",
    "\"\"\"\n",
    "pattern = re.compile(r\"Mr\\.?\\s\\w+\") #to serach for Mr, we use white space\"\\s\" and alphanumeric \"\\w\"  and \n",
    "matches = pattern.finditer(my_string)\n",
    "for match in matches:\n",
    "    print(match)"
   ]
  },
  {
   "cell_type": "code",
   "execution_count": null,
   "metadata": {},
   "outputs": [],
   "source": [
    "import re\n",
    "my_string = \"\"\"\n",
    "hello world\n",
    "1223\n",
    "2020-05-20\n",
    "Mr Simpsom\n",
    "Mrs Simpsom\n",
    "Mr. Brown\n",
    "Ms Smith\n",
    "Mr. T\n",
    "\"\"\"\n",
    "pattern = re.compile(r\"Mr\\.\\s\\w+\")\n",
    "matches = pattern.finditer(my_string)\n",
    "for match in matches:\n",
    "    print(match)"
   ]
  },
  {
   "cell_type": "code",
   "execution_count": null,
   "metadata": {},
   "outputs": [],
   "source": [
    "import re\n",
    "my_string = \"\"\"\n",
    "hello world\n",
    "1223\n",
    "2020-05-20\n",
    "Mr Simpsom\n",
    "Mrs Simpsom\n",
    "Mr. Brown\n",
    "Ms Smith\n",
    "Mr. T\n",
    "\"\"\"\n",
    "pattern = re.compile(r\"(Mr|Mrs|Ms)\\.?\\s\\w+\") #using condition character, we put ()which is (Mr|Mrs|Ms)\n",
    "matches = pattern.finditer(my_string)\n",
    "for match in matches:\n",
    "    print(match)"
   ]
  },
  {
   "cell_type": "code",
   "execution_count": null,
   "metadata": {},
   "outputs": [],
   "source": [
    "import re\n",
    "my_string = \"\"\"\n",
    "hello world\n",
    "1223\n",
    "2020-05-20\n",
    "Mr Simpsom\n",
    "Mrs Simpsom\n",
    "Mr. Brown\n",
    "Ms Smith\n",
    "Mr. T\n",
    "pythonengineer@gmail.com\n",
    "python-engineer@gmax.de\n",
    "python-engineer123@my-domain.org\n",
    "\"\"\"\n",
    "pattern = re.compile(r\"[a-zA-Z0-9-]+@[a-zA-Z-]+\\.[a-zA-Z]+\")\n",
    "matches = pattern.finditer(my_string)\n",
    "for match in matches:\n",
    "    print(match)"
   ]
  },
  {
   "cell_type": "markdown",
   "metadata": {},
   "source": [
    "GROUPING"
   ]
  },
  {
   "cell_type": "code",
   "execution_count": null,
   "metadata": {},
   "outputs": [],
   "source": [
    "import re\n",
    "my_string = \"\"\"\n",
    "hello world\n",
    "1223\n",
    "2020-05-20\n",
    "Mr Simpsom\n",
    "Mrs Simpsom\n",
    "Mr. Brown\n",
    "Ms Smith\n",
    "Mr. T\n",
    "pythonengineer@gmail.com\n",
    "python-engineer@gmax.de\n",
    "python-engineer123@my-domain.org\n",
    "\"\"\"\n",
    "pattern = re.compile(r\"([a-zA-Z0-9-]+)@([a-zA-Z-]+)\\.([a-zA-Z]+)\")\n",
    "matches = pattern.finditer(my_string)\n",
    "for match in matches:\n",
    "    print(match.group(1)) #using group method"
   ]
  },
  {
   "cell_type": "markdown",
   "metadata": {},
   "source": [
    "MODIFICATIONS"
   ]
  },
  {
   "cell_type": "markdown",
   "metadata": {},
   "source": [
    "To modify a string we use the SPLIT METHOD and THE SUB METHOD.\n"
   ]
  },
  {
   "cell_type": "code",
   "execution_count": null,
   "metadata": {},
   "outputs": [],
   "source": [
    "#To modify a string we use the SPLIT METHOD and THE SUB METHOD.\n",
    "#SPLIT METHOD\n",
    "import re\n",
    "value = 'abc123ABCDEF123abc'\n",
    "pattern = re.compile(r\"123\")\n",
    "match = pattern.split(value)\n",
    "print(match)\n"
   ]
  },
  {
   "cell_type": "code",
   "execution_count": null,
   "metadata": {},
   "outputs": [],
   "source": [
    "#To modify a string we use the SPLIT METHOD and THE SUB METHOD.\n",
    "#SPLIT METHOD\n",
    "import re\n",
    "value = '123abc456789abc123ABC'\n",
    "pattern = re.compile(r\"abc\")\n",
    "match = pattern.split(value)\n",
    "print(match)\n"
   ]
  },
  {
   "cell_type": "code",
   "execution_count": null,
   "metadata": {},
   "outputs": [],
   "source": [
    "#SUB METHOD\n",
    "# to replace a string with another string\n",
    "import re\n",
    "value = 'hello world, you are the best world'\n",
    "pattern = re.compile(r\"world\")\n",
    "match = pattern.sub(\"planet\", value)\n",
    "print(match)\n"
   ]
  },
  {
   "cell_type": "markdown",
   "metadata": {},
   "source": [
    "(OOP) IN PYTHON\n",
    "OBJECT ORIENTED PROGRAMMING"
   ]
  },
  {
   "cell_type": "code",
   "execution_count": null,
   "metadata": {},
   "outputs": [],
   "source": [
    "class Student:\n",
    "    def check_pass_fail(self):\n",
    "        if self.marks >- 40:"
   ]
  },
  {
   "cell_type": "code",
   "execution_count": null,
   "metadata": {},
   "outputs": [],
   "source": [
    "class person:\n",
    "    def __init__(self, fname, lname):\n",
    "        self.fname = fname\n",
    "        self.lname = lname\n",
    "\n",
    "    def printname(self):\n",
    "        return(self.fname, self.lname)\n",
    "\n",
    "class student(person):\n",
    "    def __init__(self, fname, lname, graduationyear):\n",
    "         person.__init__(self, fname, lname) \n",
    "         self.graduationyear = graduationyear\n",
    "\n",
    "    def get_graduationyear(self):\n",
    "        return self.graduationyear \n",
    "\n",
    "    def welcome(self):\n",
    "        return f\" yes! congratulations {self.fname} {self.lname} you will be graduating on {self.graduationyear}\"  \n",
    "\n",
    "obj = student(\"Chidimma\", \"Asuzu\", 2006)\n",
    "obj.fname\n",
    "\n",
    "\n"
   ]
  },
  {
   "cell_type": "code",
   "execution_count": null,
   "metadata": {},
   "outputs": [],
   "source": [
    "class person:\n",
    "    def __init__(self, fname, lname):\n",
    "        self.fname = fname\n",
    "        self.lname = lname\n",
    "\n",
    "    def printname(self):\n",
    "        return(self.fname, self.lname)\n",
    "\n",
    "class student(person):\n",
    "    def __init__(self, fname, lname, graduationyear):\n",
    "         self.graduationyear = graduationyear\n",
    "         person.__init__(self, fname, lname) \n",
    "        \n",
    "\n",
    "    #def welcome(self):\n",
    "       # return f\" yes! congratulations {self.fname} {self.lname} you will be graduating on {self.graduationyear}\"  \n",
    "\n",
    "obj = student(\"Chidimma\", \"Asuzu\", 2006)\n",
    "obj.fname"
   ]
  },
  {
   "cell_type": "code",
   "execution_count": null,
   "metadata": {},
   "outputs": [],
   "source": [
    "class employee:\n",
    "\n",
    "    company_adrress = \"44 hakeem dosumu\"\n",
    "    company_name = \"whitefield, lagos\"\n",
    "\n",
    "    def __init__(self, name, emp_id, salary):\n",
    "        self.name = name\n",
    "        self.emp_id = emp_id\n",
    "        self.salary = salary\n",
    "\n",
    "    def change_company_address(self,new_address, new_company_name):\n",
    "        self.new_address = new_address\n",
    "        self.new_company_name = new_company_name\n",
    "\n",
    "    def display(self):\n",
    "        \n",
    "\n",
    "emp = employee(\"Femi\", \"1234\", \"2400\")\n",
    "employee.company_adrress\n",
    "emp.change_company_address(\"park view estate\", \"insurance company\")\n",
    "emp.new_address\n",
    "emp.new_company_name\n",
    "\n"
   ]
  },
  {
   "cell_type": "code",
   "execution_count": null,
   "metadata": {},
   "outputs": [],
   "source": [
    "#multi_level inheritance\n",
    "class person:\n",
    "    def __init__(self, name, age):\n",
    "        self.name = name\n",
    "        self.age = age\n",
    "    def display1(self):\n",
    "        return f\" her name and her age are {self.name} and {self.age}\"\n",
    "\n",
    "class employee(person):\n",
    "    def __init__(self, name, age, id, salary):\n",
    "        person.__init__(self, name, age)\n",
    "        self.id = id\n",
    "        self.salary = salary\n",
    "    def display2(self):\n",
    "        return f\"wow name, age, id, salary are {self.age}, {self.name}, {self.id}, {self.salary}\"\n",
    "\n",
    "class manager(employee):\n",
    "    def __init__(self, name, age, id, salary, team_size, project_name):\n",
    "        employee.__init__(self, name, age, id, salary)\n",
    "        self.team_size = team_size\n",
    "        self.project_name = project_name\n",
    "    def display(self):\n",
    "        return f\"all her details are {self.age}, {self.team_size}, {self.project_name}, {self.salary}\"\n",
    "\n",
    "m1 = manager(\"chioma\", 12, 1234, 2500, \"size 45\", \"Python Programming\")\n",
    "m1.display1()"
   ]
  },
  {
   "cell_type": "markdown",
   "metadata": {},
   "source": [
    "PROJECT TOPIC"
   ]
  },
  {
   "cell_type": "code",
   "execution_count": null,
   "metadata": {},
   "outputs": [],
   "source": [
    "#HOW TO DO VALIDATION.\n",
    "#1. A SYSTEM FOR ELECTRONIC VOTING SYSTEM FOR FORTH COMING ELECTION.\n",
    "#BUILD A SYSTEM TO TAKE CUSTOMER ORDER IN MALL AND RETURN THE RECEIPT AFTER A SUCCESSFUL TRANSACTION."
   ]
  },
  {
   "cell_type": "code",
   "execution_count": null,
   "metadata": {},
   "outputs": [],
   "source": [
    "import re\n",
    "string = \"Once you have accomplished small things, you may attempt great ones safety.\"\n",
    "work = re.findall(r\"\\ba[\\w]*\",string)\n",
    "print(work)"
   ]
  },
  {
   "cell_type": "markdown",
   "metadata": {},
   "source": [
    "write a program to stimulate the operator of the grep command in Unix. Ask the user to enter a regular expression and count the number of lines that matched the rugular expression."
   ]
  },
  {
   "cell_type": "code",
   "execution_count": null,
   "metadata": {},
   "outputs": [],
   "source": [
    "import re \n",
    "hand = open(\"message.txt\")\n",
    "search = input(\"enter a regular expression\")\n",
    "count = 0\n",
    "for line in hand:\n",
    "    line = line.rstrip()\n",
    "    if re.search(search,line):\n",
    "      count = count + 1\n",
    "print(\"message.txt had\" +  str (count) +\" lines that matched \"+search)"
   ]
  },
  {
   "cell_type": "markdown",
   "metadata": {},
   "source": [
    "PYTHON FILE OPEN"
   ]
  },
  {
   "cell_type": "code",
   "execution_count": null,
   "metadata": {},
   "outputs": [],
   "source": [
    "f = open(\"message.txt\", \"r\")\n",
    "print(f.read())"
   ]
  },
  {
   "cell_type": "code",
   "execution_count": null,
   "metadata": {},
   "outputs": [],
   "source": [
    "#read only parts of the file\n",
    "f = open(\"message.txt\", \"r\")\n",
    "print(f.read(9))"
   ]
  },
  {
   "cell_type": "code",
   "execution_count": null,
   "metadata": {},
   "outputs": [],
   "source": [
    "#Readlines \n",
    "#you can can return one line by using the readline\n",
    "f = open(\"message.txt\", \"r\")\n",
    "print(f.readline())\n",
    "print(f.readline())"
   ]
  },
  {
   "cell_type": "code",
   "execution_count": null,
   "metadata": {},
   "outputs": [],
   "source": [
    "#close files\n",
    "f = open(\"message.txt\", \"r\")\n",
    "print(f.readline())\n",
    "f.close()"
   ]
  },
  {
   "cell_type": "markdown",
   "metadata": {},
   "source": [
    "WRITE TO AN EXISTING FILE"
   ]
  },
  {
   "cell_type": "code",
   "execution_count": null,
   "metadata": {},
   "outputs": [],
   "source": [
    "#To write to an existing file, you must add a parameter to the open() function.\n",
    "# a = Append- will append to the end of the file.\n",
    "# w = Write - will overwrite any existing content.\n",
    "f = open(\"demo.txt\", \"a\")\n",
    "f.write(\"God is good\")\n",
    "f.close()\n",
    "\n",
    "\n",
    "f = open(\"demo.txt\", \"r\")\n",
    "print(f.read())"
   ]
  },
  {
   "cell_type": "code",
   "execution_count": null,
   "metadata": {},
   "outputs": [],
   "source": [
    "#To create a new file \n",
    "f = open(\"myfile.txt\", \"x\")"
   ]
  },
  {
   "cell_type": "code",
   "execution_count": null,
   "metadata": {},
   "outputs": [],
   "source": [
    "# To delete file, you import the OS module, and run its os.remove() function.\n",
    "import os\n",
    "os.remove(\"myfile.txt\")"
   ]
  },
  {
   "cell_type": "code",
   "execution_count": null,
   "metadata": {},
   "outputs": [],
   "source": [
    "import requests\n",
    "from pprint import pprint\n",
    "base_url = 'https://fakestoreapi.com'\n",
    "endpoints = {\n",
    "    'products': '/products',\n",
    "    'categories': '/products/categories'\n",
    "}\n",
    "\n",
    "def get_products():\n",
    "    url = base_url + endpoints['products']\n",
    "    return requests.get(url =url).json()[:6]\n",
    "\n",
    "def get_categories():\n",
    "    url = base_url + endpoints['categories']\n",
    "    return requests.get(url=url).json()\n",
    "\n",
    "#if __name__ == '__main__':\n",
    "   # get_categories()\n",
    "pprint(get_categories())\n",
    "pprint(get_products())\n",
    "\n",
    "\n"
   ]
  },
  {
   "cell_type": "markdown",
   "metadata": {},
   "source": [
    "DATABASE"
   ]
  },
  {
   "cell_type": "code",
   "execution_count": null,
   "metadata": {},
   "outputs": [],
   "source": [
    "import sqlite3\n",
    "\n",
    "#to connect a data base\n",
    "con = sqlite3.connect(\"clothings.db\")\n",
    "\n",
    "#set up a cursor n connect to it to execute commands in the database\n",
    "#we make a column the primary key so the value of the column cannot be added multiple times if you\n",
    "#add ignore query to the next column because ther is already a primary key so sq\n",
    "\n",
    "cur = con.cursor()\n",
    "cur.execute('''CREATE TABLE IF NOT EXISTS tshirt\n",
    "             (sku text PRIMARY KEY, name text, size text, price real)''')\n",
    "\n",
    "cur.execute('''INSERT OR IGNORE INTO tshirt VALUES\n",
    "             ('SKU123568', 'white logo tshirt', 'small', '510.10')''')\n",
    "con.commit()\n",
    "\n",
    "# to display the data in your terminal use loops;\n",
    "#for row in cur.execute('''SELECT * FROM tshirt'''):\n",
    "   # print(row)"
   ]
  },
  {
   "cell_type": "code",
   "execution_count": 1,
   "metadata": {},
   "outputs": [
    {
     "name": "stdout",
     "output_type": "stream",
     "text": [
      "[('turkey', 'mango', 30), ('ghost', 'banana', 50)]\n"
     ]
    }
   ],
   "source": [
    "import sqlite3\n",
    "\n",
    "ben = sqlite3.connect('lunch.db')\n",
    "cur = ben.cursor()\n",
    "\n",
    "\n",
    "cur.execute('''CREATE TABLE IF NOT EXISTS meal(sandwich  TEXT PRIMARY KEY, fruit TEXT, tablenumber INTEGER)''')\n",
    "\n",
    "sandwich = 'benice'\n",
    "fruit = 'grape'\n",
    "tablenumber = 40\n",
    "\n",
    "#cur.execute('''INSERT INTO meal VALUES(?,?,?)''', (sandwich,fruit,tablenumber))\n",
    "\n",
    "ben.commit()\n",
    "cur.execute('''SELECT * From meal LIMIT 2''') #to select two n print only the two. \n",
    "\n",
    "#cur.execute('''SELECT * FROM meal''')\n",
    "\n",
    "#cur.execute(\"SELECT sandwich, fruit  FROM meal WHERE fruit = 'mango'\")\n",
    "results = cur.fetchall()\n",
    "print(results)"
   ]
  },
  {
   "cell_type": "code",
   "execution_count": null,
   "metadata": {},
   "outputs": [],
   "source": [
    "import sqlite3\n",
    "\n",
    "ben = sqlite3.connect('lunchs.db')\n",
    "cur = ben.cursor()\n",
    "\n",
    "\n",
    "cur.execute('''CREATE TABLE IF NOT EXISTS meal(sandwich  TEXT PRIMARY KEY, fruit TEXT, tablenumber INTEGER)''')\n",
    "\n",
    "\n",
    "data = [\n",
    "    ('ham', 'mango', 1), \n",
    "    ('yam', 'mango', 1),\n",
    "    ('bread', 'mango', 1),\n",
    "    ('seed', 'mango', 1),\n",
    "    ('pear', 'mango', 1),\n",
    "    ('run', 'mango', 1),\n",
    "    ('cold', 'mango', 1),\n",
    "    ('book', 'mango', 1),\n",
    "    ('bold', 'mango', 1),\n",
    "    ('queen', 'mango', 1),\n",
    "    ('look', 'mango', 1),\n",
    "    ('sand', 'mango', 1),\n",
    "    ('bam', 'mango', 1)\n",
    "]\n",
    "cur.executemany('''INSERT INTO meal\n",
    "              #VALUES(?,?,?)''',data) \n",
    "ben.commit()"
   ]
  },
  {
   "cell_type": "code",
   "execution_count": null,
   "metadata": {},
   "outputs": [],
   "source": [
    "import sqlite3\n",
    "conn = sqlite3.connect('musicSs.db')\n",
    "cur = conn.cursor()\n",
    "num = 4\n",
    "name = \" capote\"\n",
    "\n",
    "cur.execute(\"CREATE TABLE IF NOT EXISTS writers(id INTEGER PRIMARY KEY, name VARCHAR(25))\")\n",
    "# cur.execute('''INSERT INTO writers VALUES (?,?)''', (num, name))\n",
    "cur.execute('''UPDATE writers SET name = 'BENICE' WHERE id = 4''')\n",
    "\n",
    "conn.commit()\n",
    "cur.fetchall()"
   ]
  }
 ],
 "metadata": {
  "kernelspec": {
   "display_name": "Python 3.11.0 64-bit",
   "language": "python",
   "name": "python3"
  },
  "language_info": {
   "codemirror_mode": {
    "name": "ipython",
    "version": 3
   },
   "file_extension": ".py",
   "mimetype": "text/x-python",
   "name": "python",
   "nbconvert_exporter": "python",
   "pygments_lexer": "ipython3",
   "version": "3.11.0"
  },
  "orig_nbformat": 4,
  "vscode": {
   "interpreter": {
    "hash": "de47f5c92c0ee6f12a59a5613ac5feff6aab19ddff207ba0b3964cced08c4ccc"
   }
  }
 },
 "nbformat": 4,
 "nbformat_minor": 2
}
