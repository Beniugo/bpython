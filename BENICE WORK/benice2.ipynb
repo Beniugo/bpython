{
 "cells": [
  {
   "cell_type": "code",
   "execution_count": 2,
   "metadata": {},
   "outputs": [
    {
     "name": "stdout",
     "output_type": "stream",
     "text": [
      "48\n"
     ]
    }
   ],
   "source": [
    "def add_number(a =7, b = 8):\n",
    "    sum = a + b\n",
    "    return sum\n",
    "result = add_number(40)\n",
    "print(result)"
   ]
  },
  {
   "cell_type": "code",
   "execution_count": 28,
   "metadata": {},
   "outputs": [
    {
     "name": "stdout",
     "output_type": "stream",
     "text": [
      "0b111\n"
     ]
    }
   ],
   "source": [
    "# 3. write a python while loop to convert users defined decimal to binary.\n",
    "\n",
    "decimal_num = 250\n",
    "binary_num = bin(decimal_num)[:5]\n",
    "print(f'{binary_num}')"
   ]
  },
  {
   "cell_type": "markdown",
   "metadata": {},
   "source": [
    "ROUND() Built in Function in  Python"
   ]
  },
  {
   "cell_type": "code",
   "execution_count": 34,
   "metadata": {},
   "outputs": [
    {
     "name": "stdout",
     "output_type": "stream",
     "text": [
      "4\n"
     ]
    }
   ],
   "source": [
    "print(round(3.5))"
   ]
  },
  {
   "cell_type": "code",
   "execution_count": 19,
   "metadata": {},
   "outputs": [
    {
     "name": "stdout",
     "output_type": "stream",
     "text": [
      "15.73137\n"
     ]
    }
   ],
   "source": [
    "num = 15.73136609283131451\n",
    "r = round(num, 5)\n",
    "print(r)"
   ]
  },
  {
   "cell_type": "code",
   "execution_count": 35,
   "metadata": {},
   "outputs": [
    {
     "name": "stdout",
     "output_type": "stream",
     "text": [
      "7\n"
     ]
    }
   ],
   "source": [
    "#augmented assignment operator\n",
    "some_value = 5\n",
    "some_value += 2 #augumented assignment operator and is the same as:\n",
    "#some_value = 5\n",
    "#some_value = some_value + 5 \n",
    "print(some_value)"
   ]
  },
  {
   "cell_type": "code",
   "execution_count": 39,
   "metadata": {},
   "outputs": [
    {
     "name": "stdout",
     "output_type": "stream",
     "text": [
      "It's \"kind of\" sunny\n"
     ]
    }
   ],
   "source": [
    "#Escape Sequence using \\\n",
    "weather = \"It\\'s \\\"kind of\\\" sunny\"\n",
    "print(weather)"
   ]
  },
  {
   "cell_type": "code",
   "execution_count": 40,
   "metadata": {},
   "outputs": [
    {
     "name": "stdout",
     "output_type": "stream",
     "text": [
      "\t It's \"kind of\" sunny\n"
     ]
    }
   ],
   "source": [
    "#Using \\t = it means it will giv space\n",
    "weather = \"\\t It\\'s \\\"kind of\\\" sunny\"\n",
    "print(weather)"
   ]
  },
  {
   "cell_type": "code",
   "execution_count": 42,
   "metadata": {},
   "outputs": [
    {
     "name": "stdout",
     "output_type": "stream",
     "text": [
      "\tIt's \"kind of\" sunny \n",
      " Hope you have a good day!\n"
     ]
    }
   ],
   "source": [
    "#Using  \\n = it means it will start a new line.\n",
    "weather = \"\\t It\\'s \\\"kind of\\\" sunny \\n Hope you have a good day!\"\n",
    "print(weather)"
   ]
  },
  {
   "cell_type": "code",
   "execution_count": 48,
   "metadata": {},
   "outputs": [
    {
     "name": "stdout",
     "output_type": "stream",
     "text": [
      "hi Johnny. You are 55 years old\n",
      "hi Johnny. You are 55 years old\n"
     ]
    }
   ],
   "source": [
    "#Formatted strings\n",
    "name = 'Johnny'\n",
    "age = 55\n",
    "print(f\"hi {name}. You are {age} years old\")\n",
    "#or\n",
    "print('hi {}. You are {} years old'.format(name, age))"
   ]
  },
  {
   "cell_type": "code",
   "execution_count": 1,
   "metadata": {},
   "outputs": [
    {
     "name": "stdout",
     "output_type": "stream",
     "text": [
      "benice, your password, ********, is 8 letters long\n"
     ]
    }
   ],
   "source": [
    "#EXERCISE = Print your username and password, make sure you hide the password.\n",
    "username = input(\" what is your username? \")\n",
    "password = input(\" Enter your password? \")\n",
    "\n",
    "password_length = len(password)\n",
    "hidden_password = '*' * password_length\n",
    "print(f\"{username}, your password, {hidden_password}, is {password_length} letters long\")"
   ]
  },
  {
   "cell_type": "code",
   "execution_count": 7,
   "metadata": {},
   "outputs": [
    {
     "name": "stdout",
     "output_type": "stream",
     "text": [
      "notenote\n",
      "['notenote', 'sunglasses']\n",
      "['notenote', 'toys']\n",
      "['laptop', 'sunglasses', 'toys', 'grapes']\n"
     ]
    }
   ],
   "source": [
    "#List Slicing\n",
    "amazon_cart = [\"notenote\", \"sunglasses\", \"toys\", \"grapes\"]\n",
    "print(amazon_cart[0])\n",
    "print(amazon_cart[0:2])\n",
    "print(amazon_cart[0::2])\n",
    "\n",
    "#To change the list and replace it\n",
    "amazon_cart[0] = \"laptop\"\n",
    "print(amazon_cart)"
   ]
  },
  {
   "cell_type": "code",
   "execution_count": 6,
   "metadata": {},
   "outputs": [
    {
     "name": "stdout",
     "output_type": "stream",
     "text": [
      "[1, 2, 3, 4, 5, 100]\n",
      "[1, 2, 3, 50, 4, 5, 100]\n",
      "[1, 2, 3, 50, 4, 5, 100, 109, 108, 123]\n",
      "[1, 2, 3, 50, 4, 5, 100, 109, 108]\n"
     ]
    }
   ],
   "source": [
    "#LIST METHODS\n",
    "basket = [1, 2, 3, 4, 5]\n",
    "#Using append(to add):\n",
    "basket.append(100)\n",
    "new_list = basket\n",
    "print(new_list)\n",
    "\n",
    "#using  insert method\n",
    "basket.insert(3, 50)\n",
    "print(basket)\n",
    "\n",
    "#using extend method\n",
    "basket.extend([109, 108, 123])\n",
    "print(basket)\n",
    "\n",
    "#using removing method\n",
    "basket.remove(4)#remove the exact num without using index. \n",
    "basket.pop() #pop remove the last num unless you add index.\n",
    "print(basket)"
   ]
  },
  {
   "cell_type": "code",
   "execution_count": 59,
   "metadata": {},
   "outputs": [
    {
     "name": "stdout",
     "output_type": "stream",
     "text": [
      "['a', 'b', 'c', 'd', 'd', 'e', 'f', 'g']\n"
     ]
    }
   ],
   "source": [
    "#Continuation List Method\n",
    "basket = ['a', 'b', 'c', 'd', 'e', 'd', 'g', 'f']\n",
    "\n",
    "#using sort method.\n",
    "basket.sort()\n",
    "print(basket)\n"
   ]
  },
  {
   "cell_type": "code",
   "execution_count": 15,
   "metadata": {},
   "outputs": [
    {
     "name": "stdout",
     "output_type": "stream",
     "text": [
      "[1, 2, 8, 9]\n",
      "[1, 2]\n"
     ]
    }
   ],
   "source": [
    "#MATRIX IN PROGRAMMING\n",
    "matrix = [\n",
    "    [1,2,8,9],\n",
    "    [2,4,6,2],\n",
    "    [3,7,9,5],\n",
    "]\n",
    "print(matrix[0])\n",
    "print(matrix[0][0:2])"
   ]
  },
  {
   "cell_type": "code",
   "execution_count": 65,
   "metadata": {},
   "outputs": [
    {
     "name": "stdout",
     "output_type": "stream",
     "text": [
      "1\n",
      "2\n",
      "['a', 'b', 'c', 'd', 'd', 'e']\n",
      "None\n"
     ]
    }
   ],
   "source": [
    "#continuation of List Methods\n",
    "\n",
    "#using index,\n",
    "basket = [\"a\", \"b\", \"c\", \"d\", \"e\", \"d\"]\n",
    "print(basket.index(\"b\"))\n",
    "\n",
    "#using count\n",
    "print(basket.count(\"d\"))\n",
    "\n",
    "#Using sort method\n",
    "basket.sort()\n",
    "print(basket)\n",
    "\n",
    "#using clear method\n",
    "print(basket.clear())"
   ]
  },
  {
   "cell_type": "code",
   "execution_count": 14,
   "metadata": {},
   "outputs": [
    {
     "name": "stdout",
     "output_type": "stream",
     "text": [
      "hi my name is Jojo\n"
     ]
    }
   ],
   "source": [
    "#continuation of list methods:\n",
    "#using Join Method\n",
    "sentence = \" \"\n",
    "new_sentence = sentence.join([\"hi\", \"my\", \"name\", \"is\", \"Jojo\"])\n",
    "print(new_sentence)"
   ]
  },
  {
   "cell_type": "code",
   "execution_count": 12,
   "metadata": {},
   "outputs": [
    {
     "name": "stdout",
     "output_type": "stream",
     "text": [
      "{1, 2, 3}\n",
      "{1, 2, 3, 4}\n",
      "{1, 2, 3}\n"
     ]
    }
   ],
   "source": [
    "# set methods:\n",
    "my_set = {1,2,3,4,5,}\n",
    "your_set = {4,5,6,7,8,9,10}\n",
    "\n",
    "#using .differrence()\n",
    "print(my_set.difference(your_set))\n",
    "\n",
    "#using .discard(): act as to remove a number from a set.\n",
    "my_set.discard(5)\n",
    "print(my_set)\n",
    "\n",
    "#using .difference_update():\n",
    "my_set.difference_update(your_set)\n",
    "print(my_set)\n"
   ]
  },
  {
   "cell_type": "code",
   "execution_count": 16,
   "metadata": {},
   "outputs": [
    {
     "name": "stdout",
     "output_type": "stream",
     "text": [
      "{4, 5}\n",
      "False\n",
      "{1, 2, 3, 4, 5, 6, 7, 8, 9, 10}\n",
      "False\n",
      "False\n"
     ]
    }
   ],
   "source": [
    "#continuation of set method:\n",
    "my_set = {1,2,3,4,5,}\n",
    "your_set = {4,5,6,7,8,9,10}\n",
    "\n",
    "print(my_set.intersection(your_set)) # using intersection method: this symbol can also be used \"&\"\"\n",
    "\n",
    "print(my_set.isdisjoint(your_set)) # Isdisjoint means do not they have anything in common.\n",
    "\n",
    "print(my_set.union(your_set)) # Union means to add the two set together and remove any duplicate. this symbol can also be used \"|\"\"\n",
    "\n",
    "print(my_set.issubset(your_set))\n",
    "\n",
    "print(my_set.issuperset(your_set))\n"
   ]
  },
  {
   "cell_type": "code",
   "execution_count": 3,
   "metadata": {},
   "outputs": [
    {
     "name": "stdout",
     "output_type": "stream",
     "text": [
      "{1, 2, 3, 4, 5, 6}\n",
      "True\n"
     ]
    }
   ],
   "source": [
    "#how to convert List to Set\n",
    "my_list = [1, 2, 3, 4, 5, 5, 6]\n",
    "print(set(my_list))\n",
    "print(1 in my_list)"
   ]
  },
  {
   "cell_type": "code",
   "execution_count": 3,
   "metadata": {},
   "outputs": [
    {
     "name": "stdout",
     "output_type": "stream",
     "text": [
      "hello-python\n"
     ]
    }
   ],
   "source": [
    "my_list = [\"hello\", \"python\"]\n",
    "print(\"-\".join(my_list))"
   ]
  },
  {
   "cell_type": "code",
   "execution_count": 22,
   "metadata": {},
   "outputs": [
    {
     "name": "stdout",
     "output_type": "stream",
     "text": [
      "you need magic powers\n"
     ]
    }
   ],
   "source": [
    "#class work using logical condition.\n",
    "is_magician = False\n",
    "is_expert = False\n",
    "#1- check if magician AND expert: \"you are a master magician\"\n",
    "if is_expert and is_magician:\n",
    "    print(\"you are a master magician\")\n",
    "\n",
    "#2- chech if magician but not epert: \"at least youre getting there\"\n",
    "elif is_magician and not is_expert:\n",
    "    print(\"you are getting there\")\n",
    "\n",
    "#3- if you\"re not a magician: \"you need magic powers\"\n",
    "elif not is_magician:\n",
    "    print(\"you need magic powers\")\n"
   ]
  },
  {
   "cell_type": "code",
   "execution_count": 17,
   "metadata": {},
   "outputs": [
    {
     "name": "stdout",
     "output_type": "stream",
     "text": [
      "name kate\n",
      "age 3009\n",
      "can_swin False\n",
      "{'name': 'kate', 'age': 3009, 'can_swin': False}\n",
      "{'name': 'kate', 'age': 3009, 'can_swin': False}\n",
      "{'name': 'kate', 'age': 3009, 'can_swin': False}\n"
     ]
    }
   ],
   "source": [
    "#Iteration--- using iteration to iterate the list,tuple,set,dictionary.\n",
    "user = {\n",
    "    'name': 'kate',\n",
    "    'age': 3009,\n",
    "    'can_swin': False\n",
    "}\n",
    "#you can use this format\n",
    "for k, v in user.items():\n",
    "    print(k, v)\n",
    "for item in user:\n",
    "    print(user)\n",
    "#for item in user.items():\n",
    "    #print(item)\n",
    "#for item in user.values():\n",
    "    #print(item)\n",
    "#for item in user.keys():\n",
    "    #print(item)"
   ]
  },
  {
   "cell_type": "code",
   "execution_count": 23,
   "metadata": {},
   "outputs": [
    {
     "name": "stdout",
     "output_type": "stream",
     "text": [
      "55\n"
     ]
    }
   ],
   "source": [
    "#Exercise--- loop throug the list and sum up the number in the list?\n",
    "my_list = [1, 2, 3, 4, 5, 6, 7, 8, 9, 10]\n",
    "counter = 0\n",
    "for item in my_list:\n",
    "    counter = counter + item\n",
    "print(counter)"
   ]
  },
  {
   "cell_type": "code",
   "execution_count": 11,
   "metadata": {},
   "outputs": [
    {
     "name": "stdout",
     "output_type": "stream",
     "text": [
      "(0, 1, 2, 3, 4, 5, 6, 7, 8, 9, 10, 11, 12, 13, 14, 15, 16, 17, 18, 19)\n",
      "(0, 1, 2, 3, 4, 5, 6, 7, 8, 9, 10, 11, 12, 13, 14, 15, 16, 17, 18, 19)\n"
     ]
    }
   ],
   "source": [
    "for i in range(2):\n",
    "    print(tuple(range(20)))"
   ]
  },
  {
   "cell_type": "code",
   "execution_count": 13,
   "metadata": {},
   "outputs": [
    {
     "name": "stdout",
     "output_type": "stream",
     "text": [
      "0 H\n",
      "1 e\n",
      "2 l\n",
      "3 l\n",
      "4 o\n",
      "5 o\n",
      "6 o\n",
      "7 o\n"
     ]
    }
   ],
   "source": [
    "#Using enumerate method: it will take an iterable objects and give the index of the item.\n",
    "for i, char in enumerate(\"Helloooo\"):\n",
    "    print(i, char)"
   ]
  },
  {
   "cell_type": "code",
   "execution_count": 19,
   "metadata": {},
   "outputs": [
    {
     "name": "stdout",
     "output_type": "stream",
     "text": [
      "index of 50 is: 50\n"
     ]
    }
   ],
   "source": [
    "# Class Exercise using Enumerate Method get the index of 50\n",
    "for i, char in enumerate (list(range(100))):\n",
    "    if char == 50:\n",
    "        print(f'index of 50 is: {i}')"
   ]
  },
  {
   "cell_type": "code",
   "execution_count": 25,
   "metadata": {},
   "outputs": [
    {
     "name": "stdout",
     "output_type": "stream",
     "text": [
      "0\n",
      "1\n",
      "2\n",
      "3\n",
      "4\n"
     ]
    }
   ],
   "source": [
    "#While loop\n",
    "i = 0\n",
    "while i < 5:\n",
    "    print(i)\n",
    "    i = i + 1\n",
    "    "
   ]
  },
  {
   "cell_type": "code",
   "execution_count": 29,
   "metadata": {},
   "outputs": [
    {
     "name": "stdout",
     "output_type": "stream",
     "text": [
      "1\n",
      "2\n",
      "3\n",
      "1\n",
      "2\n",
      "3\n"
     ]
    }
   ],
   "source": [
    "my_list = [1, 2, 3]\n",
    "for i in my_list:\n",
    "    print(i)\n",
    "\n",
    "i = 0\n",
    "while i < len(my_list):\n",
    "    print(my_list[i])\n",
    "    i = i + 1"
   ]
  },
  {
   "cell_type": "code",
   "execution_count": 50,
   "metadata": {},
   "outputs": [
    {
     "name": "stdout",
     "output_type": "stream",
     "text": [
      "ken\n",
      "Joy\n",
      "faith\n",
      "ken\n",
      "Joy\n",
      "faith\n"
     ]
    }
   ],
   "source": [
    "#break and continue using while and for loop:\n",
    "state = [\"ken\", \"Joy\", \"faith\"]\n",
    "for i in state:\n",
    "    print(i)\n",
    "    continue\n",
    "\n",
    "i = 0\n",
    "while i < len(state):\n",
    "    print(state[i])\n",
    "    i = i + 1\n",
    "    continue"
   ]
  },
  {
   "cell_type": "markdown",
   "metadata": {},
   "source": [
    "FIRST GUI "
   ]
  },
  {
   "cell_type": "code",
   "execution_count": 57,
   "metadata": {},
   "outputs": [
    {
     "name": "stdout",
     "output_type": "stream",
     "text": [
      "     *     \n",
      "    ***    \n",
      "   *****   \n",
      " ********* \n",
      "***********\n",
      "     *     \n",
      "     *     \n"
     ]
    }
   ],
   "source": [
    "picture =[\n",
    " [0,0,0,0,0,1,0,0,0,0,0],\n",
    " [0,0,0,0,1,1,1,0,0,0,0],\n",
    " [0,0,0,1,1,1,1,1,0,0,0],\n",
    " [0,1,1,1,1,1,1,1,1,1,0],\n",
    " [1,1,1,1,1,1,1,1,1,1,1],\n",
    " [0,0,0,0,0,1,0,0,0,0,0],\n",
    " [0,0,0,0,0,1,0,0,0,0,0]\n",
    "]\n",
    "\n",
    "for row in picture:\n",
    "    for pixel in row:\n",
    "        if (pixel == 1):\n",
    "            print('*', end='')\n",
    "        else:\n",
    "            print(' ', end='')\n",
    "    print('')        "
   ]
  },
  {
   "cell_type": "code",
   "execution_count": 2,
   "metadata": {},
   "outputs": [
    {
     "name": "stdout",
     "output_type": "stream",
     "text": [
      "['b', 'b', 'n', 'n']\n"
     ]
    }
   ],
   "source": [
    "#Exercise----  class work. print the duplicates in the list:\n",
    "some_list = ['a', 'b', 'c', 'b', 'd', 'm', 'n', 'n']\n",
    "\n",
    "duplicates = []\n",
    "for value in some_list:\n",
    "    if some_list.count(value) > 1:\n",
    "        duplicates.append(value)\n",
    "print(duplicates)"
   ]
  },
  {
   "cell_type": "code",
   "execution_count": 63,
   "metadata": {},
   "outputs": [
    {
     "name": "stdout",
     "output_type": "stream",
     "text": [
      "['b', 'n']\n"
     ]
    }
   ],
   "source": [
    "#Exercise----  class work. print the duplicates in the list:\n",
    "some_list = ['a', 'b', 'c', 'b', 'd', 'm', 'n', 'n']\n",
    "\n",
    "duplicates = []\n",
    "for value in some_list:\n",
    "    if some_list.count(value) > 1:\n",
    "        if value not in duplicates:\n",
    "          duplicates.append(value)\n",
    "print(duplicates)"
   ]
  },
  {
   "cell_type": "markdown",
   "metadata": {},
   "source": [
    "FUNCTION:\n",
    "parameters, arguments, default and keywords argument"
   ]
  },
  {
   "cell_type": "code",
   "execution_count": 3,
   "metadata": {},
   "outputs": [
    {
     "name": "stdout",
     "output_type": "stream",
     "text": [
      " hello Benie wizkid\n",
      " hello faith Tiwa\n"
     ]
    }
   ],
   "source": [
    "#the parameter are \"name\", \"song\"\n",
    "#the arguments are \"benice\", \"wizkid\"\n",
    "#the default-argument are \"name = Benice\", \"song = wizkid\n",
    "#the keywords argument are \"nmae = faith\", \"song = Tiwa\"\n",
    "def say_hello(name, song):\n",
    "    print(f\" hello {name} {song}\")\n",
    "\n",
    "say_hello(\"Benie\", \"wizkid\")\n",
    "say_hello(name = \"faith\", song = \"Tiwa\")"
   ]
  },
  {
   "cell_type": "code",
   "execution_count": 16,
   "metadata": {},
   "outputs": [
    {
     "name": "stdout",
     "output_type": "stream",
     "text": [
      "0\n",
      "1\n",
      "1\n",
      "2\n",
      "3\n",
      "5\n",
      "8\n",
      "13\n",
      "21\n"
     ]
    }
   ],
   "source": [
    "# function to solve fibonacci sequence of a given number.\n",
    "def fib(n):\n",
    "    first_num = 0\n",
    "    sec_num = 1\n",
    "    print(first_num)\n",
    "    print(sec_num)\n",
    "    for i in range(3, n):\n",
    "        nxt_num = first_num + sec_num\n",
    "        print(nxt_num)\n",
    "        first_num = sec_num\n",
    "        sec_num = nxt_num\n",
    "        nxt_num = first_num + sec_num\n",
    "terms = int(input(\"enterb the number of terms: \"))\n",
    "fib(terms)"
   ]
  },
  {
   "cell_type": "code",
   "execution_count": 17,
   "metadata": {},
   "outputs": [
    {
     "name": "stdout",
     "output_type": "stream",
     "text": [
      "fibonacci sequence:\n",
      "0\n",
      "1\n",
      "1\n",
      "2\n",
      "3\n",
      "5\n",
      "8\n",
      "13\n",
      "21\n",
      "34\n"
     ]
    }
   ],
   "source": [
    "def terms(n):\n",
    "    if n <=1:\n",
    "        return n\n",
    "    else:\n",
    "        return (terms(n-1) + terms(n-2))\n",
    "\n",
    "num = int(input(\"enter the num\"))\n",
    "if num <=0:\n",
    "    print(\"please enter a positive integer\")\n",
    "else:\n",
    "    print(\"fibonacci sequence:\")\n",
    "for i in range(num):\n",
    "    print(terms(i))\n"
   ]
  },
  {
   "cell_type": "code",
   "execution_count": 26,
   "metadata": {},
   "outputs": [
    {
     "name": "stdout",
     "output_type": "stream",
     "text": [
      "120\n"
     ]
    }
   ],
   "source": [
    "# write a function thet accept a number and print its factorial.\n",
    "def factorial(n):\n",
    "    n = 5\n",
    "    for i in range(1,n):\n",
    "        n *= i\n",
    "    print(n)\n",
    "factorial(5)"
   ]
  },
  {
   "cell_type": "code",
   "execution_count": null,
   "metadata": {},
   "outputs": [],
   "source": [
    "def is_even(num):\n",
    "    if num % 2 == 0:\n",
    "        return True\n",
    "    else:\n",
    "        return False\n",
    "is_even(571)"
   ]
  },
  {
   "cell_type": "markdown",
   "metadata": {},
   "source": [
    "DOCSTRINGS"
   ]
  },
  {
   "cell_type": "code",
   "execution_count": null,
   "metadata": {},
   "outputs": [],
   "source": [
    "# it can be used to comment inside of our Functions. we can also use help(test) or print(test.__doc__)\n",
    "def test(a):\n",
    "    '''\n",
    "    info: this function tests and prints param a\n",
    "    '''\n",
    "    print(a)\n",
    "test('!!!!')\n",
    "test()"
   ]
  },
  {
   "cell_type": "markdown",
   "metadata": {},
   "source": [
    "*args & **kwargs"
   ]
  },
  {
   "cell_type": "code",
   "execution_count": 9,
   "metadata": {},
   "outputs": [
    {
     "name": "stdout",
     "output_type": "stream",
     "text": [
      "1 2 3 4 5\n"
     ]
    },
    {
     "data": {
      "text/plain": [
       "15"
      ]
     },
     "execution_count": 9,
     "metadata": {},
     "output_type": "execute_result"
    }
   ],
   "source": [
    "def super_function(*args):\n",
    "    print(*args)\n",
    "    return sum(args)\n",
    "\n",
    "super_function(1,2,3,4,5)"
   ]
  },
  {
   "cell_type": "code",
   "execution_count": 10,
   "metadata": {},
   "outputs": [
    {
     "name": "stdout",
     "output_type": "stream",
     "text": [
      "(1, 2, 3, 4, 5)\n"
     ]
    },
    {
     "data": {
      "text/plain": [
       "15"
      ]
     },
     "execution_count": 10,
     "metadata": {},
     "output_type": "execute_result"
    }
   ],
   "source": [
    "def super_function(*args): # * accept any number of positional argument as many as you want\n",
    "    print(args) #arg inside argument will turn you answer to TUPLE.\n",
    "    return sum(args)\n",
    "\n",
    "super_function(1,2,3,4,5)"
   ]
  },
  {
   "cell_type": "code",
   "execution_count": null,
   "metadata": {},
   "outputs": [],
   "source": [
    "def super_func(**kwargs): #in kwags you assign a values to the param eg: num1 = 3, num2=7.\n",
    "    total = 0\n",
    "    for items in kwargs.values():\n",
    "        total = total + items\n",
    "    return total\n",
    "super_func(n1=1,n2=3,n=4)\n"
   ]
  },
  {
   "cell_type": "code",
   "execution_count": null,
   "metadata": {},
   "outputs": [],
   "source": [
    "def super_function(*args, **kwargs):\n",
    "    total = 0\n",
    "    for items in kwargs.values():\n",
    "        total = total + items\n",
    "    return sum(args) + total\n",
    "print(super_function(1,2,3,4,5, num1=20, num=30))\n",
    "#Rule: params, args, default params, **kwargs"
   ]
  },
  {
   "cell_type": "code",
   "execution_count": 25,
   "metadata": {},
   "outputs": [
    {
     "data": {
      "text/plain": [
       "11"
      ]
     },
     "execution_count": 25,
     "metadata": {},
     "output_type": "execute_result"
    }
   ],
   "source": [
    "#EXERCISE TIME\n",
    "def highest_even(*num):\n",
    "    total = max(num)\n",
    "    return total\n",
    "highest_even(10, 2, 3, 4, 8, 11)   "
   ]
  },
  {
   "cell_type": "code",
   "execution_count": 66,
   "metadata": {},
   "outputs": [
    {
     "name": "stdout",
     "output_type": "stream",
     "text": [
      "10\n"
     ]
    }
   ],
   "source": [
    "def highest_even(li):\n",
    "    evens = []\n",
    "    for items in li:\n",
    "        if items % 2 == 0:\n",
    "           evens.append(items)\n",
    "    return max(evens)\n",
    "print(highest_even([1, 2, 3, 4, 5, 10, 11]))\n"
   ]
  },
  {
   "cell_type": "markdown",
   "metadata": {},
   "source": [
    "NETWORKING IN PYTHON"
   ]
  },
  {
   "cell_type": "markdown",
   "metadata": {},
   "source": [
    "Regular Expression"
   ]
  },
  {
   "cell_type": "code",
   "execution_count": 1,
   "metadata": {},
   "outputs": [
    {
     "name": "stdout",
     "output_type": "stream",
     "text": [
      "['jack@niit.com', 'nancy@niit.com']\n"
     ]
    }
   ],
   "source": [
    "#extract email address from a certain statement.\n",
    "import re\n",
    "statement = 'Hello from jack@niit.com to nancy@niit.com about the meeting @4 P.M'\n",
    "emails = re.findall('\\S+@\\S+', statement)\n",
    "print(emails)\n",
    "#findall() method searches the string in the second argument and returns a list of all the strings that look like e-mail address."
   ]
  },
  {
   "cell_type": "code",
   "execution_count": null,
   "metadata": {},
   "outputs": [],
   "source": [
    "import socket\n"
   ]
  },
  {
   "cell_type": "markdown",
   "metadata": {},
   "source": [
    "SOA, API "
   ]
  },
  {
   "cell_type": "code",
   "execution_count": 1,
   "metadata": {},
   "outputs": [
    {
     "name": "stdout",
     "output_type": "stream",
     "text": [
      "001\n",
      "2\n",
      "chuck\n",
      "009\n",
      "20\n",
      "ghost\n"
     ]
    }
   ],
   "source": [
    "#convert JSON to python\n",
    "import json\n",
    "input ='''[{\n",
    "    \"id\":\"001\",\n",
    "    \"x\":2,\n",
    "    \"name\":\"chuck\"\n",
    "},{\n",
    "    \"id\":\"009\",\n",
    "    \"x\":20,\n",
    "    \"name\":\"ghost\"\n",
    "}]'''\n",
    "info = json.loads(input)\n",
    "# print(len(info))\n",
    "for item in info:\n",
    "    print(item[\"id\"][0])\n",
    "    print(item[\"x\"])\n",
    "    print(item[\"name\"])\n"
   ]
  },
  {
   "cell_type": "code",
   "execution_count": 11,
   "metadata": {},
   "outputs": [
    {
     "data": {
      "text/plain": [
       "<Response [200]>"
      ]
     },
     "execution_count": 11,
     "metadata": {},
     "output_type": "execute_result"
    }
   ],
   "source": [
    "#to know if your code is actually ok. you dont put text and you will not actually see data. so ur response will be 200.\n",
    "import requests\n",
    "#import json\n",
    "\n",
    "url = \"https://dog.ceo/api/breeds/list/all\"\n",
    "r = requests.get(url)\n",
    "r"
   ]
  },
  {
   "cell_type": "code",
   "execution_count": 1,
   "metadata": {},
   "outputs": [
    {
     "data": {
      "text/plain": [
       "{'Date': 'Tue, 07 Mar 2023 20:19:53 GMT', 'Content-Type': 'application/json', 'Content-Length': '963', 'Connection': 'keep-alive', 'X-Powered-By': 'PHP/8.1.0', 'Access-Control-Allow-Origin': '*', 'Content-Encoding': 'gzip', 'Via': '1.1 varnish (Varnish/6.3), 1.1 varnish (Varnish/6.3)', 'Cache-Control': 'max-age=1800', 'X-Cache-Age': '1792', 'X-Cache-Hits': '587', 'X-Cache': 'HIT', 'Accept-Ranges': 'bytes', 'Age': '0', 'Vary': 'Accept-Encoding', 'CF-Cache-Status': 'DYNAMIC', 'Report-To': '{\"endpoints\":[{\"url\":\"https:\\\\/\\\\/a.nel.cloudflare.com\\\\/report\\\\/v3?s=YY6jSehPuCWfB028SfzcazCZa6DOB7feeH00cib8WHdncoc6TPdNbEVU9WoeloEsa25wtbLrcRWAGt95ZRZ0%2BJkbaVLDwplsxD9adZxnkY%2BMBG4LClXCLN89\"}],\"group\":\"cf-nel\",\"max_age\":604800}', 'NEL': '{\"success_fraction\":0,\"report_to\":\"cf-nel\",\"max_age\":604800}', 'Server': 'cloudflare', 'CF-RAY': '7a458930ff5e0bd6-AMS', 'alt-svc': 'h3=\":443\"; ma=86400, h3-29=\":443\"; ma=86400'}"
      ]
     },
     "execution_count": 1,
     "metadata": {},
     "output_type": "execute_result"
    }
   ],
   "source": [
    "#if you want to see actual data, you add .text and it wil returned response object.\n",
    "import requests\n",
    "\n",
    "url = \"https://dog.ceo/api/breeds/list/all\"\n",
    "response = requests.get(url)\n",
    "response.text"
   ]
  },
  {
   "cell_type": "code",
   "execution_count": 13,
   "metadata": {},
   "outputs": [
    {
     "data": {
      "text/plain": [
       "{'message': {'affenpinscher': [],\n",
       "  'african': [],\n",
       "  'airedale': [],\n",
       "  'akita': [],\n",
       "  'appenzeller': [],\n",
       "  'australian': ['shepherd'],\n",
       "  'basenji': [],\n",
       "  'beagle': [],\n",
       "  'bluetick': [],\n",
       "  'borzoi': [],\n",
       "  'bouvier': [],\n",
       "  'boxer': [],\n",
       "  'brabancon': [],\n",
       "  'briard': [],\n",
       "  'buhund': ['norwegian'],\n",
       "  'bulldog': ['boston', 'english', 'french'],\n",
       "  'bullterrier': ['staffordshire'],\n",
       "  'cattledog': ['australian'],\n",
       "  'chihuahua': [],\n",
       "  'chow': [],\n",
       "  'clumber': [],\n",
       "  'cockapoo': [],\n",
       "  'collie': ['border'],\n",
       "  'coonhound': [],\n",
       "  'corgi': ['cardigan'],\n",
       "  'cotondetulear': [],\n",
       "  'dachshund': [],\n",
       "  'dalmatian': [],\n",
       "  'dane': ['great'],\n",
       "  'deerhound': ['scottish'],\n",
       "  'dhole': [],\n",
       "  'dingo': [],\n",
       "  'doberman': [],\n",
       "  'elkhound': ['norwegian'],\n",
       "  'entlebucher': [],\n",
       "  'eskimo': [],\n",
       "  'finnish': ['lapphund'],\n",
       "  'frise': ['bichon'],\n",
       "  'germanshepherd': [],\n",
       "  'greyhound': ['italian'],\n",
       "  'groenendael': [],\n",
       "  'havanese': [],\n",
       "  'hound': ['afghan',\n",
       "   'basset',\n",
       "   'blood',\n",
       "   'english',\n",
       "   'ibizan',\n",
       "   'plott',\n",
       "   'walker'],\n",
       "  'husky': [],\n",
       "  'keeshond': [],\n",
       "  'kelpie': [],\n",
       "  'komondor': [],\n",
       "  'kuvasz': [],\n",
       "  'labradoodle': [],\n",
       "  'labrador': [],\n",
       "  'leonberg': [],\n",
       "  'lhasa': [],\n",
       "  'malamute': [],\n",
       "  'malinois': [],\n",
       "  'maltese': [],\n",
       "  'mastiff': ['bull', 'english', 'tibetan'],\n",
       "  'mexicanhairless': [],\n",
       "  'mix': [],\n",
       "  'mountain': ['bernese', 'swiss'],\n",
       "  'newfoundland': [],\n",
       "  'otterhound': [],\n",
       "  'ovcharka': ['caucasian'],\n",
       "  'papillon': [],\n",
       "  'pekinese': [],\n",
       "  'pembroke': [],\n",
       "  'pinscher': ['miniature'],\n",
       "  'pitbull': [],\n",
       "  'pointer': ['german', 'germanlonghair'],\n",
       "  'pomeranian': [],\n",
       "  'poodle': ['medium', 'miniature', 'standard', 'toy'],\n",
       "  'pug': [],\n",
       "  'puggle': [],\n",
       "  'pyrenees': [],\n",
       "  'redbone': [],\n",
       "  'retriever': ['chesapeake', 'curly', 'flatcoated', 'golden'],\n",
       "  'ridgeback': ['rhodesian'],\n",
       "  'rottweiler': [],\n",
       "  'saluki': [],\n",
       "  'samoyed': [],\n",
       "  'schipperke': [],\n",
       "  'schnauzer': ['giant', 'miniature'],\n",
       "  'segugio': ['italian'],\n",
       "  'setter': ['english', 'gordon', 'irish'],\n",
       "  'sharpei': [],\n",
       "  'sheepdog': ['english', 'shetland'],\n",
       "  'shiba': [],\n",
       "  'shihtzu': [],\n",
       "  'spaniel': ['blenheim',\n",
       "   'brittany',\n",
       "   'cocker',\n",
       "   'irish',\n",
       "   'japanese',\n",
       "   'sussex',\n",
       "   'welsh'],\n",
       "  'spitz': ['japanese'],\n",
       "  'springer': ['english'],\n",
       "  'stbernard': [],\n",
       "  'terrier': ['american',\n",
       "   'australian',\n",
       "   'bedlington',\n",
       "   'border',\n",
       "   'cairn',\n",
       "   'dandie',\n",
       "   'fox',\n",
       "   'irish',\n",
       "   'kerryblue',\n",
       "   'lakeland',\n",
       "   'norfolk',\n",
       "   'norwich',\n",
       "   'patterdale',\n",
       "   'russell',\n",
       "   'scottish',\n",
       "   'sealyham',\n",
       "   'silky',\n",
       "   'tibetan',\n",
       "   'toy',\n",
       "   'welsh',\n",
       "   'westhighland',\n",
       "   'wheaten',\n",
       "   'yorkshire'],\n",
       "  'tervuren': [],\n",
       "  'vizsla': [],\n",
       "  'waterdog': ['spanish'],\n",
       "  'weimaraner': [],\n",
       "  'whippet': [],\n",
       "  'wolfhound': ['irish']},\n",
       " 'status': 'success'}"
      ]
     },
     "execution_count": 13,
     "metadata": {},
     "output_type": "execute_result"
    }
   ],
   "source": [
    "# Using JSON.... you import json.\n",
    "import requests\n",
    "import json\n",
    "\n",
    "url = 'https://dog.ceo/api/breeds/list/all'\n",
    "response = requests.get(url)\n",
    "data = json.loads(response.text)\n",
    "data\n"
   ]
  },
  {
   "cell_type": "code",
   "execution_count": 9,
   "metadata": {},
   "outputs": [
    {
     "name": "stdout",
     "output_type": "stream",
     "text": [
      "{'data': {'height': 50,\n",
      "          'is_silhouette': False,\n",
      "          'url': 'https://scontent-atl3-2.xx.fbcdn.net/v/t1.6435-1/58978526_10158354585751729_7411073224387067904_n.png?stp=cp0_dst-png_p50x50&_nc_cat=1&ccb=1-7&_nc_sid=dbb9e7&_nc_ohc=kfaP1RvY31IAX9_wezY&_nc_ad=z-m&_nc_cid=1087&_nc_ht=scontent-atl3-2.xx&oh=00_AfBwZbBjcnGJB43fi_RVs7rmtGf8n2rMVvp_hTj-nJODDw&oe=64305F65',\n",
      "          'width': 50}}\n"
     ]
    }
   ],
   "source": [
    "import requests\n",
    "import json\n",
    "from pprint import pprint\n",
    "\n",
    "\n",
    "url = \"https://graph.facebook.com/facebook/picture?redirect=false\"\n",
    "\n",
    "r = requests.get(url)\n",
    "data = json.loads(r.text)\n",
    "pprint(data)"
   ]
  },
  {
   "cell_type": "code",
   "execution_count": null,
   "metadata": {},
   "outputs": [],
   "source": [
    "import requests\n",
    "import json\n",
    "\n",
    "url = \"https://api.tvmaze.com/singlesearch/shows?q=girls\"\n",
    "params = {\"q\": \"Girls\"}\n",
    "\n",
    "response = requests.get(url, params)\n",
    "\n",
    "if response.status_code == 200:\n",
    "    data = json.loads(response.text)\n",
    "    print(data)\n",
    "else:\n",
    "    print(f\"error: {response.status_code}\")\n"
   ]
  },
  {
   "cell_type": "code",
   "execution_count": 38,
   "metadata": {},
   "outputs": [
    {
     "name": "stdout",
     "output_type": "stream",
     "text": [
      "Libertine Black Ale The New Black. Roasty. Hoppy. Fruity. 7.2\n"
     ]
    }
   ],
   "source": [
    "import json \n",
    "import requests\n",
    "url = \"https://api.punkapi.com/v2/beers/random\"\n",
    "\n",
    "response = requests.get(url)\n",
    "data = json.loads(response.text)\n",
    "print(data[0][\"name\"], data[0][\"tagline\"], data[0][\"abv\"])\n"
   ]
  },
  {
   "cell_type": "code",
   "execution_count": 41,
   "metadata": {},
   "outputs": [
    {
     "name": "stdout",
     "output_type": "stream",
     "text": [
      "Avery Brown Dredge\n",
      "25\n"
     ]
    }
   ],
   "source": [
    "import json \n",
    "import requests\n",
    "url = \"https://api.punkapi.com/v2/beers?food=pie\"\n",
    "\n",
    "response = requests.get(url)\n",
    "data = json.loads(response.text)\n",
    "print(data[0]['name'])\n",
    "print(len(data))\n"
   ]
  },
  {
   "cell_type": "code",
   "execution_count": 45,
   "metadata": {},
   "outputs": [
    {
     "name": "stdout",
     "output_type": "stream",
     "text": [
      "{'name': 'Libertine Porter', 'tagline': 'Dry-Hopped Aggressive Porter.', 'abv': 6.1}\n",
      "{'name': 'Rabiator', 'tagline': 'Imperial Wheat Beer', 'abv': 10.27}\n",
      "{'name': 'AB:14', 'tagline': 'Oak-Aged Imperial Weizenbock.', 'abv': 10}\n",
      "{'name': \"Bracken's Porter\", 'tagline': 'A Tribute To Our Favourite 4 Pawed Friend.', 'abv': 5}\n",
      "{'name': 'Alpha Pop', 'tagline': 'Hoppy Rye Pale Ale.', 'abv': 4.5}\n",
      "{'name': 'American Ale', 'tagline': 'Unleash the Yeast Series.', 'abv': 6.3}\n",
      "{'name': 'Hinterland', 'tagline': 'A Most Beguiling Brew.', 'abv': 9}\n",
      "{'name': 'Cap Dog (w/ Cap Brewery)', 'tagline': 'Black Cascara IPA.', 'abv': 9}\n",
      "{'name': 'Libertine Black Ale', 'tagline': 'The New Black. Roasty. Hoppy. Fruity.', 'abv': 7.2}\n",
      "{'name': 'Bashah (w/ Stone Brewing Co)', 'tagline': 'Black Belgian Double IPA.', 'abv': 9.7}\n",
      "{'name': 'Alice Porter', 'tagline': 'Enigmatic Dark Alchemy.', 'abv': 5.2}\n",
      "{'name': 'Shareholder Black IPA 2011', 'tagline': 'Shareholder Black IPA.', 'abv': 7.1}\n",
      "{'name': 'Barrel Aged Hinterland', 'tagline': 'A Most Beguiling Brew. Aged In Bourbon Casks.', 'abv': 9}\n",
      "{'name': 'Ace Of Simcoe', 'tagline': 'Single-Hopped Session IPA.', 'abv': 4.5}\n",
      "{'name': 'Beatnik', 'tagline': 'Imperial Red Ale', 'abv': 8}\n",
      "{'name': 'Small Batch: Dortmunder', 'tagline': 'Pale Lager.', 'abv': 4.9}\n",
      "{'name': 'Prototype Double IPA', 'tagline': 'American Hop Overload.', 'abv': 8.5}\n",
      "{'name': 'Nine To Five Wizard', 'tagline': 'India Pale Weizen.', 'abv': 7.5}\n",
      "{'name': 'AB:25', 'tagline': 'Bourbon Barrel-Aged Barley Wine.', 'abv': 13.3}\n",
      "{'name': 'Baltic Fleet', 'tagline': 'Baltic Porter.', 'abv': 7.2}\n"
     ]
    }
   ],
   "source": [
    "import json \n",
    "import requests\n",
    "#food_choice = input(\"please enter your dinner choice\")\n",
    "url = \"https://api.punkapi.com/v2/beers?food=burger\"\n",
    "\n",
    "response = requests.get(url)\n",
    "data = json.loads(response.text)\n",
    "\n",
    "beer_list = []\n",
    "for beer in data:\n",
    "    name = beer[\"name\"]\n",
    "    tagline = beer[\"tagline\"]\n",
    "    abv = beer[\"abv\"]\n",
    "\n",
    "    beer_item ={\n",
    "        \"name\": name,\n",
    "        \"tagline\": tagline,\n",
    "        \"abv\": abv,\n",
    "    }\n",
    "    print(beer_item)\n"
   ]
  },
  {
   "cell_type": "code",
   "execution_count": null,
   "metadata": {},
   "outputs": [],
   "source": [
    "#  STATUS CODE IN API\n",
    "# 200 ---- OK-- means ur request was successful.\n",
    "# 201 ---- CREATED-- means ur request was accepted and resources was created.\n",
    "# 400 ---- BAD REQUEST-- ur request is wrong or missing information. \n",
    "# 401 ---- UNATHORIZED--- ur request required some additional permission.\n",
    "# 404 ---- NOT FOUND --- the request resources does not exist.\n",
    "# 405 ---  METHOD NOT ALLOWED --- the endpoint does not allow for that specific HTTP method.\n",
    "# 500 --- INTERNAL SERVER ERROR --- \n",
    "\n",
    "#NOTE.... you can check the status of a responce using .status_code and .reason. \n",
    "#example.. response.status_code or response.reason"
   ]
  },
  {
   "cell_type": "code",
   "execution_count": null,
   "metadata": {},
   "outputs": [],
   "source": [
    "# HTTP Headers\n",
    "# they are = Accept, content-type, User-Agent and Server.\n",
    "#response = request.get()\n",
    "# response.headers or response.request.headers"
   ]
  },
  {
   "cell_type": "markdown",
   "metadata": {},
   "source": [
    "FILE HANDLING"
   ]
  },
  {
   "cell_type": "code",
   "execution_count": 19,
   "metadata": {},
   "outputs": [
    {
     "name": "stdout",
     "output_type": "stream",
     "text": [
      "['hello how are you doing dear\\n', 'Glad you came visiting and may God bless you and bless you so very much Amen']\n"
     ]
    }
   ],
   "source": [
    "# TO READ A FILE: \n",
    "my_file = open('chikko.txt')\n",
    "print(my_file.readlines())\n",
    "my_file.close()"
   ]
  },
  {
   "cell_type": "code",
   "execution_count": 20,
   "metadata": {},
   "outputs": [
    {
     "name": "stdout",
     "output_type": "stream",
     "text": [
      "['hello how are you doing dear\\n', 'Glad you came visiting and may God bless you and bless you so very much Amen']\n"
     ]
    }
   ],
   "source": [
    "with open('chikko.txt') as files:\n",
    "    print(files.readlines())"
   ]
  },
  {
   "cell_type": "code",
   "execution_count": 29,
   "metadata": {},
   "outputs": [
    {
     "name": "stdout",
     "output_type": "stream",
     "text": [
      "36\n"
     ]
    }
   ],
   "source": [
    "#TO WRITE INTO A FILE WE USE APPEND METHOD\n",
    "with open('kamsi.txt','a') as files:\n",
    "    text = files.write('\\n it gonna be alot of fun for us all')\n",
    "    print(text)"
   ]
  },
  {
   "cell_type": "code",
   "execution_count": 21,
   "metadata": {},
   "outputs": [
    {
     "name": "stdout",
     "output_type": "stream",
     "text": [
      "28\n"
     ]
    }
   ],
   "source": [
    "#TO WRITE A FILE\n",
    "with open('kamso.txt', mode='w') as files:\n",
    "    text = files.write('hello how are you doing dear')\n",
    "    print(text)"
   ]
  },
  {
   "cell_type": "markdown",
   "metadata": {},
   "source": [
    "DATA-BASE CONNECTIVITY"
   ]
  },
  {
   "cell_type": "code",
   "execution_count": null,
   "metadata": {},
   "outputs": [],
   "source": [
    "#Basic SQL OPERATIONS\n",
    "#1---Create table:                        CREATE TABLE Tracks(title TEXT, plays INTEGER)\n",
    "#2---Insert records into a table:         INSERT INTO Tracks (title, plays) VALUE ('My Way',15)\n",
    "#3---Filtering Records into a table:      SELECT * FROM Tracks WHERE title = 'My Way'\n",
    "#4---Ordering Records:                    SELECT title, plays FROM Tracks ORDER BY title\n",
    "#5---Deleting records from a table:       DELETE FROM Tracks WHERE title = 'My Way'\n",
    "#6---Updating Records from a table:       UPDATE Tracks SET plays = 16 WHERE title = 'My Way'"
   ]
  },
  {
   "cell_type": "code",
   "execution_count": 5,
   "metadata": {},
   "outputs": [],
   "source": [
    "import sqlite3 #1st you import sqlite\n",
    "\n",
    "con = sqlite3.connect(\"songs.db\")                    #2nd connect ur sqlite to DATABASE.\n",
    "\n",
    "cur = con.cursor()                                   #3rd connect ur cursor(cur) to conn\n",
    "\n",
    "cur.execute('''CREATE TABLE IF NOT EXISTS Tracks(title TEXT PRIMARY KEY, duration INTEGER, play INTEGER)''')  #4th create ur table \n",
    "\n",
    "#cur.execute('''INSERT INTO Tracks VALUES ('God is Good', '32:00', '42')''') #5 TO INSERT \n",
    "\n",
    "\n",
    "cur.execute('''UPDATE Tracks SET title = 'blessing', duration = '89:00' WHERE play = '9' ''')\n",
    "#cur.execute('''SELECT * From Tracks LIMIT 4''') #to select two n print only the two ON THE TERMINAL\n",
    "con.commit()\n",
    "#results = cur.fetchall()\n",
    "#print(results)\n"
   ]
  },
  {
   "cell_type": "markdown",
   "metadata": {},
   "source": [
    "NETWORKING IN PYTHON"
   ]
  },
  {
   "cell_type": "markdown",
   "metadata": {},
   "source": [
    "IP address: a unique string of numbers seperated by full stops that identifies each computer using the internet protocol to communicate over a network.\n"
   ]
  },
  {
   "cell_type": "code",
   "execution_count": null,
   "metadata": {},
   "outputs": [],
   "source": [
    "# TWO TYPES OF IP address are:\n",
    "#1.. public IP address - Google \"whats my IP\"\n",
    "#2.. private IP address - Windows (ipconfig), linux or Mac (ifconfig) \n",
    "# and both of them have two sub-sections which are \n",
    "# STATIC \"CANNOT BE CHANGEABLE\" AND DYNAMIC \"CAN BE CHANGED\" note: restart ur computer and see.\n",
    "#... Static -- Servers and websites \n",
    "# ...Dynamic -- Computer and mobile devices."
   ]
  },
  {
   "cell_type": "markdown",
   "metadata": {},
   "source": [
    "PORT"
   ]
  },
  {
   "cell_type": "code",
   "execution_count": null,
   "metadata": {},
   "outputs": [],
   "source": []
  }
 ],
 "metadata": {
  "kernelspec": {
   "display_name": "Python 3.11.0 64-bit",
   "language": "python",
   "name": "python3"
  },
  "language_info": {
   "codemirror_mode": {
    "name": "ipython",
    "version": 3
   },
   "file_extension": ".py",
   "mimetype": "text/x-python",
   "name": "python",
   "nbconvert_exporter": "python",
   "pygments_lexer": "ipython3",
   "version": "3.11.0"
  },
  "orig_nbformat": 4,
  "vscode": {
   "interpreter": {
    "hash": "de47f5c92c0ee6f12a59a5613ac5feff6aab19ddff207ba0b3964cced08c4ccc"
   }
  }
 },
 "nbformat": 4,
 "nbformat_minor": 2
}
