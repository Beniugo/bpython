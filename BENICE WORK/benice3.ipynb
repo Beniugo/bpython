{
 "cells": [
  {
   "cell_type": "markdown",
   "metadata": {},
   "source": [
    "Python is a high-level, general-purpose and a very popular programming language. Python programming language (latest Python 3) is being used in web development, Machine Learning applications, along with all cutting edge technology in Software Industry. Python Programming Language is very well suited for Beginners, also for experienced programmers with other programming languages like C++ and Java"
   ]
  },
  {
   "cell_type": "markdown",
   "metadata": {},
   "source": [
    "Python Class"
   ]
  },
  {
   "cell_type": "code",
   "execution_count": 2,
   "metadata": {},
   "outputs": [
    {
     "name": "stdout",
     "output_type": "stream",
     "text": [
      "Good Morning Feranmi!\n"
     ]
    }
   ],
   "source": [
    "print(\"Good Morning Feranmi!\")"
   ]
  },
  {
   "cell_type": "code",
   "execution_count": 4,
   "metadata": {},
   "outputs": [
    {
     "name": "stdout",
     "output_type": "stream",
     "text": [
      "Freanmi\n",
      "Freanmi\n",
      "Freanmi\n",
      "Freanmi\n"
     ]
    }
   ],
   "source": [
    "print(\"Freanmi\")\n",
    "print(\"Freanmi\")\n",
    "print(\"Freanmi\")\n",
    "print(\"Freanmi\")"
   ]
  },
  {
   "cell_type": "code",
   "execution_count": 6,
   "metadata": {},
   "outputs": [
    {
     "data": {
      "text/plain": [
       "int"
      ]
     },
     "execution_count": 6,
     "metadata": {},
     "output_type": "execute_result"
    }
   ],
   "source": [
    "a = 100\n",
    "type(a)"
   ]
  },
  {
   "cell_type": "code",
   "execution_count": 7,
   "metadata": {},
   "outputs": [
    {
     "data": {
      "text/plain": [
       "str"
      ]
     },
     "execution_count": 7,
     "metadata": {},
     "output_type": "execute_result"
    }
   ],
   "source": [
    "b = \"Work Day\"\n",
    "type(b)"
   ]
  },
  {
   "cell_type": "code",
   "execution_count": 8,
   "metadata": {},
   "outputs": [
    {
     "data": {
      "text/plain": [
       "str"
      ]
     },
     "execution_count": 8,
     "metadata": {},
     "output_type": "execute_result"
    }
   ],
   "source": [
    "d = \"100\"\n",
    "type(d)"
   ]
  },
  {
   "cell_type": "code",
   "execution_count": 9,
   "metadata": {},
   "outputs": [
    {
     "data": {
      "text/plain": [
       "bool"
      ]
     },
     "execution_count": 9,
     "metadata": {},
     "output_type": "execute_result"
    }
   ],
   "source": [
    "c = True\n",
    "type(c)"
   ]
  },
  {
   "cell_type": "code",
   "execution_count": 10,
   "metadata": {},
   "outputs": [
    {
     "data": {
      "text/plain": [
       "float"
      ]
     },
     "execution_count": 10,
     "metadata": {},
     "output_type": "execute_result"
    }
   ],
   "source": [
    "e = 12.01\n",
    "type(e)"
   ]
  },
  {
   "cell_type": "code",
   "execution_count": 11,
   "metadata": {},
   "outputs": [
    {
     "data": {
      "text/plain": [
       "complex"
      ]
     },
     "execution_count": 11,
     "metadata": {},
     "output_type": "execute_result"
    }
   ],
   "source": [
    "f = 3j\n",
    "type(f)"
   ]
  },
  {
   "cell_type": "code",
   "execution_count": 20,
   "metadata": {},
   "outputs": [
    {
     "name": "stdout",
     "output_type": "stream",
     "text": [
      "<class 'tuple'>\n",
      "('python', 120, 'Java', 10, 10.6)\n"
     ]
    }
   ],
   "source": [
    "g = (\"python\",120,\"Java\", 10,10.6)\n",
    "h = (1,2)\n",
    "print(type(h))\n",
    "print(g)"
   ]
  },
  {
   "cell_type": "code",
   "execution_count": 2,
   "metadata": {},
   "outputs": [
    {
     "data": {
      "text/plain": [
       "tuple"
      ]
     },
     "execution_count": 2,
     "metadata": {},
     "output_type": "execute_result"
    }
   ],
   "source": [
    "today = 100,120\n",
    "type(today)"
   ]
  },
  {
   "cell_type": "code",
   "execution_count": 5,
   "metadata": {},
   "outputs": [
    {
     "data": {
      "text/plain": [
       "tuple"
      ]
     },
     "execution_count": 5,
     "metadata": {},
     "output_type": "execute_result"
    }
   ],
   "source": [
    "today1 = (120,False)\n",
    "type(today1)"
   ]
  },
  {
   "cell_type": "code",
   "execution_count": 24,
   "metadata": {},
   "outputs": [
    {
     "data": {
      "text/plain": [
       "tuple"
      ]
     },
     "execution_count": 24,
     "metadata": {},
     "output_type": "execute_result"
    }
   ],
   "source": [
    "i = (5j,6j,2j)\n",
    "type(i)"
   ]
  },
  {
   "cell_type": "code",
   "execution_count": 26,
   "metadata": {},
   "outputs": [
    {
     "data": {
      "text/plain": [
       "tuple"
      ]
     },
     "execution_count": 26,
     "metadata": {},
     "output_type": "execute_result"
    }
   ],
   "source": [
    "j = tuple((1,2,3,4,5))\n",
    "type(j)"
   ]
  },
  {
   "cell_type": "code",
   "execution_count": 27,
   "metadata": {},
   "outputs": [
    {
     "data": {
      "text/plain": [
       "list"
      ]
     },
     "execution_count": 27,
     "metadata": {},
     "output_type": "execute_result"
    }
   ],
   "source": [
    "k = [\"Monday\",12,True]\n",
    "type(k)"
   ]
  },
  {
   "cell_type": "code",
   "execution_count": 28,
   "metadata": {},
   "outputs": [
    {
     "data": {
      "text/plain": [
       "list"
      ]
     },
     "execution_count": 28,
     "metadata": {},
     "output_type": "execute_result"
    }
   ],
   "source": [
    "l = list((100,200,7j))\n",
    "type(l)"
   ]
  },
  {
   "cell_type": "code",
   "execution_count": 29,
   "metadata": {},
   "outputs": [
    {
     "data": {
      "text/plain": [
       "set"
      ]
     },
     "execution_count": 29,
     "metadata": {},
     "output_type": "execute_result"
    }
   ],
   "source": [
    "m = {120,\"Grace\",True}\n",
    "type(m)"
   ]
  },
  {
   "cell_type": "code",
   "execution_count": 30,
   "metadata": {},
   "outputs": [
    {
     "data": {
      "text/plain": [
       "set"
      ]
     },
     "execution_count": 30,
     "metadata": {},
     "output_type": "execute_result"
    }
   ],
   "source": [
    "n = set((2j,False,\"90\"))\n",
    "type(n)"
   ]
  },
  {
   "cell_type": "code",
   "execution_count": 35,
   "metadata": {},
   "outputs": [
    {
     "data": {
      "text/plain": [
       "list"
      ]
     },
     "execution_count": 35,
     "metadata": {},
     "output_type": "execute_result"
    }
   ],
   "source": [
    "o = {\n",
    "    \"name\":\"Grace\",\n",
    "    \"age\":12,\n",
    "    \"gender\": \"female\",\n",
    "    \"is_teacher\":False,\n",
    "    \"hubbies\":[\"playing\",\"singing\",\"swimming\"]\n",
    "}\n",
    "type(o[\"hubbies\"])\n"
   ]
  },
  {
   "cell_type": "code",
   "execution_count": 36,
   "metadata": {},
   "outputs": [
    {
     "data": {
      "text/plain": [
       "dict"
      ]
     },
     "execution_count": 36,
     "metadata": {},
     "output_type": "execute_result"
    }
   ],
   "source": [
    "type(o)"
   ]
  },
  {
   "cell_type": "code",
   "execution_count": 37,
   "metadata": {},
   "outputs": [
    {
     "data": {
      "text/plain": [
       "list"
      ]
     },
     "execution_count": 37,
     "metadata": {},
     "output_type": "execute_result"
    }
   ],
   "source": [
    "type(k)"
   ]
  },
  {
   "cell_type": "code",
   "execution_count": 38,
   "metadata": {},
   "outputs": [
    {
     "name": "stdout",
     "output_type": "stream",
     "text": [
      "success\n"
     ]
    }
   ],
   "source": [
    "balance = 200\n",
    "amount = 100\n",
    "\n",
    "if balance > amount:\n",
    "    print('success')\n",
    "else:\n",
    "    print('off')"
   ]
  },
  {
   "cell_type": "code",
   "execution_count": 1,
   "metadata": {},
   "outputs": [
    {
     "data": {
      "text/plain": [
       "set"
      ]
     },
     "execution_count": 1,
     "metadata": {},
     "output_type": "execute_result"
    }
   ],
   "source": [
    "state = {(\"lagos\",\"Oyo\",\"Enugu\")}\n",
    "\n",
    "type(state)"
   ]
  },
  {
   "cell_type": "code",
   "execution_count": 2,
   "metadata": {},
   "outputs": [
    {
     "data": {
      "text/plain": [
       "set"
      ]
     },
     "execution_count": 2,
     "metadata": {},
     "output_type": "execute_result"
    }
   ],
   "source": [
    "state = {\"lagos\",\"Oyo\",\"Enugu\"}\n",
    "\n",
    "type(state)"
   ]
  },
  {
   "cell_type": "code",
   "execution_count": 3,
   "metadata": {},
   "outputs": [
    {
     "data": {
      "text/plain": [
       "set"
      ]
     },
     "execution_count": 3,
     "metadata": {},
     "output_type": "execute_result"
    }
   ],
   "source": [
    "type(state)"
   ]
  },
  {
   "cell_type": "code",
   "execution_count": 6,
   "metadata": {},
   "outputs": [
    {
     "data": {
      "text/plain": [
       "list"
      ]
     },
     "execution_count": 6,
     "metadata": {},
     "output_type": "execute_result"
    }
   ],
   "source": [
    "o = {\n",
    "    \"name\":\"Grace\",\n",
    "    \"age\":12,\n",
    "    \"gender\": \"female\",\n",
    "    \"is_teacher\":False,\n",
    "    \"hubbies\":list((\"playing\",\"singing\",\"swimming\"))\n",
    "}\n",
    "type(o[\"hubbies\"])\n"
   ]
  },
  {
   "cell_type": "markdown",
   "metadata": {},
   "source": [
    "Data Structure methods"
   ]
  },
  {
   "cell_type": "code",
   "execution_count": 7,
   "metadata": {},
   "outputs": [
    {
     "data": {
      "text/plain": [
       "tuple"
      ]
     },
     "execution_count": 7,
     "metadata": {},
     "output_type": "execute_result"
    }
   ],
   "source": [
    "# Tuple it takes ()\n",
    "a = (1,2,3,4,5,\"Go\",\"Die\",\"Tomorrow\",True,12.087)\n",
    "\n",
    "# checking the type\n",
    "type(a)"
   ]
  },
  {
   "cell_type": "code",
   "execution_count": 10,
   "metadata": {},
   "outputs": [
    {
     "data": {
      "text/plain": [
       "10"
      ]
     },
     "execution_count": 10,
     "metadata": {},
     "output_type": "execute_result"
    }
   ],
   "source": [
    "len(a)"
   ]
  },
  {
   "cell_type": "code",
   "execution_count": 16,
   "metadata": {},
   "outputs": [
    {
     "data": {
      "text/plain": [
       "12.087"
      ]
     },
     "execution_count": 16,
     "metadata": {},
     "output_type": "execute_result"
    }
   ],
   "source": [
    "# indexed\n",
    "a[9]"
   ]
  },
  {
   "cell_type": "code",
   "execution_count": 21,
   "metadata": {},
   "outputs": [
    {
     "data": {
      "text/plain": [
       "('Die', 'Tomorrow')"
      ]
     },
     "execution_count": 21,
     "metadata": {},
     "output_type": "execute_result"
    }
   ],
   "source": [
    "a[6:8]"
   ]
  },
  {
   "cell_type": "code",
   "execution_count": 22,
   "metadata": {},
   "outputs": [
    {
     "data": {
      "text/plain": [
       "(1, 2, 3, 4, 5, 'Go')"
      ]
     },
     "execution_count": 22,
     "metadata": {},
     "output_type": "execute_result"
    }
   ],
   "source": [
    "a[:6]"
   ]
  },
  {
   "cell_type": "code",
   "execution_count": 23,
   "metadata": {},
   "outputs": [
    {
     "data": {
      "text/plain": [
       "(4, 5, 'Go', 'Die', 'Tomorrow', True, 12.087)"
      ]
     },
     "execution_count": 23,
     "metadata": {},
     "output_type": "execute_result"
    }
   ],
   "source": [
    "a[3:]"
   ]
  },
  {
   "cell_type": "code",
   "execution_count": 24,
   "metadata": {},
   "outputs": [
    {
     "data": {
      "text/plain": [
       "(1, 2, 3, 4, 5, 'Go', 'Die', 'Tomorrow', True, 12.087)"
      ]
     },
     "execution_count": 24,
     "metadata": {},
     "output_type": "execute_result"
    }
   ],
   "source": [
    "a[:]"
   ]
  },
  {
   "cell_type": "code",
   "execution_count": 25,
   "metadata": {},
   "outputs": [
    {
     "name": "stdout",
     "output_type": "stream",
     "text": [
      "('A', 'B', 'C')\n"
     ]
    }
   ],
   "source": [
    "# ordered\n",
    "b = (\"A\",\"B\",\"C\")\n",
    "print(b)"
   ]
  },
  {
   "cell_type": "code",
   "execution_count": 28,
   "metadata": {},
   "outputs": [
    {
     "name": "stdout",
     "output_type": "stream",
     "text": [
      "new tupe list is\n",
      " ('lagos', 'Oyo', 'Enugu', 'lagos', 'Oyo', 'Enugu', 'lagos', 'Oyo', 'Enugu')\n"
     ]
    }
   ],
   "source": [
    "# Allow duplicate\n",
    "c = (\"lagos\",\"Oyo\",\"Enugu\")\n",
    "c = c * 3\n",
    "print(\"new tupe list is\\n\",c)"
   ]
  },
  {
   "cell_type": "code",
   "execution_count": 29,
   "metadata": {},
   "outputs": [
    {
     "data": {
      "text/plain": [
       "('lagos', 'Oyo', 'Enugu', 'lagos', 'Oyo', 'Enugu', 'lagos', 'Oyo', 'Enugu')"
      ]
     },
     "execution_count": 29,
     "metadata": {},
     "output_type": "execute_result"
    }
   ],
   "source": [
    "c"
   ]
  },
  {
   "cell_type": "code",
   "execution_count": 31,
   "metadata": {},
   "outputs": [
    {
     "data": {
      "text/plain": [
       "1"
      ]
     },
     "execution_count": 31,
     "metadata": {},
     "output_type": "execute_result"
    }
   ],
   "source": [
    "d = (\"lagos\",\"Oyo\",\"Enugu\")\n",
    "d.count(\"lagos\")"
   ]
  },
  {
   "cell_type": "code",
   "execution_count": 32,
   "metadata": {},
   "outputs": [
    {
     "data": {
      "text/plain": [
       "0"
      ]
     },
     "execution_count": 32,
     "metadata": {},
     "output_type": "execute_result"
    }
   ],
   "source": [
    "d1 = (\"lagos\",\"Oyo\",\"Enugu\")\n",
    "d1.index(\"lagos\")"
   ]
  },
  {
   "cell_type": "code",
   "execution_count": 34,
   "metadata": {},
   "outputs": [
    {
     "name": "stdout",
     "output_type": "stream",
     "text": [
      "yes\n"
     ]
    }
   ],
   "source": [
    "a = 6\n",
    "\n",
    "if not a:\n",
    "    print('no')\n",
    "else:\n",
    "    print('yes')"
   ]
  },
  {
   "cell_type": "markdown",
   "metadata": {},
   "source": [
    "Data Structure Methods"
   ]
  },
  {
   "cell_type": "code",
   "execution_count": 1,
   "metadata": {},
   "outputs": [
    {
     "name": "stdout",
     "output_type": "stream",
     "text": [
      "('Python', 'Java', 'C++', 'JavaScript', 'Ruby', 'Php', 'R-lang', 'Dart', 'Rust', 'C')\n"
     ]
    }
   ],
   "source": [
    "# tuple() methods\n",
    "\n",
    "\n",
    "info = tuple((\"Python\",\"Java\",\"C++\",\"JavaScript\",\"Ruby\",\"Php\",\"R-lang\",\"Dart\",\"Rust\",\"C\"))\n",
    "print(info)\n"
   ]
  },
  {
   "cell_type": "code",
   "execution_count": 2,
   "metadata": {},
   "outputs": [
    {
     "name": "stdout",
     "output_type": "stream",
     "text": [
      "('Python', 'Java', 'C++', 'JavaScript', 'Ruby', 'Php', 'R-lang', 'Dart', 'Rust', 'C')\n"
     ]
    }
   ],
   "source": [
    "need = (\"Python\",\"Java\",\"C++\",\"JavaScript\",\"Ruby\",\"Php\",\"R-lang\",\"Dart\",\"Rust\",\"C\")\n",
    "print(need)"
   ]
  },
  {
   "cell_type": "code",
   "execution_count": 3,
   "metadata": {},
   "outputs": [
    {
     "data": {
      "text/plain": [
       "10"
      ]
     },
     "execution_count": 3,
     "metadata": {},
     "output_type": "execute_result"
    }
   ],
   "source": [
    "len(need)"
   ]
  },
  {
   "cell_type": "code",
   "execution_count": 4,
   "metadata": {},
   "outputs": [
    {
     "data": {
      "text/plain": [
       "'Python'"
      ]
     },
     "execution_count": 4,
     "metadata": {},
     "output_type": "execute_result"
    }
   ],
   "source": [
    "need[0]"
   ]
  },
  {
   "cell_type": "code",
   "execution_count": 5,
   "metadata": {},
   "outputs": [
    {
     "data": {
      "text/plain": [
       "'Php'"
      ]
     },
     "execution_count": 5,
     "metadata": {},
     "output_type": "execute_result"
    }
   ],
   "source": [
    "need[5]"
   ]
  },
  {
   "cell_type": "code",
   "execution_count": 7,
   "metadata": {},
   "outputs": [
    {
     "name": "stdout",
     "output_type": "stream",
     "text": [
      "('Python', 'Java', 'C++', 'Python', 'Ruby', 'Php', 'R-lang', 'Dart', 'Rust', 'C')\n"
     ]
    }
   ],
   "source": [
    "need = (\"Python\",\"Java\",\"C++\",\"Python\",\"Ruby\",\"Php\",\"R-lang\",\"Dart\",\"Rust\",\"C\")\n",
    "print(need)"
   ]
  },
  {
   "cell_type": "code",
   "execution_count": 11,
   "metadata": {},
   "outputs": [
    {
     "name": "stdout",
     "output_type": "stream",
     "text": [
      "('Python', 'Java', 'C++', 'JavaScript', 'Ruby', 'Php', 'R-lang', 'Dart', 'Rust', 'C')\n"
     ]
    }
   ],
   "source": [
    "need = (\"Python\",\"Java\",\"C++\",\"Python\",\"Ruby\",\"Php\",\"R-lang\",\"Dart\",\"Rust\",\"C\")\n",
    "var = list(need)\n",
    "var[3] = \"JavaScript\"\n",
    "need = tuple(var)\n",
    "print(need)"
   ]
  },
  {
   "cell_type": "code",
   "execution_count": 4,
   "metadata": {},
   "outputs": [
    {
     "name": "stdout",
     "output_type": "stream",
     "text": [
      "('Python', 'Java', 'grace', 'Python', 'Ruby', 'Php', 'R-lang', 'Dart', 'Rust', 'C')\n"
     ]
    }
   ],
   "source": [
    "why = [\"Python\",\"Java\",\"C++\",\"Python\",\"Ruby\",\"Php\",\"R-lang\",\"Dart\",\"Rust\",\"C\"]\n",
    "okay = list(why)\n",
    "okay[2] = \"grace\"\n",
    "why = tuple(okay)\n",
    "print(why)"
   ]
  },
  {
   "cell_type": "code",
   "execution_count": 14,
   "metadata": {},
   "outputs": [
    {
     "data": {
      "text/plain": [
       "('Python',\n",
       " 'Java',\n",
       " 'C++',\n",
       " 'JavaScript',\n",
       " 'Ruby',\n",
       " 'Php',\n",
       " 'R-lang',\n",
       " 'Dart',\n",
       " 'Rust',\n",
       " 'C',\n",
       " 'Kotlin')"
      ]
     },
     "execution_count": 14,
     "metadata": {},
     "output_type": "execute_result"
    }
   ],
   "source": [
    "# update the tuple var\n",
    "\n",
    "var = (\"Kotlin\",)\n",
    "\n",
    "need += var\n",
    "need"
   ]
  },
  {
   "cell_type": "code",
   "execution_count": 20,
   "metadata": {},
   "outputs": [
    {
     "name": "stdout",
     "output_type": "stream",
     "text": [
      "Python is a programming Language\n",
      "Java is a programming Language\n",
      "C++ is a programming Language\n",
      "JavaScript is a programming Language\n",
      "Ruby is a programming Language\n",
      "Php is a programming Language\n",
      "R-lang is a programming Language\n",
      "Dart is a programming Language\n",
      "Rust is a programming Language\n",
      "C is a programming Language\n",
      "Kotlin is a programming Language\n"
     ]
    }
   ],
   "source": [
    "for x in need:\n",
    "    print(x,\"is a programming Language\")"
   ]
  },
  {
   "cell_type": "code",
   "execution_count": 24,
   "metadata": {},
   "outputs": [
    {
     "name": "stdout",
     "output_type": "stream",
     "text": [
      "Python is a programming Language with index 0\n",
      "Java is a programming Language with index 1\n",
      "C++ is a programming Language with index 2\n",
      "JavaScript is a programming Language with index 3\n",
      "Ruby is a programming Language with index 4\n",
      "Php is a programming Language with index 5\n",
      "R-lang is a programming Language with index 6\n",
      "Dart is a programming Language with index 7\n",
      "Rust is a programming Language with index 8\n",
      "C is a programming Language with index 9\n",
      "Kotlin is a programming Language with index 10\n"
     ]
    }
   ],
   "source": [
    "for x in range(len(need)):\n",
    "    print(need[x],\"is a programming Language with index\",x)"
   ]
  },
  {
   "cell_type": "code",
   "execution_count": 32,
   "metadata": {},
   "outputs": [
    {
     "data": {
      "text/plain": [
       "list"
      ]
     },
     "execution_count": 32,
     "metadata": {},
     "output_type": "execute_result"
    }
   ],
   "source": [
    "# List [] Methods\n",
    "\n",
    "\n",
    "info = [\"Lagos\",\"Edo\",\"Enugu\",\"Imo\",\"Anambra\",\"Oyo\",\"Borno\"]\n",
    "\n",
    "type(info)"
   ]
  },
  {
   "cell_type": "code",
   "execution_count": 34,
   "metadata": {},
   "outputs": [
    {
     "data": {
      "text/plain": [
       "['Lagos', 'Edo', 'Enugu', 'Imo', 'Anambra', 'Oyo', 'Borno', 'Kwara']"
      ]
     },
     "execution_count": 34,
     "metadata": {},
     "output_type": "execute_result"
    }
   ],
   "source": [
    "info.append('Kwara')\n",
    "info"
   ]
  },
  {
   "cell_type": "code",
   "execution_count": 30,
   "metadata": {},
   "outputs": [
    {
     "data": {
      "text/plain": [
       "['Lagos',\n",
       " 'Edo',\n",
       " 'Enugu',\n",
       " 'Imo',\n",
       " 'Anambra',\n",
       " 'Oyo',\n",
       " 'Borno',\n",
       " 'Kwara',\n",
       " ['Abuja', 'Ekiti', 'Kaduna']]"
      ]
     },
     "execution_count": 30,
     "metadata": {},
     "output_type": "execute_result"
    }
   ],
   "source": [
    "added = [\"Abuja\",\"Ekiti\",\"Kaduna\"]\n",
    "\n",
    "info.append(added)\n",
    "info"
   ]
  },
  {
   "cell_type": "code",
   "execution_count": 31,
   "metadata": {},
   "outputs": [
    {
     "data": {
      "text/plain": [
       "[]"
      ]
     },
     "execution_count": 31,
     "metadata": {},
     "output_type": "execute_result"
    }
   ],
   "source": [
    "info.clear()\n",
    "info"
   ]
  },
  {
   "cell_type": "code",
   "execution_count": 35,
   "metadata": {},
   "outputs": [
    {
     "data": {
      "text/plain": [
       "['Lagos', 'Edo', 'Enugu', 'Imo', 'Anambra', 'Oyo', 'Borno', 'Kwara']"
      ]
     },
     "execution_count": 35,
     "metadata": {},
     "output_type": "execute_result"
    }
   ],
   "source": [
    "info"
   ]
  },
  {
   "cell_type": "code",
   "execution_count": 36,
   "metadata": {},
   "outputs": [
    {
     "data": {
      "text/plain": [
       "['Lagos', 'Edo', 'Enugu', 'Imo', 'Anambra', 'Oyo', 'Kwara']"
      ]
     },
     "execution_count": 36,
     "metadata": {},
     "output_type": "execute_result"
    }
   ],
   "source": [
    "# remove element\n",
    "info.remove(\"Borno\")\n",
    "info"
   ]
  },
  {
   "cell_type": "code",
   "execution_count": 37,
   "metadata": {},
   "outputs": [
    {
     "data": {
      "text/plain": [
       "['Lagos', 'Edo', 'Enugu', 'Imo', 'Anambra', 'Oyo', 'Kwara', 'Borno']"
      ]
     },
     "execution_count": 37,
     "metadata": {},
     "output_type": "execute_result"
    }
   ],
   "source": [
    "info.append(\"Borno\")\n",
    "info"
   ]
  },
  {
   "cell_type": "code",
   "execution_count": 38,
   "metadata": {},
   "outputs": [
    {
     "data": {
      "text/plain": [
       "['Borno', 'Kwara', 'Oyo', 'Anambra', 'Imo', 'Enugu', 'Edo', 'Lagos']"
      ]
     },
     "execution_count": 38,
     "metadata": {},
     "output_type": "execute_result"
    }
   ],
   "source": [
    "# reverse method\n",
    "\n",
    "info.reverse()\n",
    "info"
   ]
  },
  {
   "cell_type": "code",
   "execution_count": 40,
   "metadata": {},
   "outputs": [
    {
     "name": "stdout",
     "output_type": "stream",
     "text": [
      "Borno\n",
      "Kwara\n",
      "Ogun\n",
      "Anambra\n",
      "Imo\n",
      "Enugu\n",
      "Edo\n",
      "Lagos\n"
     ]
    }
   ],
   "source": [
    "info[2] = \"Ogun\"\n",
    "for z in info:\n",
    "    print(z)"
   ]
  },
  {
   "cell_type": "code",
   "execution_count": 41,
   "metadata": {},
   "outputs": [
    {
     "data": {
      "text/plain": [
       "list"
      ]
     },
     "execution_count": 41,
     "metadata": {},
     "output_type": "execute_result"
    }
   ],
   "source": [
    "type(info)"
   ]
  },
  {
   "cell_type": "code",
   "execution_count": 42,
   "metadata": {},
   "outputs": [
    {
     "data": {
      "text/plain": [
       "tuple"
      ]
     },
     "execution_count": 42,
     "metadata": {},
     "output_type": "execute_result"
    }
   ],
   "source": [
    "info = tuple(info)\n",
    "type(info)"
   ]
  },
  {
   "cell_type": "code",
   "execution_count": 45,
   "metadata": {},
   "outputs": [
    {
     "data": {
      "text/plain": [
       "['Borno', 'Kwara', 'Ogun', 'Anambra', 'Imo', 'Enugu', 'Edo']"
      ]
     },
     "execution_count": 45,
     "metadata": {},
     "output_type": "execute_result"
    }
   ],
   "source": [
    "info.remove(\"Lagos\")\n",
    "info"
   ]
  },
  {
   "cell_type": "code",
   "execution_count": 44,
   "metadata": {},
   "outputs": [
    {
     "data": {
      "text/plain": [
       "list"
      ]
     },
     "execution_count": 44,
     "metadata": {},
     "output_type": "execute_result"
    }
   ],
   "source": [
    "info = list(info)\n",
    "type(info)"
   ]
  },
  {
   "cell_type": "code",
   "execution_count": 46,
   "metadata": {},
   "outputs": [
    {
     "data": {
      "text/plain": [
       "['Borno', 'Kwara', 'Ogun', 'Anambra', 'Imo', 'Enugu', 'Edo']"
      ]
     },
     "execution_count": 46,
     "metadata": {},
     "output_type": "execute_result"
    }
   ],
   "source": [
    "info"
   ]
  },
  {
   "cell_type": "code",
   "execution_count": 48,
   "metadata": {},
   "outputs": [
    {
     "data": {
      "text/plain": [
       "['Borno', 'Lagos', 'Kwara', 'Ogun', 'Anambra', 'Imo', 'Enugu', 'Edo']"
      ]
     },
     "execution_count": 48,
     "metadata": {},
     "output_type": "execute_result"
    }
   ],
   "source": [
    "info.insert(1,\"Lagos\")\n",
    "info"
   ]
  },
  {
   "cell_type": "code",
   "execution_count": 50,
   "metadata": {},
   "outputs": [
    {
     "data": {
      "text/plain": [
       "['Kwara', 'Ogun', 'Anambra', 'Imo', 'Enugu', 'Edo']"
      ]
     },
     "execution_count": 50,
     "metadata": {},
     "output_type": "execute_result"
    }
   ],
   "source": [
    "info.pop(0)\n",
    "info"
   ]
  },
  {
   "cell_type": "code",
   "execution_count": null,
   "metadata": {},
   "outputs": [],
   "source": [
    "# write a program to give an output for 2023 election base on each user's tottal votes and declear\n",
    "# the winner base on input results   "
   ]
  },
  {
   "cell_type": "code",
   "execution_count": 14,
   "metadata": {},
   "outputs": [
    {
     "name": "stdout",
     "output_type": "stream",
     "text": [
      "Election 2023 is inconclusive\n"
     ]
    }
   ],
   "source": [
    "# declear input for each party\n",
    "pdp = int(input(\"Enter PDP total vote\\n\"))\n",
    "apc = int(input(\"Enter APC total vote\\n\"))\n",
    "lp = int(input(\"Enter LP total vote\\n\"))\n",
    "\n",
    "\n",
    "# validation of the input according the the party\n",
    "\n",
    "if pdp > apc and pdp > lp:\n",
    "    pdp_cand = \"Mr Abubakar Atiku\"\n",
    "    print(f'WOw! {pdp_cand} won the 2023 election with {pdp} compare to other with {apc} and {lp}')\n",
    "\n",
    "elif apc > lp and pdp:\n",
    "    apc_cand = \"Mr Bola Hammed Tinubu\"\n",
    "    print(f'WOw! {apc_cand} won the 2023 election with {apc} compare to other with {pdp} and {lp}')\n",
    "\n",
    "elif lp > apc and pdp:\n",
    "    lp_cand = \"Mr Peter Obi\"\n",
    "    print(f'WOw! {lp_cand} won the 2023 election with {lp} compare to other with {pdp} and {apc}')\n",
    "else:\n",
    "    print(\"Election 2023 is inconclusive\")"
   ]
  },
  {
   "cell_type": "code",
   "execution_count": 8,
   "metadata": {},
   "outputs": [
    {
     "name": "stdout",
     "output_type": "stream",
     "text": [
      "5\n"
     ]
    }
   ],
   "source": [
    "a = 5\n",
    "print(a)"
   ]
  },
  {
   "cell_type": "code",
   "execution_count": 10,
   "metadata": {},
   "outputs": [
    {
     "name": "stdout",
     "output_type": "stream",
     "text": [
      "5 is the value of the variable\n"
     ]
    }
   ],
   "source": [
    "print(f'{a} is the value of the variable')"
   ]
  },
  {
   "cell_type": "code",
   "execution_count": 18,
   "metadata": {},
   "outputs": [
    {
     "name": "stdout",
     "output_type": "stream",
     "text": [
      "You are a winner\n"
     ]
    }
   ],
   "source": [
    "answer = 1000\n",
    "guess = int(input(\"guess a number\"))\n",
    " \n",
    "\n",
    "if guess < answer:\n",
    "    print(\"Oops you guess below the number try another number\")\n",
    "    guess2 = int(input(\"guess a number\"))\n",
    "    if guess2 == answer:\n",
    "        print(\"You are a winner\")\n",
    "    else:\n",
    "        print(\"You wrong in the second attempt\")\n",
    "elif guess > answer:\n",
    "    print(\"Oops you guess above the number try another number\")\n",
    "    guess2 = int(input(\"guess a number\"))\n",
    "    if guess2 == answer:\n",
    "        print(\"You are a winner\")\n",
    "    else:\n",
    "        print(\"You wrong in the second attempt\")\n",
    "else:\n",
    "    print(\"You are a winner\")"
   ]
  },
  {
   "cell_type": "code",
   "execution_count": 20,
   "metadata": {},
   "outputs": [
    {
     "name": "stdout",
     "output_type": "stream",
     "text": [
      "0\n",
      "1\n",
      "2\n",
      "3\n",
      "4\n",
      "5\n",
      "6\n",
      "7\n",
      "8\n",
      "9\n"
     ]
    }
   ],
   "source": [
    "for i in range(10):\n",
    "    print(i)"
   ]
  },
  {
   "cell_type": "code",
   "execution_count": 21,
   "metadata": {},
   "outputs": [
    {
     "name": "stdout",
     "output_type": "stream",
     "text": [
      "10\n",
      "11\n",
      "12\n",
      "13\n",
      "14\n",
      "15\n",
      "16\n",
      "17\n",
      "18\n",
      "19\n",
      "20\n",
      "21\n",
      "22\n",
      "23\n",
      "24\n"
     ]
    }
   ],
   "source": [
    "for i in range(10,25):\n",
    "    print(i)"
   ]
  },
  {
   "cell_type": "code",
   "execution_count": 22,
   "metadata": {},
   "outputs": [
    {
     "name": "stdout",
     "output_type": "stream",
     "text": [
      "10\n",
      "20\n",
      "30\n",
      "40\n",
      "50\n",
      "60\n",
      "70\n",
      "80\n",
      "90\n"
     ]
    }
   ],
   "source": [
    "for i in range(10,100,10):\n",
    "    print(i)"
   ]
  },
  {
   "cell_type": "code",
   "execution_count": null,
   "metadata": {},
   "outputs": [],
   "source": [
    "# 0.00 - 0.99 = Probation\n",
    "# 1.00 - 1.49 = pass\n",
    "# 1.50 - 2.49 = third class\n",
    "# 2.50 - 3.49 = second class lower\n",
    "# 3.50 - 4.49 = second class upper\n",
    "# 4.50 - 5.00 = first class "
   ]
  },
  {
   "cell_type": "code",
   "execution_count": 29,
   "metadata": {},
   "outputs": [
    {
     "name": "stdout",
     "output_type": "stream",
     "text": [
      "Congratulation gideon, you are on probabtion upper with 0.45\n"
     ]
    }
   ],
   "source": [
    "name = input(\"Please enter your name \\n\")\n",
    "level = int(input(\"Please enter your level \\n\"))\n",
    "cgpa = float(input(\"Enter your current CGPA \\n\"))\n",
    "\n",
    "# print(cgpa)\n",
    "\n",
    "if cgpa >= 4.50:\n",
    "    print(f'Congratulation {name}, you have a first class with {cgpa}')\n",
    "elif cgpa <= 4.49 and cgpa >= 3.50:\n",
    "    print(f'Congratulation {name}, you have a second class upper with {cgpa}')\n",
    "elif cgpa <= 3.49 and cgpa >= 2.50:\n",
    "    print(f'Congratulation {name}, you have a second class lower with {cgpa}')\n",
    "elif cgpa <= 2.49 and cgpa >= 1.50:\n",
    "    print(f'Congratulation {name}, you have a third class with {cgpa}')\n",
    "elif cgpa <= 1.49 and cgpa >= 1.00:\n",
    "    print(f'Congratulation {name}, you have a pass class with {cgpa}')\n",
    "elif cgpa <= 0.49 and cgpa >= 0.1:\n",
    "    print(f'Congratulation {name}, you are on probabtion upper with {cgpa}')\n",
    "\n",
    "else:\n",
    "    print(\"Out of cgpa range\")"
   ]
  },
  {
   "cell_type": "code",
   "execution_count": 14,
   "metadata": {},
   "outputs": [
    {
     "name": "stdout",
     "output_type": "stream",
     "text": [
      "Opps! wrong name is given as james,john\n"
     ]
    }
   ],
   "source": [
    "# if, elif and else\n",
    "\n",
    "name = \"Peter\",\"John\",\"James\"\n",
    "surname = \"Obi\"\n",
    "\n",
    "ask = input(\"Enter main disciples of jesus\\n\")\n",
    "ask = ask.lower()\n",
    "if ask == \"peter\":\n",
    "    print(f\"Yes {ask} is among\")\n",
    "elif ask == \"john\":\n",
    "    print(f\"Yes {ask} is among\")\n",
    "elif ask == \"james\":\n",
    "    print(f\"Yes {ask} is among\")\n",
    "\n",
    "else:\n",
    "    print(f\"Opps! wrong name is given as {ask}\")"
   ]
  },
  {
   "cell_type": "code",
   "execution_count": 9,
   "metadata": {},
   "outputs": [
    {
     "data": {
      "text/plain": [
       "'IFE'"
      ]
     },
     "execution_count": 9,
     "metadata": {},
     "output_type": "execute_result"
    }
   ],
   "source": [
    "name = input(\"Your name\")\n",
    "name = name.upper()\n",
    "\n",
    "name"
   ]
  },
  {
   "cell_type": "code",
   "execution_count": 19,
   "metadata": {},
   "outputs": [
    {
     "name": "stdout",
     "output_type": "stream",
     "text": [
      "Yes john is among\n",
      "Yes smart is valid\n",
      "smart john was with jesus\n"
     ]
    }
   ],
   "source": [
    "# nested condition\n",
    "\n",
    "\n",
    "name = \"Peter\",\"John\",\"James\"\n",
    "surname = \"Simon\"\n",
    "\n",
    "# end of database\n",
    "\n",
    "ask = input(\"Enter main disciples of jesus\\n\")\n",
    "surname = input(\"Enter surname of disciples of jesus\\n\")\n",
    "ask = ask.lower()\n",
    "surname = surname.lower()\n",
    "\n",
    "if ask == \"peter\":\n",
    "    print(f\"Yes {ask} is among\")\n",
    "    if surname == 'simon':\n",
    "        print(f'Yes {surname} is valid')\n",
    "        print(f\"{surname} {ask} was with jesus\")\n",
    "        \n",
    "    else:\n",
    "        print(\"not needed\")\n",
    "\n",
    "elif ask == \"john\":\n",
    "    print(f\"Yes {ask} is among\")\n",
    "    if surname == 'smart':\n",
    "        print(f'Yes {surname} is valid')\n",
    "        print(f\"{surname} {ask} was with jesus\")\n",
    "    else:\n",
    "        print(\"not needed\")\n",
    "elif ask == \"james\":\n",
    "    print(f\"Yes {ask} is among\")\n",
    "    if surname == 'obi':\n",
    "        print(f'Yes {surname} is valid')\n",
    "        print(f\"{surname} {ask} was with jesus\")\n",
    "    else:\n",
    "        print(\"not needed\")\n",
    "\n",
    "else:\n",
    "    print(f\"Opps! wrong name is given as {ask}\")"
   ]
  },
  {
   "cell_type": "code",
   "execution_count": null,
   "metadata": {},
   "outputs": [],
   "source": [
    "# Assignment\n",
    "\n",
    "\n",
    "# write a python program validation at least 3 steps of complete condtional statement\n",
    "# relating with comparison(relational) statement for your desire problem"
   ]
  },
  {
   "cell_type": "code",
   "execution_count": 8,
   "metadata": {},
   "outputs": [
    {
     "name": "stdout",
     "output_type": "stream",
     "text": [
      "0,3 are less values but 9 is wrong\n"
     ]
    }
   ],
   "source": [
    "A1 =2\n",
    "A2 =4\n",
    "A3 =5\n",
    "\n",
    "\n",
    "a1 = int(input(\"guess\"))\n",
    "a2 = int(input(\"guess\"))\n",
    "a3 = int(input(\"guess\"))\n",
    "\n",
    "if a1 < A1:\n",
    "    if a2 < A2:\n",
    "        if a3 < A3:\n",
    "            print(f'{a1},{a2},{a3} are less values \\n Thanks!')\n",
    "        else:\n",
    "            print(f'{a1},{a2} are less values but {a3} is wrong')\n",
    "    else:\n",
    "        print(f'{a1} is less value but {a2},{a3} are wrong')\n",
    "\n",
    "elif a1 == A1:\n",
    "    if a2 == A2:\n",
    "        if a3 == A3:\n",
    "            print(f'{a1},{a2},{a3} are exact values \\n Thanks! You are right')\n",
    "        else:\n",
    "            print(f'{a1},{a2} are exact values but {a3} is wrong')\n",
    "    else:\n",
    "        print(f'{a1} is exact value but {a2},{a3} are wrong')\n",
    "else:\n",
    "    if a2 > A2:\n",
    "        if a3 > A3:\n",
    "            print(f'{a1},{a2},{a3} are gretaer values \\n Thanks!')\n",
    "        else:\n",
    "            print(f'{a1},{a2} are greater values but {a3} is wrong')\n",
    "    else:\n",
    "        print(f'{a1} is greater value but {a2},{a3} are wrong')"
   ]
  },
  {
   "cell_type": "markdown",
   "metadata": {},
   "source": [
    "# PYTHON LOOPS"
   ]
  },
  {
   "cell_type": "code",
   "execution_count": null,
   "metadata": {},
   "outputs": [],
   "source": [
    "# For loop is used for sequential traversal(it is used for iterating\n",
    "# over an iterable like string,tuple,list,set and dictionary)"
   ]
  },
  {
   "cell_type": "code",
   "execution_count": 9,
   "metadata": {},
   "outputs": [
    {
     "name": "stdout",
     "output_type": "stream",
     "text": [
      "Tinubu\n",
      "Atiku\n",
      "P.Obi\n"
     ]
    }
   ],
   "source": [
    "A10 = [\"Tinubu\",\"Atiku\",\"P.Obi\"]\n",
    "\n",
    "for k in A10:\n",
    "    print(k)"
   ]
  },
  {
   "cell_type": "code",
   "execution_count": 10,
   "metadata": {},
   "outputs": [
    {
     "name": "stdout",
     "output_type": "stream",
     "text": [
      "The presidential candidate of FRN for 2023 election is Tinubu\n",
      "The presidential candidate of FRN for 2023 election is Atiku\n",
      "The presidential candidate of FRN for 2023 election is P.Obi\n"
     ]
    }
   ],
   "source": [
    "A10 = [\"Tinubu\",\"Atiku\",\"P.Obi\"]\n",
    "\n",
    "for k in A10:\n",
    "    print(\"The presidential candidate of FRN for 2023 election is\",k)"
   ]
  },
  {
   "cell_type": "code",
   "execution_count": 11,
   "metadata": {},
   "outputs": [
    {
     "name": "stdout",
     "output_type": "stream",
     "text": [
      "P\n",
      "r\n",
      "o\n",
      "g\n",
      "r\n",
      "a\n",
      "m\n",
      "m\n",
      "e\n",
      "r\n"
     ]
    }
   ],
   "source": [
    "A11 = \"Programmer\"\n",
    "\n",
    "for i in A11:\n",
    "    print(i)"
   ]
  },
  {
   "cell_type": "code",
   "execution_count": 12,
   "metadata": {},
   "outputs": [
    {
     "name": "stdout",
     "output_type": "stream",
     "text": [
      "0\n",
      "1\n",
      "2\n",
      "3\n",
      "4\n",
      "5\n",
      "6\n",
      "7\n",
      "8\n",
      "9\n"
     ]
    }
   ],
   "source": [
    "for i in range(10):\n",
    "    print(i)"
   ]
  },
  {
   "cell_type": "code",
   "execution_count": 15,
   "metadata": {},
   "outputs": [
    {
     "name": "stdout",
     "output_type": "stream",
     "text": [
      "15\n",
      "16\n",
      "17\n",
      "18\n",
      "19\n",
      "20\n",
      "21\n",
      "22\n",
      "23\n",
      "24\n",
      "25\n",
      "26\n",
      "27\n",
      "28\n",
      "29\n"
     ]
    }
   ],
   "source": [
    "for i in range(15,30):\n",
    "    print(i)"
   ]
  },
  {
   "cell_type": "code",
   "execution_count": 14,
   "metadata": {},
   "outputs": [
    {
     "name": "stdout",
     "output_type": "stream",
     "text": [
      "2\n",
      "6\n",
      "10\n",
      "14\n",
      "18\n"
     ]
    }
   ],
   "source": [
    "for i in range(2,20,4):\n",
    "    print(i)"
   ]
  },
  {
   "cell_type": "code",
   "execution_count": 17,
   "metadata": {},
   "outputs": [
    {
     "name": "stdout",
     "output_type": "stream",
     "text": [
      "8 x 1 = 8\n",
      "8 x 2 = 16\n",
      "8 x 3 = 24\n",
      "8 x 4 = 32\n",
      "8 x 5 = 40\n",
      "8 x 6 = 48\n",
      "8 x 7 = 56\n",
      "8 x 8 = 64\n",
      "8 x 9 = 72\n",
      "8 x 10 = 80\n",
      "8 x 11 = 88\n",
      "8 x 12 = 96\n",
      "8 x 13 = 104\n",
      "8 x 14 = 112\n"
     ]
    }
   ],
   "source": [
    "value = int(input(\"what is your desire table to get \\n\"))\n",
    "endpointVal = int(input(\"Set the endpoint for your value entered above \\n\"))\n",
    "\n",
    "for i in range(1,endpointVal):\n",
    "    print(f'{value} x {i} =',value*i)"
   ]
  },
  {
   "cell_type": "code",
   "execution_count": 23,
   "metadata": {},
   "outputs": [
    {
     "name": "stdout",
     "output_type": "stream",
     "text": [
      "234567889\n"
     ]
    }
   ],
   "source": [
    "val = int(input(\"enter a value \\n\"))\n",
    "sum = 0\n",
    "\n",
    "for i in range(1,val):\n",
    "    sum_ = sum + i\n",
    "print(sum_)"
   ]
  },
  {
   "cell_type": "code",
   "execution_count": 27,
   "metadata": {},
   "outputs": [
    {
     "name": "stdout",
     "output_type": "stream",
     "text": [
      "p\n",
      "y\n",
      "t\n",
      "h\n",
      "Rain is about to fall\n",
      "n\n"
     ]
    }
   ],
   "source": [
    "for i in \"python\":\n",
    "    if i == \"o\":\n",
    "        print(\"Rain is about to fall\")\n",
    "        continue\n",
    "    print(i)"
   ]
  },
  {
   "cell_type": "markdown",
   "metadata": {},
   "source": [
    "# While loop "
   ]
  },
  {
   "cell_type": "markdown",
   "metadata": {},
   "source": [
    "python while loop is used to execite a block of statement repeatedly util a given is satisfied."
   ]
  },
  {
   "cell_type": "code",
   "execution_count": 4,
   "metadata": {},
   "outputs": [
    {
     "name": "stdout",
     "output_type": "stream",
     "text": [
      "1 is know in th while loop\n",
      "2 is know in th while loop\n",
      "3 is know in th while loop\n",
      "4 is know in th while loop\n",
      "5 is know in th while loop\n"
     ]
    }
   ],
   "source": [
    "i = 0\n",
    "\n",
    "while i < 5:\n",
    "    i +=1\n",
    "    print(f\"{i} is know in th while loop\")"
   ]
  },
  {
   "cell_type": "code",
   "execution_count": 1,
   "metadata": {},
   "outputs": [
    {
     "name": "stdout",
     "output_type": "stream",
     "text": [
      "1\n",
      "2\n",
      "3\n",
      "4\n",
      "5\n",
      "6\n",
      "7\n",
      "8\n",
      "9\n"
     ]
    }
   ],
   "source": [
    "i = 1\n",
    "\n",
    "while i < 10:\n",
    "    print(i)\n",
    "    i +=1"
   ]
  },
  {
   "cell_type": "code",
   "execution_count": 5,
   "metadata": {},
   "outputs": [
    {
     "name": "stdout",
     "output_type": "stream",
     "text": [
      "54\n",
      "43\n",
      "32\n",
      "21\n",
      "11\n"
     ]
    }
   ],
   "source": [
    "a = [11,21,32,43,54]\n",
    "\n",
    "\n",
    "while a:\n",
    "    print(a.pop())"
   ]
  },
  {
   "cell_type": "code",
   "execution_count": 3,
   "metadata": {},
   "outputs": [
    {
     "name": "stdout",
     "output_type": "stream",
     "text": [
      "Hi! while loop 1\n",
      "Hi! while loop 2\n",
      "Hi! while loop 3\n",
      "Hi! while loop 4\n",
      "Hi! while loop 5\n",
      "Hi! while loop 6\n",
      "Hi! while loop 7\n",
      "Hi! while loop 8\n",
      "Hi! while loop 9\n",
      "Hi! while loop 10\n",
      "Hi! while loop 11\n"
     ]
    }
   ],
   "source": [
    "x = 0\n",
    "while x in range(0,11):\n",
    "    x = x+ 1\n",
    "    print(f\"Hi! while loop {x}\")"
   ]
  },
  {
   "cell_type": "code",
   "execution_count": 7,
   "metadata": {},
   "outputs": [
    {
     "name": "stdout",
     "output_type": "stream",
     "text": [
      "9\n",
      "8\n",
      "7\n",
      "6\n",
      "5\n",
      "4\n",
      "3\n",
      "2\n",
      "1\n"
     ]
    }
   ],
   "source": [
    "# Continue Statement \n",
    "\n",
    "i = 10\n",
    "\n",
    "while i > 1:\n",
    "    i -=1\n",
    "    print(i)\n",
    "    "
   ]
  },
  {
   "cell_type": "code",
   "execution_count": 2,
   "metadata": {},
   "outputs": [
    {
     "name": "stdout",
     "output_type": "stream",
     "text": [
      "2\n",
      "3\n",
      "4\n",
      "5\n",
      "6\n",
      "7\n",
      "8\n",
      "9\n",
      "10\n"
     ]
    }
   ],
   "source": [
    "# Continue Statement \n",
    "\n",
    "i = 1\n",
    "\n",
    "while i < 10:\n",
    "    print(i)\n",
    "    if i == 5:\n",
    "        i += 1\n",
    "        continue\n",
    "    i += 1"
   ]
  },
  {
   "cell_type": "code",
   "execution_count": 4,
   "metadata": {},
   "outputs": [
    {
     "name": "stdout",
     "output_type": "stream",
     "text": [
      "Current: P\n",
      "Current: y\n",
      "Current: t\n",
      "Current: h\n",
      "Current: o\n",
      "Current: n\n",
      "Current: W\n",
      "Current: h\n",
      "Current: Okay\n",
      "Current: l\n",
      "Current: e\n",
      "Current: Okay\n",
      "Current: o\n",
      "Current: o\n",
      "Current: p\n"
     ]
    }
   ],
   "source": [
    "i = 0\n",
    "a = \"PythonWhileLoop\"\n",
    "\n",
    "while i < len(a):\n",
    "    if a[i] == \"i\" or a[i] ==\"L\":\n",
    "        i += 1\n",
    "        print(\"Current: Okay\")\n",
    "        continue\n",
    "    print(\"Current:\",a[i])\n",
    "    i += 1"
   ]
  },
  {
   "cell_type": "code",
   "execution_count": 5,
   "metadata": {},
   "outputs": [
    {
     "name": "stdout",
     "output_type": "stream",
     "text": [
      "1\n",
      "2\n",
      "3\n",
      "4\n",
      "5\n"
     ]
    }
   ],
   "source": [
    "# Break statement\n",
    "\n",
    "\n",
    "i = 1\n",
    "\n",
    "while i < 10:\n",
    "    print(i)\n",
    "    if i == 5:\n",
    "        break\n",
    "    i += 1\n",
    "    "
   ]
  },
  {
   "cell_type": "code",
   "execution_count": 4,
   "metadata": {},
   "outputs": [
    {
     "name": "stdout",
     "output_type": "stream",
     "text": [
      "34 x 1 = 34\n",
      "34 x 2 = 68\n",
      "34 x 3 = 102\n",
      "34 x 4 = 136\n",
      "34 x 5 = 170\n",
      "34 x 6 = 204\n",
      "34 x 7 = 238\n",
      "34 x 8 = 272\n",
      "34 x 9 = 306\n",
      "34 x 10 = 340\n",
      "34 x 11 = 374\n",
      "34 x 12 = 408\n"
     ]
    }
   ],
   "source": [
    "num = int(input(\"Enter table\"))\n",
    "\n",
    "i = 1\n",
    "\n",
    "while i < 13:\n",
    "    prd = num * i\n",
    "    print(f\"{num} x {i} = {prd}\")\n",
    "    i += 1\n"
   ]
  },
  {
   "cell_type": "code",
   "execution_count": null,
   "metadata": {},
   "outputs": [],
   "source": [
    "i = 0\n",
    "\n",
    "a = [1,2,3,4,5,6,7,8,9,10]\n",
    "\n",
    "while i < len(a):\n",
    "    if a[i] == 2:\n",
    "        print(\"even\")\n",
    "    elif a[i] == 4:"
   ]
  },
  {
   "cell_type": "code",
   "execution_count": 5,
   "metadata": {},
   "outputs": [
    {
     "name": "stdout",
     "output_type": "stream",
     "text": [
      "1\n",
      "2\n",
      "3\n",
      "4\n",
      "5\n",
      "6\n",
      "7\n",
      "i is not value in 6 anymore\n"
     ]
    }
   ],
   "source": [
    "# else statement\n",
    "i = 1\n",
    "\n",
    "while i < 8:\n",
    "    print(i)\n",
    "    i += 1\n",
    "else:\n",
    "    print(\"i is not value in 6 anymore\")"
   ]
  },
  {
   "cell_type": "code",
   "execution_count": 6,
   "metadata": {},
   "outputs": [
    {
     "name": "stdout",
     "output_type": "stream",
     "text": [
      "1\n",
      "2\n",
      "3\n",
      "5\n",
      "6\n",
      "7\n",
      "i is not value in 6 anymore\n"
     ]
    }
   ],
   "source": [
    "# else statement\n",
    "i = 1\n",
    "\n",
    "while i < 8:\n",
    "    if i == 4:\n",
    "        i +=1\n",
    "        continue\n",
    "    print(i)\n",
    "    i += 1\n",
    "else:\n",
    "    print(\"i is not value in 6 anymore\")"
   ]
  },
  {
   "cell_type": "code",
   "execution_count": 7,
   "metadata": {},
   "outputs": [
    {
     "name": "stdout",
     "output_type": "stream",
     "text": [
      "1\n",
      "2\n",
      "3\n"
     ]
    }
   ],
   "source": [
    "# else statement\n",
    "i = 1\n",
    "\n",
    "while i < 8:\n",
    "    if i == 4:\n",
    "        i +=1\n",
    "        break\n",
    "    print(i)\n",
    "    i += 1\n",
    "else:\n",
    "    print(\"i is not value in 6 anymore\")"
   ]
  },
  {
   "cell_type": "code",
   "execution_count": 5,
   "metadata": {},
   "outputs": [
    {
     "name": "stdout",
     "output_type": "stream",
     "text": [
      "0\n",
      "2\n",
      "4\n",
      "6\n",
      "8\n"
     ]
    }
   ],
   "source": [
    "a = 0\n",
    "\n",
    "while a < 10:\n",
    "    print(a)\n",
    "    a += 2\n",
    "    "
   ]
  },
  {
   "cell_type": "code",
   "execution_count": 6,
   "metadata": {},
   "outputs": [
    {
     "name": "stdout",
     "output_type": "stream",
     "text": [
      "0\n",
      "1\n",
      "2\n",
      "3\n",
      "4\n",
      "5\n",
      "6\n",
      "7\n",
      "8\n",
      "9\n"
     ]
    }
   ],
   "source": [
    "for a in range(10):\n",
    "    print(a)"
   ]
  },
  {
   "cell_type": "markdown",
   "metadata": {},
   "source": [
    "# PYTHON FUNCTION"
   ]
  },
  {
   "cell_type": "markdown",
   "metadata": {},
   "source": [
    "A function in python is a block of code that can only run when it is called\n",
    "\n",
    "1. user define\n",
    "2. in built"
   ]
  },
  {
   "cell_type": "code",
   "execution_count": 12,
   "metadata": {},
   "outputs": [
    {
     "name": "stdout",
     "output_type": "stream",
     "text": [
      "Good Morning\n"
     ]
    }
   ],
   "source": [
    "def greet():\n",
    "    # statement of the function\n",
    "    a = \"Good Morning\"\n",
    "    print(a)\n",
    "\n",
    "# call back function\n",
    "greet()"
   ]
  },
  {
   "cell_type": "code",
   "execution_count": 14,
   "metadata": {},
   "outputs": [
    {
     "name": "stdout",
     "output_type": "stream",
     "text": [
      "800\n"
     ]
    }
   ],
   "source": [
    "def _sum():\n",
    "    a = 100+200+500\n",
    "    print(a)\n",
    "_sum()"
   ]
  },
  {
   "cell_type": "code",
   "execution_count": 16,
   "metadata": {},
   "outputs": [
    {
     "name": "stdout",
     "output_type": "stream",
     "text": [
      "Wow! its good to know that Feranmi is a devops\n"
     ]
    }
   ],
   "source": [
    "def add(a):\n",
    "\n",
    "    print(f\"Wow! its good to know that {a} is a devops\")\n",
    "\n",
    "add(\"Feranmi\")"
   ]
  },
  {
   "cell_type": "code",
   "execution_count": 17,
   "metadata": {},
   "outputs": [
    {
     "name": "stdout",
     "output_type": "stream",
     "text": [
      "Wow! its good to know that Victor is a devops\n"
     ]
    }
   ],
   "source": [
    "add(\"Victor\")"
   ]
  },
  {
   "cell_type": "code",
   "execution_count": 18,
   "metadata": {},
   "outputs": [
    {
     "name": "stdout",
     "output_type": "stream",
     "text": [
      "Wow! its good to know that Philp is a devops\n"
     ]
    }
   ],
   "source": [
    "add(\"Philp\")"
   ]
  },
  {
   "cell_type": "code",
   "execution_count": 22,
   "metadata": {},
   "outputs": [
    {
     "name": "stdout",
     "output_type": "stream",
     "text": [
      "Wow! its good to know that Feranmi is a devops\n",
      "Wow! its good to know that Ife is a lawyer\n"
     ]
    }
   ],
   "source": [
    "def add(a,b):\n",
    "\n",
    "    print(f\"Wow! its good to know that {a} is a {b}\")\n",
    "\n",
    "add(\"Feranmi\",\"devops\")\n",
    "add(\"Ife\",\"lawyer\")"
   ]
  },
  {
   "cell_type": "code",
   "execution_count": 20,
   "metadata": {},
   "outputs": [
    {
     "name": "stdout",
     "output_type": "stream",
     "text": [
      "Wow! its good to know that Gideon is a Manager\n"
     ]
    }
   ],
   "source": [
    "add(\"Gideon\",\"Manager\")"
   ]
  },
  {
   "cell_type": "code",
   "execution_count": 25,
   "metadata": {},
   "outputs": [
    {
     "name": "stdout",
     "output_type": "stream",
     "text": [
      "today is 31 day of 10 in the year2022 and i am 23 years old\n"
     ]
    }
   ],
   "source": [
    "def info(date,month,year,age):\n",
    "    print(f\"today is {date} day of {month} in the year{year} and i am {age} years old\")\n",
    "\n",
    "info(input(\"date\"),input(\"month\"),input(\"year\"),input(\"age\"))"
   ]
  },
  {
   "cell_type": "code",
   "execution_count": 26,
   "metadata": {},
   "outputs": [
    {
     "name": "stdout",
     "output_type": "stream",
     "text": [
      "today is 01 day of 11 in the year2022 and i am 23 years old\n"
     ]
    }
   ],
   "source": [
    "def info(date,month,year,age):\n",
    "    print(f\"today is {date} day of {month} in the year {year} and i am {age} years old\")\n",
    "a = input(\"date\")\n",
    "b = input(\"month\")\n",
    "c = input(\"year\")\n",
    "d =input(\"age\")\n",
    "info(a,b,c,d)"
   ]
  },
  {
   "cell_type": "code",
   "execution_count": 31,
   "metadata": {},
   "outputs": [
    {
     "name": "stdout",
     "output_type": "stream",
     "text": [
      "the sum of 12 and 33 is 45\n"
     ]
    }
   ],
   "source": [
    "def sub(b,a=12):\n",
    "    c = a + b\n",
    "    print(f\"the sum of {a} and {b} is {c}\")\n",
    "sub(33)"
   ]
  },
  {
   "cell_type": "code",
   "execution_count": 30,
   "metadata": {},
   "outputs": [
    {
     "name": "stdout",
     "output_type": "stream",
     "text": [
      "the sum of 42 and 33 is 75\n"
     ]
    }
   ],
   "source": [
    "sub(33,42)"
   ]
  },
  {
   "cell_type": "code",
   "execution_count": 7,
   "metadata": {},
   "outputs": [
    {
     "data": {
      "text/plain": [
       "49"
      ]
     },
     "execution_count": 7,
     "metadata": {},
     "output_type": "execute_result"
    }
   ],
   "source": [
    "7**2"
   ]
  },
  {
   "cell_type": "code",
   "execution_count": 33,
   "metadata": {},
   "outputs": [
    {
     "name": "stdout",
     "output_type": "stream",
     "text": [
      "101 is odd value\n"
     ]
    }
   ],
   "source": [
    "def checkOdd(num):\n",
    "    if num % 2 == 1:\n",
    "        print(f\"{num} is odd value\")\n",
    "    else:\n",
    "        print(f\"{num} is even value\")\n",
    "checkOdd(int(input(\"Enter a number to check\")))\n"
   ]
  },
  {
   "cell_type": "code",
   "execution_count": 42,
   "metadata": {},
   "outputs": [
    {
     "name": "stdout",
     "output_type": "stream",
     "text": [
      "Good Morning Feranmi\n",
      "Good Morning David\n",
      "Good Morning here\n"
     ]
    }
   ],
   "source": [
    "# Non keywarg *\n",
    "\n",
    "def greet(*a):\n",
    "    for i in a:\n",
    "    \n",
    "        print(f\"Good Morning {i}\")\n",
    "\n",
    "\n",
    "greet(\"Feranmi\",\"David\",\"here\")"
   ]
  },
  {
   "cell_type": "code",
   "execution_count": 9,
   "metadata": {},
   "outputs": [
    {
     "name": "stdout",
     "output_type": "stream",
     "text": [
      "Watch Match\n",
      "Eat Food\n",
      "Write Code\n",
      "Play game\n",
      "Sleep\n"
     ]
    }
   ],
   "source": [
    "import time\n",
    "def today(*list):\n",
    "\n",
    "    for i in list:\n",
    "        time.sleep(3)\n",
    "        print(i)\n",
    "today(\"Watch Match\",\"Eat Food\",\"Write Code\",\"Play game\",\"Sleep\")\n"
   ]
  },
  {
   "cell_type": "code",
   "execution_count": 10,
   "metadata": {},
   "outputs": [
    {
     "name": "stdout",
     "output_type": "stream",
     "text": [
      "your name is feranmi and age 12 years\n",
      "your name is ade and age 13 years\n"
     ]
    }
   ],
   "source": [
    "def info1(**a):\n",
    "    for i,k in a.items():\n",
    "        print(f\"your name is {i} and age {k} years\")\n",
    "info1(feranmi=\"12\",ade=\"13\",)\n"
   ]
  },
  {
   "cell_type": "code",
   "execution_count": 11,
   "metadata": {},
   "outputs": [
    {
     "data": {
      "text/plain": [
       "1.5545600658445458e-10"
      ]
     },
     "execution_count": 11,
     "metadata": {},
     "output_type": "execute_result"
    }
   ],
   "source": [
    "# Return statement in function\n",
    "\n",
    "def divide(num1,numb2):\n",
    "    result = 56* num1 / 23**numb2\n",
    "    return result\n",
    "\n",
    "divide(5,9)"
   ]
  },
  {
   "cell_type": "code",
   "execution_count": 13,
   "metadata": {},
   "outputs": [
    {
     "name": "stdout",
     "output_type": "stream",
     "text": [
      "base of 5678cm and height of 456cm is equal to 1294584.0cm²\n"
     ]
    }
   ],
   "source": [
    "def area_tri(base,height):\n",
    "    formula = 1/2 * base * height\n",
    "    print(f\"base of {base}cm and height of {height}cm is equal to {formula}cm²\")\n",
    "area_tri(int(input(\"Enter base\")),int(input(\"Enter height\")))"
   ]
  },
  {
   "cell_type": "code",
   "execution_count": 38,
   "metadata": {},
   "outputs": [
    {
     "name": "stdout",
     "output_type": "stream",
     "text": [
      "The perimter of tri. with 10,2,3,4 is 28.982753492378876\n"
     ]
    }
   ],
   "source": [
    "def perimeter_triangle(s,a,b,c):\n",
    "    formula = ((s*(s-a)*(s-b)*(s-c))**0.5)/2\n",
    "    print(f\"The perimter of tri. with {s},{a},{b},{c} is {formula}\")\n",
    "perimeter_triangle(10,2,3,4)"
   ]
  },
  {
   "cell_type": "code",
   "execution_count": 15,
   "metadata": {},
   "outputs": [
    {
     "name": "stdout",
     "output_type": "stream",
     "text": [
      "['Gideon', 'Christy', 'Abel', 'Greg']\n"
     ]
    }
   ],
   "source": [
    "# Pass By Reference\n",
    "\n",
    "def staff(name):\n",
    "    name[:3] = [\"Gideon\",\"Christy\",\"Abel\"]\n",
    "\n",
    "staff_list = [\"David\",\"Daniel\",\"Ogo\",\"Feranmi\"]\n",
    "new_staff_2023 = [\"Victor\",\"Philip\",\"Precious\",\"Greg\"]\n",
    "staff(new_staff_2023)\n",
    "\n",
    "print(new_staff_2023)"
   ]
  },
  {
   "cell_type": "code",
   "execution_count": 28,
   "metadata": {},
   "outputs": [
    {
     "name": "stdout",
     "output_type": "stream",
     "text": [
      "Today is good\n"
     ]
    }
   ],
   "source": [
    "# Nested Function\n",
    "\n",
    "def A1():\n",
    "    info = \"Today is good\"\n",
    "    def A2():\n",
    "        print(info)\n",
    "    return A2()\n",
    "A1()"
   ]
  },
  {
   "cell_type": "code",
   "execution_count": 32,
   "metadata": {},
   "outputs": [
    {
     "name": "stdout",
     "output_type": "stream",
     "text": [
      "Binary value is 110010\n"
     ]
    }
   ],
   "source": [
    "num = int(input(\"Enter a no to get the binary\\n\"))\n",
    "a = 0\n",
    "b = 1\n",
    "\n",
    "while num > 0:\n",
    "    rem = num%2\n",
    "    a += rem * b\n",
    "    b = b * 10\n",
    "    num = num//2\n",
    "print(\"Binary value is\",a)"
   ]
  },
  {
   "cell_type": "code",
   "execution_count": 29,
   "metadata": {},
   "outputs": [
    {
     "data": {
      "text/plain": [
       "0"
      ]
     },
     "execution_count": 29,
     "metadata": {},
     "output_type": "execute_result"
    }
   ],
   "source": [
    "20%2"
   ]
  },
  {
   "cell_type": "code",
   "execution_count": 8,
   "metadata": {},
   "outputs": [
    {
     "name": "stdout",
     "output_type": "stream",
     "text": [
      "['g', 'o', ',', 'h', 'e', 'r', 'e']\n"
     ]
    }
   ],
   "source": [
    "a = list(input(\"input\"))\n",
    "print(a)"
   ]
  },
  {
   "cell_type": "code",
   "execution_count": 11,
   "metadata": {},
   "outputs": [
    {
     "data": {
      "text/plain": [
       "[(10, 12)]"
      ]
     },
     "execution_count": 11,
     "metadata": {},
     "output_type": "execute_result"
    }
   ],
   "source": [
    "list1 = []\n",
    "a = int(input(\"no\"))\n",
    "b = int(input(\"no\"))\n",
    "c = a,b\n",
    "\n",
    "list1.append(c)\n",
    "list1"
   ]
  },
  {
   "cell_type": "markdown",
   "metadata": {},
   "source": [
    "# MODULES IN PYTHON"
   ]
  },
  {
   "cell_type": "markdown",
   "metadata": {},
   "source": [
    "A python module is a file containing python definitions and statement, function, classes and variables  "
   ]
  },
  {
   "cell_type": "markdown",
   "metadata": {},
   "source": [
    "from mod file extend the index of newcastle with the point to a new file and output the result"
   ]
  },
  {
   "cell_type": "code",
   "execution_count": 8,
   "metadata": {},
   "outputs": [
    {
     "name": "stdout",
     "output_type": "stream",
     "text": [
      "2\n"
     ]
    }
   ],
   "source": [
    "info ={\n",
    "    'clubs':['Arsernal','man city','Newcastle','Tottenham','United','Chelsea'],\n",
    "    'points':[34,32,27,26,23,21],\n",
    "    'age':16\n",
    "}\n",
    "\n",
    "# info['points'][2]\n",
    "a = [1,2]\n",
    "print(f'{a[1]}')"
   ]
  },
  {
   "cell_type": "code",
   "execution_count": 2,
   "metadata": {},
   "outputs": [
    {
     "data": {
      "text/plain": [
       "2"
      ]
     },
     "execution_count": 2,
     "metadata": {},
     "output_type": "execute_result"
    }
   ],
   "source": [
    "x = [1,2,3]\n",
    "x[1]"
   ]
  },
  {
   "cell_type": "markdown",
   "metadata": {},
   "source": [
    "# Exception Handling"
   ]
  },
  {
   "cell_type": "markdown",
   "metadata": {},
   "source": [
    "Error: Syntax error and Exceptions\n",
    "\n",
    "Exception are raised when some internal events occur which changes the normal flow of the program"
   ]
  },
  {
   "cell_type": "code",
   "execution_count": 10,
   "metadata": {},
   "outputs": [
    {
     "ename": "ZeroDivisionError",
     "evalue": "division by zero",
     "output_type": "error",
     "traceback": [
      "\u001b[1;31m---------------------------------------------------------------------------\u001b[0m",
      "\u001b[1;31mZeroDivisionError\u001b[0m                         Traceback (most recent call last)",
      "\u001b[1;32m<ipython-input-10-44bddf395978>\u001b[0m in \u001b[0;36m<module>\u001b[1;34m\u001b[0m\n\u001b[0;32m      1\u001b[0m \u001b[0mval\u001b[0m \u001b[1;33m=\u001b[0m \u001b[1;36m20\u001b[0m\u001b[1;33m\u001b[0m\u001b[1;33m\u001b[0m\u001b[0m\n\u001b[0;32m      2\u001b[0m \u001b[1;33m\u001b[0m\u001b[0m\n\u001b[1;32m----> 3\u001b[1;33m \u001b[0msum_\u001b[0m \u001b[1;33m=\u001b[0m \u001b[0mval\u001b[0m\u001b[1;33m/\u001b[0m\u001b[1;36m0\u001b[0m\u001b[1;33m\u001b[0m\u001b[1;33m\u001b[0m\u001b[0m\n\u001b[0m\u001b[0;32m      4\u001b[0m \u001b[0mprint\u001b[0m\u001b[1;33m(\u001b[0m\u001b[0msum_\u001b[0m\u001b[1;33m)\u001b[0m\u001b[1;33m\u001b[0m\u001b[1;33m\u001b[0m\u001b[0m\n",
      "\u001b[1;31mZeroDivisionError\u001b[0m: division by zero"
     ]
    }
   ],
   "source": [
    "val = 20\n",
    "\n",
    "sum_ = val/0\n",
    "print(sum_)"
   ]
  },
  {
   "cell_type": "code",
   "execution_count": 9,
   "metadata": {},
   "outputs": [
    {
     "ename": "SyntaxError",
     "evalue": "invalid syntax (<ipython-input-9-1e37f6b178cc>, line 3)",
     "output_type": "error",
     "traceback": [
      "\u001b[1;36m  File \u001b[1;32m\"<ipython-input-9-1e37f6b178cc>\"\u001b[1;36m, line \u001b[1;32m3\u001b[0m\n\u001b[1;33m    if (tag > 100)\u001b[0m\n\u001b[1;37m                  ^\u001b[0m\n\u001b[1;31mSyntaxError\u001b[0m\u001b[1;31m:\u001b[0m invalid syntax\n"
     ]
    }
   ],
   "source": [
    "# tag = 200\n",
    "\n",
    "# if (tag > 100)\n",
    "#     print(f\"{tag} is valid\")"
   ]
  },
  {
   "cell_type": "code",
   "execution_count": 12,
   "metadata": {},
   "outputs": [
    {
     "ename": "NameError",
     "evalue": "name 'a' is not defined",
     "output_type": "error",
     "traceback": [
      "\u001b[1;31m---------------------------------------------------------------------------\u001b[0m",
      "\u001b[1;31mNameError\u001b[0m                                 Traceback (most recent call last)",
      "\u001b[1;32m<ipython-input-12-66d84ec2b105>\u001b[0m in \u001b[0;36m<module>\u001b[1;34m\u001b[0m\n\u001b[1;32m----> 1\u001b[1;33m \u001b[0mprint\u001b[0m\u001b[1;33m(\u001b[0m\u001b[0ma\u001b[0m\u001b[1;33m,\u001b[0m\u001b[1;34m\"good\"\u001b[0m\u001b[1;33m)\u001b[0m\u001b[1;33m\u001b[0m\u001b[1;33m\u001b[0m\u001b[0m\n\u001b[0m",
      "\u001b[1;31mNameError\u001b[0m: name 'a' is not defined"
     ]
    }
   ],
   "source": [
    "print(a,\"good\")"
   ]
  },
  {
   "cell_type": "code",
   "execution_count": 13,
   "metadata": {},
   "outputs": [
    {
     "ename": "AttributeError",
     "evalue": "'tuple' object has no attribute 'insert'",
     "output_type": "error",
     "traceback": [
      "\u001b[1;31m---------------------------------------------------------------------------\u001b[0m",
      "\u001b[1;31mAttributeError\u001b[0m                            Traceback (most recent call last)",
      "\u001b[1;32m<ipython-input-13-ad8040aa97fb>\u001b[0m in \u001b[0;36m<module>\u001b[1;34m\u001b[0m\n\u001b[0;32m      1\u001b[0m \u001b[0ma\u001b[0m \u001b[1;33m=\u001b[0m \u001b[1;33m(\u001b[0m\u001b[1;36m1\u001b[0m\u001b[1;33m,\u001b[0m\u001b[1;36m2\u001b[0m\u001b[1;33m,\u001b[0m\u001b[1;36m3\u001b[0m\u001b[1;33m)\u001b[0m\u001b[1;33m\u001b[0m\u001b[1;33m\u001b[0m\u001b[0m\n\u001b[1;32m----> 2\u001b[1;33m \u001b[0ma\u001b[0m\u001b[1;33m.\u001b[0m\u001b[0minsert\u001b[0m\u001b[1;33m(\u001b[0m\u001b[1;36m5\u001b[0m\u001b[1;33m)\u001b[0m\u001b[1;33m\u001b[0m\u001b[1;33m\u001b[0m\u001b[0m\n\u001b[0m",
      "\u001b[1;31mAttributeError\u001b[0m: 'tuple' object has no attribute 'insert'"
     ]
    }
   ],
   "source": [
    "a = (1,2,3)\n",
    "a.insert(5)"
   ]
  },
  {
   "cell_type": "code",
   "execution_count": 14,
   "metadata": {},
   "outputs": [
    {
     "ename": "AttributeError",
     "evalue": "'list' object has no attribute 'items'",
     "output_type": "error",
     "traceback": [
      "\u001b[1;31m---------------------------------------------------------------------------\u001b[0m",
      "\u001b[1;31mAttributeError\u001b[0m                            Traceback (most recent call last)",
      "\u001b[1;32m<ipython-input-14-2943a91d92f4>\u001b[0m in \u001b[0;36m<module>\u001b[1;34m\u001b[0m\n\u001b[0;32m      1\u001b[0m \u001b[0mb\u001b[0m \u001b[1;33m=\u001b[0m \u001b[1;33m[\u001b[0m\u001b[1;36m3\u001b[0m\u001b[1;33m,\u001b[0m\u001b[1;36m4\u001b[0m\u001b[1;33m,\u001b[0m\u001b[1;36m5\u001b[0m\u001b[1;33m]\u001b[0m\u001b[1;33m\u001b[0m\u001b[1;33m\u001b[0m\u001b[0m\n\u001b[1;32m----> 2\u001b[1;33m \u001b[0mb\u001b[0m\u001b[1;33m.\u001b[0m\u001b[0mitems\u001b[0m\u001b[1;33m\u001b[0m\u001b[1;33m\u001b[0m\u001b[0m\n\u001b[0m",
      "\u001b[1;31mAttributeError\u001b[0m: 'list' object has no attribute 'items'"
     ]
    }
   ],
   "source": [
    "b = [3,4,5]\n",
    "b.items\n"
   ]
  },
  {
   "cell_type": "code",
   "execution_count": 16,
   "metadata": {},
   "outputs": [
    {
     "ename": "TypeError",
     "evalue": "pop expected at most 1 argument, got 2",
     "output_type": "error",
     "traceback": [
      "\u001b[1;31m---------------------------------------------------------------------------\u001b[0m",
      "\u001b[1;31mTypeError\u001b[0m                                 Traceback (most recent call last)",
      "\u001b[1;32m<ipython-input-16-f494f6be26bd>\u001b[0m in \u001b[0;36m<module>\u001b[1;34m\u001b[0m\n\u001b[0;32m      1\u001b[0m \u001b[0ma\u001b[0m \u001b[1;33m=\u001b[0m \u001b[1;33m[\u001b[0m\u001b[1;36m1\u001b[0m\u001b[1;33m,\u001b[0m\u001b[1;36m2\u001b[0m\u001b[1;33m,\u001b[0m\u001b[1;36m4\u001b[0m\u001b[1;33m]\u001b[0m\u001b[1;33m\u001b[0m\u001b[1;33m\u001b[0m\u001b[0m\n\u001b[1;32m----> 2\u001b[1;33m \u001b[0ma\u001b[0m\u001b[1;33m.\u001b[0m\u001b[0mpop\u001b[0m\u001b[1;33m(\u001b[0m\u001b[1;36m2\u001b[0m\u001b[1;33m,\u001b[0m\u001b[1;36m5\u001b[0m\u001b[1;33m)\u001b[0m\u001b[1;33m\u001b[0m\u001b[1;33m\u001b[0m\u001b[0m\n\u001b[0m",
      "\u001b[1;31mTypeError\u001b[0m: pop expected at most 1 argument, got 2"
     ]
    }
   ],
   "source": [
    "a = [1,2,4]\n",
    "a.pop(2,5)"
   ]
  },
  {
   "cell_type": "code",
   "execution_count": 17,
   "metadata": {},
   "outputs": [
    {
     "ename": "KeyError",
     "evalue": "'bc'",
     "output_type": "error",
     "traceback": [
      "\u001b[1;31m---------------------------------------------------------------------------\u001b[0m",
      "\u001b[1;31mKeyError\u001b[0m                                  Traceback (most recent call last)",
      "\u001b[1;32m<ipython-input-17-99e6e77429ac>\u001b[0m in \u001b[0;36m<module>\u001b[1;34m\u001b[0m\n\u001b[0;32m      4\u001b[0m }\n\u001b[0;32m      5\u001b[0m \u001b[1;33m\u001b[0m\u001b[0m\n\u001b[1;32m----> 6\u001b[1;33m \u001b[0mdb\u001b[0m\u001b[1;33m[\u001b[0m\u001b[1;34m'bc'\u001b[0m\u001b[1;33m]\u001b[0m\u001b[1;33m\u001b[0m\u001b[1;33m\u001b[0m\u001b[0m\n\u001b[0m",
      "\u001b[1;31mKeyError\u001b[0m: 'bc'"
     ]
    }
   ],
   "source": [
    "db = {\n",
    "    'a':'xy',\n",
    "    'b':'wz'\n",
    "}\n",
    "\n",
    "db['bc']"
   ]
  },
  {
   "cell_type": "code",
   "execution_count": 12,
   "metadata": {},
   "outputs": [
    {
     "name": "stdout",
     "output_type": "stream",
     "text": [
      "Today is a good day but i have eating till now\n"
     ]
    }
   ],
   "source": [
    "eating = 'eating'\n",
    "try:\n",
    "    print(f'Today is a good day but i have {eating} till now')\n",
    "except:\n",
    "    print(\"Opps there is error in try method\")"
   ]
  },
  {
   "cell_type": "code",
   "execution_count": 32,
   "metadata": {},
   "outputs": [
    {
     "name": "stdout",
     "output_type": "stream",
     "text": [
      "The second Value is Tinubu\n",
      "I dont know where the error is coming\n"
     ]
    }
   ],
   "source": [
    "val = [\"Peter Obi\",\"Tinubu\",\"Atiku\",\"kwankwaso\"]\n",
    "\n",
    "try:\n",
    "    print(f\"The second Value is {val[1]}\" )\n",
    "\n",
    "    print(f'The third value is {val[5]}' )\n",
    "except:\n",
    "    print(\"I dont know where the error is coming\")"
   ]
  },
  {
   "cell_type": "code",
   "execution_count": 28,
   "metadata": {},
   "outputs": [
    {
     "name": "stdout",
     "output_type": "stream",
     "text": [
      "1.2\n"
     ]
    }
   ],
   "source": [
    "# constructive output method\n",
    "\n",
    "## format\n",
    "\n",
    "a = 8\n",
    "print(f'{1.2}')"
   ]
  },
  {
   "cell_type": "code",
   "execution_count": 23,
   "metadata": {},
   "outputs": [
    {
     "name": "stdout",
     "output_type": "stream",
     "text": [
      "The value is 8\n"
     ]
    }
   ],
   "source": [
    "print('The value is {}'.format(a))"
   ]
  },
  {
   "cell_type": "code",
   "execution_count": 29,
   "metadata": {},
   "outputs": [
    {
     "name": "stdout",
     "output_type": "stream",
     "text": [
      "The value is 8\n"
     ]
    }
   ],
   "source": [
    "print(\"The value is %d\" %(a))"
   ]
  },
  {
   "cell_type": "code",
   "execution_count": 33,
   "metadata": {},
   "outputs": [
    {
     "name": "stdout",
     "output_type": "stream",
     "text": [
      "Either Feranmi or 12345 is not correct\n"
     ]
    }
   ],
   "source": [
    "# Catching Specfic Exception\n",
    "\n",
    "\n",
    "# Database\n",
    "\n",
    "Names = ['Benice','Victor','Brian','Peter']\n",
    "Passwords = ['benRich','vickor','tinubu','123Fisher']\n",
    "\n",
    "try:\n",
    "    username = input(\"Kindly enter your username\")\n",
    "    password = input(\"Kindly enter your password\")\n",
    "\n",
    "    if username in Names:\n",
    "        print(f'{username} is known')\n",
    "        if password in Passwords:\n",
    "            print(f'{username} and {password} verifiied')\n",
    "        else:\n",
    "            print(f'{password} is not known')\n",
    "    else:\n",
    "        print(f'Either {username} or {password} is not correct')\n",
    "except:\n",
    "    print(\"OOPS!\")"
   ]
  },
  {
   "cell_type": "code",
   "execution_count": 11,
   "metadata": {},
   "outputs": [
    {
     "name": "stdout",
     "output_type": "stream",
     "text": [
      "benice, always and benice123@niit.com is valid\n"
     ]
    }
   ],
   "source": [
    "# db\n",
    "\n",
    "database = {\n",
    "    'ifekeyz_':['12345','feranmi.micheal@gmail.com'],\n",
    "    'benice':['always','benice123@niit.com'],\n",
    "    'victor':['cool','victor@123']\n",
    "}\n",
    "\n",
    "\n",
    "username = input('Enter valid username')\n",
    "try:\n",
    "    if username in database:\n",
    "        password = input('Enter your password')\n",
    "        \n",
    "        if password in database[username][0]:\n",
    "            email = input('Enter your email address')\n",
    "            if email in database[username][1]:\n",
    "                print(f'{username}, {password} and {email} is valid')\n",
    "            else:\n",
    "                print('email is unknown')\n",
    "            \n",
    "        else:\n",
    "            print(f'Opps! incorrect password provided {password}')\n",
    "\n",
    "    else:\n",
    "        print('Opps! username not found')\n",
    "        pass\n",
    "\n",
    "except:\n",
    "    pass\n"
   ]
  },
  {
   "cell_type": "code",
   "execution_count": 27,
   "metadata": {},
   "outputs": [
    {
     "ename": "IndexError",
     "evalue": "list index out of range",
     "output_type": "error",
     "traceback": [
      "\u001b[1;31m---------------------------------------------------------------------------\u001b[0m",
      "\u001b[1;31mIndexError\u001b[0m                                Traceback (most recent call last)",
      "\u001b[1;32m<ipython-input-27-f38ed84768d0>\u001b[0m in \u001b[0;36m<module>\u001b[1;34m\u001b[0m\n\u001b[0;32m      1\u001b[0m \u001b[0mlist_\u001b[0m \u001b[1;33m=\u001b[0m \u001b[1;33m[\u001b[0m\u001b[1;36m1\u001b[0m\u001b[1;33m,\u001b[0m\u001b[1;36m2\u001b[0m\u001b[1;33m,\u001b[0m\u001b[1;36m3\u001b[0m\u001b[1;33m,\u001b[0m\u001b[1;36m4\u001b[0m\u001b[1;33m,\u001b[0m\u001b[1;36m5\u001b[0m\u001b[1;33m,\u001b[0m\u001b[1;36m6\u001b[0m\u001b[1;33m,\u001b[0m\u001b[1;36m7\u001b[0m\u001b[1;33m]\u001b[0m\u001b[1;33m\u001b[0m\u001b[1;33m\u001b[0m\u001b[0m\n\u001b[0;32m      2\u001b[0m \u001b[0mindex\u001b[0m \u001b[1;33m=\u001b[0m \u001b[0mlen\u001b[0m\u001b[1;33m(\u001b[0m\u001b[0mlist_\u001b[0m\u001b[1;33m)\u001b[0m\u001b[1;33m\u001b[0m\u001b[1;33m\u001b[0m\u001b[0m\n\u001b[1;32m----> 3\u001b[1;33m \u001b[0mlist_\u001b[0m\u001b[1;33m[\u001b[0m\u001b[0mindex\u001b[0m\u001b[1;33m]\u001b[0m\u001b[1;33m\u001b[0m\u001b[1;33m\u001b[0m\u001b[0m\n\u001b[0m\u001b[0;32m      4\u001b[0m \u001b[1;31m# index\u001b[0m\u001b[1;33m\u001b[0m\u001b[1;33m\u001b[0m\u001b[1;33m\u001b[0m\u001b[0m\n",
      "\u001b[1;31mIndexError\u001b[0m: list index out of range"
     ]
    }
   ],
   "source": [
    "list_ = [1,2,3,4,5,6,7]\n",
    "index = len(list_)\n",
    "list_[index]\n",
    "# index"
   ]
  },
  {
   "cell_type": "code",
   "execution_count": 26,
   "metadata": {},
   "outputs": [
    {
     "ename": "TypeError",
     "evalue": "list indices must be integers or slices, not str",
     "output_type": "error",
     "traceback": [
      "\u001b[1;31m---------------------------------------------------------------------------\u001b[0m",
      "\u001b[1;31mTypeError\u001b[0m                                 Traceback (most recent call last)",
      "\u001b[1;32m<ipython-input-26-db821ac71b40>\u001b[0m in \u001b[0;36m<module>\u001b[1;34m\u001b[0m\n\u001b[0;32m      1\u001b[0m \u001b[0mlist_\u001b[0m \u001b[1;33m=\u001b[0m \u001b[1;33m[\u001b[0m\u001b[1;36m1\u001b[0m\u001b[1;33m,\u001b[0m\u001b[1;36m2\u001b[0m\u001b[1;33m,\u001b[0m\u001b[1;36m3\u001b[0m\u001b[1;33m,\u001b[0m\u001b[1;36m4\u001b[0m\u001b[1;33m,\u001b[0m\u001b[1;36m5\u001b[0m\u001b[1;33m,\u001b[0m\u001b[1;36m6\u001b[0m\u001b[1;33m,\u001b[0m\u001b[1;36m7\u001b[0m\u001b[1;33m]\u001b[0m\u001b[1;33m\u001b[0m\u001b[1;33m\u001b[0m\u001b[0m\n\u001b[0;32m      2\u001b[0m \u001b[0mindex\u001b[0m \u001b[1;33m=\u001b[0m \u001b[1;34m'2'\u001b[0m\u001b[1;33m\u001b[0m\u001b[1;33m\u001b[0m\u001b[0m\n\u001b[1;32m----> 3\u001b[1;33m \u001b[0mlist_\u001b[0m\u001b[1;33m[\u001b[0m\u001b[0mindex\u001b[0m\u001b[1;33m]\u001b[0m\u001b[1;33m\u001b[0m\u001b[1;33m\u001b[0m\u001b[0m\n\u001b[0m\u001b[0;32m      4\u001b[0m \u001b[1;31m# index\u001b[0m\u001b[1;33m\u001b[0m\u001b[1;33m\u001b[0m\u001b[1;33m\u001b[0m\u001b[0m\n",
      "\u001b[1;31mTypeError\u001b[0m: list indices must be integers or slices, not str"
     ]
    }
   ],
   "source": [
    "list_ = [1,2,3,4,5,6,7]\n",
    "index = '2'\n",
    "list_[index]\n",
    "# index"
   ]
  },
  {
   "cell_type": "code",
   "execution_count": 29,
   "metadata": {},
   "outputs": [
    {
     "ename": "TypeError",
     "evalue": "'int' object is not iterable",
     "output_type": "error",
     "traceback": [
      "\u001b[1;31m---------------------------------------------------------------------------\u001b[0m",
      "\u001b[1;31mTypeError\u001b[0m                                 Traceback (most recent call last)",
      "\u001b[1;32m<ipython-input-29-8c5820e0e08d>\u001b[0m in \u001b[0;36m<module>\u001b[1;34m\u001b[0m\n\u001b[1;32m----> 1\u001b[1;33m \u001b[1;32mfor\u001b[0m \u001b[0ma\u001b[0m \u001b[1;32min\u001b[0m \u001b[1;36m200\u001b[0m\u001b[1;33m:\u001b[0m\u001b[1;33m\u001b[0m\u001b[1;33m\u001b[0m\u001b[0m\n\u001b[0m\u001b[0;32m      2\u001b[0m     \u001b[0mprint\u001b[0m\u001b[1;33m(\u001b[0m\u001b[0ma\u001b[0m\u001b[1;33m)\u001b[0m\u001b[1;33m\u001b[0m\u001b[1;33m\u001b[0m\u001b[0m\n",
      "\u001b[1;31mTypeError\u001b[0m: 'int' object is not iterable"
     ]
    }
   ],
   "source": [
    "for a in 200:\n",
    "    print(a)"
   ]
  },
  {
   "cell_type": "code",
   "execution_count": 36,
   "metadata": {},
   "outputs": [
    {
     "name": "stdout",
     "output_type": "stream",
     "text": [
      "76.66666666666667\n",
      "Error in else statement\n"
     ]
    }
   ],
   "source": [
    "try: \n",
    "    a = int(input(\"guess a no\"))\n",
    "    forumla = a * 100 / 30\n",
    "    print(forumla)\n",
    "except:\n",
    "    print(\"Opps! an error occured\")\n",
    "    a = int(input(\"guess a no\"))\n",
    "    forumla = a * 100 / 30\n",
    "    print(forumla)\n",
    "\n",
    "else:\n",
    "    print('Error in else statement')"
   ]
  },
  {
   "cell_type": "code",
   "execution_count": 43,
   "metadata": {},
   "outputs": [
    {
     "name": "stdout",
     "output_type": "stream",
     "text": [
      "else error\n"
     ]
    }
   ],
   "source": [
    "a = 10\n",
    "try:\n",
    "    if a == 1:\n",
    "        print(a)\n",
    "except:\n",
    "    if a == 6:\n",
    "        print(a,'error here')\n",
    "else:\n",
    "    print('else error')"
   ]
  },
  {
   "cell_type": "code",
   "execution_count": 39,
   "metadata": {},
   "outputs": [
    {
     "name": "stdout",
     "output_type": "stream",
     "text": [
      "10\n",
      "else error\n"
     ]
    }
   ],
   "source": [
    "a = 10\n",
    "try:\n",
    "   \n",
    "    print(a)\n",
    "except:\n",
    "    \n",
    "    print(a,'error here')\n",
    "else:\n",
    "    print('else error')"
   ]
  },
  {
   "cell_type": "code",
   "execution_count": 51,
   "metadata": {},
   "outputs": [
    {
     "name": "stdout",
     "output_type": "stream",
     "text": [
      "error\n"
     ]
    }
   ],
   "source": [
    "try:\n",
    "    print(today)\n",
    "except:\n",
    "    print('error')\n"
   ]
  },
  {
   "cell_type": "code",
   "execution_count": 52,
   "metadata": {},
   "outputs": [
    {
     "ename": "NameError",
     "evalue": "name 'today' is not defined",
     "output_type": "error",
     "traceback": [
      "\u001b[1;31m---------------------------------------------------------------------------\u001b[0m",
      "\u001b[1;31mNameError\u001b[0m                                 Traceback (most recent call last)",
      "\u001b[1;32m<ipython-input-52-e03cc8b789a0>\u001b[0m in \u001b[0;36m<module>\u001b[1;34m\u001b[0m\n\u001b[1;32m----> 1\u001b[1;33m \u001b[0mprint\u001b[0m\u001b[1;33m(\u001b[0m\u001b[0mtoday\u001b[0m\u001b[1;33m)\u001b[0m\u001b[1;33m\u001b[0m\u001b[1;33m\u001b[0m\u001b[0m\n\u001b[0m",
      "\u001b[1;31mNameError\u001b[0m: name 'today' is not defined"
     ]
    }
   ],
   "source": [
    "print(today)"
   ]
  },
  {
   "cell_type": "code",
   "execution_count": 56,
   "metadata": {},
   "outputs": [
    {
     "name": "stdout",
     "output_type": "stream",
     "text": [
      "error\n",
      "always run\n"
     ]
    }
   ],
   "source": [
    "try:\n",
    "    print(today)\n",
    "except:\n",
    "    print('error')\n",
    "finally:\n",
    "    print('always run')"
   ]
  },
  {
   "cell_type": "markdown",
   "metadata": {},
   "source": [
    "# Regular Expression (RegEx)"
   ]
  },
  {
   "cell_type": "markdown",
   "metadata": {},
   "source": [
    "a sequence of characters that define a search pattern, mainly for use in pattern matching with string."
   ]
  },
  {
   "cell_type": "markdown",
   "metadata": {},
   "source": [
    "RegEx Fuctions\n",
    "\n",
    "1. findall(Return a list containing all matches)\n",
    "\n",
    "2. search (Return a match object if there is a match in the string)\n",
    "\n",
    "3. split (Return a list where the string has been split at each match)\n",
    "\n",
    "4. sub (Replace one or many matches with a string)"
   ]
  },
  {
   "cell_type": "markdown",
   "metadata": {},
   "source": [
    "MetaCharacter\n",
    "\n",
    "1. [] A set of character\n",
    "\n",
    "2. \\ Signals a special sequence\n",
    "\n",
    "3. . Any character(except newline character)\n",
    "\n",
    "4. ^ Starts with\n",
    "\n",
    "5. $ Ends with\n",
    "\n",
    "6. | Either or \n",
    "\n",
    "7. ()  capture and group"
   ]
  },
  {
   "cell_type": "markdown",
   "metadata": {},
   "source": [
    "Special Sequence \\\n",
    "\n",
    "1. A Return a match if the specified chracters are at the begining of the string\n",
    "\n",
    "2. b return at the begining or the end\n",
    "3. d returns numbers\n",
    "4. B return special value position but not as A and b\n",
    "5. S doest not include white space character\n",
    "6. s include white space character\n"
   ]
  },
  {
   "cell_type": "code",
   "execution_count": 57,
   "metadata": {},
   "outputs": [
    {
     "data": {
      "text/plain": [
       "<module 're' from 'C:\\\\Users\\\\Ifekeyz\\\\anaconda3\\\\lib\\\\re.py'>"
      ]
     },
     "execution_count": 57,
     "metadata": {},
     "output_type": "execute_result"
    }
   ],
   "source": [
    "import re\n",
    "\n",
    "re"
   ]
  },
  {
   "cell_type": "code",
   "execution_count": 60,
   "metadata": {},
   "outputs": [
    {
     "name": "stdout",
     "output_type": "stream",
     "text": [
      "['d', 'a', 'a', 'g', 'd', 'd', 'a']\n"
     ]
    }
   ],
   "source": [
    "import re\n",
    "\n",
    "value = \"Today is a good day\"\n",
    "\n",
    "ass = re.findall(\"[a-g]\",value)\n",
    "print(ass)"
   ]
  },
  {
   "cell_type": "code",
   "execution_count": 64,
   "metadata": {},
   "outputs": [
    {
     "name": "stdout",
     "output_type": "stream",
     "text": [
      "['good day']\n"
     ]
    }
   ],
   "source": [
    "import re\n",
    "\n",
    "value = \"Today is a good day\"\n",
    "\n",
    "ass = re.findall(\"good day\",value)\n",
    "print(ass)"
   ]
  },
  {
   "cell_type": "code",
   "execution_count": 75,
   "metadata": {},
   "outputs": [
    {
     "name": "stdout",
     "output_type": "stream",
     "text": [
      "[] is not the first\n"
     ]
    }
   ],
   "source": [
    "new = \"Python is great to learn in 2023\"\n",
    "\n",
    "val = re.findall('\\Apt', new)\n",
    "\n",
    "if val:\n",
    "    print(f\"{val} is the first charcter in the sequence\")\n",
    "else:\n",
    "    print(f'{val} is not the first')"
   ]
  },
  {
   "cell_type": "code",
   "execution_count": 78,
   "metadata": {},
   "outputs": [
    {
     "name": "stdout",
     "output_type": "stream",
     "text": [
      "['2', '0', '2', '3'] is the first charcter in the sequence\n"
     ]
    }
   ],
   "source": [
    "new = \"Python is great to learn in 2023\"\n",
    "\n",
    "val = re.findall('\\d', new)\n",
    "\n",
    "if val:\n",
    "    print(f\"{val} is the first charcter in the sequence\")\n",
    "else:\n",
    "    print(f'{val} is not the first')"
   ]
  },
  {
   "cell_type": "code",
   "execution_count": 82,
   "metadata": {},
   "outputs": [
    {
     "name": "stdout",
     "output_type": "stream",
     "text": [
      "[] is not the first\n"
     ]
    }
   ],
   "source": [
    "new = \"Python is great to learn in 2023 yes we known\"\n",
    "\n",
    "val = re.findall('\\bPy', new)\n",
    "\n",
    "if val:\n",
    "    print(f\"{val} is the first charcter in the sequence\")\n",
    "else:\n",
    "    print(f'{val} is not the first')"
   ]
  },
  {
   "cell_type": "code",
   "execution_count": 11,
   "metadata": {},
   "outputs": [
    {
     "name": "stdout",
     "output_type": "stream",
     "text": [
      "[]\n"
     ]
    }
   ],
   "source": [
    "import re\n",
    "\n",
    "statement = \"Hello from jack$niit.com to nancy@niit.com about the meeting @ 4 Pm\"\n",
    "\n",
    "email = re.findall('\\S+$\\S+', statement)\n",
    "print(email)"
   ]
  },
  {
   "cell_type": "code",
   "execution_count": 15,
   "metadata": {},
   "outputs": [
    {
     "name": "stdout",
     "output_type": "stream",
     "text": [
      "fer12@yahoo com is not valid email address\n"
     ]
    }
   ],
   "source": [
    "# email address validation\n",
    "email_val = \"[A-Za-z0-9._-]+@[A-Za-z0-9._-]+\\.[A-Za-z]\"\n",
    "\n",
    "def check_email(email):\n",
    "    if(re.search(email_val,email)):\n",
    "        print(f'{email} is a valid email address')\n",
    "    else:\n",
    "        print(f'{email} is not valid email address')\n",
    "check_email(input(\"Enter an email address\"))"
   ]
  },
  {
   "cell_type": "code",
   "execution_count": 19,
   "metadata": {},
   "outputs": [
    {
     "name": "stdout",
     "output_type": "stream",
     "text": [
      "✅\n"
     ]
    }
   ],
   "source": [
    "# password validation\n",
    "\n",
    "password = input(\"Please give a pswr with at least 6 characters\")\n",
    "\n",
    "if len(re.findall(\"[A-Za-z0-9.+@#$%?=]\",password))==6:\n",
    "    print('✅')\n",
    "else:\n",
    "    print('❌')"
   ]
  },
  {
   "cell_type": "markdown",
   "metadata": {},
   "source": [
    "# Networking"
   ]
  },
  {
   "cell_type": "code",
   "execution_count": 2,
   "metadata": {},
   "outputs": [
    {
     "ename": "TypeError",
     "evalue": "a bytes-like object is required, not 'str'",
     "output_type": "error",
     "traceback": [
      "\u001b[1;31m---------------------------------------------------------------------------\u001b[0m",
      "\u001b[1;31mTypeError\u001b[0m                                 Traceback (most recent call last)",
      "\u001b[1;32m<ipython-input-2-dd5cb7df5567>\u001b[0m in \u001b[0;36m<module>\u001b[1;34m\u001b[0m\n\u001b[0;32m      4\u001b[0m \u001b[1;33m\u001b[0m\u001b[0m\n\u001b[0;32m      5\u001b[0m \u001b[0mmysock\u001b[0m\u001b[1;33m.\u001b[0m\u001b[0mconnect\u001b[0m\u001b[1;33m(\u001b[0m\u001b[1;33m(\u001b[0m\u001b[1;34m'www.py4inf.com'\u001b[0m\u001b[1;33m,\u001b[0m\u001b[1;36m80\u001b[0m\u001b[1;33m)\u001b[0m\u001b[1;33m)\u001b[0m\u001b[1;33m\u001b[0m\u001b[1;33m\u001b[0m\u001b[0m\n\u001b[1;32m----> 6\u001b[1;33m \u001b[0mmysock\u001b[0m\u001b[1;33m.\u001b[0m\u001b[0msend\u001b[0m\u001b[1;33m(\u001b[0m\u001b[1;34m'GEThttp://www.py4inf.com/code/remeo.txtHTTP/1.0\\n\\n'\u001b[0m\u001b[1;33m)\u001b[0m\u001b[1;33m\u001b[0m\u001b[1;33m\u001b[0m\u001b[0m\n\u001b[0m\u001b[0;32m      7\u001b[0m \u001b[1;32mwhile\u001b[0m \u001b[1;32mTrue\u001b[0m\u001b[1;33m:\u001b[0m\u001b[1;33m\u001b[0m\u001b[1;33m\u001b[0m\u001b[0m\n\u001b[0;32m      8\u001b[0m     \u001b[0mdata\u001b[0m \u001b[1;33m=\u001b[0m \u001b[0mmysock\u001b[0m\u001b[1;33m.\u001b[0m\u001b[0mrecv\u001b[0m\u001b[1;33m(\u001b[0m\u001b[1;36m512\u001b[0m\u001b[1;33m)\u001b[0m\u001b[1;33m\u001b[0m\u001b[1;33m\u001b[0m\u001b[0m\n",
      "\u001b[1;31mTypeError\u001b[0m: a bytes-like object is required, not 'str'"
     ]
    }
   ],
   "source": [
    "import socket\n",
    "\n",
    "mysock = socket.socket(socket.AF_INET,socket.SOCK_STREAM)\n",
    "\n",
    "mysock.connect(('www.py4inf.com',80))\n",
    "mysock.send('GEThttp://www.py4inf.com/code/remeo.txtHTTP/1.0\\n\\n')\n",
    "while True:\n",
    "    data = mysock.recv(512)\n",
    "    if(len(data)<1):\n",
    "        break\n",
    "    print(data)\n",
    "mysock.close()"
   ]
  },
  {
   "cell_type": "code",
   "execution_count": 12,
   "metadata": {},
   "outputs": [
    {
     "name": "stdout",
     "output_type": "stream",
     "text": [
      "Socket successfully created \n",
      " <socket.socket fd=940, family=AddressFamily.AF_INET, type=SocketKind.SOCK_STREAM, proto=0>\n",
      "Socket binded to 2022\n",
      "Socket is listening\n"
     ]
    }
   ],
   "source": [
    "import socket\n",
    "\n",
    "s = socket.socket()\n",
    "print(\"Socket successfully created \\n\",s)\n",
    "\n",
    "port = 2022\n",
    "\n",
    "s.bind(('',port))\n",
    "print(f\"Socket binded to {port}\")\n",
    "\n",
    "# TCP\n",
    "s.listen(1)\n",
    "print(\"Socket is listening\")\n"
   ]
  },
  {
   "cell_type": "markdown",
   "metadata": {},
   "source": [
    "# python OOP"
   ]
  },
  {
   "cell_type": "markdown",
   "metadata": {},
   "source": [
    "class is a user-defined data type(it consits of data members and member functions)"
   ]
  },
  {
   "cell_type": "code",
   "execution_count": 15,
   "metadata": {},
   "outputs": [
    {
     "name": "stdout",
     "output_type": "stream",
     "text": [
      "Ekuke 5\n",
      "Yes ekuke can sleep\n"
     ]
    }
   ],
   "source": [
    "class Dog1:\n",
    "    #  attributes of a class\n",
    "    name = \"Ekuke\"\n",
    "    age = 5\n",
    "\n",
    "    # method\n",
    "    def sleep(self):\n",
    "        print('Yes ekuke can sleep')\n",
    "\n",
    "ekuke = Dog1() # object of a class\n",
    "dog = Dog1() # object of a class\n",
    "print(dog.name,dog.age)\n",
    "dog.sleep()\n"
   ]
  },
  {
   "cell_type": "code",
   "execution_count": 16,
   "metadata": {},
   "outputs": [],
   "source": [
    "class USA:\n",
    "    president = \"Joe Biden\"\n",
    "    speciality = \"client base country \"\n",
    "    economy = 'Very good'\n",
    "    security = 'very good'\n",
    "\n",
    "    def war(self):\n",
    "        weapon = \"Nuclear\"\n",
    "        print(f'{weapon} is their best instrument of the year')\n",
    "    \n",
    "    def manufacture(self):\n",
    "        print('What a country with productivity ideas')\n",
    "\n",
    "\n",
    "class Nigeria:\n",
    "    president = \"M.Buhari\"\n",
    "    speciality = \"nothing\"\n",
    "    economy = \"worst\"\n",
    "    security = \"inexistent\"\n",
    "\n",
    "    def war(self):\n",
    "        weapon = \"Cutlass\"\n",
    "        print(f'{weapon} is their best instrument of the year')\n",
    "    \n",
    "    def manufacture(self):\n",
    "        print('What a country with zero ideas')"
   ]
  },
  {
   "cell_type": "code",
   "execution_count": 18,
   "metadata": {},
   "outputs": [
    {
     "data": {
      "text/plain": [
       "'Very good'"
      ]
     },
     "execution_count": 18,
     "metadata": {},
     "output_type": "execute_result"
    }
   ],
   "source": [
    "usa = USA()\n",
    "usa.economy"
   ]
  },
  {
   "cell_type": "code",
   "execution_count": 19,
   "metadata": {},
   "outputs": [
    {
     "name": "stdout",
     "output_type": "stream",
     "text": [
      "Nuclear is their best instrument of the year\n"
     ]
    }
   ],
   "source": [
    "usa.war()"
   ]
  },
  {
   "cell_type": "code",
   "execution_count": 20,
   "metadata": {},
   "outputs": [
    {
     "name": "stdout",
     "output_type": "stream",
     "text": [
      "Cutlass is their best instrument of the year\n"
     ]
    }
   ],
   "source": [
    "ng = Nigeria()\n",
    "ng.war()"
   ]
  },
  {
   "cell_type": "code",
   "execution_count": 23,
   "metadata": {},
   "outputs": [],
   "source": [
    "# constructor\n",
    "\n",
    "class School():\n",
    "    rank = \"first state technology in Nigeria\"\n",
    "\n",
    "    # constructor\n",
    "    def __init__(self,faculty):\n",
    "        self.name = faculty\n",
    "        \n",
    "\n",
    "    def Lautech(self):\n",
    "        print(\"Oops! it play\") \n",
    "\n",
    "    def Unilag(self):\n",
    "        print(\"Oops! it club\") \n",
    "\n",
    "    def Uniben(self):\n",
    "        print(\"Oops! it all\") "
   ]
  },
  {
   "cell_type": "code",
   "execution_count": 25,
   "metadata": {},
   "outputs": [
    {
     "data": {
      "text/plain": [
       "'LAUTECH'"
      ]
     },
     "execution_count": 25,
     "metadata": {},
     "output_type": "execute_result"
    }
   ],
   "source": [
    "lautech = School(\"LAUTECH\")\n",
    "lautech.name"
   ]
  },
  {
   "cell_type": "code",
   "execution_count": 26,
   "metadata": {},
   "outputs": [
    {
     "data": {
      "text/plain": [
       "'UNILAG'"
      ]
     },
     "execution_count": 26,
     "metadata": {},
     "output_type": "execute_result"
    }
   ],
   "source": [
    "unilag = School(\"UNILAG\")\n",
    "unilag.name"
   ]
  },
  {
   "cell_type": "code",
   "execution_count": 27,
   "metadata": {},
   "outputs": [
    {
     "data": {
      "text/plain": [
       "'UNIBEN'"
      ]
     },
     "execution_count": 27,
     "metadata": {},
     "output_type": "execute_result"
    }
   ],
   "source": [
    "uniben = School(\"UNIBEN\")\n",
    "uniben.name"
   ]
  },
  {
   "cell_type": "code",
   "execution_count": 29,
   "metadata": {},
   "outputs": [
    {
     "ename": "AttributeError",
     "evalue": "'School' object has no attribute 'Lautech'",
     "output_type": "error",
     "traceback": [
      "\u001b[1;31m---------------------------------------------------------------------------\u001b[0m",
      "\u001b[1;31mAttributeError\u001b[0m                            Traceback (most recent call last)",
      "\u001b[1;32m<ipython-input-29-0b79caf4e218>\u001b[0m in \u001b[0;36m<module>\u001b[1;34m\u001b[0m\n\u001b[1;32m----> 1\u001b[1;33m \u001b[0mlautech\u001b[0m\u001b[1;33m.\u001b[0m\u001b[0mLautech\u001b[0m\u001b[1;33m(\u001b[0m\u001b[1;33m)\u001b[0m\u001b[1;33m\u001b[0m\u001b[1;33m\u001b[0m\u001b[0m\n\u001b[0m",
      "\u001b[1;31mAttributeError\u001b[0m: 'School' object has no attribute 'Lautech'"
     ]
    }
   ],
   "source": [
    "lautech.Lautech()"
   ]
  },
  {
   "cell_type": "code",
   "execution_count": 22,
   "metadata": {},
   "outputs": [
    {
     "data": {
      "text/plain": [
       "3"
      ]
     },
     "execution_count": 22,
     "metadata": {},
     "output_type": "execute_result"
    }
   ],
   "source": [
    "def a(name):\n",
    "    return name\n",
    "a(3)"
   ]
  },
  {
   "cell_type": "markdown",
   "metadata": {},
   "source": [
    "# Inheritance"
   ]
  },
  {
   "cell_type": "code",
   "execution_count": 1,
   "metadata": {},
   "outputs": [
    {
     "data": {
      "text/plain": [
       "'Dear Feranmi your ID is NIIT2022SWD and your Post is Software Developer'"
      ]
     },
     "execution_count": 1,
     "metadata": {},
     "output_type": "execute_result"
    }
   ],
   "source": [
    "class Company:\n",
    "    def __init__(self,name,idnumber):\n",
    "        self.name = name\n",
    "        # self.qualification = \"First class\"\n",
    "        self.idnumber = idnumber\n",
    "        \n",
    "\n",
    "    def display(self):\n",
    "        return self.name, self.idnumber\n",
    "\n",
    "\n",
    "class Employee(Company):\n",
    "    def __init__(self,name,idnumber,salary,post):\n",
    "        self.salary = salary\n",
    "        self.post = post\n",
    "\n",
    "        # Company.__init__(self,name,idnumber)\n",
    "\n",
    "    def details(self):\n",
    "        return f'Dear {self.name} your ID is {self.idnumber} and your Post is {self.post}'\n",
    "\n",
    "emp1 = Employee(\"Feranmi\",\"NIIT2022SWD\",20000,\"Software Developer\")\n",
    "emp2 = Employee(\"Victor\",\"NIIT2022DGM\",10000,\"Digital Marketer\")\n",
    "emp1.details()\n",
    "\n",
    "\n",
    "\n",
    "\n"
   ]
  },
  {
   "cell_type": "code",
   "execution_count": 2,
   "metadata": {},
   "outputs": [
    {
     "data": {
      "text/plain": [
       "('Victor', 'NIIT2022DGM')"
      ]
     },
     "execution_count": 2,
     "metadata": {},
     "output_type": "execute_result"
    }
   ],
   "source": [
    "emp2.display()"
   ]
  },
  {
   "cell_type": "code",
   "execution_count": 2,
   "metadata": {},
   "outputs": [
    {
     "ename": "NameError",
     "evalue": "name 'b' is not defined",
     "output_type": "error",
     "traceback": [
      "\u001b[1;31m---------------------------------------------------------------------------\u001b[0m",
      "\u001b[1;31mNameError\u001b[0m                                 Traceback (most recent call last)",
      "\u001b[1;32m<ipython-input-2-f7ae53f6490b>\u001b[0m in \u001b[0;36m<module>\u001b[1;34m\u001b[0m\n\u001b[0;32m      1\u001b[0m \u001b[0ma\u001b[0m \u001b[1;33m=\u001b[0m \u001b[1;36m5\u001b[0m\u001b[1;33m\u001b[0m\u001b[1;33m\u001b[0m\u001b[0m\n\u001b[0;32m      2\u001b[0m \u001b[1;33m\u001b[0m\u001b[0m\n\u001b[1;32m----> 3\u001b[1;33m \u001b[0mprint\u001b[0m\u001b[1;33m(\u001b[0m\u001b[0mb\u001b[0m\u001b[1;33m,\u001b[0m\u001b[0ma\u001b[0m\u001b[1;33m)\u001b[0m\u001b[1;33m\u001b[0m\u001b[1;33m\u001b[0m\u001b[0m\n\u001b[0m\u001b[0;32m      4\u001b[0m \u001b[0mb\u001b[0m\u001b[1;33m=\u001b[0m\u001b[1;36m4\u001b[0m\u001b[1;33m\u001b[0m\u001b[1;33m\u001b[0m\u001b[0m\n",
      "\u001b[1;31mNameError\u001b[0m: name 'b' is not defined"
     ]
    }
   ],
   "source": [
    "a = 5\n",
    "\n",
    "print(b,a)\n",
    "b =4"
   ]
  },
  {
   "cell_type": "code",
   "execution_count": 9,
   "metadata": {},
   "outputs": [
    {
     "data": {
      "text/plain": [
       "True"
      ]
     },
     "execution_count": 9,
     "metadata": {},
     "output_type": "execute_result"
    }
   ],
   "source": [
    "class Coach:\n",
    "    def __init__(self,name):\n",
    "        self.name = name\n",
    "\n",
    "    def getName(self):\n",
    "        return f\"{self.name} is the coach of the year\"\n",
    "\n",
    "    def isSuperStar(self):\n",
    "        return False\n",
    "\n",
    "class Player(Coach):\n",
    "\n",
    "    def isSuperStar(self):\n",
    "        return True\n",
    "\n",
    "ch = Coach(\"Pep G.\")\n",
    "# ch.name\n",
    "# ch.getName()\n",
    "# ch.isSuperStar()\n",
    "ply = Player(\"Messi\")\n",
    "ply.isSuperStar()"
   ]
  },
  {
   "cell_type": "code",
   "execution_count": 11,
   "metadata": {},
   "outputs": [
    {
     "data": {
      "text/plain": [
       "'Opps! now i am blesse with Lautech from Daddy and $40k from Pappy'"
      ]
     },
     "execution_count": 11,
     "metadata": {},
     "output_type": "execute_result"
    }
   ],
   "source": [
    "# when a child class inherits from multiple parent classes\n",
    "\n",
    "class Father:\n",
    "\n",
    "    def __init__(self):\n",
    "        self.education = \"Lautech\"\n",
    "        return self.education\n",
    "    \n",
    "class StepFather:\n",
    "\n",
    "    def __init__(self):\n",
    "        self.money = \"$40k\"\n",
    "        return self.money\n",
    "\n",
    "class Son(Father, StepFather):\n",
    "\n",
    "    def __init__(self):\n",
    "\n",
    "        Father.__init__(self)\n",
    "        StepFather.__init__(self)\n",
    "\n",
    "\n",
    "    def myReward(self):\n",
    "        return f\"Opps! now i am blesse with {self.education} from Daddy and {self.money} from Pappy\"\n",
    "    \n",
    "feranmi = Son()\n",
    "feranmi.myReward()\n"
   ]
  },
  {
   "cell_type": "code",
   "execution_count": 14,
   "metadata": {},
   "outputs": [
    {
     "data": {
      "text/plain": [
       "'Benz has 200mph speeed and mileage of 190'"
      ]
     },
     "execution_count": 14,
     "metadata": {},
     "output_type": "execute_result"
    }
   ],
   "source": [
    "class vehicle:\n",
    "    def __init__(self,brand,max_speed, mileage):\n",
    "        self.max_speed = max_speed\n",
    "        self.mileage = mileage\n",
    "        self.brand = brand\n",
    "\n",
    "    def seating_capacity(self,capacity):\n",
    "        f\"The seating capacity of {self.brand} is {self.capacity} seat\"\n",
    "\n",
    "    def ouput(self):\n",
    "        return f\"{self.brand} has {self.max_speed} speeed and mileage of {self.mileage}\"\n",
    "\n",
    "modelX = vehicle(\"Benz\",\"200mph\",190)\n",
    "modelX.ouput()"
   ]
  },
  {
   "cell_type": "code",
   "execution_count": 17,
   "metadata": {},
   "outputs": [],
   "source": [
    "class vehicle:\n",
    "    def __init__(self,brand,max_speed, mileage):\n",
    "        self.max_speed = max_speed\n",
    "        self.mileage = mileage\n",
    "        self.brand = brand\n",
    "\n",
    "    def seating_capacity(self,capacity):\n",
    "        f\"The seating capacity of {self.brand} is {self.capacity} seat\"\n",
    "\n",
    "\n",
    "class Bus(vehicle):\n",
    "    def seating_capacity(self,capacity=50):\n",
    "        self.capacity = capacity\n",
    "        f\"The seating capacity of {self.brand} is {self.capacity} seat\"\n",
    "\n",
    "\n",
    "School_bus = Bus(\"coaster\",180,24)\n",
    "School_bus.seating_capacity()"
   ]
  },
  {
   "cell_type": "code",
   "execution_count": null,
   "metadata": {},
   "outputs": [],
   "source": [
    "# Class Project"
   ]
  },
  {
   "cell_type": "markdown",
   "metadata": {},
   "source": [
    "# Multi-Level inHeritance"
   ]
  },
  {
   "cell_type": "markdown",
   "metadata": {},
   "source": [
    "enables a derived class to inherit properties from an immediate parent class which in turn inherits properties from his paraent class"
   ]
  },
  {
   "cell_type": "code",
   "execution_count": 12,
   "metadata": {},
   "outputs": [],
   "source": [
    "\n",
    "class micky:\n",
    "    \n",
    "    def __init__(self,name,knowledge):\n",
    "        self.name = \"michelle\"\n",
    "        self.knowledge = \"100%\"\n",
    "\n",
    "    def isSuperStar(self):\n",
    "        return True\n",
    "class clever(micky):\n",
    "\n",
    "    def __init__(self,name,knowledge):\n",
    "        self.name = \"Emmanuel\"\n",
    "        self.knowledge = \"70%\"\n",
    "    \n",
    "\n",
    "    def isSuperStart(self):\n",
    "        return f\"Opps! he has a level 0f {self.knowledge}\"\n",
    "\n",
    "\n",
    "\n",
    "class ifekeyz(clever):\n",
    "    def __init__(self,name,knowledge):\n",
    "        self.name = name\n",
    "        self.knowledge = knowledge\n",
    "    \n",
    "\n",
    "    def isSuperStart(self):\n",
    "        \n",
    "        return f\"Opps! he has a level 0f {self.knowledge}\"\n",
    "    "
   ]
  },
  {
   "cell_type": "code",
   "execution_count": 13,
   "metadata": {},
   "outputs": [
    {
     "data": {
      "text/plain": [
       "'Opps! he has a level 0f 0%'"
      ]
     },
     "execution_count": 13,
     "metadata": {},
     "output_type": "execute_result"
    }
   ],
   "source": [
    "obj = ifekeyz(\"Feranmi\",\"0%\")\n",
    "obj.isSuperStart()"
   ]
  },
  {
   "cell_type": "code",
   "execution_count": 18,
   "metadata": {},
   "outputs": [
    {
     "name": "stdout",
     "output_type": "stream",
     "text": [
      "This method is in parent class\n",
      "Tinubu Ashiwaju\n"
     ]
    }
   ],
   "source": [
    "class Parent:\n",
    "    def speciality(self):\n",
    "        print(\"This method is in parent class\")\n",
    "\n",
    "class child1(Parent):\n",
    "    def name1(self):\n",
    "        print(\"Barak Obama\")\n",
    "\n",
    "class child2(Parent):\n",
    "    def name2(self):\n",
    "        print(\"Peter Obi\")\n",
    "\n",
    "class child3(Parent):\n",
    "    def name3(self):\n",
    "        print(\"Tinubu Ashiwaju\")\n",
    "\n",
    "chld1 = child1()\n",
    "chld2 = child2()\n",
    "chld3 = child3()\n",
    "\n",
    "chld3.speciality()\n",
    "chld3.name3()\n",
    "\n",
    "\n"
   ]
  },
  {
   "cell_type": "code",
   "execution_count": 20,
   "metadata": {},
   "outputs": [],
   "source": [
    "class Polygon:\n",
    "    def __init__(self, no_of_sides):\n",
    "        self.n = no_of_sides\n",
    "        self.sides = [\n",
    "            0 for i in range(no_of_sides)\n",
    "        ]\n",
    "\n",
    "    def inputSides(self):\n",
    "        self.sides = [\n",
    "            float(input(\"Enter side\"+ str(i+1)+\":\" )) for i in range(self.n)\n",
    "        ]\n",
    "\n",
    "    def display(self):\n",
    "        for i in range(self.n):\n",
    "            print(\"Side\",i+1,self.sides[i])\n",
    "\n",
    "class Triangle(Polygon):\n",
    "    def __init__(self):\n",
    "        Polygon.__init__(self,3)\n",
    "\n",
    "    def findArea(self):\n",
    "        a,b,c = self.sides\n",
    "        # cal the area of triangle\n",
    "        s = (a+b+c)/2\n",
    "        area = (s*(s-a)*(s-b)*(s-c))**0.5\n",
    "        print(f\"The area of the triangle is {area}\")\n",
    "        \n",
    "\n",
    "class Pentagon(Polygon):\n",
    "    def __init__(self):\n",
    "        Polygon.__init__(self,5)\n",
    "\n",
    "    def findArea(self):\n",
    "        a,b,c,d,e = self.sides\n",
    "        # cal the area of pentagon\n",
    "        s = (a+b+c+d+e)/2\n",
    "        area = (s*(s-a)*(s-b)*(s-c))**0.5\n",
    "        print(f\"The area of the pentagon is {area}\")\n",
    "\n"
   ]
  },
  {
   "cell_type": "code",
   "execution_count": 23,
   "metadata": {},
   "outputs": [
    {
     "name": "stdout",
     "output_type": "stream",
     "text": [
      "Side 1 4.0\n",
      "Side 2 7.0\n",
      "Side 3 3.0\n"
     ]
    }
   ],
   "source": [
    "triangle = Triangle()\n",
    "triangle.inputSides()\n",
    "triangle.display()\n"
   ]
  },
  {
   "cell_type": "code",
   "execution_count": 24,
   "metadata": {},
   "outputs": [
    {
     "name": "stdout",
     "output_type": "stream",
     "text": [
      "The area of the triangle is 0.0\n"
     ]
    }
   ],
   "source": [
    "triangle.findArea()"
   ]
  },
  {
   "cell_type": "code",
   "execution_count": 21,
   "metadata": {},
   "outputs": [
    {
     "name": "stdout",
     "output_type": "stream",
     "text": [
      "Side 1 6.0\n",
      "Side 2 7.0\n",
      "Side 3 8.0\n",
      "Side 4 8.0\n",
      "Side 5 4.0\n"
     ]
    }
   ],
   "source": [
    "pentagon = Pentagon()\n",
    "pentagon.inputSides()\n",
    "pentagon.display()"
   ]
  },
  {
   "cell_type": "code",
   "execution_count": 22,
   "metadata": {},
   "outputs": [
    {
     "name": "stdout",
     "output_type": "stream",
     "text": [
      "The area of the pentagon is 118.27906619516405\n"
     ]
    }
   ],
   "source": [
    "pentagon.findArea()"
   ]
  },
  {
   "cell_type": "code",
   "execution_count": 29,
   "metadata": {},
   "outputs": [
    {
     "data": {
      "text/plain": [
       "160"
      ]
     },
     "execution_count": 29,
     "metadata": {},
     "output_type": "execute_result"
    }
   ],
   "source": [
    "import random\n",
    "\n",
    "\n",
    "x = random.randint(20,200)\n",
    "x"
   ]
  },
  {
   "cell_type": "code",
   "execution_count": 36,
   "metadata": {},
   "outputs": [],
   "source": [
    "# Game Project\n",
    "\n",
    "import random\n",
    "from math import *\n",
    "import time\n",
    "\n",
    "class Game:\n",
    "    def __init__(self,val1,val2,ans):\n",
    "        self.val1 = val1\n",
    "        self.val2 = val2\n",
    "        self.ans = ans\n",
    "\n",
    "class Player(Game):\n",
    "    def __init__(self):\n",
    "        x= random.randint(2034,301233)\n",
    "        y = random.randint(212,300)\n",
    "        z = x+y\n",
    "        Game.__init__(self,val1=x,val2=y,ans=z)\n",
    "\n",
    "    def playNow(self):\n",
    "        x = int(input(f\"Supply the sum of {self.val1} and {self.val2}\"))\n",
    "        \n",
    "        if x == self.ans:\n",
    "            return f\"Wow! you are correct {self.val1} and {self.val2} = {self.ans}\"\n",
    "        else:\n",
    "            return f\"Oops! what an incorrect supply {x}\"\n",
    "\n",
    "\n",
    "\n"
   ]
  },
  {
   "cell_type": "code",
   "execution_count": 37,
   "metadata": {},
   "outputs": [],
   "source": [
    "play = Player()\n"
   ]
  },
  {
   "cell_type": "code",
   "execution_count": 38,
   "metadata": {},
   "outputs": [
    {
     "data": {
      "text/plain": [
       "'Oops! what an incorrect supply 90'"
      ]
     },
     "execution_count": 38,
     "metadata": {},
     "output_type": "execute_result"
    }
   ],
   "source": [
    "play.playNow()"
   ]
  },
  {
   "cell_type": "markdown",
   "metadata": {},
   "source": [
    "# Encapsulation"
   ]
  },
  {
   "cell_type": "markdown",
   "metadata": {},
   "source": [
    "it describes the idea of wrapping data and the methods directly within one unit"
   ]
  },
  {
   "cell_type": "code",
   "execution_count": 11,
   "metadata": {},
   "outputs": [
    {
     "name": "stdout",
     "output_type": "stream",
     "text": [
      "Finance gave a report of $200000 at the end of year 2022\n",
      "from Audit dept.\n",
      " We notice $6866666.666666667 in finance report.\n"
     ]
    }
   ],
   "source": [
    "class Finance:\n",
    "    def __init__(self):\n",
    "        # protected data\n",
    "        self.capital = 1000000\n",
    "        self.mainBalance = 200000\n",
    "\n",
    "class Audit(Finance):\n",
    "    def __init__(self):\n",
    "        Finance.__init__(self)\n",
    "        assignment = self.capital - self.mainBalance\n",
    "        final_audit = assignment\n",
    "        self.mainBalance = self.mainBalance + assignment / 0.12\n",
    "\n",
    "audit = Audit()\n",
    "finance = Finance()\n",
    "\n",
    "print(f\"Finance gave a report of ${finance.mainBalance} at the end of year 2022\")\n",
    "print(f\"from Audit dept.\\n We notice ${audit.mainBalance} in finance report.\")\n",
    "\n"
   ]
  },
  {
   "cell_type": "markdown",
   "metadata": {},
   "source": [
    "# Polymorphism"
   ]
  },
  {
   "cell_type": "markdown",
   "metadata": {},
   "source": [
    "means having many forms(function name but differnt signatures)"
   ]
  },
  {
   "cell_type": "code",
   "execution_count": 12,
   "metadata": {},
   "outputs": [
    {
     "data": {
      "text/plain": [
       "410"
      ]
     },
     "execution_count": 12,
     "metadata": {},
     "output_type": "execute_result"
    }
   ],
   "source": [
    "def add(x,y,z=0):\n",
    "    return 20*x+y+z\n",
    "\n",
    "add(20,10)"
   ]
  },
  {
   "cell_type": "code",
   "execution_count": 13,
   "metadata": {},
   "outputs": [
    {
     "data": {
      "text/plain": [
       "440"
      ]
     },
     "execution_count": 13,
     "metadata": {},
     "output_type": "execute_result"
    }
   ],
   "source": [
    "add(20,10,30)"
   ]
  },
  {
   "cell_type": "code",
   "execution_count": null,
   "metadata": {},
   "outputs": [],
   "source": [
    "class Messi:\n",
    "    def realGoat(self):\n",
    "        pass\n",
    "\n",
    "    def country(self):\n",
    "        pass\n",
    "\n",
    "    def worldCup(self):\n",
    "        pass\n",
    "\n",
    "class Ronaldo:\n",
    "    def realGoat(self):\n",
    "        pass\n",
    "\n",
    "    def country(self):\n",
    "        pass\n",
    "\n",
    "    def worldCup(self):\n",
    "        pass\n",
    "\n",
    "is_messi = Messi()\n",
    "is_ronaldo = Ronaldo()\n",
    "\n",
    "for item in (is_messi,is_ronaldo):\n",
    "    item.realGoat()\n",
    "    item.country()\n",
    "    item.worldCup()\n",
    "\n"
   ]
  },
  {
   "cell_type": "markdown",
   "metadata": {},
   "source": [
    "# DATA ABSTRACTION"
   ]
  },
  {
   "cell_type": "markdown",
   "metadata": {},
   "source": [
    "Process of handling complexity by hiding unnecessary information from the user"
   ]
  },
  {
   "cell_type": "code",
   "execution_count": 3,
   "metadata": {},
   "outputs": [
    {
     "ename": "TypeError",
     "evalue": "Can't instantiate abstract class Polygon with abstract methods noofsides",
     "output_type": "error",
     "traceback": [
      "\u001b[1;31m---------------------------------------------------------------------------\u001b[0m",
      "\u001b[1;31mTypeError\u001b[0m                                 Traceback (most recent call last)",
      "\u001b[1;32m<ipython-input-3-936f3ddafc0d>\u001b[0m in \u001b[0;36m<module>\u001b[1;34m\u001b[0m\n\u001b[0;32m     15\u001b[0m         \u001b[1;32mreturn\u001b[0m \u001b[1;34mf\"I have 6 sides\"\u001b[0m\u001b[1;33m\u001b[0m\u001b[1;33m\u001b[0m\u001b[0m\n\u001b[0;32m     16\u001b[0m \u001b[1;33m\u001b[0m\u001b[0m\n\u001b[1;32m---> 17\u001b[1;33m \u001b[0mT\u001b[0m \u001b[1;33m=\u001b[0m \u001b[0mPolygon\u001b[0m\u001b[1;33m(\u001b[0m\u001b[1;33m)\u001b[0m\u001b[1;33m\u001b[0m\u001b[1;33m\u001b[0m\u001b[0m\n\u001b[0m\u001b[0;32m     18\u001b[0m \u001b[0mT\u001b[0m\u001b[1;33m.\u001b[0m\u001b[0mnoofsides\u001b[0m\u001b[1;33m(\u001b[0m\u001b[1;33m)\u001b[0m\u001b[1;33m\u001b[0m\u001b[1;33m\u001b[0m\u001b[0m\n",
      "\u001b[1;31mTypeError\u001b[0m: Can't instantiate abstract class Polygon with abstract methods noofsides"
     ]
    }
   ],
   "source": [
    "from abc import ABC, abstractmethod\n",
    "\n",
    "class Polygon(ABC):\n",
    "\n",
    "    @abstractmethod\n",
    "    def noofsides(self):\n",
    "        return f\"Polygon has its sides from 3 upwards\"\n",
    "\n",
    "class Triangle(Polygon):\n",
    "    def noofsides(self):\n",
    "        return f\"I have 3 sides\"\n",
    "\n",
    "class Hexagon(Polygon):\n",
    "    def noofsides(self):\n",
    "        return f\"I have 6 sides\"\n",
    "\n",
    "T = Polygon()\n",
    "T.noofsides()"
   ]
  },
  {
   "cell_type": "markdown",
   "metadata": {},
   "source": [
    "GUI(Tkinter)"
   ]
  },
  {
   "cell_type": "code",
   "execution_count": 1,
   "metadata": {},
   "outputs": [],
   "source": [
    "import tkinter as tk"
   ]
  },
  {
   "cell_type": "code",
   "execution_count": 1,
   "metadata": {},
   "outputs": [],
   "source": [
    "from tkinter import *\n",
    "\n",
    "\n",
    "# main window\n",
    "gui = Tk()\n",
    "gui.title(\"Project X\")\n",
    "\n",
    "gui.mainloop()"
   ]
  },
  {
   "cell_type": "code",
   "execution_count": 5,
   "metadata": {},
   "outputs": [],
   "source": [
    "from tkinter import *\n",
    "\n",
    "\n",
    "# main window\n",
    "gui = Tk()\n",
    "gui.title(\"Project X\")\n",
    "\n",
    "button = Button(gui, text=\"Smoke\", width=50)\n",
    "button.pack()\n",
    "\n",
    "\n",
    "gui.mainloop()"
   ]
  },
  {
   "cell_type": "code",
   "execution_count": 7,
   "metadata": {},
   "outputs": [
    {
     "ename": "TclError",
     "evalue": "wrong # coordinates: expected an even number, got 1",
     "output_type": "error",
     "traceback": [
      "\u001b[1;31m---------------------------------------------------------------------------\u001b[0m",
      "\u001b[1;31mTclError\u001b[0m                                  Traceback (most recent call last)",
      "\u001b[1;32m<ipython-input-7-756ae0ff0acb>\u001b[0m in \u001b[0;36m<module>\u001b[1;34m\u001b[0m\n\u001b[0;32m     12\u001b[0m \u001b[0mcanvas_width\u001b[0m \u001b[1;33m=\u001b[0m \u001b[1;36m130\u001b[0m\u001b[1;33m\u001b[0m\u001b[1;33m\u001b[0m\u001b[0m\n\u001b[0;32m     13\u001b[0m \u001b[1;33m\u001b[0m\u001b[0m\n\u001b[1;32m---> 14\u001b[1;33m \u001b[0mcanvas\u001b[0m\u001b[1;33m.\u001b[0m\u001b[0mcreate_line\u001b[0m\u001b[1;33m(\u001b[0m\u001b[1;36m0\u001b[0m\u001b[1;33m)\u001b[0m\u001b[1;33m\u001b[0m\u001b[1;33m\u001b[0m\u001b[0m\n\u001b[0m\u001b[0;32m     15\u001b[0m \u001b[0mgui\u001b[0m\u001b[1;33m.\u001b[0m\u001b[0mmainloop\u001b[0m\u001b[1;33m(\u001b[0m\u001b[1;33m)\u001b[0m\u001b[1;33m\u001b[0m\u001b[1;33m\u001b[0m\u001b[0m\n",
      "\u001b[1;32m~\\anaconda3\\lib\\tkinter\\__init__.py\u001b[0m in \u001b[0;36mcreate_line\u001b[1;34m(self, *args, **kw)\u001b[0m\n\u001b[0;32m   2792\u001b[0m     \u001b[1;32mdef\u001b[0m \u001b[0mcreate_line\u001b[0m\u001b[1;33m(\u001b[0m\u001b[0mself\u001b[0m\u001b[1;33m,\u001b[0m \u001b[1;33m*\u001b[0m\u001b[0margs\u001b[0m\u001b[1;33m,\u001b[0m \u001b[1;33m**\u001b[0m\u001b[0mkw\u001b[0m\u001b[1;33m)\u001b[0m\u001b[1;33m:\u001b[0m\u001b[1;33m\u001b[0m\u001b[1;33m\u001b[0m\u001b[0m\n\u001b[0;32m   2793\u001b[0m         \u001b[1;34m\"\"\"Create line with coordinates x1,y1,...,xn,yn.\"\"\"\u001b[0m\u001b[1;33m\u001b[0m\u001b[1;33m\u001b[0m\u001b[0m\n\u001b[1;32m-> 2794\u001b[1;33m         \u001b[1;32mreturn\u001b[0m \u001b[0mself\u001b[0m\u001b[1;33m.\u001b[0m\u001b[0m_create\u001b[0m\u001b[1;33m(\u001b[0m\u001b[1;34m'line'\u001b[0m\u001b[1;33m,\u001b[0m \u001b[0margs\u001b[0m\u001b[1;33m,\u001b[0m \u001b[0mkw\u001b[0m\u001b[1;33m)\u001b[0m\u001b[1;33m\u001b[0m\u001b[1;33m\u001b[0m\u001b[0m\n\u001b[0m\u001b[0;32m   2795\u001b[0m \u001b[1;33m\u001b[0m\u001b[0m\n\u001b[0;32m   2796\u001b[0m     \u001b[1;32mdef\u001b[0m \u001b[0mcreate_oval\u001b[0m\u001b[1;33m(\u001b[0m\u001b[0mself\u001b[0m\u001b[1;33m,\u001b[0m \u001b[1;33m*\u001b[0m\u001b[0margs\u001b[0m\u001b[1;33m,\u001b[0m \u001b[1;33m**\u001b[0m\u001b[0mkw\u001b[0m\u001b[1;33m)\u001b[0m\u001b[1;33m:\u001b[0m\u001b[1;33m\u001b[0m\u001b[1;33m\u001b[0m\u001b[0m\n",
      "\u001b[1;32m~\\anaconda3\\lib\\tkinter\\__init__.py\u001b[0m in \u001b[0;36m_create\u001b[1;34m(self, itemType, args, kw)\u001b[0m\n\u001b[0;32m   2774\u001b[0m         \u001b[1;32melse\u001b[0m\u001b[1;33m:\u001b[0m\u001b[1;33m\u001b[0m\u001b[1;33m\u001b[0m\u001b[0m\n\u001b[0;32m   2775\u001b[0m             \u001b[0mcnf\u001b[0m \u001b[1;33m=\u001b[0m \u001b[1;33m{\u001b[0m\u001b[1;33m}\u001b[0m\u001b[1;33m\u001b[0m\u001b[1;33m\u001b[0m\u001b[0m\n\u001b[1;32m-> 2776\u001b[1;33m         return self.tk.getint(self.tk.call(\n\u001b[0m\u001b[0;32m   2777\u001b[0m             \u001b[0mself\u001b[0m\u001b[1;33m.\u001b[0m\u001b[0m_w\u001b[0m\u001b[1;33m,\u001b[0m \u001b[1;34m'create'\u001b[0m\u001b[1;33m,\u001b[0m \u001b[0mitemType\u001b[0m\u001b[1;33m,\u001b[0m\u001b[1;33m\u001b[0m\u001b[1;33m\u001b[0m\u001b[0m\n\u001b[0;32m   2778\u001b[0m             *(args + self._options(cnf, kw))))\n",
      "\u001b[1;31mTclError\u001b[0m: wrong # coordinates: expected an even number, got 1"
     ]
    }
   ],
   "source": [
    "from tkinter import *\n",
    "\n",
    "\n",
    "# main window\n",
    "gui = Tk()\n",
    "gui.title(\"Project X\")\n",
    "\n",
    "canvas = Canvas(gui, height=60, width=50)\n",
    "canvas.pack()\n",
    "\n",
    "canvas_height = 20\n",
    "canvas_width = 130\n",
    "\n",
    "canvas.create_line()\n",
    "gui.mainloop()"
   ]
  },
  {
   "cell_type": "code",
   "execution_count": 4,
   "metadata": {},
   "outputs": [],
   "source": [
    "from tkinter import *\n",
    "\n",
    "\n",
    "# main window\n",
    "gui = Tk()\n",
    "gui.title(\"Project X\")\n",
    "# value1 = IntVar()\n",
    "\n",
    "cbtn1 = Checkbutton(gui,text=\"male\").grid(row=0)\n",
    "cbtn2 = Checkbutton(gui,text=\"female\").grid(row=1)\n",
    "\n",
    "\n",
    "\n",
    "gui.mainloop()"
   ]
  },
  {
   "cell_type": "code",
   "execution_count": 3,
   "metadata": {},
   "outputs": [],
   "source": [
    "from tkinter import *\n",
    "\n",
    "\n",
    "# main window\n",
    "gui = Tk()\n",
    "gui.title(\"Project X\")\n",
    "# value1 = IntVar()\n",
    "\n",
    "cbtn1 = Checkbutton(gui,text=\"male\").grid(row=0,column=1)\n",
    "cbtn2 = Checkbutton(gui,text=\"female\").grid(row=1, column=2)\n",
    "\n",
    "\n",
    "\n",
    "gui.mainloop()"
   ]
  },
  {
   "cell_type": "code",
   "execution_count": 2,
   "metadata": {},
   "outputs": [],
   "source": [
    "from tkinter import *\n",
    "\n",
    "\n",
    "# main window\n",
    "gui = Tk()\n",
    "gui.title(\"Project X\")\n",
    "\n",
    "entry1 = Label(gui, text=\"Name\").grid(row=0)\n",
    "entry2 = Label(gui, text=\"Course\").grid(row=1)\n",
    "entry3 = Label(gui, text=\"Amount\").grid(row=2)\n",
    "\n",
    "e1 = Entry(gui).grid(row=0, column=1)\n",
    "e2 = Entry(gui).grid(row=1, column=1)\n",
    "e3 = Entry(gui).grid(row=2, column=1)\n",
    "\n",
    "gui.mainloop()"
   ]
  },
  {
   "cell_type": "code",
   "execution_count": 10,
   "metadata": {},
   "outputs": [
    {
     "ename": "KeyboardInterrupt",
     "evalue": "",
     "output_type": "error",
     "traceback": [
      "\u001b[1;31m---------------------------------------------------------------------------\u001b[0m",
      "\u001b[1;31mKeyboardInterrupt\u001b[0m                         Traceback (most recent call last)",
      "Cell \u001b[1;32mIn [10], line 6\u001b[0m\n\u001b[0;32m      3\u001b[0m gui\u001b[38;5;241m.\u001b[39mtitle(\u001b[38;5;124m\"\u001b[39m\u001b[38;5;124mProject X\u001b[39m\u001b[38;5;124m\"\u001b[39m)\n\u001b[0;32m      5\u001b[0m butt \u001b[38;5;241m=\u001b[39m Button(gui, text\u001b[38;5;241m=\u001b[39m\u001b[38;5;124m\"\u001b[39m\u001b[38;5;124mNational ID Form\u001b[39m\u001b[38;5;124m\"\u001b[39m)\u001b[38;5;241m.\u001b[39mpack()\n\u001b[1;32m----> 6\u001b[0m \u001b[43mgui\u001b[49m\u001b[38;5;241;43m.\u001b[39;49m\u001b[43mmainloop\u001b[49m\u001b[43m(\u001b[49m\u001b[43m)\u001b[49m\n",
      "File \u001b[1;32mc:\\Users\\user\\AppData\\Local\\Programs\\Python\\Python311\\Lib\\tkinter\\__init__.py:1485\u001b[0m, in \u001b[0;36mMisc.mainloop\u001b[1;34m(self, n)\u001b[0m\n\u001b[0;32m   1483\u001b[0m \u001b[39mdef\u001b[39;00m \u001b[39mmainloop\u001b[39m(\u001b[39mself\u001b[39m, n\u001b[39m=\u001b[39m\u001b[39m0\u001b[39m):\n\u001b[0;32m   1484\u001b[0m     \u001b[39m\"\"\"Call the mainloop of Tk.\"\"\"\u001b[39;00m\n\u001b[1;32m-> 1485\u001b[0m     \u001b[39mself\u001b[39;49m\u001b[39m.\u001b[39;49mtk\u001b[39m.\u001b[39;49mmainloop(n)\n",
      "File \u001b[1;32mc:\\Users\\user\\AppData\\Local\\Programs\\Python\\Python311\\Lib\\tkinter\\__init__.py:1943\u001b[0m, in \u001b[0;36mCallWrapper.__call__\u001b[1;34m(self, *args)\u001b[0m\n\u001b[0;32m   1940\u001b[0m     \u001b[39mself\u001b[39m\u001b[39m.\u001b[39msubst \u001b[39m=\u001b[39m subst\n\u001b[0;32m   1941\u001b[0m     \u001b[39mself\u001b[39m\u001b[39m.\u001b[39mwidget \u001b[39m=\u001b[39m widget\n\u001b[1;32m-> 1943\u001b[0m \u001b[39mdef\u001b[39;00m \u001b[39m__call__\u001b[39m(\u001b[39mself\u001b[39m, \u001b[39m*\u001b[39margs):\n\u001b[0;32m   1944\u001b[0m     \u001b[39m\"\"\"Apply first function SUBST to arguments, than FUNC.\"\"\"\u001b[39;00m\n\u001b[0;32m   1945\u001b[0m     \u001b[39mtry\u001b[39;00m:\n",
      "\u001b[1;31mKeyboardInterrupt\u001b[0m: "
     ]
    },
    {
     "ename": "",
     "evalue": "",
     "output_type": "error",
     "traceback": [
      "\u001b[1;31mThe Kernel crashed while executing code in the the current cell or a previous cell. Please review the code in the cell(s) to identify a possible cause of the failure. Click <a href='https://aka.ms/vscodeJupyterKernelCrash'>here</a> for more info. View Jupyter <a href='command:jupyter.viewOutput'>log</a> for further details."
     ]
    }
   ],
   "source": [
    "from tkinter import *\n",
    "gui = Tk()\n",
    "gui.title(\"Project X\")\n",
    "\n",
    "butt = Button(gui, text=\"National ID Form\").pack()\n",
    "gui.mainloop()"
   ]
  },
  {
   "cell_type": "code",
   "execution_count": null,
   "metadata": {},
   "outputs": [],
   "source": [
    "from tkinter import *\n",
    "gui = Tk()\n",
    "gui.title(\"Project X\")\n",
    "\n",
    "butt = Button(gui, text=\"National ID Form\").pack()\n",
    "labe1 = Label(gui, text=\"Surname\").grid(row=0)\n",
    "label2 = Label(gui, text=\"Middlename\").grid(row=1)\n",
    "label3 = Label(gui, text=\"Lastname\").grid(row=2)\n",
    "\n",
    "e1 = Entry(gui).grid(row=0, column=1)\n",
    "e2 = Entry(gui).grid(row=1, column=1)\n",
    "e3 = Entry(gui).grid(row=2, column=1)\n",
    "\n",
    "checkb1 = Checkbutton(gui, text=\"Female\").grid(row=0)\n",
    "checkb2 = Checkbutton(gui, text=\"Male\").grid(row=1)\n",
    "\n"
   ]
  },
  {
   "cell_type": "code",
   "execution_count": 2,
   "metadata": {},
   "outputs": [],
   "source": [
    "from tkinter import *\n",
    "\n",
    "\n",
    "# main window\n",
    "gui = Tk()\n",
    "gui.title(\"Project X\")\n",
    "gui.geometry(\"700x700\")\n",
    "frame = Frame(gui)\n",
    "frame.pack()\n",
    "\n",
    "\n",
    "but1 = Button(frame, text=\"Peter\", fg=\"red\").pack(side=LEFT)\n",
    "but2 = Button(frame, text=\"Victor\", fg=\"brown\").pack(side=LEFT)\n",
    "but3 = Button(frame, text=\"Philp\", fg=\"blue\").pack(side=LEFT)\n",
    "bottom = Button(frame, text=\"Smoke\", fg=\"green\").pack(side=BOTTOM)\n",
    "\n",
    "gui.mainloop()"
   ]
  }
 ],
 "metadata": {
  "kernelspec": {
   "display_name": "Python 3.11.0 64-bit",
   "language": "python",
   "name": "python3"
  },
  "language_info": {
   "codemirror_mode": {
    "name": "ipython",
    "version": 3
   },
   "file_extension": ".py",
   "mimetype": "text/x-python",
   "name": "python",
   "nbconvert_exporter": "python",
   "pygments_lexer": "ipython3",
   "version": "3.11.0"
  },
  "orig_nbformat": 4,
  "vscode": {
   "interpreter": {
    "hash": "de47f5c92c0ee6f12a59a5613ac5feff6aab19ddff207ba0b3964cced08c4ccc"
   }
  }
 },
 "nbformat": 4,
 "nbformat_minor": 2
}
