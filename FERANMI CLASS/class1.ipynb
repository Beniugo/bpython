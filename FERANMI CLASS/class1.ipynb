{
 "cells": [
  {
   "cell_type": "markdown",
   "metadata": {},
   "source": [
    "Python is a high-level, general-purpose and a very popular programming language. Python programming language (latest Python 3) is being used in web development, Machine Learning applications, along with all cutting edge technology in Software Industry. Python Programming Language is very well suited for Beginners, also for experienced programmers with other programming languages like C++ and Java"
   ]
  },
  {
   "cell_type": "markdown",
   "metadata": {},
   "source": [
    "Python Class"
   ]
  },
  {
   "cell_type": "code",
   "execution_count": 2,
   "metadata": {},
   "outputs": [
    {
     "name": "stdout",
     "output_type": "stream",
     "text": [
      "Good Morning Feranmi!\n"
     ]
    }
   ],
   "source": [
    "print(\"Good Morning Feranmi!\")"
   ]
  },
  {
   "cell_type": "code",
   "execution_count": 4,
   "metadata": {},
   "outputs": [
    {
     "name": "stdout",
     "output_type": "stream",
     "text": [
      "Freanmi\n",
      "Freanmi\n",
      "Freanmi\n",
      "Freanmi\n"
     ]
    }
   ],
   "source": [
    "print(\"Freanmi\")\n",
    "print(\"Freanmi\")\n",
    "print(\"Freanmi\")\n",
    "print(\"Freanmi\")"
   ]
  },
  {
   "cell_type": "code",
   "execution_count": 6,
   "metadata": {},
   "outputs": [
    {
     "data": {
      "text/plain": [
       "int"
      ]
     },
     "execution_count": 6,
     "metadata": {},
     "output_type": "execute_result"
    }
   ],
   "source": [
    "a = 100\n",
    "type(a)"
   ]
  },
  {
   "cell_type": "code",
   "execution_count": 7,
   "metadata": {},
   "outputs": [
    {
     "data": {
      "text/plain": [
       "str"
      ]
     },
     "execution_count": 7,
     "metadata": {},
     "output_type": "execute_result"
    }
   ],
   "source": [
    "b = \"Work Day\"\n",
    "type(b)"
   ]
  },
  {
   "cell_type": "code",
   "execution_count": 8,
   "metadata": {},
   "outputs": [
    {
     "data": {
      "text/plain": [
       "str"
      ]
     },
     "execution_count": 8,
     "metadata": {},
     "output_type": "execute_result"
    }
   ],
   "source": [
    "d = \"100\"\n",
    "type(d)"
   ]
  },
  {
   "cell_type": "code",
   "execution_count": 9,
   "metadata": {},
   "outputs": [
    {
     "data": {
      "text/plain": [
       "bool"
      ]
     },
     "execution_count": 9,
     "metadata": {},
     "output_type": "execute_result"
    }
   ],
   "source": [
    "c = True\n",
    "type(c)"
   ]
  },
  {
   "cell_type": "code",
   "execution_count": 10,
   "metadata": {},
   "outputs": [
    {
     "data": {
      "text/plain": [
       "float"
      ]
     },
     "execution_count": 10,
     "metadata": {},
     "output_type": "execute_result"
    }
   ],
   "source": [
    "e = 12.01\n",
    "type(e)"
   ]
  },
  {
   "cell_type": "code",
   "execution_count": 11,
   "metadata": {},
   "outputs": [
    {
     "data": {
      "text/plain": [
       "complex"
      ]
     },
     "execution_count": 11,
     "metadata": {},
     "output_type": "execute_result"
    }
   ],
   "source": [
    "f = 3j\n",
    "type(f)"
   ]
  },
  {
   "cell_type": "code",
   "execution_count": 20,
   "metadata": {},
   "outputs": [
    {
     "name": "stdout",
     "output_type": "stream",
     "text": [
      "<class 'tuple'>\n",
      "('python', 120, 'Java', 10, 10.6)\n"
     ]
    }
   ],
   "source": [
    "g = (\"python\",120,\"Java\", 10,10.6)\n",
    "h = (1,2)\n",
    "print(type(h))\n",
    "print(g)"
   ]
  },
  {
   "cell_type": "code",
   "execution_count": 2,
   "metadata": {},
   "outputs": [
    {
     "data": {
      "text/plain": [
       "tuple"
      ]
     },
     "execution_count": 2,
     "metadata": {},
     "output_type": "execute_result"
    }
   ],
   "source": [
    "today = 100,120\n",
    "type(today)"
   ]
  },
  {
   "cell_type": "code",
   "execution_count": 5,
   "metadata": {},
   "outputs": [
    {
     "data": {
      "text/plain": [
       "tuple"
      ]
     },
     "execution_count": 5,
     "metadata": {},
     "output_type": "execute_result"
    }
   ],
   "source": [
    "today1 = (120,False)\n",
    "type(today1)"
   ]
  },
  {
   "cell_type": "code",
   "execution_count": 24,
   "metadata": {},
   "outputs": [
    {
     "data": {
      "text/plain": [
       "tuple"
      ]
     },
     "execution_count": 24,
     "metadata": {},
     "output_type": "execute_result"
    }
   ],
   "source": [
    "i = (5j,6j,2j)\n",
    "type(i)"
   ]
  },
  {
   "cell_type": "code",
   "execution_count": 26,
   "metadata": {},
   "outputs": [
    {
     "data": {
      "text/plain": [
       "tuple"
      ]
     },
     "execution_count": 26,
     "metadata": {},
     "output_type": "execute_result"
    }
   ],
   "source": [
    "j = tuple((1,2,3,4,5))\n",
    "type(j)"
   ]
  },
  {
   "cell_type": "code",
   "execution_count": 27,
   "metadata": {},
   "outputs": [
    {
     "data": {
      "text/plain": [
       "list"
      ]
     },
     "execution_count": 27,
     "metadata": {},
     "output_type": "execute_result"
    }
   ],
   "source": [
    "k = [\"Monday\",12,True]\n",
    "type(k)"
   ]
  },
  {
   "cell_type": "code",
   "execution_count": 28,
   "metadata": {},
   "outputs": [
    {
     "data": {
      "text/plain": [
       "list"
      ]
     },
     "execution_count": 28,
     "metadata": {},
     "output_type": "execute_result"
    }
   ],
   "source": [
    "l = list((100,200,7j))\n",
    "type(l)"
   ]
  },
  {
   "cell_type": "code",
   "execution_count": 29,
   "metadata": {},
   "outputs": [
    {
     "data": {
      "text/plain": [
       "set"
      ]
     },
     "execution_count": 29,
     "metadata": {},
     "output_type": "execute_result"
    }
   ],
   "source": [
    "m = {120,\"Grace\",True}\n",
    "type(m)"
   ]
  },
  {
   "cell_type": "code",
   "execution_count": 30,
   "metadata": {},
   "outputs": [
    {
     "data": {
      "text/plain": [
       "set"
      ]
     },
     "execution_count": 30,
     "metadata": {},
     "output_type": "execute_result"
    }
   ],
   "source": [
    "n = set((2j,False,\"90\"))\n",
    "type(n)"
   ]
  },
  {
   "cell_type": "code",
   "execution_count": 35,
   "metadata": {},
   "outputs": [
    {
     "data": {
      "text/plain": [
       "list"
      ]
     },
     "execution_count": 35,
     "metadata": {},
     "output_type": "execute_result"
    }
   ],
   "source": [
    "o = {\n",
    "    \"name\":\"Grace\",\n",
    "    \"age\":12,\n",
    "    \"gender\": \"female\",\n",
    "    \"is_teacher\":False,\n",
    "    \"hubbies\":[\"playing\",\"singing\",\"swimming\"]\n",
    "}\n",
    "type(o[\"hubbies\"])\n"
   ]
  },
  {
   "cell_type": "code",
   "execution_count": 36,
   "metadata": {},
   "outputs": [
    {
     "data": {
      "text/plain": [
       "dict"
      ]
     },
     "execution_count": 36,
     "metadata": {},
     "output_type": "execute_result"
    }
   ],
   "source": [
    "type(o)"
   ]
  },
  {
   "cell_type": "code",
   "execution_count": 37,
   "metadata": {},
   "outputs": [
    {
     "data": {
      "text/plain": [
       "list"
      ]
     },
     "execution_count": 37,
     "metadata": {},
     "output_type": "execute_result"
    }
   ],
   "source": [
    "type(k)"
   ]
  },
  {
   "cell_type": "code",
   "execution_count": 38,
   "metadata": {},
   "outputs": [
    {
     "name": "stdout",
     "output_type": "stream",
     "text": [
      "success\n"
     ]
    }
   ],
   "source": [
    "balance = 200\n",
    "amount = 100\n",
    "\n",
    "if balance > amount:\n",
    "    print('success')\n",
    "else:\n",
    "    print('off')"
   ]
  },
  {
   "cell_type": "code",
   "execution_count": 1,
   "metadata": {},
   "outputs": [
    {
     "data": {
      "text/plain": [
       "set"
      ]
     },
     "execution_count": 1,
     "metadata": {},
     "output_type": "execute_result"
    }
   ],
   "source": [
    "state = {(\"lagos\",\"Oyo\",\"Enugu\")}\n",
    "\n",
    "type(state)"
   ]
  },
  {
   "cell_type": "code",
   "execution_count": 2,
   "metadata": {},
   "outputs": [
    {
     "data": {
      "text/plain": [
       "set"
      ]
     },
     "execution_count": 2,
     "metadata": {},
     "output_type": "execute_result"
    }
   ],
   "source": [
    "state = {\"lagos\",\"Oyo\",\"Enugu\"}\n",
    "\n",
    "type(state)"
   ]
  },
  {
   "cell_type": "code",
   "execution_count": 3,
   "metadata": {},
   "outputs": [
    {
     "data": {
      "text/plain": [
       "set"
      ]
     },
     "execution_count": 3,
     "metadata": {},
     "output_type": "execute_result"
    }
   ],
   "source": [
    "type(state)"
   ]
  },
  {
   "cell_type": "code",
   "execution_count": 5,
   "metadata": {},
   "outputs": [
    {
     "ename": "SyntaxError",
     "evalue": "invalid syntax (<ipython-input-5-a1cb285739d9>, line 1)",
     "output_type": "error",
     "traceback": [
      "\u001b[1;36m  File \u001b[1;32m\"<ipython-input-5-a1cb285739d9>\"\u001b[1;36m, line \u001b[1;32m1\u001b[0m\n\u001b[1;33m    state = {list((\"A\",\"B\",\"c\"))\"D\",\"E\"}\u001b[0m\n\u001b[1;37m                                ^\u001b[0m\n\u001b[1;31mSyntaxError\u001b[0m\u001b[1;31m:\u001b[0m invalid syntax\n"
     ]
    }
   ],
   "source": [
    "state = {list((\"A\",\"B\",\"c\")),\"D\",\"E\"}\n",
    "type(state)"
   ]
  },
  {
   "cell_type": "code",
   "execution_count": 6,
   "metadata": {},
   "outputs": [
    {
     "data": {
      "text/plain": [
       "list"
      ]
     },
     "execution_count": 6,
     "metadata": {},
     "output_type": "execute_result"
    }
   ],
   "source": [
    "o = {\n",
    "    \"name\":\"Grace\",\n",
    "    \"age\":12,\n",
    "    \"gender\": \"female\",\n",
    "    \"is_teacher\":False,\n",
    "    \"hubbies\":list((\"playing\",\"singing\",\"swimming\"))\n",
    "}\n",
    "type(o[\"hubbies\"])\n"
   ]
  },
  {
   "cell_type": "markdown",
   "metadata": {},
   "source": [
    "Data Structure methods"
   ]
  },
  {
   "cell_type": "code",
   "execution_count": 7,
   "metadata": {},
   "outputs": [
    {
     "data": {
      "text/plain": [
       "tuple"
      ]
     },
     "execution_count": 7,
     "metadata": {},
     "output_type": "execute_result"
    }
   ],
   "source": [
    "# Tuple it takes ()\n",
    "a = (1,2,3,4,5,\"Go\",\"Die\",\"Tomorrow\",True,12.087)\n",
    "\n",
    "# checking the type\n",
    "type(a)"
   ]
  },
  {
   "cell_type": "code",
   "execution_count": 10,
   "metadata": {},
   "outputs": [
    {
     "data": {
      "text/plain": [
       "10"
      ]
     },
     "execution_count": 10,
     "metadata": {},
     "output_type": "execute_result"
    }
   ],
   "source": [
    "len(a)"
   ]
  },
  {
   "cell_type": "code",
   "execution_count": 16,
   "metadata": {},
   "outputs": [
    {
     "data": {
      "text/plain": [
       "12.087"
      ]
     },
     "execution_count": 16,
     "metadata": {},
     "output_type": "execute_result"
    }
   ],
   "source": [
    "# indexed\n",
    "a[9]"
   ]
  },
  {
   "cell_type": "code",
   "execution_count": 21,
   "metadata": {},
   "outputs": [
    {
     "data": {
      "text/plain": [
       "('Die', 'Tomorrow')"
      ]
     },
     "execution_count": 21,
     "metadata": {},
     "output_type": "execute_result"
    }
   ],
   "source": [
    "a[6:8]"
   ]
  },
  {
   "cell_type": "code",
   "execution_count": 22,
   "metadata": {},
   "outputs": [
    {
     "data": {
      "text/plain": [
       "(1, 2, 3, 4, 5, 'Go')"
      ]
     },
     "execution_count": 22,
     "metadata": {},
     "output_type": "execute_result"
    }
   ],
   "source": [
    "a[:6]"
   ]
  },
  {
   "cell_type": "code",
   "execution_count": 23,
   "metadata": {},
   "outputs": [
    {
     "data": {
      "text/plain": [
       "(4, 5, 'Go', 'Die', 'Tomorrow', True, 12.087)"
      ]
     },
     "execution_count": 23,
     "metadata": {},
     "output_type": "execute_result"
    }
   ],
   "source": [
    "a[3:]"
   ]
  },
  {
   "cell_type": "code",
   "execution_count": 24,
   "metadata": {},
   "outputs": [
    {
     "data": {
      "text/plain": [
       "(1, 2, 3, 4, 5, 'Go', 'Die', 'Tomorrow', True, 12.087)"
      ]
     },
     "execution_count": 24,
     "metadata": {},
     "output_type": "execute_result"
    }
   ],
   "source": [
    "a[:]"
   ]
  },
  {
   "cell_type": "code",
   "execution_count": 25,
   "metadata": {},
   "outputs": [
    {
     "name": "stdout",
     "output_type": "stream",
     "text": [
      "('A', 'B', 'C')\n"
     ]
    }
   ],
   "source": [
    "# ordered\n",
    "b = (\"A\",\"B\",\"C\")\n",
    "print(b)"
   ]
  },
  {
   "cell_type": "code",
   "execution_count": 28,
   "metadata": {},
   "outputs": [
    {
     "name": "stdout",
     "output_type": "stream",
     "text": [
      "new tupe list is\n",
      " ('lagos', 'Oyo', 'Enugu', 'lagos', 'Oyo', 'Enugu', 'lagos', 'Oyo', 'Enugu')\n"
     ]
    }
   ],
   "source": [
    "# Allow duplicate\n",
    "c = (\"lagos\",\"Oyo\",\"Enugu\")\n",
    "c = c * 3\n",
    "print(\"new tupe list is\\n\",c)"
   ]
  },
  {
   "cell_type": "code",
   "execution_count": 29,
   "metadata": {},
   "outputs": [
    {
     "data": {
      "text/plain": [
       "('lagos', 'Oyo', 'Enugu', 'lagos', 'Oyo', 'Enugu', 'lagos', 'Oyo', 'Enugu')"
      ]
     },
     "execution_count": 29,
     "metadata": {},
     "output_type": "execute_result"
    }
   ],
   "source": [
    "c"
   ]
  },
  {
   "cell_type": "code",
   "execution_count": 31,
   "metadata": {},
   "outputs": [
    {
     "data": {
      "text/plain": [
       "1"
      ]
     },
     "execution_count": 31,
     "metadata": {},
     "output_type": "execute_result"
    }
   ],
   "source": [
    "d = (\"lagos\",\"Oyo\",\"Enugu\")\n",
    "d.count(\"lagos\")"
   ]
  },
  {
   "cell_type": "code",
   "execution_count": 32,
   "metadata": {},
   "outputs": [
    {
     "data": {
      "text/plain": [
       "0"
      ]
     },
     "execution_count": 32,
     "metadata": {},
     "output_type": "execute_result"
    }
   ],
   "source": [
    "d1 = (\"lagos\",\"Oyo\",\"Enugu\")\n",
    "d1.index(\"lagos\")"
   ]
  },
  {
   "cell_type": "code",
   "execution_count": 34,
   "metadata": {},
   "outputs": [
    {
     "name": "stdout",
     "output_type": "stream",
     "text": [
      "yes\n"
     ]
    }
   ],
   "source": [
    "a = 6\n",
    "\n",
    "if not a:\n",
    "    print('no')\n",
    "else:\n",
    "    print('yes')"
   ]
  },
  {
   "cell_type": "markdown",
   "metadata": {},
   "source": [
    "Data Structure Methods"
   ]
  },
  {
   "cell_type": "code",
   "execution_count": 1,
   "metadata": {},
   "outputs": [
    {
     "name": "stdout",
     "output_type": "stream",
     "text": [
      "('Python', 'Java', 'C++', 'JavaScript', 'Ruby', 'Php', 'R-lang', 'Dart', 'Rust', 'C')\n"
     ]
    }
   ],
   "source": [
    "# tuple() methods\n",
    "\n",
    "\n",
    "info = tuple((\"Python\",\"Java\",\"C++\",\"JavaScript\",\"Ruby\",\"Php\",\"R-lang\",\"Dart\",\"Rust\",\"C\"))\n",
    "print(info)\n"
   ]
  },
  {
   "cell_type": "code",
   "execution_count": 2,
   "metadata": {},
   "outputs": [
    {
     "name": "stdout",
     "output_type": "stream",
     "text": [
      "('Python', 'Java', 'C++', 'JavaScript', 'Ruby', 'Php', 'R-lang', 'Dart', 'Rust', 'C')\n"
     ]
    }
   ],
   "source": [
    "need = (\"Python\",\"Java\",\"C++\",\"JavaScript\",\"Ruby\",\"Php\",\"R-lang\",\"Dart\",\"Rust\",\"C\")\n",
    "print(need)"
   ]
  },
  {
   "cell_type": "code",
   "execution_count": 3,
   "metadata": {},
   "outputs": [
    {
     "data": {
      "text/plain": [
       "10"
      ]
     },
     "execution_count": 3,
     "metadata": {},
     "output_type": "execute_result"
    }
   ],
   "source": [
    "len(need)"
   ]
  },
  {
   "cell_type": "code",
   "execution_count": 4,
   "metadata": {},
   "outputs": [
    {
     "data": {
      "text/plain": [
       "'Python'"
      ]
     },
     "execution_count": 4,
     "metadata": {},
     "output_type": "execute_result"
    }
   ],
   "source": [
    "need[0]"
   ]
  },
  {
   "cell_type": "code",
   "execution_count": 5,
   "metadata": {},
   "outputs": [
    {
     "data": {
      "text/plain": [
       "'Php'"
      ]
     },
     "execution_count": 5,
     "metadata": {},
     "output_type": "execute_result"
    }
   ],
   "source": [
    "need[5]"
   ]
  },
  {
   "cell_type": "code",
   "execution_count": 7,
   "metadata": {},
   "outputs": [
    {
     "name": "stdout",
     "output_type": "stream",
     "text": [
      "('Python', 'Java', 'C++', 'Python', 'Ruby', 'Php', 'R-lang', 'Dart', 'Rust', 'C')\n"
     ]
    }
   ],
   "source": [
    "need = (\"Python\",\"Java\",\"C++\",\"Python\",\"Ruby\",\"Php\",\"R-lang\",\"Dart\",\"Rust\",\"C\")\n",
    "print(need)"
   ]
  },
  {
   "cell_type": "code",
   "execution_count": 11,
   "metadata": {},
   "outputs": [
    {
     "name": "stdout",
     "output_type": "stream",
     "text": [
      "('Python', 'Java', 'C++', 'JavaScript', 'Ruby', 'Php', 'R-lang', 'Dart', 'Rust', 'C')\n"
     ]
    }
   ],
   "source": [
    "need = (\"Python\",\"Java\",\"C++\",\"Python\",\"Ruby\",\"Php\",\"R-lang\",\"Dart\",\"Rust\",\"C\")\n",
    "var = list(need)\n",
    "var[3] = \"JavaScript\"\n",
    "need = tuple(var)\n",
    "print(need)"
   ]
  },
  {
   "cell_type": "code",
   "execution_count": 14,
   "metadata": {},
   "outputs": [
    {
     "data": {
      "text/plain": [
       "('Python',\n",
       " 'Java',\n",
       " 'C++',\n",
       " 'JavaScript',\n",
       " 'Ruby',\n",
       " 'Php',\n",
       " 'R-lang',\n",
       " 'Dart',\n",
       " 'Rust',\n",
       " 'C',\n",
       " 'Kotlin')"
      ]
     },
     "execution_count": 14,
     "metadata": {},
     "output_type": "execute_result"
    }
   ],
   "source": [
    "# update the tuple var\n",
    "\n",
    "var = (\"Kotlin\",)\n",
    "\n",
    "need += var\n",
    "need"
   ]
  },
  {
   "cell_type": "code",
   "execution_count": 20,
   "metadata": {},
   "outputs": [
    {
     "name": "stdout",
     "output_type": "stream",
     "text": [
      "Python is a programming Language\n",
      "Java is a programming Language\n",
      "C++ is a programming Language\n",
      "JavaScript is a programming Language\n",
      "Ruby is a programming Language\n",
      "Php is a programming Language\n",
      "R-lang is a programming Language\n",
      "Dart is a programming Language\n",
      "Rust is a programming Language\n",
      "C is a programming Language\n",
      "Kotlin is a programming Language\n"
     ]
    }
   ],
   "source": [
    "for x in need:\n",
    "    print(x,\"is a programming Language\")"
   ]
  },
  {
   "cell_type": "code",
   "execution_count": 24,
   "metadata": {},
   "outputs": [
    {
     "name": "stdout",
     "output_type": "stream",
     "text": [
      "Python is a programming Language with index 0\n",
      "Java is a programming Language with index 1\n",
      "C++ is a programming Language with index 2\n",
      "JavaScript is a programming Language with index 3\n",
      "Ruby is a programming Language with index 4\n",
      "Php is a programming Language with index 5\n",
      "R-lang is a programming Language with index 6\n",
      "Dart is a programming Language with index 7\n",
      "Rust is a programming Language with index 8\n",
      "C is a programming Language with index 9\n",
      "Kotlin is a programming Language with index 10\n"
     ]
    }
   ],
   "source": [
    "for x in range(len(need)):\n",
    "    print(need[x],\"is a programming Language with index\",x)"
   ]
  },
  {
   "cell_type": "code",
   "execution_count": 32,
   "metadata": {},
   "outputs": [
    {
     "data": {
      "text/plain": [
       "list"
      ]
     },
     "execution_count": 32,
     "metadata": {},
     "output_type": "execute_result"
    }
   ],
   "source": [
    "# List [] Methods\n",
    "\n",
    "\n",
    "info = [\"Lagos\",\"Edo\",\"Enugu\",\"Imo\",\"Anambra\",\"Oyo\",\"Borno\"]\n",
    "\n",
    "type(info)"
   ]
  },
  {
   "cell_type": "code",
   "execution_count": 34,
   "metadata": {},
   "outputs": [
    {
     "data": {
      "text/plain": [
       "['Lagos', 'Edo', 'Enugu', 'Imo', 'Anambra', 'Oyo', 'Borno', 'Kwara']"
      ]
     },
     "execution_count": 34,
     "metadata": {},
     "output_type": "execute_result"
    }
   ],
   "source": [
    "info.append('Kwara')\n",
    "info"
   ]
  },
  {
   "cell_type": "code",
   "execution_count": 30,
   "metadata": {},
   "outputs": [
    {
     "data": {
      "text/plain": [
       "['Lagos',\n",
       " 'Edo',\n",
       " 'Enugu',\n",
       " 'Imo',\n",
       " 'Anambra',\n",
       " 'Oyo',\n",
       " 'Borno',\n",
       " 'Kwara',\n",
       " ['Abuja', 'Ekiti', 'Kaduna']]"
      ]
     },
     "execution_count": 30,
     "metadata": {},
     "output_type": "execute_result"
    }
   ],
   "source": [
    "added = [\"Abuja\",\"Ekiti\",\"Kaduna\"]\n",
    "\n",
    "info.append(added)\n",
    "info"
   ]
  },
  {
   "cell_type": "code",
   "execution_count": 31,
   "metadata": {},
   "outputs": [
    {
     "data": {
      "text/plain": [
       "[]"
      ]
     },
     "execution_count": 31,
     "metadata": {},
     "output_type": "execute_result"
    }
   ],
   "source": [
    "info.clear()\n",
    "info"
   ]
  },
  {
   "cell_type": "code",
   "execution_count": 35,
   "metadata": {},
   "outputs": [
    {
     "data": {
      "text/plain": [
       "['Lagos', 'Edo', 'Enugu', 'Imo', 'Anambra', 'Oyo', 'Borno', 'Kwara']"
      ]
     },
     "execution_count": 35,
     "metadata": {},
     "output_type": "execute_result"
    }
   ],
   "source": [
    "info"
   ]
  },
  {
   "cell_type": "code",
   "execution_count": 36,
   "metadata": {},
   "outputs": [
    {
     "data": {
      "text/plain": [
       "['Lagos', 'Edo', 'Enugu', 'Imo', 'Anambra', 'Oyo', 'Kwara']"
      ]
     },
     "execution_count": 36,
     "metadata": {},
     "output_type": "execute_result"
    }
   ],
   "source": [
    "# remove element\n",
    "info.remove(\"Borno\")\n",
    "info"
   ]
  },
  {
   "cell_type": "code",
   "execution_count": 37,
   "metadata": {},
   "outputs": [
    {
     "data": {
      "text/plain": [
       "['Lagos', 'Edo', 'Enugu', 'Imo', 'Anambra', 'Oyo', 'Kwara', 'Borno']"
      ]
     },
     "execution_count": 37,
     "metadata": {},
     "output_type": "execute_result"
    }
   ],
   "source": [
    "info.append(\"Borno\")\n",
    "info"
   ]
  },
  {
   "cell_type": "code",
   "execution_count": 38,
   "metadata": {},
   "outputs": [
    {
     "data": {
      "text/plain": [
       "['Borno', 'Kwara', 'Oyo', 'Anambra', 'Imo', 'Enugu', 'Edo', 'Lagos']"
      ]
     },
     "execution_count": 38,
     "metadata": {},
     "output_type": "execute_result"
    }
   ],
   "source": [
    "# reverse method\n",
    "\n",
    "info.reverse()\n",
    "info"
   ]
  },
  {
   "cell_type": "code",
   "execution_count": 40,
   "metadata": {},
   "outputs": [
    {
     "name": "stdout",
     "output_type": "stream",
     "text": [
      "Borno\n",
      "Kwara\n",
      "Ogun\n",
      "Anambra\n",
      "Imo\n",
      "Enugu\n",
      "Edo\n",
      "Lagos\n"
     ]
    }
   ],
   "source": [
    "info[2] = \"Ogun\"\n",
    "for z in info:\n",
    "    print(z)"
   ]
  },
  {
   "cell_type": "code",
   "execution_count": 41,
   "metadata": {},
   "outputs": [
    {
     "data": {
      "text/plain": [
       "list"
      ]
     },
     "execution_count": 41,
     "metadata": {},
     "output_type": "execute_result"
    }
   ],
   "source": [
    "type(info)"
   ]
  },
  {
   "cell_type": "code",
   "execution_count": 42,
   "metadata": {},
   "outputs": [
    {
     "data": {
      "text/plain": [
       "tuple"
      ]
     },
     "execution_count": 42,
     "metadata": {},
     "output_type": "execute_result"
    }
   ],
   "source": [
    "info = tuple(info)\n",
    "type(info)"
   ]
  },
  {
   "cell_type": "code",
   "execution_count": 45,
   "metadata": {},
   "outputs": [
    {
     "data": {
      "text/plain": [
       "['Borno', 'Kwara', 'Ogun', 'Anambra', 'Imo', 'Enugu', 'Edo']"
      ]
     },
     "execution_count": 45,
     "metadata": {},
     "output_type": "execute_result"
    }
   ],
   "source": [
    "info.remove(\"Lagos\")\n",
    "info"
   ]
  },
  {
   "cell_type": "code",
   "execution_count": 44,
   "metadata": {},
   "outputs": [
    {
     "data": {
      "text/plain": [
       "list"
      ]
     },
     "execution_count": 44,
     "metadata": {},
     "output_type": "execute_result"
    }
   ],
   "source": [
    "info = list(info)\n",
    "type(info)"
   ]
  },
  {
   "cell_type": "code",
   "execution_count": 46,
   "metadata": {},
   "outputs": [
    {
     "data": {
      "text/plain": [
       "['Borno', 'Kwara', 'Ogun', 'Anambra', 'Imo', 'Enugu', 'Edo']"
      ]
     },
     "execution_count": 46,
     "metadata": {},
     "output_type": "execute_result"
    }
   ],
   "source": [
    "info"
   ]
  },
  {
   "cell_type": "code",
   "execution_count": 48,
   "metadata": {},
   "outputs": [
    {
     "data": {
      "text/plain": [
       "['Borno', 'Lagos', 'Kwara', 'Ogun', 'Anambra', 'Imo', 'Enugu', 'Edo']"
      ]
     },
     "execution_count": 48,
     "metadata": {},
     "output_type": "execute_result"
    }
   ],
   "source": [
    "info.insert(1,\"Lagos\")\n",
    "info"
   ]
  },
  {
   "cell_type": "code",
   "execution_count": 50,
   "metadata": {},
   "outputs": [
    {
     "data": {
      "text/plain": [
       "['Kwara', 'Ogun', 'Anambra', 'Imo', 'Enugu', 'Edo']"
      ]
     },
     "execution_count": 50,
     "metadata": {},
     "output_type": "execute_result"
    }
   ],
   "source": [
    "info.pop(0)\n",
    "info"
   ]
  },
  {
   "cell_type": "code",
   "execution_count": 1,
   "metadata": {},
   "outputs": [],
   "source": [
    "# write a program to give an output for 2023 election base on each user's tottal votes and declear\n",
    "# the winner base on input results   "
   ]
  },
  {
   "cell_type": "code",
   "execution_count": 14,
   "metadata": {},
   "outputs": [
    {
     "name": "stdout",
     "output_type": "stream",
     "text": [
      "Election 2023 is inconclusive\n"
     ]
    }
   ],
   "source": [
    "# declear input for each party\n",
    "pdp = int(input(\"Enter PDP total vote\\n\"))\n",
    "apc = int(input(\"Enter APC total vote\\n\"))\n",
    "lp = int(input(\"Enter LP total vote\\n\"))\n",
    "\n",
    "\n",
    "# validation of the input according the the party\n",
    "\n",
    "if pdp > apc and pdp > lp:\n",
    "    pdp_cand = \"Mr Abubakar Atiku\"\n",
    "    print(f'WOw! {pdp_cand} won the 2023 election with {pdp} compare to other with {apc} and {lp}')\n",
    "\n",
    "elif apc > lp and pdp:\n",
    "    apc_cand = \"Mr Bola Hammed Tinubu\"\n",
    "    print(f'WOw! {apc_cand} won the 2023 election with {apc} compare to other with {pdp} and {lp}')\n",
    "\n",
    "elif lp > apc and pdp:\n",
    "    lp_cand = \"Mr Peter Obi\"\n",
    "    print(f'WOw! {lp_cand} won the 2023 election with {lp} compare to other with {pdp} and {apc}')\n",
    "else:\n",
    "    print(\"Election 2023 is inconclusive\")"
   ]
  },
  {
   "cell_type": "code",
   "execution_count": 8,
   "metadata": {},
   "outputs": [
    {
     "name": "stdout",
     "output_type": "stream",
     "text": [
      "5\n"
     ]
    }
   ],
   "source": [
    "a = 5\n",
    "print(a)"
   ]
  },
  {
   "cell_type": "code",
   "execution_count": 10,
   "metadata": {},
   "outputs": [
    {
     "name": "stdout",
     "output_type": "stream",
     "text": [
      "5 is the value of the variable\n"
     ]
    }
   ],
   "source": [
    "print(f'{a} is the value of the variable')"
   ]
  },
  {
   "cell_type": "code",
   "execution_count": 18,
   "metadata": {},
   "outputs": [
    {
     "name": "stdout",
     "output_type": "stream",
     "text": [
      "You are a winner\n"
     ]
    }
   ],
   "source": [
    "answer = 1000\n",
    "guess = int(input(\"guess a number\"))\n",
    " \n",
    "\n",
    "if guess < answer:\n",
    "    print(\"Oops you guess below the number try another number\")\n",
    "    guess2 = int(input(\"guess a number\"))\n",
    "    if guess2 == answer:\n",
    "        print(\"You are a winner\")\n",
    "    else:\n",
    "        print(\"You wrong in the second attempt\")\n",
    "elif guess > answer:\n",
    "    print(\"Oops you guess above the number try another number\")\n",
    "    guess2 = int(input(\"guess a number\"))\n",
    "    if guess2 == answer:\n",
    "        print(\"You are a winner\")\n",
    "    else:\n",
    "        print(\"You wrong in the second attempt\")\n",
    "else:\n",
    "    print(\"You are a winner\")"
   ]
  },
  {
   "cell_type": "code",
   "execution_count": 20,
   "metadata": {},
   "outputs": [
    {
     "name": "stdout",
     "output_type": "stream",
     "text": [
      "0\n",
      "1\n",
      "2\n",
      "3\n",
      "4\n",
      "5\n",
      "6\n",
      "7\n",
      "8\n",
      "9\n"
     ]
    }
   ],
   "source": [
    "for i in range(10):\n",
    "    print(i)"
   ]
  },
  {
   "cell_type": "code",
   "execution_count": 21,
   "metadata": {},
   "outputs": [
    {
     "name": "stdout",
     "output_type": "stream",
     "text": [
      "10\n",
      "11\n",
      "12\n",
      "13\n",
      "14\n",
      "15\n",
      "16\n",
      "17\n",
      "18\n",
      "19\n",
      "20\n",
      "21\n",
      "22\n",
      "23\n",
      "24\n"
     ]
    }
   ],
   "source": [
    "for i in range(10,25):\n",
    "    print(i)"
   ]
  },
  {
   "cell_type": "code",
   "execution_count": 22,
   "metadata": {},
   "outputs": [
    {
     "name": "stdout",
     "output_type": "stream",
     "text": [
      "10\n",
      "20\n",
      "30\n",
      "40\n",
      "50\n",
      "60\n",
      "70\n",
      "80\n",
      "90\n"
     ]
    }
   ],
   "source": [
    "for i in range(10,100,10):\n",
    "    print(i)"
   ]
  },
  {
   "cell_type": "code",
   "execution_count": null,
   "metadata": {},
   "outputs": [],
   "source": [
    "# 0.00 - 0.99 = Probation\n",
    "# 1.00 - 1.49 = pass\n",
    "# 1.50 - 2.49 = third class\n",
    "# 2.50 - 3.49 = second class lower\n",
    "# 3.50 - 4.49 = second class upper\n",
    "# 4.50 - 5.00 = first class "
   ]
  },
  {
   "cell_type": "code",
   "execution_count": 1,
   "metadata": {},
   "outputs": [
    {
     "name": "stdout",
     "output_type": "stream",
     "text": [
      "Congratulation Victor, you have a first class with 4.5\n"
     ]
    }
   ],
   "source": [
    "name = input(\"Please enter your name \\n\")\n",
    "level = int(input(\"Please enter your level \\n\"))\n",
    "cgpa = float(input(\"Enter your current CGPA \\n\"))\n",
    "\n",
    "# print(cgpa)\n",
    "\n",
    "if cgpa >= 4.50:\n",
    "    print(f'Congratulation {name}, you have a first class with {cgpa}')\n",
    "elif cgpa <= 4.49 and cgpa >= 3.50:\n",
    "    print(f'Congratulation {name}, you have a second class upper with {cgpa}')\n",
    "elif cgpa <= 3.49 and cgpa >= 2.50:\n",
    "    print(f'Congratulation {name}, you have a second class lower with {cgpa}')\n",
    "elif cgpa <= 2.49 and cgpa >= 1.50:\n",
    "    print(f'Congratulation {name}, you have a third class with {cgpa}')\n",
    "elif cgpa <= 1.49 and cgpa >= 1.00:\n",
    "    print(f'Congratulation {name}, you have a pass class with {cgpa}')\n",
    "elif cgpa <= 0.49 and cgpa >= 0.1:\n",
    "    print(f'Congratulation {name}, you are on probabtion upper with {cgpa}')\n",
    "\n",
    "else:\n",
    "    print(\"Out of cgpa range\")"
   ]
  },
  {
   "cell_type": "code",
   "execution_count": null,
   "metadata": {},
   "outputs": [],
   "source": [
    "# if, elif and else\n",
    "\n",
    "name = \"Peter\",\"John\",\"James\"\n",
    "surname = \"obi\"\n",
    "\n",
    "# end of database\n",
    "\n",
    "ask = input(\"Enter main diciples of jesus\\n\")\n",
    "ask = ask.lower()\n",
    "if ask == \"Peter\":\n",
    "    print(f\"Yes, {ask} is among\")\n",
    "elif ask == \"John\":\n",
    "    print(f\"Yes {ask} is among\")\n",
    "elif ask == \"James\":\n",
    "    print(f\"Yes {ask} is among\")\n",
    "\n",
    "else: print(f\"Opps! wrong name is given as {ask}\")\n"
   ]
  },
  {
   "cell_type": "code",
   "execution_count": 3,
   "metadata": {},
   "outputs": [],
   "source": [
    "name = input(\"Your name\")\n",
    "name = name.upper()"
   ]
  },
  {
   "cell_type": "code",
   "execution_count": 3,
   "metadata": {},
   "outputs": [],
   "source": [
    "# if, elif and else\n",
    "\n",
    "name = \"Peter\",\"John\",\"James\"\n",
    "surname = \"Simon\"\n",
    "\n",
    "# end of database\n",
    "\n",
    "ask = input(\"Enter main diciples of jesus\\n\")\n",
    "surname = input(\"Enter surname of disciples of jesus\\n\")\n",
    "ask = ask.lower()\n",
    "surname = surname.lower\n",
    "if ask == \"Peter\":\n",
    "    print(f\"Yes, {ask} is among\")\n",
    "    if surname == \"Simon\":\n",
    "        print(f\"Yes {surname} is valid\")\n",
    "        print(f\"{surname} {ask} was with jesus\")\n",
    "    else: \n",
    "        print (\"Not Needed\")\n",
    "\n",
    "elif ask == \"John\":\n",
    "    print(f\"Yes {ask} is among\")\n",
    "    if surname == \"Smart\":\n",
    "        print(f\" Yes {surmame} is valid\")\n",
    "        print(f\"{surname} {ask} was with jesus\")\n",
    "    else: print(\"not needed\")\n",
    "\n",
    "elif ask == \"James\":\n",
    "    print(f\"Yes {ask} is among\")\n",
    "    if surname == \"obi\":\n",
    "        print(f\"Yes {surname} is valid\")\n",
    "        print(f\"{surname} {ask} was with jesus\")\n",
    "    else:\n",
    "        print(\"Not needed\")\n",
    "\n"
   ]
  },
  {
   "cell_type": "code",
   "execution_count": 2,
   "metadata": {},
   "outputs": [],
   "source": [
    "# Assignment \n",
    "\n",
    "\n",
    "# write a python program validating at least 3 steps of complete conditional\n",
    "#  statement relating with comparising (relational) statement\n",
    "#  for your desired problem"
   ]
  },
  {
   "cell_type": "code",
   "execution_count": 5,
   "metadata": {},
   "outputs": [
    {
     "name": "stdout",
     "output_type": "stream",
     "text": [
      "Yes beans is in the database.\n",
      "Yes swimming is in the database.\n",
      "Yes ghost is in the database.\n",
      "beans, swimming and ghost are all in the database.\n"
     ]
    }
   ],
   "source": [
    "# Database\n",
    "\n",
    "best_food = \"Beans\"\n",
    "hobby = \"swimming\"\n",
    "best_friend = \"Ghost\"\n",
    "\n",
    "# end of database\n",
    "\n",
    "\n",
    "best_food = input(\"What is your best food?\")\n",
    "hobby = input(\"What is your hobby?\")\n",
    "best_friend = input(\"Who is your best friend?\")\n",
    "best_food = best_food.lower()\n",
    "hobby = hobby.lower()\n",
    "best_friend = best_friend.lower()\n",
    "\n",
    "if best_food == \"beans\":\n",
    "    print(f\"Yes {best_food} is in the database.\")\n",
    "    if hobby == \"swimming\":\n",
    "        print(f\"Yes {hobby} is in the database.\")\n",
    "        if best_friend == \"g.host\":\n",
    "            print(f\"Yes {best_friend} is in the database.\")\n",
    "            print(f\"{best_food}, {hobby} and {best_friend} are all in the database.\")\n",
    "        else:\n",
    "            print(\"We can't find this record in the database.\")"
   ]
  },
  {
   "cell_type": "code",
   "execution_count": 1,
   "metadata": {},
   "outputs": [
    {
     "name": "stdout",
     "output_type": "stream",
     "text": [
      "33,33,33 are greater values \n",
      " Thanks!\n"
     ]
    }
   ],
   "source": [
    "# Correction.\n",
    "\n",
    "A1 =2\n",
    "A2 =4\n",
    "A3 =6\n",
    "\n",
    "a1 = int(input(\"guess\"))\n",
    "a2 = int(input(\"guess\"))\n",
    "a3 = int(input(\"guess\"))\n",
    "\n",
    "if a1 < A1:\n",
    "    if a2 < A2:\n",
    "        if a3 < A3:\n",
    "            print(f\"{a1},{a2},{a3} are less value \\n Thanks!\")\n",
    "        else:\n",
    "            print(f\"{a1},{a2} are less value but {a3} is wrong\")\n",
    "    else:\n",
    "        print(f\"{a1} is less value but {a2},{a3} are wrong \")\n",
    "elif a1 == A1:\n",
    "    if a2 == A2:\n",
    "        if a3 == A3:\n",
    "            print(f\"{a1},{a2},{a3} are exact value \\n Thanks! you are right\")\n",
    "        else:\n",
    "            print(f\"{a1},{a2} are exact value but {a3} is wrong\")\n",
    "    else:\n",
    "        print(f\"{a1} is exact value but {a2},{a3} zre wrong\")\n",
    "\n",
    "else:\n",
    "    if a2 > A2:\n",
    "        if a3 > A3:\n",
    "            print(f\"{a1},{a2},{a3} are greater values \\n Thanks!\")\n",
    "        else:\n",
    "            print(f\"{a1},{a2} are greater values but {a3} is wrong\")\n",
    "    else:\n",
    "        print(f\"{a1} is greater value but {a2},{a3} is wrong\")\n",
    "        \n"
   ]
  },
  {
   "cell_type": "markdown",
   "metadata": {},
   "source": [
    "#  PYTHON LOOPS\n"
   ]
  },
  {
   "cell_type": "code",
   "execution_count": 7,
   "metadata": {},
   "outputs": [],
   "source": [
    " # For loop is used for a sequential transversal (It is used for iterating\n",
    "#  over an iterable like string,tuple,list, set and dictionary)\n"
   ]
  },
  {
   "cell_type": "code",
   "execution_count": 2,
   "metadata": {},
   "outputs": [
    {
     "name": "stdout",
     "output_type": "stream",
     "text": [
      "Tinubu\n",
      "Atiku\n",
      "P.Obi\n"
     ]
    }
   ],
   "source": [
    "A10 = [\"Tinubu\",\"Atiku\",\"P.Obi\"]\n",
    "\n",
    "for k in A10:\n",
    "    print(k)"
   ]
  },
  {
   "cell_type": "code",
   "execution_count": 4,
   "metadata": {},
   "outputs": [
    {
     "name": "stdout",
     "output_type": "stream",
     "text": [
      "The presidential candidate of FRN for 2023 election is Tinubu\n",
      "The presidential candidate of FRN for 2023 election is Atiku\n",
      "The presidential candidate of FRN for 2023 election is P.Obi\n"
     ]
    }
   ],
   "source": [
    "A10 = [\"Tinubu\",\"Atiku\",\"P.Obi\"]\n",
    "\n",
    "for k in A10:\n",
    "    print(\"The presidential candidate of FRN for 2023 election is\",k)"
   ]
  },
  {
   "cell_type": "code",
   "execution_count": 5,
   "metadata": {},
   "outputs": [
    {
     "name": "stdout",
     "output_type": "stream",
     "text": [
      "p\n",
      "r\n",
      "o\n",
      "g\n",
      "r\n",
      "a\n",
      "m\n",
      "m\n",
      "e\n",
      "r\n"
     ]
    }
   ],
   "source": [
    "A11 = \"programmer\"\n",
    "\n",
    "for i in A11:\n",
    "    print(i)"
   ]
  },
  {
   "cell_type": "code",
   "execution_count": 10,
   "metadata": {},
   "outputs": [
    {
     "name": "stdout",
     "output_type": "stream",
     "text": [
      "0\n",
      "1\n",
      "2\n",
      "3\n",
      "4\n",
      "5\n",
      "6\n",
      "7\n",
      "8\n",
      "9\n"
     ]
    }
   ],
   "source": [
    "for i in range(10):\n",
    "    print(i)"
   ]
  },
  {
   "cell_type": "code",
   "execution_count": 11,
   "metadata": {},
   "outputs": [
    {
     "name": "stdout",
     "output_type": "stream",
     "text": [
      "15\n",
      "16\n",
      "17\n",
      "18\n",
      "19\n",
      "20\n",
      "21\n",
      "22\n",
      "23\n",
      "24\n",
      "25\n",
      "26\n",
      "27\n",
      "28\n",
      "29\n"
     ]
    }
   ],
   "source": [
    "for i in range(15,30):\n",
    "    print(i)"
   ]
  },
  {
   "cell_type": "code",
   "execution_count": 14,
   "metadata": {},
   "outputs": [
    {
     "name": "stdout",
     "output_type": "stream",
     "text": [
      "2\n",
      "6\n",
      "10\n",
      "14\n",
      "18\n"
     ]
    }
   ],
   "source": [
    "for i in range(2,20,4):\n",
    "    print(i)"
   ]
  },
  {
   "cell_type": "code",
   "execution_count": 15,
   "metadata": {},
   "outputs": [
    {
     "name": "stdout",
     "output_type": "stream",
     "text": [
      "10 x 1 = 10\n",
      "10 x 2 = 20\n",
      "10 x 3 = 30\n",
      "10 x 4 = 40\n",
      "10 x 5 = 50\n",
      "10 x 6 = 60\n",
      "10 x 7 = 70\n",
      "10 x 8 = 80\n",
      "10 x 9 = 90\n",
      "10 x 10 = 100\n",
      "10 x 11 = 110\n",
      "10 x 12 = 120\n",
      "10 x 13 = 130\n",
      "10 x 14 = 140\n",
      "10 x 15 = 150\n",
      "10 x 16 = 160\n",
      "10 x 17 = 170\n",
      "10 x 18 = 180\n",
      "10 x 19 = 190\n"
     ]
    }
   ],
   "source": [
    "value = int(input(\"what is your desired table to get \\n\"))\n",
    "endpointval = int(input(\"set the endpoint for your value entered above \\n\"))\n",
    "\n",
    "for i in range(1,endpointval):\n",
    "    print(f\"{value} x {i} =\", value*i)"
   ]
  },
  {
   "cell_type": "code",
   "execution_count": 22,
   "metadata": {},
   "outputs": [
    {
     "name": "stdout",
     "output_type": "stream",
     "text": [
      "49\n"
     ]
    }
   ],
   "source": [
    "val = int(input(\"enter a value \\n\"))\n",
    "sum = 0\n",
    "\n",
    "for i in range(1,val):\n",
    "    sum_ = sum + i\n",
    "print(sum_)"
   ]
  },
  {
   "cell_type": "code",
   "execution_count": 23,
   "metadata": {},
   "outputs": [
    {
     "name": "stdout",
     "output_type": "stream",
     "text": [
      "p\n",
      "y\n",
      "t\n",
      "h\n",
      "Rain is about to fall\n",
      "n\n"
     ]
    }
   ],
   "source": [
    "for i in \"python\":\n",
    "    if i == \"o\":\n",
    "        print(\"Rain is about to fall\")\n",
    "        continue\n",
    "    print(i)"
   ]
  },
  {
   "cell_type": "code",
   "execution_count": 1,
   "metadata": {},
   "outputs": [
    {
     "name": "stdout",
     "output_type": "stream",
     "text": [
      "0\n"
     ]
    }
   ],
   "source": [
    "value = int(input(\"Get the sum of numbers here\\n input a number here\"))\n",
    "sum = 0\n",
    "val = int(input(\"first val\"))\n",
    "\n",
    "for i in range(val, value):\n",
    "    sum = sum + i\n",
    "print (sum)"
   ]
  },
  {
   "cell_type": "code",
   "execution_count": 5,
   "metadata": {},
   "outputs": [
    {
     "name": "stdout",
     "output_type": "stream",
     "text": [
      "python\n",
      "java\n",
      "c++\n",
      "Break is among\n"
     ]
    }
   ],
   "source": [
    "program = [\"python\",\"java\",\"c++\",\"c#\",\"rust\",\"dart\"]\n",
    "for prg in program:\n",
    "    print(prg)\n",
    "    if prg == \"c++\": \n",
    "        break\n",
    "print(\"Break is among\")"
   ]
  },
  {
   "cell_type": "code",
   "execution_count": 6,
   "metadata": {},
   "outputs": [
    {
     "name": "stdout",
     "output_type": "stream",
     "text": [
      "python\n",
      "java\n",
      "c++\n",
      "c#\n",
      "rust\n",
      "dart\n",
      "Break is among\n"
     ]
    }
   ],
   "source": [
    "program = [\"python\",\"java\",\"c++\",\"c#\",\"rust\",\"dart\"]\n",
    "for prg in program:\n",
    "    print(prg)\n",
    "    if prg == \"c++\": \n",
    "        continue\n",
    "print(\"Break is among\")"
   ]
  },
  {
   "cell_type": "code",
   "execution_count": 14,
   "metadata": {},
   "outputs": [
    {
     "name": "stdout",
     "output_type": "stream",
     "text": [
      "0\n",
      "1\n",
      "2\n",
      "3\n",
      "4\n",
      "Yes it is break\n"
     ]
    }
   ],
   "source": [
    "for i in range (10):\n",
    "    if i == 5:\n",
    "        print(\"Yes it is break\")\n",
    "        break\n",
    "    print(i)"
   ]
  },
  {
   "cell_type": "code",
   "execution_count": 12,
   "metadata": {},
   "outputs": [],
   "source": [
    "# classwork\n",
    "# write a program of your choice using nexted loop, data structure and relational operator\n",
    "# to output your desired problem."
   ]
  },
  {
   "cell_type": "code",
   "execution_count": 22,
   "metadata": {},
   "outputs": [
    {
     "name": "stdout",
     "output_type": "stream",
     "text": [
      "Elon musk owns one of these: ('facebook', 'instagram', 'twitter').\n",
      "Mark zuckerberg owns one of these: ('facebook', 'instagram', 'twitter').\n",
      "Bolt is a rich man and he is famous.\n",
      "Bolt owns one of these: ('facebook', 'instagram', 'twitter').\n",
      "Bolt is a rich man and he is famous.\n",
      "Elon musk owns one of these: ('facebook', 'instagram', 'twitter').\n",
      "Mark zuckerberg owns one of these: ('facebook', 'instagram', 'twitter').\n",
      "Bolt is a rich man and he is famous.\n",
      "Bolt owns one of these: ('facebook', 'instagram', 'twitter').\n",
      "Bolt is a rich man and he is famous.\n",
      "Elon musk owns one of these: ('facebook', 'instagram', 'twitter').\n",
      "Mark zuckerberg owns one of these: ('facebook', 'instagram', 'twitter').\n",
      "Bolt is a rich man and he is famous.\n",
      "Bolt owns one of these: ('facebook', 'instagram', 'twitter').\n",
      "Bolt is a rich man and he is famous.\n"
     ]
    }
   ],
   "source": [
    "fame = [\"Davido\",\"Wizkid\",\"Burna boy\"]\n",
    "rich = [\"Elon musk\",\"Mark zuckerberg\",\"Bolt\"]\n",
    "platform = \"facebook\",\"instagram\",\"twitter\"\n",
    "\n",
    "for i in fame:\n",
    "    for j in rich:\n",
    "        for k in platform:\n",
    "            if k == \"instagram\":\n",
    "                print(f'{j} owns one of these: {platform}.')\n",
    "                continue\n",
    "            if j == \"Bolt\":\n",
    "                print(f'{j} is a rich man and he is famous.')\n",
    "                continue\n",
    "            if i == \"wizkid\":\n",
    "                print(f'{i} is a celebrity.')"
   ]
  },
  {
   "cell_type": "markdown",
   "metadata": {},
   "source": [
    "# While loop"
   ]
  },
  {
   "cell_type": "code",
   "execution_count": null,
   "metadata": {},
   "outputs": [],
   "source": [
    "# python while loop is used to execute a block of statement repeatedly until a given condition is satisfied."
   ]
  },
  {
   "cell_type": "code",
   "execution_count": 18,
   "metadata": {},
   "outputs": [
    {
     "name": "stdout",
     "output_type": "stream",
     "text": [
      "2\n",
      "3\n",
      "4\n",
      "5\n",
      "6\n",
      "7\n",
      "8\n",
      "9\n",
      "10\n"
     ]
    }
   ],
   "source": [
    "i = 1\n",
    "\n",
    "while i < 10:\n",
    "    i +=1\n",
    "    print(i)\n"
   ]
  },
  {
   "cell_type": "code",
   "execution_count": 7,
   "metadata": {},
   "outputs": [
    {
     "name": "stdout",
     "output_type": "stream",
     "text": [
      "1 is known in the while loop\n",
      "2 is known in the while loop\n",
      "3 is known in the while loop\n",
      "4 is known in the while loop\n",
      "5 is known in the while loop\n"
     ]
    }
   ],
   "source": [
    "i = 0\n",
    "\n",
    "while i < 5:\n",
    "    i +=1\n",
    "    print(f'{i} is known in the while loop')"
   ]
  },
  {
   "cell_type": "code",
   "execution_count": 6,
   "metadata": {},
   "outputs": [
    {
     "name": "stdout",
     "output_type": "stream",
     "text": [
      "54\n",
      "43\n",
      "32\n",
      "21\n",
      "11\n"
     ]
    }
   ],
   "source": [
    "a = [11,21,32,43,54]\n",
    "\n",
    "while a:\n",
    "    print(a.pop())"
   ]
  },
  {
   "cell_type": "code",
   "execution_count": 2,
   "metadata": {},
   "outputs": [
    {
     "name": "stdout",
     "output_type": "stream",
     "text": [
      "Hi! while loop i need 1\n",
      "Hi! while loop i need 2\n",
      "Hi! while loop i need 3\n",
      "Hi! while loop i need 4\n",
      "Hi! while loop i need 5\n",
      "Hi! while loop i need 6\n",
      "Hi! while loop i need 7\n",
      "Hi! while loop i need 8\n",
      "Hi! while loop i need 9\n",
      "Hi! while loop i need 10\n",
      "Hi! while loop i need 11\n"
     ]
    }
   ],
   "source": [
    "x = 0\n",
    "while x in range(11):\n",
    "    x = x+ 1\n",
    "    print(f'Hi! while loop i need {x}')"
   ]
  },
  {
   "cell_type": "code",
   "execution_count": 2,
   "metadata": {},
   "outputs": [
    {
     "name": "stdout",
     "output_type": "stream",
     "text": [
      "Current: P\n",
      "Current: y\n",
      "Current: t\n",
      "Current: h\n",
      "Current: o\n",
      "Current: n\n",
      "Current:  \n",
      "Current: W\n",
      "Current: h\n",
      "Current: Okay\n",
      "Current: l\n",
      "Current: e\n",
      "Current:  \n",
      "Current: Okay\n",
      "Current: o\n",
      "Current: o\n",
      "Current: p\n"
     ]
    }
   ],
   "source": [
    "i = 0\n",
    "a = \"Python While Loop\"\n",
    "\n",
    "while i < len(a):\n",
    "    if a[i] == \"i\" or a[i] == \"L\":\n",
    "        i += 1\n",
    "        print(\"Current: Okay\")\n",
    "        continue\n",
    "    print(\"Current:\",a[i])\n",
    "    i += 1"
   ]
  },
  {
   "cell_type": "code",
   "execution_count": 6,
   "metadata": {},
   "outputs": [
    {
     "name": "stdout",
     "output_type": "stream",
     "text": [
      "1\n",
      "2\n",
      "3\n",
      "4\n",
      "5\n"
     ]
    }
   ],
   "source": [
    "# Break statement\n",
    "\n",
    "#  continue statement\n",
    "\n",
    "i = 1\n",
    "\n",
    "while i < 10:\n",
    "    print (i)\n",
    "    if i == 5:\n",
    "        break\n",
    "    i += 1"
   ]
  },
  {
   "cell_type": "code",
   "execution_count": 1,
   "metadata": {},
   "outputs": [
    {
     "name": "stdout",
     "output_type": "stream",
     "text": [
      "1\n",
      "2\n",
      "3\n",
      "4\n",
      "5\n",
      "6\n",
      "7\n",
      "8\n",
      "9\n"
     ]
    }
   ],
   "source": [
    "# Break statement\n",
    "\n",
    "#  continue statement\n",
    "\n",
    "i = 1\n",
    "\n",
    "while i < 10:\n",
    "    print (i)\n",
    "    if i == 5:\n",
    "        i += 1\n",
    "        continue\n",
    "    i += 1"
   ]
  },
  {
   "cell_type": "code",
   "execution_count": 4,
   "metadata": {},
   "outputs": [
    {
     "name": "stdout",
     "output_type": "stream",
     "text": [
      "1\n",
      "2\n",
      "3\n",
      "4\n",
      "5\n",
      "6\n",
      "7\n",
      "i is not value in 6 anymore\n"
     ]
    }
   ],
   "source": [
    "# else statement\n",
    "\n",
    "i = 1\n",
    "\n",
    "while i < 8:\n",
    "    print(i)\n",
    "    i += 1\n",
    "else:\n",
    "    print('i is not value in 6 anymore')"
   ]
  },
  {
   "cell_type": "code",
   "execution_count": 5,
   "metadata": {},
   "outputs": [
    {
     "name": "stdout",
     "output_type": "stream",
     "text": [
      "1\n",
      "2\n",
      "3\n",
      "5\n",
      "6\n",
      "7\n",
      "i is not value in 6 anymore\n"
     ]
    }
   ],
   "source": [
    "# else statement\n",
    "\n",
    "i = 1\n",
    "\n",
    "while i < 8:\n",
    "    if i == 4:\n",
    "        i += 1\n",
    "        continue\n",
    "    print(i)\n",
    "    i += 1\n",
    "else:\n",
    "    print('i is not value in 6 anymore')"
   ]
  },
  {
   "cell_type": "code",
   "execution_count": 1,
   "metadata": {},
   "outputs": [
    {
     "name": "stdout",
     "output_type": "stream",
     "text": [
      "1\n",
      "2\n",
      "3\n"
     ]
    }
   ],
   "source": [
    "# else statement\n",
    "\n",
    "i = 1\n",
    "\n",
    "while i < 8:\n",
    "    if i == 4:\n",
    "        i += 1\n",
    "        break\n",
    "    print(i)\n",
    "    i += 1\n",
    "else:\n",
    "    print('i is not value in 6 anymore')"
   ]
  },
  {
   "cell_type": "markdown",
   "metadata": {},
   "source": [
    "# PYTHON FUNCTION"
   ]
  },
  {
   "cell_type": "code",
   "execution_count": 4,
   "metadata": {},
   "outputs": [],
   "source": [
    "# A function in python is a block of code that can only run when it is called.\n",
    "\n",
    "# twp types of function in python.\n",
    "\n",
    "# 1. user define.\n",
    "# 2. in built."
   ]
  },
  {
   "cell_type": "code",
   "execution_count": 5,
   "metadata": {},
   "outputs": [
    {
     "name": "stdout",
     "output_type": "stream",
     "text": [
      "Good Morning\n"
     ]
    }
   ],
   "source": [
    "def greet():\n",
    "    # statement of the function.\n",
    "    a = 'Good Morning'\n",
    "    print(a)\n",
    "\n",
    "greet()"
   ]
  },
  {
   "cell_type": "code",
   "execution_count": 7,
   "metadata": {},
   "outputs": [
    {
     "name": "stdout",
     "output_type": "stream",
     "text": [
      "800\n"
     ]
    }
   ],
   "source": [
    "def _sum():\n",
    "    a = 100+200+500\n",
    "    print(a)\n",
    "_sum()"
   ]
  },
  {
   "cell_type": "code",
   "execution_count": 11,
   "metadata": {},
   "outputs": [
    {
     "name": "stdout",
     "output_type": "stream",
     "text": [
      "Wow! its good to know that Victor is a deveops\n"
     ]
    }
   ],
   "source": [
    "def add(a):\n",
    "    print(f'Wow! its good to know that {a} is a deveops')\n",
    "add('Victor')"
   ]
  },
  {
   "cell_type": "code",
   "execution_count": 12,
   "metadata": {},
   "outputs": [
    {
     "name": "stdout",
     "output_type": "stream",
     "text": [
      "Wow! its good to know that Victor is a Lawyer\n"
     ]
    }
   ],
   "source": [
    "def add(a,b):\n",
    "    print(f'Wow! its good to know that {a} is a {b}')\n",
    "add('Victor', 'Lawyer')"
   ]
  },
  {
   "cell_type": "code",
   "execution_count": 16,
   "metadata": {},
   "outputs": [
    {
     "name": "stdout",
     "output_type": "stream",
     "text": [
      "Hello, your name is Victor. \n",
      " you are 22 years old. \n",
      " Your hobby is Swimming. \n",
      " Your best food is Rice.\n"
     ]
    }
   ],
   "source": [
    "name = input('Enter your name.').capitalize()\n",
    "age = int(input('Enter your age'))\n",
    "hobby = input('What is your hobby?').capitalize()\n",
    "best_food = input('What is your best food?').capitalize()\n",
    "\n",
    "def user():\n",
    "    print(f'Hello, your name is {name}. \\n you are {age} years old. \\n Your hobby is {hobby}. \\n Your best food is {best_food}.')\n",
    "user()    "
   ]
  },
  {
   "cell_type": "code",
   "execution_count": 22,
   "metadata": {},
   "outputs": [
    {
     "name": "stdout",
     "output_type": "stream",
     "text": [
      "Hello, your name is Emeka Osuji. \n",
      " You are 44 years old. \n",
      " Your hobby is Playing football. \n",
      " Your best food is Beans.\n"
     ]
    }
   ],
   "source": [
    "name = input('Enter your name.').capitalize()\n",
    "age = int(input('Enter your age'))\n",
    "hobby = input('What is your hobby?').capitalize()\n",
    "best_food = input('What is your best food?').capitalize()\n",
    "\n",
    "def user(a):\n",
    "    print(f'Hello, your name is {name} {a}. \\n You are {age} years old. \\n Your hobby is {hobby}. \\n Your best food is {best_food}.')\n",
    "user('Osuji')    "
   ]
  },
  {
   "cell_type": "code",
   "execution_count": 2,
   "metadata": {},
   "outputs": [
    {
     "name": "stdout",
     "output_type": "stream",
     "text": [
      "Today is 31st of november in the year 2022 and you are 44 years old\n"
     ]
    }
   ],
   "source": [
    "def info(date,month,year,age):\n",
    "    print(f'Today is {date} of {month} in the year {year} and you are {age} years old')\n",
    "info(input('date'),input('month'),input('year'),input('age'))"
   ]
  },
  {
   "cell_type": "code",
   "execution_count": 3,
   "metadata": {},
   "outputs": [
    {
     "name": "stdout",
     "output_type": "stream",
     "text": [
      "The sum of 12 and 33 is 45\n"
     ]
    }
   ],
   "source": [
    "def sub(b,a=12):\n",
    "    c = a + b\n",
    "    print(f'The sum of {a} and {b} is {c}')\n",
    "sub(33)"
   ]
  },
  {
   "cell_type": "code",
   "execution_count": 4,
   "metadata": {},
   "outputs": [
    {
     "name": "stdout",
     "output_type": "stream",
     "text": [
      "The sum of 42 and 33 is 75\n"
     ]
    }
   ],
   "source": [
    "sub(33,42)"
   ]
  },
  {
   "cell_type": "code",
   "execution_count": 7,
   "metadata": {},
   "outputs": [
    {
     "name": "stdout",
     "output_type": "stream",
     "text": [
      "10 is even value\n"
     ]
    }
   ],
   "source": [
    "def checkOdd(num):\n",
    "    if num % 2 == 1:\n",
    "        print(f'{num} is odd value')\n",
    "    else:\n",
    "        print(f'{num} is even value')\n",
    "checkOdd(int(input('Enter a number to check.')))"
   ]
  },
  {
   "cell_type": "code",
   "execution_count": 8,
   "metadata": {},
   "outputs": [
    {
     "name": "stdout",
     "output_type": "stream",
     "text": [
      "Good Morning Feranmi\n",
      "Good Morning David\n",
      "Good Morning Victor\n"
     ]
    }
   ],
   "source": [
    "# Non keyword.\n",
    "\n",
    "def greet(*a):\n",
    "    for i in a:\n",
    "        print(f'Good Morning {i}')\n",
    "greet('Feranmi', 'David', 'Victor')"
   ]
  },
  {
   "cell_type": "code",
   "execution_count": 1,
   "metadata": {},
   "outputs": [
    {
     "name": "stdout",
     "output_type": "stream",
     "text": [
      "your name is Feranmi and you are 12 years old\n",
      "your name is Ade and you are 13 years old\n"
     ]
    }
   ],
   "source": [
    "def info1(**a):\n",
    "    for i,k in a.items():\n",
    "        print(F'your name is {i} and you are {k} years old')\n",
    "info1(Feranmi='12', Ade=13 )"
   ]
  },
  {
   "cell_type": "code",
   "execution_count": 2,
   "metadata": {},
   "outputs": [
    {
     "data": {
      "text/plain": [
       "1.5545600658445458e-10"
      ]
     },
     "execution_count": 2,
     "metadata": {},
     "output_type": "execute_result"
    }
   ],
   "source": [
    "# Return statement in function\n",
    "\n",
    "def divide(num1,numb2):\n",
    "    result = 56* num1 / 23**numb2\n",
    "    return result\n",
    "\n",
    "divide(5,9)"
   ]
  },
  {
   "cell_type": "code",
   "execution_count": 6,
   "metadata": {},
   "outputs": [
    {
     "name": "stdout",
     "output_type": "stream",
     "text": [
      "base of 50cm and height of 10cm is equal to 250.0 cm²\n"
     ]
    }
   ],
   "source": [
    "def area_tri(base,height):\n",
    "    formula = 1/2 * base * height\n",
    "    print(f'base of {base}cm and height of {height}cm is equal to {formula} cm²')\n",
    "area_tri(int(input('Enter base')), int(input('Enter height')))"
   ]
  },
  {
   "cell_type": "code",
   "execution_count": 9,
   "metadata": {},
   "outputs": [
    {
     "name": "stdout",
     "output_type": "stream",
     "text": [
      "The perimeter of tri. with 12,2,3,4 is 2160.0\n"
     ]
    }
   ],
   "source": [
    "def perimeter_triangle(s,a,b,c):\n",
    "    formula = (s*(s-a)*(s-b)*(s-c)**1/2)/2\n",
    "    print(f'The perimeter of tri. with {s},{a},{b},{c} is {formula}')\n",
    "perimeter_triangle(12,2,3,4)"
   ]
  },
  {
   "cell_type": "code",
   "execution_count": 13,
   "metadata": {},
   "outputs": [
    {
     "name": "stdout",
     "output_type": "stream",
     "text": [
      "['Gideon', 'Christy', 'Abel', 'Greg']\n"
     ]
    }
   ],
   "source": [
    "#  pass by reference\n",
    "\n",
    "def staff(name):\n",
    "    name[:3] = ['Gideon', 'Christy', 'Abel']\n",
    "\n",
    "staff_list = ['David', 'Daniel', 'Ogo', 'Feranmi']\n",
    "new_staff_2023 = ['Victor', 'Philip', 'Precious', 'Greg']\n",
    "staff(new_staff_2023)\n",
    "\n",
    "print(new_staff_2023)"
   ]
  },
  {
   "cell_type": "code",
   "execution_count": 2,
   "metadata": {},
   "outputs": [
    {
     "name": "stdout",
     "output_type": "stream",
     "text": [
      "Today is good\n"
     ]
    }
   ],
   "source": [
    "# Nested function\n",
    "\n",
    "def A1():\n",
    "    info = 'Today is good'\n",
    "    def A2():\n",
    "        print(info)\n",
    "    return A2()\n",
    "A1()"
   ]
  },
  {
   "cell_type": "code",
   "execution_count": 5,
   "metadata": {},
   "outputs": [
    {
     "name": "stdout",
     "output_type": "stream",
     "text": [
      "None\n"
     ]
    }
   ],
   "source": [
    "# write a function called chop that takes a list and modifies it, removing the first \n",
    "# and last elements, and returns none.\n",
    "\n",
    "def chop():\n",
    "    a = [1,2,3,4,5]\n",
    "    b = a.remove(1)\n",
    "    c = a.remove(5)\n",
    "    print(a.clear())\n",
    "chop()"
   ]
  },
  {
   "cell_type": "code",
   "execution_count": 18,
   "metadata": {},
   "outputs": [
    {
     "name": "stdout",
     "output_type": "stream",
     "text": [
      "6 10\n"
     ]
    }
   ],
   "source": [
    "def middle():\n",
    "    a = [6,7,8,9,10]\n",
    "    print(a[0],a[-1])\n",
    "middle()"
   ]
  },
  {
   "cell_type": "markdown",
   "metadata": {},
   "source": [
    "# MODULES IN PYTHON"
   ]
  },
  {
   "cell_type": "code",
   "execution_count": 28,
   "metadata": {},
   "outputs": [],
   "source": [
    "# modules in python is a file containing python definitions and\n",
    "# statements, examples could be function, classes and variables."
   ]
  },
  {
   "cell_type": "code",
   "execution_count": 1,
   "metadata": {},
   "outputs": [],
   "source": [
    "import tkinter as tk\n"
   ]
  },
  {
   "cell_type": "code",
   "execution_count": 4,
   "metadata": {},
   "outputs": [],
   "source": [
    "window = tk.Tk()"
   ]
  }
 ],
 "metadata": {
  "kernelspec": {
   "display_name": "Python 3.11.0 64-bit",
   "language": "python",
   "name": "python3"
  },
  "language_info": {
   "codemirror_mode": {
    "name": "ipython",
    "version": 3
   },
   "file_extension": ".py",
   "mimetype": "text/x-python",
   "name": "python",
   "nbconvert_exporter": "python",
   "pygments_lexer": "ipython3",
   "version": "3.11.0"
  },
  "orig_nbformat": 4,
  "vscode": {
   "interpreter": {
    "hash": "de47f5c92c0ee6f12a59a5613ac5feff6aab19ddff207ba0b3964cced08c4ccc"
   }
  }
 },
 "nbformat": 4,
 "nbformat_minor": 2
}
