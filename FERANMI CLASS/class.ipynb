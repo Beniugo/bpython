{
 "cells": [
  {
   "cell_type": "code",
   "execution_count": 2,
   "metadata": {},
   "outputs": [
    {
     "name": "stdout",
     "output_type": "stream",
     "text": [
      "Student ID Card\n",
      "\n",
      "Name: Daniel Okafor \n",
      "School: Ebony State University\n",
      "Occupation: student\n",
      "State: Imo\n",
      "Nationalism: Nigeria\n"
     ]
    }
   ],
   "source": [
    "print(\"Student ID Card\\n\")\n",
    "name = \"Name: Daniel Okafor \\n\"\n",
    "school = \"School: Ebony State University\\n\"\n",
    "age = \"Age: 16yrs\\n\"\n",
    "occupation = \"Occupation: student\\n\" \n",
    "state = \"State: Imo\\n\"\n",
    "nationalism = \"Nationalism: Nigeria\"\n",
    "info = name+school+occupation+state+nationalism\n",
    "\n",
    "print(info)\n"
   ]
  },
  {
   "cell_type": "code",
   "execution_count": 3,
   "metadata": {},
   "outputs": [
    {
     "name": "stdout",
     "output_type": "stream",
     "text": [
      "(78, 50.5, 'lagos', True)\n"
     ]
    }
   ],
   "source": [
    "# integer\n",
    "# float \n",
    "# string\n",
    "# bool\n",
    "\n",
    "\n",
    "a = 78 # integer\n",
    "\n",
    "b = 50.5 # float\n",
    "\n",
    "c  = \"lagos\" #string\n",
    "\n",
    "is_true = True\n",
    "\n",
    "mycode =  a , b , c , is_true\n",
    "\n",
    "print(mycode)\n"
   ]
  },
  {
   "cell_type": "code",
   "execution_count": 4,
   "metadata": {},
   "outputs": [],
   "source": [
    "# constant and variable \n",
    "# constant\n",
    "\n",
    "cons = \"benice\"\n",
    "\n",
    "# variable\n",
    "\n",
    "var = \"David\"\n",
    "\n",
    "var = \"carkson\""
   ]
  },
  {
   "cell_type": "code",
   "execution_count": 5,
   "metadata": {},
   "outputs": [
    {
     "name": "stdout",
     "output_type": "stream",
     "text": [
      "benice\n"
     ]
    }
   ],
   "source": [
    "NAME = \"benice\"\n",
    "\n",
    "print(NAME)"
   ]
  },
  {
   "cell_type": "code",
   "execution_count": 6,
   "metadata": {},
   "outputs": [],
   "source": [
    "_self = \"\"\n",
    "\n",
    "age  = \"\"\n",
    "\n",
    "firstName = \"\"\n",
    "\n",
    "ComeHere = \"\""
   ]
  },
  {
   "cell_type": "code",
   "execution_count": 7,
   "metadata": {},
   "outputs": [
    {
     "name": "stdout",
     "output_type": "stream",
     "text": [
      "(1, 2, 3, 'ife', 'john')\n"
     ]
    }
   ],
   "source": [
    "# Data structure\n",
    "\n",
    "# tuple()\n",
    "\n",
    "a = (1,2,3,'ife','john')\n",
    "\n",
    "print (a)"
   ]
  },
  {
   "cell_type": "code",
   "execution_count": 8,
   "metadata": {},
   "outputs": [
    {
     "data": {
      "text/plain": [
       "tuple"
      ]
     },
     "execution_count": 8,
     "metadata": {},
     "output_type": "execute_result"
    }
   ],
   "source": [
    "type(a)"
   ]
  },
  {
   "cell_type": "code",
   "execution_count": 9,
   "metadata": {},
   "outputs": [
    {
     "data": {
      "text/plain": [
       "list"
      ]
     },
     "execution_count": 9,
     "metadata": {},
     "output_type": "execute_result"
    }
   ],
   "source": [
    "a = [1,2,3,'ife','john']\n",
    "\n",
    "type(a)"
   ]
  },
  {
   "cell_type": "code",
   "execution_count": 10,
   "metadata": {},
   "outputs": [
    {
     "data": {
      "text/plain": [
       "set"
      ]
     },
     "execution_count": 10,
     "metadata": {},
     "output_type": "execute_result"
    }
   ],
   "source": [
    "a = {1,2,3,'ife','john'}\n",
    "\n",
    "type(a)"
   ]
  },
  {
   "cell_type": "code",
   "execution_count": 11,
   "metadata": {},
   "outputs": [
    {
     "name": "stdout",
     "output_type": "stream",
     "text": [
      "{'no1': 1, 'no2': 2, 'no3': 3, 'name1': 'ife', 'name2': 'john'}\n"
     ]
    },
    {
     "data": {
      "text/plain": [
       "dict"
      ]
     },
     "execution_count": 11,
     "metadata": {},
     "output_type": "execute_result"
    }
   ],
   "source": [
    "a = {'no1':1,\n",
    "     'no2':2,\n",
    "     'no3':3,\n",
    "     'name1':'ife',\n",
    "     'name2':'john'\n",
    "     }\n",
    "print(a)\n",
    "type(a)"
   ]
  },
  {
   "cell_type": "code",
   "execution_count": 12,
   "metadata": {},
   "outputs": [
    {
     "name": "stdout",
     "output_type": "stream",
     "text": [
      "{'name': 'blessing', 'age': 27, 'address': 'hakeem dosumu ago palace', 'occupation': 'student', 'average': 25}\n"
     ]
    },
    {
     "data": {
      "text/plain": [
       "dict"
      ]
     },
     "execution_count": 12,
     "metadata": {},
     "output_type": "execute_result"
    }
   ],
   "source": [
    "a = {'name': 'blessing',\n",
    "     'age':27,\n",
    "     'address': 'hakeem dosumu ago palace',\n",
    "     'occupation':'student',\n",
    "     'average': 25,}\n",
    "\n",
    "print(a)\n",
    "type(a)"
   ]
  },
  {
   "cell_type": "code",
   "execution_count": 14,
   "metadata": {},
   "outputs": [
    {
     "name": "stdout",
     "output_type": "stream",
     "text": [
      "8 x 1 = 8\n",
      "8 x 2 = 16\n",
      "8 x 3 = 24\n",
      "8 x 4 = 32\n",
      "8 x 5 = 40\n",
      "8 x 6 = 48\n",
      "8 x 7 = 56\n",
      "8 x 8 = 64\n",
      "8 x 9 = 72\n",
      "8 x 10 = 80\n",
      "8 x 11 = 88\n"
     ]
    }
   ],
   "source": [
    "#loop.... for loop\n",
    "\n",
    "value = int(input(\"enter any value for your table\"))\n",
    "totalvalue = int(input(\"set the totalvalue for your entered above\"))\n",
    "\n",
    "for i in range(1, totalvalue):\n",
    "    print(f'{value} x {i} =',value*i)\n"
   ]
  },
  {
   "cell_type": "code",
   "execution_count": 15,
   "metadata": {},
   "outputs": [
    {
     "name": "stdout",
     "output_type": "stream",
     "text": [
      "Tinubu\n",
      "ATIKU\n",
      "P.OBI\n"
     ]
    }
   ],
   "source": [
    "#python loops\n",
    "# for loop is used for sequential traversal (it is used for iteratin over an iterable like string, tuple, list, set and dictionary)\n",
    "\n",
    "A10 = [\"Tinubu\",\"ATIKU\",\"P.OBI\"]\n",
    "\n",
    "for k in A10:\n",
    "    print(k)"
   ]
  },
  {
   "cell_type": "code",
   "execution_count": 16,
   "metadata": {},
   "outputs": [
    {
     "name": "stdout",
     "output_type": "stream",
     "text": [
      "The presidentail candidate of FRN for 2023 election is Tinubu\n",
      "The presidentail candidate of FRN for 2023 election is Atiku\n",
      "The presidentail candidate of FRN for 2023 election is P.obi\n"
     ]
    }
   ],
   "source": [
    "A10 = [\"Tinubu\",\"Atiku\",\"P.obi\"]\n",
    "\n",
    "for k in A10:\n",
    "    print(\"The presidentail candidate of FRN for 2023 election is\",k)"
   ]
  },
  {
   "cell_type": "code",
   "execution_count": 17,
   "metadata": {},
   "outputs": [
    {
     "name": "stdout",
     "output_type": "stream",
     "text": [
      "P\n",
      "r\n",
      "o\n",
      "g\n",
      "r\n",
      "a\n",
      "m\n",
      "m\n",
      "e\n",
      "r\n"
     ]
    }
   ],
   "source": [
    "\n",
    "A11 = \"Programmer\"\n",
    "\n",
    "for i in A11:\n",
    "    print(i)"
   ]
  },
  {
   "cell_type": "code",
   "execution_count": null,
   "metadata": {},
   "outputs": [
    {
     "name": "stdout",
     "output_type": "stream",
     "text": [
      "0\n",
      "1\n",
      "2\n",
      "3\n",
      "4\n",
      "5\n",
      "6\n",
      "7\n",
      "8\n",
      "9\n"
     ]
    }
   ],
   "source": [
    "for i in range(10):\n",
    "    print(i)"
   ]
  },
  {
   "cell_type": "code",
   "execution_count": 18,
   "metadata": {},
   "outputs": [
    {
     "name": "stdout",
     "output_type": "stream",
     "text": [
      "15\n",
      "16\n",
      "17\n",
      "18\n",
      "19\n",
      "20\n",
      "21\n",
      "22\n",
      "23\n",
      "24\n",
      "25\n",
      "26\n",
      "27\n",
      "28\n",
      "29\n"
     ]
    }
   ],
   "source": [
    "for i in range(15,30):\n",
    "    print(i)"
   ]
  },
  {
   "cell_type": "code",
   "execution_count": 1,
   "metadata": {},
   "outputs": [
    {
     "name": "stdout",
     "output_type": "stream",
     "text": [
      "6 x 0 = 0\n",
      "6 x 1 = 6\n",
      "6 x 2 = 12\n",
      "6 x 3 = 18\n",
      "6 x 4 = 24\n",
      "6 x 5 = 30\n",
      "6 x 6 = 36\n",
      "6 x 7 = 42\n",
      "6 x 8 = 48\n",
      "6 x 9 = 54\n",
      "6 x 10 = 60\n",
      "6 x 11 = 66\n"
     ]
    }
   ],
   "source": [
    "#for loop\n",
    "value = int(input(\"what is your table to get \\n\"))\n",
    "endpointVal = int(input(\"set the endpoint for your value entered above \\n\"))\n",
    "\n",
    "for i in range(0,endpointVal):\n",
    "    print(f'{value} x {i} =',value*i)\n"
   ]
  },
  {
   "cell_type": "code",
   "execution_count": 19,
   "metadata": {},
   "outputs": [
    {
     "name": "stdout",
     "output_type": "stream",
     "text": [
      "1\n",
      "3\n",
      "6\n",
      "10\n"
     ]
    }
   ],
   "source": [
    "#for loop\n",
    "val = int(input(\"enter a value \\n\"))\n",
    "sum = 0\n",
    "\n",
    "for i in range(1,val):\n",
    "    sum = sum + i \n",
    "    print(sum)"
   ]
  },
  {
   "cell_type": "code",
   "execution_count": 20,
   "metadata": {},
   "outputs": [
    {
     "name": "stdout",
     "output_type": "stream",
     "text": [
      "Rain is about to fall\n"
     ]
    }
   ],
   "source": [
    "#for loop\n",
    "for i in \"python\":\n",
    "     if i == \"y\":\n",
    "        print(\"Rain is about to fall\")\n",
    "        continue \n",
    "    # print(i)\n",
    "    "
   ]
  },
  {
   "cell_type": "code",
   "execution_count": 2,
   "metadata": {},
   "outputs": [
    {
     "name": "stdout",
     "output_type": "stream",
     "text": [
      "p\n",
      "y\n",
      "t\n",
      "h\n",
      "Rain is about to fall\n",
      "n\n"
     ]
    }
   ],
   "source": [
    "#for loop\n",
    "for i in \"python\":\n",
    "    if i == \"o\":\n",
    "        print(\"Rain is about to fall\")\n",
    "        continue\n",
    "    print(i)"
   ]
  },
  {
   "cell_type": "code",
   "execution_count": 22,
   "metadata": {},
   "outputs": [
    {
     "name": "stdout",
     "output_type": "stream",
     "text": [
      "python\n",
      "java\n",
      "c++\n",
      "c#\n"
     ]
    }
   ],
   "source": [
    "#for loop\n",
    "program = (\"python\", \"java\", \"c++\", \"c#\", \"rust\", \"dart\")\n",
    "for prg in program:\n",
    "    print(prg)\n",
    "    if prg == \"c#\": \n",
    "        break\n",
    "    # print(\"Break is among\")\n",
    "    "
   ]
  },
  {
   "cell_type": "code",
   "execution_count": 2,
   "metadata": {},
   "outputs": [
    {
     "name": "stdout",
     "output_type": "stream",
     "text": [
      "python\n",
      "java\n",
      "c++\n",
      "c#\n",
      "Break is among\n",
      "rust\n",
      "dart\n"
     ]
    }
   ],
   "source": [
    "\n",
    "program = (\"python\", \"java\", \"c++\", \"c#\", \"rust\", \"dart\")\n",
    "for prg in program:\n",
    "    print(prg)\n",
    "    if prg == \"c#\": \n",
    "     print(\"Break is among\")\n",
    "     continue\n",
    "     \n",
    "    "
   ]
  },
  {
   "cell_type": "code",
   "execution_count": 24,
   "metadata": {},
   "outputs": [
    {
     "name": "stdout",
     "output_type": "stream",
     "text": [
      "0\n",
      "1\n",
      "2\n",
      "3\n",
      "4\n",
      "yes it is break\n",
      "6\n",
      "7\n",
      "8\n",
      "9\n"
     ]
    }
   ],
   "source": [
    "for i in range(10):\n",
    "    if i == 5:\n",
    "        print(\"yes it is break\")\n",
    "        continue\n",
    "    print(i)"
   ]
  },
  {
   "cell_type": "code",
   "execution_count": 25,
   "metadata": {},
   "outputs": [
    {
     "name": "stdout",
     "output_type": "stream",
     "text": [
      "0\n",
      "1\n",
      "2\n",
      "3\n",
      "4\n",
      "5\n",
      "6\n",
      "7\n",
      "8\n",
      "9\n",
      "This is an else statement\n"
     ]
    }
   ],
   "source": [
    "# else\n",
    "for i in range(10):\n",
    "    print(i)\n",
    "else:\n",
    "    print(\"This is an else statement\")"
   ]
  },
  {
   "cell_type": "code",
   "execution_count": 26,
   "metadata": {},
   "outputs": [
    {
     "name": "stdout",
     "output_type": "stream",
     "text": [
      "0\n",
      "1\n",
      "2\n",
      "3\n",
      "4\n"
     ]
    }
   ],
   "source": [
    "for i in range(10):\n",
    "    if i == 5:\n",
    "        # print(\"yes it is break\")\n",
    "        break\n",
    "    print(i)\n",
    "else:\n",
    "    print(\"This is else\")"
   ]
  },
  {
   "cell_type": "code",
   "execution_count": null,
   "metadata": {},
   "outputs": [],
   "source": [
    "for i in range(10):\n",
    "    if i == 5:\n",
    "        print(\"yes it is break\")\n",
    "        break\n",
    "    print(i)\n",
    "else:\n",
    "    print(\"This is else\")"
   ]
  },
  {
   "cell_type": "code",
   "execution_count": 27,
   "metadata": {},
   "outputs": [
    {
     "name": "stdout",
     "output_type": "stream",
     "text": [
      "python\n",
      "java\n",
      "c++\n",
      "c#\n",
      "rust\n",
      "dart\n",
      "Opps\n"
     ]
    }
   ],
   "source": [
    "\n",
    "program = (\"python\", \"java\", \"c++\", \"c#\", \"rust\", \"dart\")\n",
    "for prg in program:\n",
    "    print(prg)\n",
    "    if prg == \"c#\": \n",
    "        continue\n",
    "    # print(\"Break is among\")\n",
    "else:\n",
    "    print(\"Opps\")"
   ]
  },
  {
   "cell_type": "code",
   "execution_count": 3,
   "metadata": {},
   "outputs": [
    {
     "name": "stdout",
     "output_type": "stream",
     "text": [
      "python[1] belongs to google[1]\n",
      "python[1] belongs to facebook[1]\n",
      "Javascript[1] belongs to google[1]\n",
      "Javascript[1] belongs to facebook[1]\n"
     ]
    }
   ],
   "source": [
    "a = [\"python\",\"Javascript\"]\n",
    "\n",
    "b = [\"google\",\"facebook\"]\n",
    "\n",
    "\n",
    "for i in a:\n",
    "    for k in b:\n",
    "        print(f\"{i} belongs to {k}\")"
   ]
  },
  {
   "cell_type": "code",
   "execution_count": 1,
   "metadata": {},
   "outputs": [
    {
     "name": "stdout",
     "output_type": "stream",
     "text": [
      "1\n",
      "2\n",
      "3\n",
      "4\n",
      "5\n",
      "6\n",
      "7\n",
      "8\n",
      "9\n"
     ]
    }
   ],
   "source": [
    "#while loop \n",
    "#python while loop is used to execite a block of statement repeatedly until a giving condition is satisfied.\n",
    "i = 1\n",
    "while i <10:\n",
    "    print (i)\n",
    "    i +=1"
   ]
  },
  {
   "cell_type": "code",
   "execution_count": 3,
   "metadata": {},
   "outputs": [
    {
     "name": "stdout",
     "output_type": "stream",
     "text": [
      "1 is know in the while loop\n",
      "2 is know in the while loop\n",
      "3 is know in the while loop\n",
      "4 is know in the while loop\n",
      "5 is know in the while loop\n"
     ]
    }
   ],
   "source": [
    "i = 0\n",
    "while i < 5:\n",
    "    i +=1\n",
    "    print(f\"{i} is know in the while loop\")"
   ]
  },
  {
   "cell_type": "code",
   "execution_count": 2,
   "metadata": {},
   "outputs": [
    {
     "name": "stdout",
     "output_type": "stream",
     "text": [
      "54\n",
      "43\n",
      "32\n",
      "21\n",
      "11\n"
     ]
    }
   ],
   "source": [
    "a = [11,21,32,43,54]\n",
    "while a:\n",
    "    print(a.pop())"
   ]
  },
  {
   "cell_type": "code",
   "execution_count": 5,
   "metadata": {},
   "outputs": [
    {
     "name": "stdout",
     "output_type": "stream",
     "text": [
      "hi! while loop 1\n",
      "hi! while loop 2\n",
      "hi! while loop 3\n",
      "hi! while loop 4\n",
      "hi! while loop 5\n",
      "hi! while loop 6\n",
      "hi! while loop 7\n",
      "hi! while loop 8\n",
      "hi! while loop 9\n",
      "hi! while loop 10\n",
      "hi! while loop 11\n"
     ]
    }
   ],
   "source": [
    "x = 0\n",
    "while x in range(0,11):\n",
    "    x = x + 1\n",
    "    print(f\"hi! while loop {x}\")"
   ]
  },
  {
   "cell_type": "code",
   "execution_count": 2,
   "metadata": {},
   "outputs": [
    {
     "name": "stdout",
     "output_type": "stream",
     "text": [
      "10\n",
      "9\n",
      "8\n",
      "7\n",
      "6\n",
      "5\n",
      "4\n",
      "3\n",
      "2\n"
     ]
    }
   ],
   "source": [
    "# continue statement\n",
    "i = 10\n",
    "\n",
    "while i > 1:\n",
    "    print(i)\n",
    "    i -=1"
   ]
  },
  {
   "cell_type": "code",
   "execution_count": 2,
   "metadata": {},
   "outputs": [
    {
     "name": "stdout",
     "output_type": "stream",
     "text": [
      "current: p\n",
      "current: y\n",
      "current: t\n",
      "current: h\n",
      "current: o\n",
      "current: n\n",
      "current:  \n",
      "current: w\n",
      "current: h\n",
      "currency: okay\n",
      "current: l\n",
      "current: e\n",
      "current:  \n",
      "currency: okay\n",
      "current: o\n",
      "current: o\n",
      "current: p\n"
     ]
    }
   ],
   "source": [
    "i = 0\n",
    "a = \"python while Loop\"\n",
    "\n",
    "while i < len(a):\n",
    "    if a[i] == \"i\" or a[i] ==\"L\":\n",
    "        i += 1\n",
    "        print(\"currency: okay\")\n",
    "        continue\n",
    "    print(\"current:\",a[i])\n",
    "    i += 1\n",
    "        "
   ]
  },
  {
   "cell_type": "code",
   "execution_count": 13,
   "metadata": {},
   "outputs": [
    {
     "name": "stdout",
     "output_type": "stream",
     "text": [
      "1\n",
      "2\n",
      "3\n",
      "4\n",
      "5\n"
     ]
    }
   ],
   "source": [
    "# break statement\n",
    "# continue statement\n",
    "\n",
    "i = 1\n",
    "\n",
    "while i < 10:\n",
    "    print(i)\n",
    "    if i == 5:\n",
    "        break\n",
    "    i += 1\n",
    "    "
   ]
  },
  {
   "cell_type": "code",
   "execution_count": 1,
   "metadata": {},
   "outputs": [
    {
     "name": "stdout",
     "output_type": "stream",
     "text": [
      "1\n",
      "2\n",
      "3\n",
      "4\n",
      "5\n",
      "6\n",
      "7\n",
      "8\n",
      "9\n"
     ]
    }
   ],
   "source": [
    "# continue statement\n",
    "\n",
    "i = 1\n",
    "\n",
    "while i < 10:\n",
    "    print(i)\n",
    "    if i == 5:\n",
    "        i +=1\n",
    "        continue\n",
    "    i -=1\n",
    "    "
   ]
  },
  {
   "cell_type": "code",
   "execution_count": 3,
   "metadata": {},
   "outputs": [
    {
     "name": "stdout",
     "output_type": "stream",
     "text": [
      "12 x 1 = 12\n",
      "12 x 2 = 24\n",
      "12 x 3 = 36\n",
      "12 x 4 = 48\n",
      "12 x 5 = 60\n",
      "12 x 6 = 72\n",
      "12 x 7 = 84\n",
      "12 x 8 = 96\n",
      "12 x 9 = 108\n",
      "12 x 10 = 120\n",
      "12 x 11 = 132\n",
      "12 x 12 = 144\n"
     ]
    }
   ],
   "source": [
    "num = int(input(\"enter table\"))\n",
    "\n",
    "i = 1\n",
    "while i < 13:\n",
    "     pro = num * i\n",
    "     print(f\"{num} x {i} = {pro}\")\n",
    "     i += 1\n"
   ]
  },
  {
   "cell_type": "code",
   "execution_count": 4,
   "metadata": {},
   "outputs": [
    {
     "name": "stdout",
     "output_type": "stream",
     "text": [
      "1\n",
      "2\n",
      "3\n",
      "4\n",
      "5\n",
      "6\n",
      "7\n",
      "i is not value 6 anymore\n"
     ]
    }
   ],
   "source": [
    "# else statement\n",
    "\n",
    "i = 1\n",
    "while i < 8:\n",
    "    print(i)\n",
    "    i += 1\n",
    "else:\n",
    "    print(\"i is not value 6 anymore\")"
   ]
  },
  {
   "cell_type": "code",
   "execution_count": 5,
   "metadata": {},
   "outputs": [
    {
     "name": "stdout",
     "output_type": "stream",
     "text": [
      "1\n",
      "2\n",
      "3\n",
      "5\n",
      "6\n",
      "7\n",
      "i is not value 6 anymore\n"
     ]
    }
   ],
   "source": [
    "# else statement\n",
    "\n",
    "i = 1\n",
    "while i < 8:\n",
    "    if i == 4:\n",
    "        i += 1\n",
    "        continue\n",
    "    print(i)\n",
    "    i += 1\n",
    "else:\n",
    "    print(\"i is not value 6 anymore\")"
   ]
  },
  {
   "cell_type": "code",
   "execution_count": 6,
   "metadata": {},
   "outputs": [
    {
     "name": "stdout",
     "output_type": "stream",
     "text": [
      "1\n",
      "2\n",
      "3\n"
     ]
    }
   ],
   "source": [
    "# else statement\n",
    "\n",
    "i = 1\n",
    "while i < 8:\n",
    "    if i == 4:\n",
    "        i += 1\n",
    "        break\n",
    "    print(i)\n",
    "    i += 1\n",
    "else:\n",
    "    print(\"i is not value 6 anymore\")"
   ]
  },
  {
   "cell_type": "code",
   "execution_count": 1,
   "metadata": {},
   "outputs": [
    {
     "name": "stdout",
     "output_type": "stream",
     "text": [
      "1\n",
      "2\n",
      "3\n"
     ]
    }
   ],
   "source": [
    "# else statement\n",
    "\n",
    "i = 1\n",
    "while i < 8:\n",
    "    if i == 4:\n",
    "        i += 1\n",
    "        break\n",
    "    print(i)\n",
    "    i += 1\n",
    "else:\n",
    "    print(\"i is not value 6 anymore\")"
   ]
  },
  {
   "cell_type": "markdown",
   "metadata": {},
   "source": [
    "FUNCTION"
   ]
  },
  {
   "cell_type": "code",
   "execution_count": null,
   "metadata": {},
   "outputs": [],
   "source": [
    "# A function in python is a block of code that can only run when it is called.\n",
    "\n",
    "# twp types of function in python.\n",
    "\n",
    "# 1. user define.\n",
    "# 2. in built."
   ]
  },
  {
   "cell_type": "code",
   "execution_count": 15,
   "metadata": {},
   "outputs": [
    {
     "name": "stdout",
     "output_type": "stream",
     "text": [
      "Good Morning\n"
     ]
    }
   ],
   "source": [
    "def greet():\n",
    "    # statement of the function.\n",
    "    a = 'Good Morning'\n",
    "    print(a)\n",
    "\n",
    "greet()"
   ]
  },
  {
   "cell_type": "code",
   "execution_count": 1,
   "metadata": {},
   "outputs": [
    {
     "name": "stdout",
     "output_type": "stream",
     "text": [
      "The perimeter of rec. with 12,2,3,4 is 2160.0\n"
     ]
    }
   ],
   "source": [
    "#write a function to calculate the perimeter of a rectangle.\n",
    "def perimeter_rectangle(s,a,b,c):\n",
    "    formula = (s*(s-a)*(s-b)*(s-c)**1/2)/2\n",
    "    print(f'The perimeter of rec. with {s},{a},{b},{c} is {formula}')\n",
    "perimeter_rectangle(12,2,3,4)\n"
   ]
  },
  {
   "cell_type": "code",
   "execution_count": 16,
   "metadata": {},
   "outputs": [
    {
     "name": "stdout",
     "output_type": "stream",
     "text": [
      "800\n"
     ]
    }
   ],
   "source": [
    "def _sum():\n",
    "    a = 100+200+500\n",
    "    print(a)\n",
    "_sum()"
   ]
  },
  {
   "cell_type": "markdown",
   "metadata": {},
   "source": [
    "modules in python"
   ]
  },
  {
   "cell_type": "code",
   "execution_count": null,
   "metadata": {},
   "outputs": [],
   "source": [
    "#a python modules is a file containing python definition and statement, function, classess and variable"
   ]
  },
  {
   "cell_type": "code",
   "execution_count": 5,
   "metadata": {},
   "outputs": [
    {
     "data": {
      "text/plain": [
       "27"
      ]
     },
     "execution_count": 5,
     "metadata": {},
     "output_type": "execute_result"
    }
   ],
   "source": [
    "\n",
    "\n",
    "info = {\n",
    "    'club': ['asernal','man city','newcastle','tottenham','united','chelsea'],\n",
    "    'points': [34, 32, 27, 26, 23, 21] \n",
    "}\n",
    "info['points'][2]"
   ]
  },
  {
   "cell_type": "markdown",
   "metadata": {},
   "source": [
    "EXCEPTIONAL HANDLING"
   ]
  },
  {
   "cell_type": "code",
   "execution_count": 6,
   "metadata": {},
   "outputs": [
    {
     "ename": "ZeroDivisionError",
     "evalue": "division by zero",
     "output_type": "error",
     "traceback": [
      "\u001b[1;31m---------------------------------------------------------------------------\u001b[0m",
      "\u001b[1;31mZeroDivisionError\u001b[0m                         Traceback (most recent call last)",
      "Cell \u001b[1;32mIn [6], line 4\u001b[0m\n\u001b[0;32m      1\u001b[0m \u001b[39m#Error: syntax error and exceptions\u001b[39;00m\n\u001b[0;32m      2\u001b[0m \u001b[39m#exception are raised when some internal events occur which changes the normal flow of the program\u001b[39;00m\n\u001b[0;32m      3\u001b[0m val \u001b[39m=\u001b[39m \u001b[39m20\u001b[39m\n\u001b[1;32m----> 4\u001b[0m sum_ \u001b[39m=\u001b[39m val\u001b[39m/\u001b[39;49m\u001b[39m0\u001b[39;49m\n\u001b[0;32m      5\u001b[0m \u001b[39mprint\u001b[39m(sum_)\n",
      "\u001b[1;31mZeroDivisionError\u001b[0m: division by zero"
     ]
    }
   ],
   "source": [
    "#Error: syntax error and exceptions\n",
    "#exception are raised when some internal events occur which changes the normal flow of the program\n",
    "val = 20\n",
    "sum_ = val/0\n",
    "print(sum_)"
   ]
  },
  {
   "cell_type": "code",
   "execution_count": 8,
   "metadata": {},
   "outputs": [
    {
     "name": "stdout",
     "output_type": "stream",
     "text": [
      "opps there is error in try method\n"
     ]
    }
   ],
   "source": [
    "try:\n",
    "    print(f\"today is a good day but i have {eating} till now\")\n",
    "except:\n",
    "    print('opps there is error in try method')"
   ]
  },
  {
   "cell_type": "code",
   "execution_count": 9,
   "metadata": {},
   "outputs": [
    {
     "name": "stdout",
     "output_type": "stream",
     "text": [
      "today is a good day but i have eaten till now\n"
     ]
    }
   ],
   "source": [
    "eating = \"eaten\"\n",
    "try:\n",
    "    print(f\"today is a good day but i have {eating} till now\")\n",
    "except:\n",
    "    print('opps there is error in try method')"
   ]
  },
  {
   "cell_type": "code",
   "execution_count": 11,
   "metadata": {},
   "outputs": [
    {
     "name": "stdout",
     "output_type": "stream",
     "text": [
      "the second value is tinubu\n",
      " the third value is ['peter obi', 'tinubu', 'atiku']\n"
     ]
    }
   ],
   "source": [
    "val = ['peter obi','tinubu','atiku','kwankwaso']\n",
    "try:\n",
    "    print(f'the second value is {val[1]}')\n",
    "    \n",
    "    print(f' the third value is {val[:-1]}')\n",
    "except:\n",
    "    print(f'i dont know where the error is coming')"
   ]
  },
  {
   "cell_type": "code",
   "execution_count": 14,
   "metadata": {},
   "outputs": [
    {
     "name": "stdout",
     "output_type": "stream",
     "text": [
      "8\n"
     ]
    }
   ],
   "source": [
    "#constructive output method\n",
    "##format\n",
    "\n",
    "a = 8\n",
    "print(f'{a}')"
   ]
  },
  {
   "cell_type": "code",
   "execution_count": 13,
   "metadata": {},
   "outputs": [
    {
     "name": "stdout",
     "output_type": "stream",
     "text": [
      "the value 8\n"
     ]
    }
   ],
   "source": [
    "print('the value %d' %(a))"
   ]
  },
  {
   "cell_type": "code",
   "execution_count": 18,
   "metadata": {},
   "outputs": [
    {
     "name": "stdout",
     "output_type": "stream",
     "text": [
      "the value 8\n"
     ]
    }
   ],
   "source": [
    "print('the value {}' .format(a))"
   ]
  },
  {
   "cell_type": "code",
   "execution_count": 4,
   "metadata": {},
   "outputs": [
    {
     "name": "stdout",
     "output_type": "stream",
     "text": [
      "Benice is known\n",
      "victor is not known\n"
     ]
    }
   ],
   "source": [
    "#catching specific exception\n",
    "\n",
    "name = ['Benice','Victor','Brain','Peter']\n",
    "passwords= ['benRich','vickor','tinubu','123Fisher']\n",
    "try:\n",
    "    username = input('kindly enter your username')\n",
    "    password = input('kindly enter your password')\n",
    "    \n",
    "    if  username in name:\n",
    "        print(f\"{username} is known\")\n",
    "        if password in passwords:\n",
    "            print(f\"{username} and {password} verified\")\n",
    "        else:\n",
    "            print(f\"{password} is not known\")\n",
    "    else:\n",
    "        print(f\"{username} is not known\")\n",
    "except:\n",
    "    print(\"opps\")"
   ]
  },
  {
   "cell_type": "code",
   "execution_count": 5,
   "metadata": {},
   "outputs": [
    {
     "name": "stdout",
     "output_type": "stream",
     "text": [
      " denominator can not be 0 please try again\n",
      "program ends\n"
     ]
    }
   ],
   "source": [
    "try:\n",
    "    numerator = int(input(\"Enter numerator:\"))\n",
    "    denominator = int(input(\"Enter denomitor:\"))\n",
    "\n",
    "    result = numerator / denominator\n",
    "except:\n",
    "    print(f\" denominator can not be 0 please try again\")\n",
    "\n",
    "print(\"program ends\")\n"
   ]
  },
  {
   "cell_type": "code",
   "execution_count": 9,
   "metadata": {},
   "outputs": [
    {
     "name": "stdout",
     "output_type": "stream",
     "text": [
      " 2.0\n",
      "program ends\n"
     ]
    }
   ],
   "source": [
    "try:\n",
    "    numerator = int(input(\"Enter numerator:\"))\n",
    "    denominator = int(input(\"Enter denomitor:\"))\n",
    "\n",
    "    result = numerator / denominator\n",
    "    print(f\" {result}\")\n",
    "except:\n",
    "    print(f\" denominator can not be 0 please try again\")\n",
    "\n",
    "print(\"program ends\")\n",
    "\n"
   ]
  },
  {
   "cell_type": "code",
   "execution_count": 1,
   "metadata": {},
   "outputs": [
    {
     "name": "stdout",
     "output_type": "stream",
     "text": [
      "benice, always and benice123@niit.com is valid\n"
     ]
    }
   ],
   "source": [
    "database =  {\n",
    "    'ifekeyz_':['12345','feranmi.micheal@gmail.com'],\n",
    "    'benice':['always','benice123@niit.com'],\n",
    "    'victor':['cool','vicor@123']\n",
    "}\n",
    "\n",
    "\n",
    "username = input('Enter valid username')\n",
    "try:\n",
    "    if username in database:\n",
    "        password = input('Enter your password')\n",
    "\n",
    "        if password in database[username][0]:\n",
    "            email = input('enter your email address')\n",
    "            if email in database[username][1]:\n",
    "                print(f'{username}, {password} and {email} is valid')\n",
    "            else:\n",
    "                print('email is unknown')\n",
    "        else:\n",
    "            print(f'opp! incorrect password provided {password}')\n",
    "    else:\n",
    "        print('opps! username not found')\n",
    "        pass\n",
    "except:\n",
    "    pass\n",
    "\n"
   ]
  },
  {
   "cell_type": "code",
   "execution_count": 7,
   "metadata": {},
   "outputs": [
    {
     "ename": "AttributeError",
     "evalue": "'int' object has no attribute 'pop'",
     "output_type": "error",
     "traceback": [
      "\u001b[1;31m---------------------------------------------------------------------------\u001b[0m",
      "\u001b[1;31mAttributeError\u001b[0m                            Traceback (most recent call last)",
      "Cell \u001b[1;32mIn [7], line 4\u001b[0m\n\u001b[0;32m      2\u001b[0m c \u001b[38;5;241m=\u001b[39m \u001b[38;5;241m5\u001b[39m\n\u001b[0;32m      3\u001b[0m result \u001b[38;5;241m=\u001b[39m a \u001b[38;5;241m+\u001b[39m c\n\u001b[1;32m----> 4\u001b[0m \u001b[38;5;28mprint\u001b[39m(\u001b[43mresult\u001b[49m\u001b[38;5;241;43m.\u001b[39;49m\u001b[43mpop\u001b[49m())\n",
      "\u001b[1;31mAttributeError\u001b[0m: 'int' object has no attribute 'pop'"
     ]
    }
   ],
   "source": [
    "a = 2\n",
    "c = 5\n",
    "result = a + c\n",
    "print(result.pop())"
   ]
  },
  {
   "cell_type": "code",
   "execution_count": 8,
   "metadata": {},
   "outputs": [
    {
     "ename": "ValueError",
     "evalue": "6 is not in list",
     "output_type": "error",
     "traceback": [
      "\u001b[1;31m---------------------------------------------------------------------------\u001b[0m",
      "\u001b[1;31mValueError\u001b[0m                                Traceback (most recent call last)",
      "Cell \u001b[1;32mIn [8], line 2\u001b[0m\n\u001b[0;32m      1\u001b[0m total \u001b[38;5;241m=\u001b[39m [\u001b[38;5;241m1\u001b[39m, \u001b[38;5;241m2\u001b[39m, \u001b[38;5;241m3\u001b[39m, \u001b[38;5;241m4\u001b[39m, \u001b[38;5;241m5\u001b[39m]\n\u001b[1;32m----> 2\u001b[0m \u001b[43mtotal\u001b[49m\u001b[38;5;241;43m.\u001b[39;49m\u001b[43mindex\u001b[49m\u001b[43m(\u001b[49m\u001b[38;5;241;43m6\u001b[39;49m\u001b[43m)\u001b[49m\n\u001b[0;32m      3\u001b[0m \u001b[38;5;28mprint\u001b[39m(total)\n",
      "\u001b[1;31mValueError\u001b[0m: 6 is not in list"
     ]
    }
   ],
   "source": [
    "total = [1, 2, 3, 4, 5]\n",
    "total.index(6)\n",
    "print(total)"
   ]
  },
  {
   "cell_type": "markdown",
   "metadata": {},
   "source": [
    "REGULAR EXPRESSION (RegEx)"
   ]
  },
  {
   "cell_type": "markdown",
   "metadata": {},
   "source": [
    "Regular expression ia a sequence of character that define a search pattern, mainly for used in pattern matching with string\n",
    "\n",
    "RegEx Function\n",
    "1. findall(Return a list containing all matches)\n",
    "2. search(Return a match object if there is a match in the string)\n",
    "3. split(Return a list where the string has been split at each match)\n",
    "4. sub(Replace one or many matches with a string)"
   ]
  },
  {
   "cell_type": "code",
   "execution_count": 5,
   "metadata": {},
   "outputs": [
    {
     "name": "stdout",
     "output_type": "stream",
     "text": [
      "abc\n",
      "abc\n"
     ]
    }
   ],
   "source": [
    "#findall = it will print the string\n",
    "import re\n",
    "value = '123abc456789abc123ABC'\n",
    "pattern = re.compile(r\"abc\")\n",
    "matches = pattern.findall(value)\n",
    "for match in matches:\n",
    "    print(match)\n"
   ]
  },
  {
   "cell_type": "code",
   "execution_count": 8,
   "metadata": {},
   "outputs": [
    {
     "name": "stdout",
     "output_type": "stream",
     "text": [
      "None\n"
     ]
    }
   ],
   "source": [
    "#MATCH METHOD = it will print none bcos match look for only python at the beginnning\n",
    "value = '123abc456789abc123ABC'\n",
    "pattern = re.compile(r\"abc\")\n",
    "match = pattern.match(value)\n",
    "print(match)\n"
   ]
  },
  {
   "cell_type": "code",
   "execution_count": 10,
   "metadata": {},
   "outputs": [
    {
     "name": "stdout",
     "output_type": "stream",
     "text": [
      "<re.Match object; span=(3, 6), match='abc'>\n"
     ]
    }
   ],
   "source": [
    "#SEARCH METHOD\n",
    "#findall = it will print the string\n",
    "import re\n",
    "value = '123abc456789abc123ABC'\n",
    "pattern = re.compile(r\"abc\")\n",
    "match = pattern.search(value)\n",
    "print(match)\n"
   ]
  },
  {
   "cell_type": "code",
   "execution_count": 11,
   "metadata": {},
   "outputs": [
    {
     "name": "stdout",
     "output_type": "stream",
     "text": [
      "['abc', 'ABCDEF', 'abc']\n"
     ]
    }
   ],
   "source": [
    "#SPLIT METHOD\n",
    "import re\n",
    "value = 'abc123ABCDEF123abc'\n",
    "pattern = re.compile(r\"123\")\n",
    "match = pattern.split(value)\n",
    "print(match)\n"
   ]
  },
  {
   "cell_type": "code",
   "execution_count": 12,
   "metadata": {},
   "outputs": [
    {
     "name": "stdout",
     "output_type": "stream",
     "text": [
      "hello planet, you are the best planet\n"
     ]
    }
   ],
   "source": [
    "#SUB METHOD\n",
    "import re\n",
    "value = 'hello world, you are the best world'\n",
    "pattern = re.compile(r\"world\")\n",
    "match = pattern.sub(\"planet\", value)\n",
    "print(match)\n"
   ]
  },
  {
   "cell_type": "code",
   "execution_count": 13,
   "metadata": {},
   "outputs": [
    {
     "name": "stdout",
     "output_type": "stream",
     "text": [
      "<re.Match object; span=(8, 15), match='goodday'>\n"
     ]
    }
   ],
   "source": [
    "import re\n",
    "value = 'Todayisagoodday'\n",
    "pattern = re.compile(r\"goodday\")\n",
    "matches = pattern.finditer(value)\n",
    "\n",
    "for match in matches:\n",
    "    print(match)"
   ]
  },
  {
   "cell_type": "code",
   "execution_count": null,
   "metadata": {},
   "outputs": [],
   "source": [
    "#Metacharacter\n",
    "#1. [] - A set of character\n",
    "#2. \\ - Signals a special sequence\n",
    "#3. . - any character (except newline character)\n",
    "#4. ^ - Starts with\n",
    "#5. $ - Ends with\n",
    "#6. | - Either or\n",
    "#7. () - capture and group"
   ]
  },
  {
   "cell_type": "code",
   "execution_count": null,
   "metadata": {},
   "outputs": [],
   "source": [
    "#Special Sequence \\\n",
    "#1. A return a match if the specific characters are at the begining of the string.\n",
    "#2. b return at the begining or the end.\n",
    "#3. d return numbers.\n",
    "#4. B return special value but not as A and b. \n",
    "#5. S  do not include white space.\n",
    "#6. s include white space character"
   ]
  },
  {
   "cell_type": "code",
   "execution_count": 10,
   "metadata": {},
   "outputs": [
    {
     "name": "stdout",
     "output_type": "stream",
     "text": [
      "['d', 'a', 'a', 'g', 'd', 'd', 'a']\n"
     ]
    }
   ],
   "source": [
    "import re\n",
    "value = \"Today is a good day\"\n",
    "ass = re.findall(\"[a-g]\", value)\n",
    "print(ass)"
   ]
  },
  {
   "cell_type": "code",
   "execution_count": 12,
   "metadata": {},
   "outputs": [
    {
     "name": "stdout",
     "output_type": "stream",
     "text": [
      "['good day']\n"
     ]
    }
   ],
   "source": [
    "import re\n",
    "value = \"Today is a good day\"\n",
    "ass = re.findall(\"good day\", value)\n",
    "print(ass)"
   ]
  },
  {
   "cell_type": "code",
   "execution_count": 5,
   "metadata": {},
   "outputs": [
    {
     "name": "stdout",
     "output_type": "stream",
     "text": [
      "['good day']\n"
     ]
    }
   ],
   "source": [
    "import re\n",
    "value = \"Today is a good day\"\n",
    "pattern = re.compile(r\"good day\")\n",
    "ass = pattern.findall(value)\n",
    "print(ass)"
   ]
  },
  {
   "cell_type": "code",
   "execution_count": 13,
   "metadata": {},
   "outputs": [
    {
     "name": "stdout",
     "output_type": "stream",
     "text": [
      "['2', '0', '2', '3'] is the first character in the sequence\n"
     ]
    }
   ],
   "source": [
    "new = \"python is great to learn  in 2023\"\n",
    "val = re.findall('\\d',new)\n",
    "if val:\n",
    "    print(f\"{val} is the first character in the sequence\")\n",
    "else:\n",
    "    print(f\"{val} is not the first\")"
   ]
  },
  {
   "cell_type": "code",
   "execution_count": 14,
   "metadata": {},
   "outputs": [
    {
     "name": "stdout",
     "output_type": "stream",
     "text": [
      "['jack@niit.com', 'nancy@niit.com']\n"
     ]
    }
   ],
   "source": [
    "import re \n",
    "# using \\S method; does not include white space.\n",
    "statement = \" Hello from jack@niit.com to nancy@niit.com about the meeting @ 4pm\"\n",
    "email = re.findall('\\S+@\\S+', statement)\n",
    "print(email)"
   ]
  },
  {
   "cell_type": "code",
   "execution_count": 2,
   "metadata": {},
   "outputs": [
    {
     "name": "stdout",
     "output_type": "stream",
     "text": [
      "['$10.00', '$5.00']\n"
     ]
    }
   ],
   "source": [
    "import re \n",
    "x = 'we just recieved $10.00 and $5.00 for cookies'\n",
    "y = re.findall('\\$[0-9.]+',x)\n",
    "print(y)"
   ]
  },
  {
   "cell_type": "code",
   "execution_count": null,
   "metadata": {},
   "outputs": [],
   "source": [
    "# email address validation\n",
    "email_val =  \"[A-Za-z0-9._-]+@[A-Za-z0-9._-]+\\.[A-Za-z]\"\n",
    "\n",
    "def check_email(email):\n",
    "    if(re.search(email_val,email)):\n",
    "        print(F\"{email} is valid email address\")\n",
    "    else:\n",
    "        print(f\"{email} is not valid email address\")\n",
    "check_email(input(\"enter email address\"))"
   ]
  },
  {
   "cell_type": "code",
   "execution_count": 19,
   "metadata": {},
   "outputs": [
    {
     "name": "stdout",
     "output_type": "stream",
     "text": [
      "✅\n"
     ]
    }
   ],
   "source": [
    "#password validation\n",
    "password = input(\"Please a password with at least 6 characters\")\n",
    "if len(re.findall(\"[A-Za-z0-9.+@#$]\", password))==6:\n",
    "    print(\"✅\")\n",
    "else:\n",
    "    print(\"❌\")"
   ]
  },
  {
   "cell_type": "markdown",
   "metadata": {},
   "source": [
    "python OOP"
   ]
  },
  {
   "cell_type": "code",
   "execution_count": null,
   "metadata": {},
   "outputs": [],
   "source": [
    "#IN OPP\n",
    "#We learn The component of OOP:\n",
    "#1:  CLASS,\n",
    "#2:  OBJECT,\n",
    "#3: METHODS,\n",
    "#4: INSTANCES, is a variable in any method\n",
    "#5: ATTRIBUTE, \n",
    "#6: IDENTITY,\n",
    "#7: BLUE PRINT OR PROTO TYPE,\n",
    "#8: CONSTRUCTOR,\n",
    "#9: INHERITANCE,\n",
    "#10: POLYMORPHISM,\n",
    "#11: ENCAPSULATION,\n",
    "#12: DATA ABSTRACTION1,\n",
    "#13:  STATICS"
   ]
  },
  {
   "cell_type": "markdown",
   "metadata": {},
   "source": [
    "Class is a user-defined data type(it consist of data members and member funtions)"
   ]
  },
  {
   "cell_type": "code",
   "execution_count": 8,
   "metadata": {},
   "outputs": [],
   "source": [
    "class Dog1:\n",
    "    #attribute of a class\n",
    "    name = \"Ekuke\"\n",
    "    age = 5\n",
    "#ekuku is callded an object\n",
    "ekuke = Dog1() #Dog1 is called the blue print or proto type.\n"
   ]
  },
  {
   "cell_type": "code",
   "execution_count": 13,
   "metadata": {},
   "outputs": [
    {
     "name": "stdout",
     "output_type": "stream",
     "text": [
      "Eku 5\n"
     ]
    }
   ],
   "source": [
    "class Dog1:\n",
    "    name = \"Eku\"\n",
    "    age = 5\n",
    "#ekuke = Dog1()\n",
    "dog = Dog1()\n",
    "print(dog.name, dog.age)\n"
   ]
  },
  {
   "cell_type": "code",
   "execution_count": 17,
   "metadata": {},
   "outputs": [
    {
     "name": "stdout",
     "output_type": "stream",
     "text": [
      "Ekuke 5\n",
      "yes ekuke can sleep\n"
     ]
    }
   ],
   "source": [
    "class Dog1:\n",
    "    #name and age are called the attribute whlie \"Ekuke\" is called instance\n",
    "    name = \"Ekuke\"\n",
    "    age = 5\n",
    "    #method\n",
    "    def sleep(self):\n",
    "        print(\"yes ekuke can sleep\")\n",
    "#object\n",
    "ekuke = Dog1()#blue print or proto-type\n",
    "#dog = Dog1()\n",
    "print(ekuke.name, ekuke.age)\n",
    "dog.sleep()\n"
   ]
  },
  {
   "cell_type": "code",
   "execution_count": 24,
   "metadata": {},
   "outputs": [],
   "source": [
    "class USA:\n",
    "    president = \"Jeo Biden\"\n",
    "    speciality = \"Client Base Country\"\n",
    "    economy = \"Very Good\"\n",
    "    security = \"Very Good\"\n",
    "\n",
    "    def war(self):\n",
    "        weapon = \"Nuclear\"# this variable are called instance\n",
    "        print(f\"{weapon} is their best instrument of the year\")\n",
    "    def manufacture(self):\n",
    "        print(\"what a country with productivity ideas\")\n",
    "class Nigeria:\n",
    "    president = \"M.Buhari\"\n",
    "    speciality = \"Nothing\"\n",
    "    economy = \"worst\"\n",
    "    security = \"inexitent\"\n",
    "\n",
    "    def war(self):\n",
    "        weapon = \"cutlass\"\n",
    "        print(f\"{weapon} is their best instrument of the year\")\n",
    "    def manufacture(self):\n",
    "        print(\"what a country with zero\")"
   ]
  },
  {
   "cell_type": "code",
   "execution_count": 27,
   "metadata": {},
   "outputs": [
    {
     "data": {
      "text/plain": [
       "'Very Good'"
      ]
     },
     "execution_count": 27,
     "metadata": {},
     "output_type": "execute_result"
    }
   ],
   "source": [
    "usa = USA()\n",
    "usa.economy"
   ]
  },
  {
   "cell_type": "code",
   "execution_count": 28,
   "metadata": {},
   "outputs": [
    {
     "name": "stdout",
     "output_type": "stream",
     "text": [
      "Nuclear is their best instrument of the year\n",
      "what a country with productivity ideas\n"
     ]
    }
   ],
   "source": [
    "usa.war()\n",
    "usa.manufacture()"
   ]
  },
  {
   "cell_type": "code",
   "execution_count": 30,
   "metadata": {},
   "outputs": [
    {
     "data": {
      "text/plain": [
       "'M.Buhari'"
      ]
     },
     "execution_count": 30,
     "metadata": {},
     "output_type": "execute_result"
    }
   ],
   "source": [
    "ng = Nigeria()\n",
    "ng.president"
   ]
  },
  {
   "cell_type": "code",
   "execution_count": 31,
   "metadata": {},
   "outputs": [
    {
     "name": "stdout",
     "output_type": "stream",
     "text": [
      "cutlass is their best instrument of the year\n",
      "what a country with zero\n"
     ]
    }
   ],
   "source": [
    "ng.war()\n",
    "ng.manufacture()"
   ]
  },
  {
   "cell_type": "markdown",
   "metadata": {},
   "source": [
    "USING CONSTRUCTOR"
   ]
  },
  {
   "cell_type": "code",
   "execution_count": 32,
   "metadata": {},
   "outputs": [],
   "source": [
    "class school:\n",
    "    name = \"first state technology in Nigeria\"\n",
    "\n",
    "    #constructor\n",
    "    def __init__(self,faculty):\n",
    "        self.namy = faculty\n",
    "    def lautech(self):\n",
    "        print(\"Opps! it play\")\n",
    "    def Unilaf(self):\n",
    "        print(\"opps! it club\")\n",
    "    def uniben(self):\n",
    "        print(\"opps! it all\")"
   ]
  },
  {
   "cell_type": "code",
   "execution_count": 36,
   "metadata": {},
   "outputs": [
    {
     "data": {
      "text/plain": [
       "'LAUTECH'"
      ]
     },
     "execution_count": 36,
     "metadata": {},
     "output_type": "execute_result"
    }
   ],
   "source": [
    "lautech = school(\"LAUTECH\")\n",
    "lautech.namy"
   ]
  },
  {
   "cell_type": "code",
   "execution_count": 37,
   "metadata": {},
   "outputs": [
    {
     "data": {
      "text/plain": [
       "'HOT'"
      ]
     },
     "execution_count": 37,
     "metadata": {},
     "output_type": "execute_result"
    }
   ],
   "source": [
    "uniben = school(\"HOT\")\n",
    "uniben.namy"
   ]
  },
  {
   "cell_type": "markdown",
   "metadata": {},
   "source": [
    "INHERITANCE"
   ]
  },
  {
   "cell_type": "code",
   "execution_count": null,
   "metadata": {},
   "outputs": [],
   "source": [
    "# IS THE CAPABLILTY OF ONE CLASS TO DERIVE OR INHERIT THE PROPERTIES OF ANOTHER CLASS.\n",
    "#FOUR TYPES OF INHERETANCE\n",
    "#1. SINGLE INHERITANCE: ITS ENABLES A DERIVED CLASS TO INHERIT CHARACTERISTIC FROM A SINGLE PARENT CLASS.\n",
    "#2. MULTIPLE INHERITANCE:"
   ]
  },
  {
   "cell_type": "markdown",
   "metadata": {},
   "source": [
    "SINGLE INHERITANCE"
   ]
  },
  {
   "cell_type": "code",
   "execution_count": 4,
   "metadata": {},
   "outputs": [
    {
     "data": {
      "text/plain": [
       "'Dear feranmi YOUR ID is NIIT2022SWD and your post is Software Developer'"
      ]
     },
     "execution_count": 4,
     "metadata": {},
     "output_type": "execute_result"
    }
   ],
   "source": [
    "class company:\n",
    "    def __init__(self,name,idnumber):\n",
    "        self.name = name\n",
    "        self.idnumber = idnumber  \n",
    "\n",
    "    def display(self):\n",
    "        return self.name, self.idnumber\n",
    "\n",
    "class Employee(company):\n",
    "    def __init__(self,name,idnumber,salary,post):\n",
    "        self.salary = salary\n",
    "        self.post = post  \n",
    "\n",
    "        company.__init__(self,name,idnumber) #using invoke method\n",
    "\n",
    "    def details(self):\n",
    "        return f\"Dear {self.name} YOUR ID is {self.idnumber} and your post is {self.post}\"\n",
    "\n",
    "emp1 = Employee(\"feranmi\", \"NIIT2022SWD\",20000,\"Software Developer\")\n",
    "emp2 = Employee(\"victor\",\"NIIT2022DGM\",1000,\"Digital Marketer\")\n",
    "\n",
    "emp1.details()"
   ]
  },
  {
   "cell_type": "code",
   "execution_count": 2,
   "metadata": {},
   "outputs": [
    {
     "data": {
      "text/plain": [
       "('victor', 'NIIT2022DGM')"
      ]
     },
     "execution_count": 2,
     "metadata": {},
     "output_type": "execute_result"
    }
   ],
   "source": [
    "emp2.display()"
   ]
  },
  {
   "cell_type": "code",
   "execution_count": 25,
   "metadata": {},
   "outputs": [
    {
     "name": "stdout",
     "output_type": "stream",
     "text": [
      "Messi\n",
      "True\n"
     ]
    }
   ],
   "source": [
    "class Coach():\n",
    "    def __init__(self, name):\n",
    "        self.name = name\n",
    "    def Get_name(self):\n",
    "        return self.name\n",
    "    def IsSuperStar(self):\n",
    "        return False\n",
    "\n",
    "class Player(Coach):\n",
    "    def IsSuperStar(self):\n",
    "        return True\n",
    "    \n",
    "obj1 = Coach(\"Messi\")\n",
    "print(obj1.name)\n",
    "obj2 = Player(\"pep\")\n",
    "print(obj2.IsSuperStar())\n",
    "\n"
   ]
  },
  {
   "cell_type": "code",
   "execution_count": 27,
   "metadata": {},
   "outputs": [
    {
     "name": "stdout",
     "output_type": "stream",
     "text": [
      "Messi is the coach of the year\n",
      "True\n"
     ]
    }
   ],
   "source": [
    "class Coach():\n",
    "    def __init__(self, name):\n",
    "        self.name = name\n",
    "    def Get_name(self):\n",
    "        return f\"{self.name} is the coach of the year\"\n",
    "    def IsSuperStar(self):\n",
    "        return False\n",
    "\n",
    "class Player(Coach):\n",
    "    def IsSuperStar(self):\n",
    "        return True\n",
    "    \n",
    "obj1 = Coach(\"Messi\")\n",
    "print(obj1.Get_name())\n",
    "obj2 = Player(\"pep\")\n",
    "print(obj2.IsSuperStar())\n",
    "\n"
   ]
  },
  {
   "cell_type": "markdown",
   "metadata": {},
   "source": [
    "MULTIPLE INHERITANCE"
   ]
  },
  {
   "cell_type": "code",
   "execution_count": 37,
   "metadata": {},
   "outputs": [
    {
     "data": {
      "text/plain": [
       "'Opps! now i am blessed with Lautech from daddy and $40k from Pappy'"
      ]
     },
     "execution_count": 37,
     "metadata": {},
     "output_type": "execute_result"
    }
   ],
   "source": [
    "#when a child class inheritance from multuple parent classes.\n",
    "\n",
    "class Father:\n",
    "\n",
    "    def __init__(self):\n",
    "        self.education = \"Lautech\"\n",
    "        return self.education\n",
    "\n",
    "class StepFather:\n",
    "    def __init__(self):\n",
    "        self.money = \"$40k\"\n",
    "        return self.money\n",
    "\n",
    "class Son(Father, StepFather):\n",
    "\n",
    "    def __init__(self):\n",
    "        \n",
    "        Father.__init__(self) #Using invoke method\n",
    "        StepFather.__init__(self) #using invoke method\n",
    "\n",
    "    def myReward(self):\n",
    "        return f\"Opps! now i am blessed with {self.education} from daddy and {self.money} from Pappy\"\n",
    "\n",
    "feranmi = Son()\n",
    "feranmi.myReward()"
   ]
  },
  {
   "cell_type": "code",
   "execution_count": null,
   "metadata": {},
   "outputs": [],
   "source": [
    "#class project"
   ]
  },
  {
   "cell_type": "markdown",
   "metadata": {},
   "source": [
    "Multi-level Heritance"
   ]
  },
  {
   "cell_type": "markdown",
   "metadata": {},
   "source": [
    " eneble a derived class to inherit properties from an immediate parent class which in turn inherit properties from his parent class. "
   ]
  },
  {
   "cell_type": "code",
   "execution_count": 2,
   "metadata": {},
   "outputs": [],
   "source": [
    "class micky:\n",
    "    def __init__(self, name, knowledge):\n",
    "        self.name = \"michelle\"\n",
    "        self.knowledge = \"100%\"\n",
    "\n",
    "    def isSuperStar(self):\n",
    "        return True\n",
    "class clever(micky):\n",
    "\n",
    "    def __init__(self, name, knowledge):\n",
    "        self.name = \"Emmanuel\"\n",
    "        self.knowledge =  \"70%\"\n",
    "  \n",
    "    def isSuperStar(self):\n",
    "        return f\"Opps he has a level Of {self.knowledge}\"\n",
    "class ifekeys(clever):\n",
    "    def __init__(self, name, knowledge):\n",
    "        self.name = name\n",
    "        self.knowledge = knowledge\n",
    "\n",
    "    def isSuperStar(self):\n",
    "        return f\"Opps! he has a level of {self.knowledge} \"\n",
    "  "
   ]
  },
  {
   "cell_type": "code",
   "execution_count": 3,
   "metadata": {},
   "outputs": [
    {
     "data": {
      "text/plain": [
       "'Opps! he has a level of 0% '"
      ]
     },
     "execution_count": 3,
     "metadata": {},
     "output_type": "execute_result"
    }
   ],
   "source": [
    "obj = ifekeys(\"feranmi\", \"0%\")\n",
    "obj.isSuperStar()"
   ]
  },
  {
   "cell_type": "code",
   "execution_count": 6,
   "metadata": {},
   "outputs": [
    {
     "data": {
      "text/plain": [
       "'12b heaven gate'"
      ]
     },
     "execution_count": 6,
     "metadata": {},
     "output_type": "execute_result"
    }
   ],
   "source": [
    "class parent:\n",
    "    def __init__(self,name):\n",
    "        self.name = name\n",
    "\n",
    "    def getname(self):\n",
    "        return self.name\n",
    "\n",
    "class child(parent):\n",
    "    def __init__(self,name,age):\n",
    "        parent.__init__(self,name)\n",
    "        self.age = age\n",
    "\n",
    "    def getname(self):\n",
    "        return self.age\n",
    "        \n",
    "class grandchild(child):\n",
    "    def __init__(self, name, age, address):\n",
    "        child.__init__(self,name,age)\n",
    "        self.address = address\n",
    "\n",
    "    def getaddress(self):\n",
    "        return self.address\n",
    "\n",
    "obj = grandchild('benice',30,'12b heaven gate')\n",
    "obj.getaddress()\n"
   ]
  },
  {
   "cell_type": "markdown",
   "metadata": {},
   "source": [
    "HIERACHY INHERITANCE: IS DERIVED WHEN MORE THAN ONE DERIVED CLASS ARE CREATED FROM A SINGLE CLASS"
   ]
  },
  {
   "cell_type": "code",
   "execution_count": 6,
   "metadata": {},
   "outputs": [
    {
     "name": "stdout",
     "output_type": "stream",
     "text": [
      "this method is in parent class\n",
      "tinubu Ashiwaju\n"
     ]
    }
   ],
   "source": [
    "class parent:\n",
    "    def speciality(self):\n",
    "        print(\"this method is in parent class\")\n",
    "\n",
    "class child1(parent):\n",
    "    def name1(self):\n",
    "        print(\"Barak Obama\")\n",
    "\n",
    "class child2(parent):\n",
    "    def name2(self):\n",
    "        print(\"Peter Obi\")\n",
    "\n",
    "class child3(parent):\n",
    "    def name3(self):\n",
    "        print(\"tinubu Ashiwaju\")\n",
    "\n",
    "child1 = child1()\n",
    "child2 = child2()\n",
    "child3 = child3()\n",
    "\n",
    "child3.speciality()\n",
    "child3.name3()"
   ]
  },
  {
   "cell_type": "code",
   "execution_count": 2,
   "metadata": {},
   "outputs": [
    {
     "data": {
      "text/plain": [
       "' Mum love Beans, dad love Anambra, while their first daughter loves Channel bag'"
      ]
     },
     "execution_count": 2,
     "metadata": {},
     "output_type": "execute_result"
    }
   ],
   "source": [
    "class Mum:\n",
    "    def __init__(self, ffood):\n",
    "        self.ffood = ffood\n",
    "class Dad:\n",
    "    def __init__(self, fstate):\n",
    "        self.fstate = fstate\n",
    "\n",
    "class FSon(Mum, Dad):\n",
    "    def __init__(self, ffood, fstate, Bmusic):\n",
    "        self.Bmusic = Bmusic\n",
    "        Dad.__init__(self, fstate)\n",
    "        Mum.__init__(self, ffood)\n",
    "\n",
    "class Sson(Mum, Dad):\n",
    "    def __init__(self, ffood, fstate, Bmusic, Bgame):\n",
    "        self.Bgame = Bgame\n",
    "        Dad.__init__(self, fstate)\n",
    "        Mum.__init__(self, ffood)\n",
    "\n",
    "class Fdaughter(Mum, Dad):\n",
    "    def __init__(self, ffood, fstate, Bmusic, Bgame, Bdress):\n",
    "        self.Bdress = Bdress\n",
    "        Dad.__init__(self, fstate)\n",
    "        Mum.__init__(self, ffood)\n",
    "\n",
    "class Sdaughter(Mum, Dad):\n",
    "    def __init__(self, ffood, fstate, Bmusic, Bgame, Bdress, Bbag):\n",
    "        self.Bmusic = Bmusic\n",
    "        self.Bdress = Bdress\n",
    "        self.Bgame = Bgame\n",
    "        self.Bbag = Bbag\n",
    "        Dad.__init__(self, fstate)\n",
    "        Mum.__init__(self, ffood)\n",
    "\n",
    "    def details(self):\n",
    "        return f\" Mum love {self.ffood}, dad love {self.fstate}, while their first daughter loves {self.Bbag}\"\n",
    "\n",
    "obj = Sdaughter(\"Beans\", \"Anambra\", \"Davido\", \"Candycrush\", \"Dinnergown\", \"Channel bag\")\n",
    "obj.details()\n",
    "#obj.Bdress\n",
    "#obj.Bgame"
   ]
  },
  {
   "cell_type": "markdown",
   "metadata": {},
   "source": [
    "Encapsulation"
   ]
  },
  {
   "cell_type": "markdown",
   "metadata": {},
   "source": [
    "it describes the idea of wrapping data and the methods directly within one unit "
   ]
  },
  {
   "cell_type": "code",
   "execution_count": 1,
   "metadata": {},
   "outputs": [
    {
     "name": "stdout",
     "output_type": "stream",
     "text": [
      "Finance gave a report of $ 100000 at the end of year 2022\n",
      "from Audit dept. \n",
      " we notice $1000000 in finance report.\n"
     ]
    }
   ],
   "source": [
    "class Finance:\n",
    "    def __init__(self):\n",
    "        #protected data\n",
    "        self.capital = 1000000\n",
    "        self.mainbalance = 100000\n",
    "\n",
    "class Audit(Finance):\n",
    "    def __init__(self):\n",
    "        Finance.__init__(self)\n",
    "        assignment = self.capital - self.mainbalance\n",
    "        final_audit = assignment\n",
    "        self.mainbalance = self.mainbalance + assignment\n",
    "\n",
    "audit = Audit()\n",
    "finance = Finance()\n",
    "print(f\"Finance gave a report of $ {finance.mainbalance} at the end of year 2022\")\n",
    "print(f\"from Audit dept. \\n we notice ${audit.mainbalance} in finance report.\")"
   ]
  },
  {
   "cell_type": "markdown",
   "metadata": {},
   "source": [
    "Polymorphism"
   ]
  },
  {
   "cell_type": "markdown",
   "metadata": {},
   "source": [
    "polymorphism means having many forms (function name but different signatures)"
   ]
  },
  {
   "cell_type": "code",
   "execution_count": 14,
   "metadata": {},
   "outputs": [],
   "source": [
    "class Messi:\n",
    "    def realGoat(self):\n",
    "        pass\n",
    "    def country(self):\n",
    "        pass\n",
    "    def worldcup(self):\n",
    "        pass\n",
    "\n",
    "class Ronaldo:\n",
    "    def realGoat(self):\n",
    "        pass\n",
    "    def country(self):\n",
    "        pass\n",
    "    def worldcup(self):\n",
    "        pass\n",
    "is_Messi = Messi()\n",
    "is_ronaldo = Ronaldo()\n",
    "\n",
    "for item in (is_Messi, is_ronaldo):\n",
    "    item.realGoat()\n",
    "    item.country()\n",
    "    item.worldcup()\n",
    "\n"
   ]
  },
  {
   "cell_type": "code",
   "execution_count": 21,
   "metadata": {},
   "outputs": [
    {
     "data": {
      "text/plain": [
       "'Messi is from Argentina'"
      ]
     },
     "execution_count": 21,
     "metadata": {},
     "output_type": "execute_result"
    }
   ],
   "source": [
    "class Messi:\n",
    "    def realGoat(self):\n",
    "        return f\"Messi is the real Goat and a good player\"\n",
    "    def country(self):\n",
    "        return f\"Messi is from Argentina\"\n",
    "    def worldcup(self):\n",
    "        return f\"Argentina will win the world cup\"\n",
    "\n",
    "class Ronaldo:\n",
    "    def realGoat(self):\n",
    "        return f\"Ronaldo is not the real Goat and a good player\"\n",
    "    def country(self):\n",
    "        return f\"Ronaldo is from Portugal\"\n",
    "    def worldcup(self):\n",
    "        return f\"Opps! portugal lost the match\"\n",
    "is_Messi = Messi()\n",
    "is_ronaldo = Ronaldo()\n",
    "is_Messi.country()"
   ]
  },
  {
   "cell_type": "code",
   "execution_count": 8,
   "metadata": {},
   "outputs": [
    {
     "name": "stdout",
     "output_type": "stream",
     "text": [
      "Messi is the real Goat and a good player\n",
      "Messi is from Argentina\n",
      "Argentina will win the world cup\n",
      "Ronaldo is not the real Goat and a good player\n",
      "Ronaldo is from Portugal\n",
      "Opps! portugal lost the match\n"
     ]
    }
   ],
   "source": [
    "class Messi:\n",
    "    def realGoat(self):\n",
    "        return f\"Messi is the real Goat and a good player\"\n",
    "    def country(self):\n",
    "        return f\"Messi is from Argentina\"\n",
    "    def worldcup(self):\n",
    "        return f\"Argentina will win the world cup\"\n",
    "\n",
    "class Ronaldo:\n",
    "    def realGoat(self):\n",
    "        return f\"Ronaldo is not the real Goat and a good player\"\n",
    "    def country(self):\n",
    "        return f\"Ronaldo is from Portugal\"\n",
    "    def worldcup(self):\n",
    "        return f\"Opps! portugal lost the match\"\n",
    "is_Messi = Messi()\n",
    "is_ronaldo = Ronaldo()\n",
    "\n",
    "for item in (is_Messi, is_ronaldo):\n",
    "    item.realGoat()\n",
    "    item.country()\n",
    "    item.worldcup()\n",
    "    print(item.realGoat())\n",
    "    print(item.country())\n",
    "    print(item.worldcup())\n"
   ]
  },
  {
   "cell_type": "markdown",
   "metadata": {},
   "source": [
    "DATA ABSTRACTION"
   ]
  },
  {
   "cell_type": "markdown",
   "metadata": {},
   "source": [
    "IS A PROCESS OF HANDLING COMPLEXITY BY HIDING UNNECESSARY INFORMATION FRON THE USER. "
   ]
  },
  {
   "cell_type": "code",
   "execution_count": 2,
   "metadata": {},
   "outputs": [
    {
     "data": {
      "text/plain": [
       "'I have 2 sides'"
      ]
     },
     "execution_count": 2,
     "metadata": {},
     "output_type": "execute_result"
    }
   ],
   "source": [
    "from abc import  ABC, abstractmethod\n",
    "\n",
    "class Polygon: \n",
    "\n",
    "    @abstractmethod\n",
    "    def noofsides(self):\n",
    "        return f\"Polygon has its sides from 3 upwards\"\n",
    "\n",
    "class Triangle(Polygon):\n",
    "    def noofsides(self):\n",
    "        return f\"I have 2 sides\"\n",
    "\n",
    "class Hexagon(Polygon):\n",
    "    def noofsides(self):\n",
    "        return f\"I have 6 sides\"\n",
    "T = Triangle()\n",
    "T.noofsides()"
   ]
  },
  {
   "cell_type": "markdown",
   "metadata": {},
   "source": [
    "PYTHON GUI(kinter)"
   ]
  },
  {
   "cell_type": "code",
   "execution_count": 1,
   "metadata": {},
   "outputs": [],
   "source": [
    "import tkinter as tk"
   ]
  },
  {
   "cell_type": "code",
   "execution_count": 4,
   "metadata": {},
   "outputs": [],
   "source": [
    "from tkinter import *\n",
    "\n",
    "gui = Tk()\n",
    "gui.title(\"project X\")\n",
    "\n",
    "gui.mainloop()"
   ]
  },
  {
   "cell_type": "code",
   "execution_count": 10,
   "metadata": {},
   "outputs": [],
   "source": [
    "from tkinter import *\n",
    "gui = Tk()\n",
    "gui.title('Project X')\n",
    "name = Label(gui, text='Victor Osuji').pack()\n",
    "\n",
    "gui.mainloop()\n"
   ]
  },
  {
   "cell_type": "code",
   "execution_count": 11,
   "metadata": {},
   "outputs": [],
   "source": [
    "from tkinter import *\n",
    "gui = Tk()\n",
    "gui.title(\"Project X\")\n",
    "gui.geometry(\"700x500\")\n",
    "frame = Frame(gui)\n",
    "frame.grid()\n",
    "\n",
    "butt = Button(frame, text=\"National ID Form\", fg=\"red\").grid(row=0, column= 1)\n",
    "\n",
    "labe1 = Label(frame, text=\"Surname:\", fg=\"red\").grid(row=1)\n",
    "label2 = Label(frame, text=\"Middlename:\", fg=\"red\").grid(row=2)\n",
    "label3 = Label(frame, text=\"Lastname:\", fg=\"red\").grid(row=3)\n",
    "label4 = Label(frame, text=\"Address:\", fg=\"red\").grid(row=4)\n",
    "label5 = Label(frame, text=\"State Of Origin:\", fg=\"red\").grid(row=5)\n",
    "label6 = Label(frame, text=\"Place Of Birth:\", fg=\"red\").grid(row=6)\n",
    "label7 = Label(frame, text=\"Nationalism:\", fg=\"red\").grid(row=7)\n",
    "label8 = Label(frame, text=\"Mobile number:\"   , fg=\"red\").grid(row=8)\n",
    "\n",
    "e1 = Entry(frame).grid(row=1, column=1)\n",
    "e2 = Entry(frame).grid(row=2, column=1)\n",
    "e3 = Entry(frame).grid(row=3, column=1)\n",
    "e4 = Entry(frame).grid(row=4, column=1)\n",
    "e5 = Entry(frame).grid(row=5, column=1)\n",
    "e6 = Entry(frame).grid(row=6, column=1)\n",
    "e7 = Entry(frame).grid(row=7, column=1)\n",
    "e8 = Entry(frame).grid(row=8, column=1)\n",
    "\n",
    "checkb1 = Checkbutton(frame, text=\"Female\", fg=\"red\").grid(row=10, column=1)\n",
    "checkb2 = Checkbutton(frame, text=\"Male\", fg=\"red\").grid(row=10)\n",
    "\n",
    "label9 = Label(frame, text=\"Marital Status:\", fg=\"red\").grid(row=11)\n",
    "checkb3 = Checkbutton(frame, text=\"Married\", fg=\"red\").grid(row=11, column=1)\n",
    "checkb3 = Checkbutton(frame, text=\"Single\", fg=\"red\").grid(row=11, column=2)\n",
    "\n",
    "gui.mainloop()"
   ]
  },
  {
   "cell_type": "code",
   "execution_count": 13,
   "metadata": {},
   "outputs": [],
   "source": [
    "from tkinter import *\n",
    "from time import strftime\n",
    "\n",
    "gui = Tk()\n",
    "gui.title(\"Current Time App\")\n",
    "gui.geometry(\"1000x1000\")\n",
    "\n",
    "def time():\n",
    "    string = strftime(\"%H:%M:%S\")\n",
    "    label.config(text=string)\n",
    "    label.after(1000, time)\n",
    "\n",
    "\n",
    "label = Label(gui,font=(\"ds-digital\", 100), background=\"red\", foreground=\"black\")\n",
    "label.pack()\n",
    "#Button(gui, command=time()).pack(anchor=\"center\") \n",
    "time()\n",
    "\n",
    "gui.mainloop()"
   ]
  },
  {
   "cell_type": "code",
   "execution_count": 5,
   "metadata": {},
   "outputs": [
    {
     "name": "stdout",
     "output_type": "stream",
     "text": [
      "                                                            2022\n",
      "\n",
      "      January                   February                   March                     April                      May\n",
      "Mo Tu We Th Fr Sa Su      Mo Tu We Th Fr Sa Su      Mo Tu We Th Fr Sa Su      Mo Tu We Th Fr Sa Su      Mo Tu We Th Fr Sa Su\n",
      "                1  2          1  2  3  4  5  6          1  2  3  4  5  6                   1  2  3                         1\n",
      " 3  4  5  6  7  8  9       7  8  9 10 11 12 13       7  8  9 10 11 12 13       4  5  6  7  8  9 10       2  3  4  5  6  7  8\n",
      "10 11 12 13 14 15 16      14 15 16 17 18 19 20      14 15 16 17 18 19 20      11 12 13 14 15 16 17       9 10 11 12 13 14 15\n",
      "17 18 19 20 21 22 23      21 22 23 24 25 26 27      21 22 23 24 25 26 27      18 19 20 21 22 23 24      16 17 18 19 20 21 22\n",
      "24 25 26 27 28 29 30      28                        28 29 30 31               25 26 27 28 29 30         23 24 25 26 27 28 29\n",
      "31                                                                                                      30 31\n",
      "\n",
      "        June                      July                     August                  September                  October\n",
      "Mo Tu We Th Fr Sa Su      Mo Tu We Th Fr Sa Su      Mo Tu We Th Fr Sa Su      Mo Tu We Th Fr Sa Su      Mo Tu We Th Fr Sa Su\n",
      "       1  2  3  4  5                   1  2  3       1  2  3  4  5  6  7                1  2  3  4                      1  2\n",
      " 6  7  8  9 10 11 12       4  5  6  7  8  9 10       8  9 10 11 12 13 14       5  6  7  8  9 10 11       3  4  5  6  7  8  9\n",
      "13 14 15 16 17 18 19      11 12 13 14 15 16 17      15 16 17 18 19 20 21      12 13 14 15 16 17 18      10 11 12 13 14 15 16\n",
      "20 21 22 23 24 25 26      18 19 20 21 22 23 24      22 23 24 25 26 27 28      19 20 21 22 23 24 25      17 18 19 20 21 22 23\n",
      "27 28 29 30               25 26 27 28 29 30 31      29 30 31                  26 27 28 29 30            24 25 26 27 28 29 30\n",
      "                                                                                                        31\n",
      "\n",
      "      November                  December\n",
      "Mo Tu We Th Fr Sa Su      Mo Tu We Th Fr Sa Su\n",
      "    1  2  3  4  5  6                1  2  3  4\n",
      " 7  8  9 10 11 12 13       5  6  7  8  9 10 11\n",
      "14 15 16 17 18 19 20      12 13 14 15 16 17 18\n",
      "21 22 23 24 25 26 27      19 20 21 22 23 24 25\n",
      "28 29 30                  26 27 28 29 30 31\n",
      "\n"
     ]
    }
   ],
   "source": [
    "from calendar import calendar\n",
    "\n",
    "year = 2022\n",
    "column = 5\n",
    "print(calendar(theyear = year, m = column))"
   ]
  },
  {
   "cell_type": "code",
   "execution_count": 14,
   "metadata": {},
   "outputs": [],
   "source": [
    "import calendar\n",
    "from tkinter import *\n",
    "cal = Tk()\n",
    "cal.title(\"Calender App\")\n",
    "cal.geometry(\"250x140\")\n",
    "\n",
    "def showCalendar():\n",
    "    pass\n",
    "\n",
    "cal_ = Label(cal, bg=\"grey\", font=(\"times\"))\n",
    "year_ = Label(cal, text=\"Enter Year\", bg=\"dark grey\").grid(row=2, column=1)\n",
    "year_feild = Entry(cal).grid(row=3, column=1)\n",
    "\n",
    "button = Button(cal, text=\"Show Calendee\", fg=\"black\",bg=\"blue\",command=showCalendar).grid(row=3, column=1)\n",
    "\n",
    "cal.mainloop()"
   ]
  },
  {
   "cell_type": "code",
   "execution_count": null,
   "metadata": {},
   "outputs": [],
   "source": [
    "\n",
    "from tkinter import *\n",
    " \n",
    "def showCalendar():\n",
    "    gui = Tk()\n",
    "    gui.geometry(\"550x600\")\n",
    "\n",
    "    year = int(year_feild.get())\n",
    "\n",
    "    result = Label(cal, text=real_cal)\n",
    "    result.grid(row=5, column=1, padx=15)\n",
    "\n",
    "    gui.mainloop()\n"
   ]
  },
  {
   "cell_type": "code",
   "execution_count": 15,
   "metadata": {},
   "outputs": [
    {
     "name": "stderr",
     "output_type": "stream",
     "text": [
      "Exception in Tkinter callback\n",
      "Traceback (most recent call last):\n",
      "  File \"c:\\Users\\user\\AppData\\Local\\Programs\\Python\\Python311\\Lib\\tkinter\\__init__.py\", line 1948, in __call__\n",
      "    return self.func(*args)\n",
      "           ^^^^^^^^^^^^^^^^\n",
      "  File \"C:\\Users\\user\\AppData\\Local\\Temp\\ipykernel_6840\\1294638478.py\", line 8, in showCalendar\n",
      "    year = int(year_feild.get())\n",
      "               ^^^^^^^^^^^^^^\n",
      "AttributeError: 'NoneType' object has no attribute 'get'\n"
     ]
    }
   ],
   "source": [
    "import calendar\n",
    "from tkinter import *\n",
    " \n",
    "def showCalendar():\n",
    "    gui = Tk()\n",
    "    gui.geometry(\"550x600\")\n",
    "\n",
    "    year = int(year_feild.get())\n",
    "    real_cal = calendar.calendar\n",
    "    result = Label(cal, text=real_cal)\n",
    "    result.grid(row=5, column=1, padx=15)\n",
    "\n",
    "    gui.mainloop()\n",
    "\n",
    "if __name__== \"__main__\":\n",
    "    cal = Tk()\n",
    "    cal.title(\"Calender App\")\n",
    "    cal.geometry(\"250x140\")\n",
    "    cal_ = Label(cal, bg=\"grey\", font=(\"times\", 28, \"bold\")).grid(row=1, column=1)\n",
    "    year_ = Label(cal, text=\"Enter Year\", bg=\"dark grey\").grid(row=2, column=1)\n",
    "    year_feild = Entry(cal).grid(row=3, column=1)\n",
    "    button = Button(cal, text=\"Show Calender\", fg=\"Black\", bg=\"Blue\",\n",
    "    command=showCalendar).grid(row=4, column=1)\n",
    "\n",
    "\n",
    "cal.mainloop()"
   ]
  },
  {
   "cell_type": "code",
   "execution_count": null,
   "metadata": {},
   "outputs": [],
   "source": [
    "a = {\n",
    "    \"GOOD\":\"good\"\n",
    "}\n",
    "\n",
    "b = input(\"\")\n"
   ]
  },
  {
   "cell_type": "code",
   "execution_count": 34,
   "metadata": {},
   "outputs": [
    {
     "name": "stdout",
     "output_type": "stream",
     "text": [
      "2\n",
      "001\n",
      "2\n",
      "chuck\n",
      "009\n",
      "20\n",
      "ghost\n"
     ]
    }
   ],
   "source": [
    "#convert JSON to python\n",
    "import json\n",
    "input ='''[{\n",
    "    \"id\":\"001\",\n",
    "    \"x\":2,\n",
    "    \"name\":\"chuck\"\n",
    "},{\n",
    "    \"id\":\"009\",\n",
    "    \"x\":20,\n",
    "    \"name\":\"ghost\"\n",
    "}]'''\n",
    "info = json.loads(input)\n",
    "info\n",
    "print(len(info))\n",
    "for item in info:\n",
    "    print(item[\"id\"])\n",
    "    print(item[\"x\"])\n",
    "    print(item[\"name\"])"
   ]
  },
  {
   "cell_type": "code",
   "execution_count": 21,
   "metadata": {},
   "outputs": [
    {
     "data": {
      "text/plain": [
       "'[{\"id\": \"001\", \"x\": 2, \"name\": \"chuck\"}, {\"id\": \"009\", \"x\": 20, \"name\": \"ghost\"}]'"
      ]
     },
     "execution_count": 21,
     "metadata": {},
     "output_type": "execute_result"
    }
   ],
   "source": [
    "import json\n",
    "#convert python to json\n",
    "input ={\n",
    "    \"id\":\"001\",\n",
    "    \"x\":2,\n",
    "    \"name\":\"chuck\"\n",
    "\n",
    "},{\n",
    "    \"id\":\"009\",\n",
    "    \"x\":20,\n",
    "    \"name\":\"ghost\"\n",
    "}\n",
    "\n",
    "\n",
    "info = json.dumps(input)\n",
    "# print(len(info\n",
    "info\n"
   ]
  },
  {
   "cell_type": "code",
   "execution_count": 29,
   "metadata": {},
   "outputs": [
    {
     "data": {
      "text/plain": [
       "'{\"name\": \"Beniluv\", \"age\": 10, \"relationship\": \"searching\", \"male\": false, \"hobbies\": [\"Swimming\", \"cooking\", \"coding\"], \"pets\": null, \"cars\": {\"model\": \"2011\", \"brand\": \"Acura\"}, \"friends\": [\"peter\", \"victor\", \"feranmi\"], \"height\": 5.9}'"
      ]
     },
     "execution_count": 29,
     "metadata": {},
     "output_type": "execute_result"
    }
   ],
   "source": [
    "info = {\n",
    "    'name':'Beniluv',\n",
    "    'age':10,\n",
    "    'relationship':'searching',\n",
    "    'male':False,\n",
    "    'hobbies':('Swimming','cooking','coding'),\n",
    "    'pets':None,\n",
    "    'cars':{\n",
    "        'model':'2011',\n",
    "        'brand':'Acura'\n",
    "    },\n",
    "    'friends':['peter','victor','feranmi'],\n",
    "    'height':5.90,\n",
    "    # 'food':{'amala','rice','thing'}\n",
    "    #converting python to json....\n",
    "\n",
    "}\n",
    "\n",
    "val =json.dumps(info)\n",
    "val"
   ]
  },
  {
   "cell_type": "code",
   "execution_count": 2,
   "metadata": {},
   "outputs": [
    {
     "name": "stdout",
     "output_type": "stream",
     "text": [
      "http://maps.googleapis.com/maps/api/geocode/json?\n"
     ]
    }
   ],
   "source": [
    "import urllib \n",
    "import json\n",
    "serviceurl = 'http://maps.googleapis.com/maps/api/geocode/json?'\n",
    "\n",
    "#print(serviceurl)\n",
    "while True:\n",
    "    address = input(\"Enter your location\")\n",
    "    if len(address) < 1 : \n",
    "        break\n",
    "    url = serviceurl + urllib.urlencode({\n",
    "        'sencor': 'false',\n",
    "        'address':address\n",
    "    })\n",
    "\n",
    "    new = urllib.urlopen(url)\n",
    "    output = new.read()\n",
    "    print(len(output))\n"
   ]
  },
  {
   "cell_type": "code",
   "execution_count": 48,
   "metadata": {},
   "outputs": [
    {
     "name": "stdout",
     "output_type": "stream",
     "text": [
      "BTCUSDT price is 22750.23000000 quantity is \n",
      "DOGEUSDT price is 0.08673000 quantity is \n",
      "LTCUSDT price is 97.99000000 quantity is \n"
     ]
    }
   ],
   "source": [
    "import json\n",
    "import requests\n",
    "\n",
    "key = \"https://api.binance.com/api/v3/ticker/price?symbol=\"\n",
    "currencies = [\"BTCUSDT\", \"DOGEUSDT\", \"LTCUSDT\"]\n",
    "a = 0\n",
    "\n",
    "for item in currencies:\n",
    "    url = key + currencies[a]\n",
    "    data = requests.get(url)\n",
    "    data = data.json()\n",
    "    a = a + 1\n",
    "\n",
    "    print(f\"{data['symbol']} price is {data['price']} quantity is \")"
   ]
  },
  {
   "cell_type": "code",
   "execution_count": 3,
   "metadata": {},
   "outputs": [
    {
     "name": "stdout",
     "output_type": "stream",
     "text": [
      "[{'abv': 7.2,\n",
      "  'attenuation_level': 67,\n",
      "  'boil_volume': {'unit': 'litres', 'value': 25},\n",
      "  'brewers_tips': 'Make sure you have a big enough yeast starter to ferment '\n",
      "                  'through the OG and lager successfully.',\n",
      "  'contributed_by': 'Sam Mason <samjbmason>',\n",
      "  'description': 'An Imperial Pilsner in collaboration with beer writers. '\n",
      "                 'Tradition. Homage. Revolution. We wanted to showcase the '\n",
      "                 'awesome backbone of the Czech brewing tradition, the noble '\n",
      "                 'Saaz hop, and also tip our hats to the modern beers that '\n",
      "                 'rock our world, and the people who make them.',\n",
      "  'ebc': 10,\n",
      "  'first_brewed': '02/2011',\n",
      "  'food_pairing': ['Vietnamese squid salad',\n",
      "                   'Chargrilled corn on the cob with paprika butter',\n",
      "                   'Strawberry and rhubarb pie'],\n",
      "  'ibu': 59,\n",
      "  'id': 5,\n",
      "  'image_url': 'https://images.punkapi.com/v2/5.png',\n",
      "  'ingredients': {'hops': [{'add': 'start',\n",
      "                            'amount': {'unit': 'grams', 'value': 60},\n",
      "                            'attribute': 'bitter',\n",
      "                            'name': 'Saaz'},\n",
      "                           {'add': 'middle',\n",
      "                            'amount': {'unit': 'grams', 'value': 60},\n",
      "                            'attribute': 'flavour',\n",
      "                            'name': 'Saaz'},\n",
      "                           {'add': 'end',\n",
      "                            'amount': {'unit': 'grams', 'value': 60},\n",
      "                            'attribute': 'flavour',\n",
      "                            'name': 'Saaz'}],\n",
      "                  'malt': [{'amount': {'unit': 'kilograms', 'value': 6.63},\n",
      "                            'name': 'Lager Malt'},\n",
      "                           {'amount': {'unit': 'kilograms', 'value': 0.38},\n",
      "                            'name': 'Wheat'}],\n",
      "                  'yeast': 'Wyeast 2007 - Pilsen Lager™'},\n",
      "  'method': {'fermentation': {'temp': {'unit': 'celsius', 'value': 10}},\n",
      "             'mash_temp': [{'duration': 70,\n",
      "                            'temp': {'unit': 'celsius', 'value': 66}}],\n",
      "             'twist': None},\n",
      "  'name': 'Avery Brown Dredge',\n",
      "  'ph': 4.4,\n",
      "  'srm': 5,\n",
      "  'tagline': \"Bloggers' Imperial Pilsner.\",\n",
      "  'target_fg': 1027,\n",
      "  'target_og': 1069,\n",
      "  'volume': {'unit': 'litres', 'value': 20}},\n",
      " {'abv': 4.7,\n",
      "  'attenuation_level': 78,\n",
      "  'boil_volume': {'unit': 'litres', 'value': 25},\n",
      "  'brewers_tips': 'Once the primary fermentation is complete get this beer as '\n",
      "                  \"cold as you can and let it mature for as long as you've \"\n",
      "                  'got.',\n",
      "  'contributed_by': 'Sam Mason <samjbmason>',\n",
      "  'description': 'Fake is the new black. Fake is where it is at. Fake Art, '\n",
      "                 'fake brands, fake breasts, and fake lager. We want to play '\n",
      "                 'our part in the ugly fallout from the Lager Dream. Say hello '\n",
      "                 'to Fake Lager – a zesty, floral 21st century faux '\n",
      "                 'masterpiece with added BrewDog bitterness.',\n",
      "  'ebc': 12,\n",
      "  'first_brewed': '03/2013',\n",
      "  'food_pairing': ['Fried crab cakes with avocado salsa',\n",
      "                   'Spicy shredded pork roll with hot dipping sauce',\n",
      "                   'Key lime pie'],\n",
      "  'ibu': 40,\n",
      "  'id': 8,\n",
      "  'image_url': 'https://images.punkapi.com/v2/8.png',\n",
      "  'ingredients': {'hops': [{'add': 'start',\n",
      "                            'amount': {'unit': 'grams', 'value': 7.5},\n",
      "                            'attribute': 'bitter',\n",
      "                            'name': 'Magnum'},\n",
      "                           {'add': 'middle',\n",
      "                            'amount': {'unit': 'grams', 'value': 5},\n",
      "                            'attribute': 'flavour',\n",
      "                            'name': 'Magnum'},\n",
      "                           {'add': 'middle',\n",
      "                            'amount': {'unit': 'grams', 'value': 6.25},\n",
      "                            'attribute': 'flavour',\n",
      "                            'name': 'Hersbrucker'},\n",
      "                           {'add': 'middle',\n",
      "                            'amount': {'unit': 'grams', 'value': 6.25},\n",
      "                            'attribute': 'flavour',\n",
      "                            'name': 'Saaz'},\n",
      "                           {'add': 'end',\n",
      "                            'amount': {'unit': 'grams', 'value': 18.75},\n",
      "                            'attribute': 'flavour',\n",
      "                            'name': 'Hersbrucker'},\n",
      "                           {'add': 'end',\n",
      "                            'amount': {'unit': 'grams', 'value': 18.75},\n",
      "                            'attribute': 'flavour',\n",
      "                            'name': 'Saaz'}],\n",
      "                  'malt': [{'amount': {'unit': 'kilograms', 'value': 3.33},\n",
      "                            'name': 'Extra Pale'},\n",
      "                           {'amount': {'unit': 'kilograms', 'value': 0.42},\n",
      "                            'name': 'Munich'},\n",
      "                           {'amount': {'unit': 'kilograms', 'value': 0.28},\n",
      "                            'name': 'Caramalt'},\n",
      "                           {'amount': {'unit': 'kilograms', 'value': 0.07},\n",
      "                            'name': 'Acidulated Malt'}],\n",
      "                  'yeast': 'Wyeast 2007 - Pilsen Lager™'},\n",
      "  'method': {'fermentation': {'temp': {'unit': 'celsius', 'value': 10}},\n",
      "             'mash_temp': [{'duration': 75,\n",
      "                            'temp': {'unit': 'celsius', 'value': 65}}],\n",
      "             'twist': None},\n",
      "  'name': 'Fake Lager',\n",
      "  'ph': 4.4,\n",
      "  'srm': 6,\n",
      "  'tagline': 'Bohemian Pilsner.',\n",
      "  'target_fg': 1010,\n",
      "  'target_og': 1046,\n",
      "  'volume': {'unit': 'litres', 'value': 20}},\n",
      " {'abv': 7.5,\n",
      "  'attenuation_level': 80.9,\n",
      "  'boil_volume': {'unit': 'litres', 'value': 25},\n",
      "  'brewers_tips': 'Getting good Bramling Cross is key. Most English hops are '\n",
      "                  'in leaf form (not pelletised), so getting fresh hops close '\n",
      "                  'to harvest (September) will give this beer the right amount '\n",
      "                  'of dark berry intensity.',\n",
      "  'contributed_by': 'Sam Mason <samjbmason>',\n",
      "  'description': 'Good old Bramling Cross is elegant, refined, assured, '\n",
      "                 '(boring) and understated. Understated that is unless you hop '\n",
      "                 'the living daylights out of a beer with it. This is Bramling '\n",
      "                 'Cross re-invented and re-imagined, and shows just what can '\n",
      "                 'be done with English hops if you use enough of them. Poor '\n",
      "                 'Bramling Cross normally gets lost in a woeful stream of '\n",
      "                 'conformist brown ales made by sleepy cask ale brewers. But '\n",
      "                 'not anymore. This beer shows that British hops do have some '\n",
      "                 'soul, and is a fruity riot of blackberries, pears, and '\n",
      "                 'plums. Reminds me of the bramble, apple and ginger jam my '\n",
      "                 'grandmother used to make.',\n",
      "  'ebc': 22,\n",
      "  'first_brewed': '01/2011',\n",
      "  'food_pairing': ['Warm blackberry pie',\n",
      "                   'Vinegar doused fish and chips',\n",
      "                   'Aromatic korma curry with lemon and garlic naan'],\n",
      "  'ibu': 75,\n",
      "  'id': 10,\n",
      "  'image_url': 'https://images.punkapi.com/v2/10.png',\n",
      "  'ingredients': {'hops': [{'add': 'start',\n",
      "                            'amount': {'unit': 'grams', 'value': 60},\n",
      "                            'attribute': 'bitter',\n",
      "                            'name': 'Bramling Cross'},\n",
      "                           {'add': 'end',\n",
      "                            'amount': {'unit': 'grams', 'value': 50},\n",
      "                            'attribute': 'flavour',\n",
      "                            'name': 'Bramling Cross'}],\n",
      "                  'malt': [{'amount': {'unit': 'kilograms', 'value': 6.38},\n",
      "                            'name': 'Extra Pale'},\n",
      "                           {'amount': {'unit': 'kilograms', 'value': 0.13},\n",
      "                            'name': 'Crystal 150'},\n",
      "                           {'amount': {'unit': 'kilograms', 'value': 0.25},\n",
      "                            'name': 'Caramalt'}],\n",
      "                  'yeast': 'Wyeast 1056 - American Ale™'},\n",
      "  'method': {'fermentation': {'temp': {'unit': 'celsius', 'value': 19}},\n",
      "             'mash_temp': [{'duration': 75,\n",
      "                            'temp': {'unit': 'celsius', 'value': 65}}],\n",
      "             'twist': None},\n",
      "  'name': 'Bramling X',\n",
      "  'ph': 4.4,\n",
      "  'srm': 11,\n",
      "  'tagline': 'Single Hop IPA Series - 2011.',\n",
      "  'target_fg': 1013,\n",
      "  'target_og': 1068,\n",
      "  'volume': {'unit': 'litres', 'value': 20}}]\n"
     ]
    }
   ],
   "source": [
    "import requests\n",
    "import json\n",
    "import pprint\n",
    "\n",
    "url = \"https://api.punkapi.com/v2/beers?food=pie\"\n",
    "\n",
    "r = requests.get(url)\n",
    "data = json.loads(r.text)\n",
    "pprint.pprint(data[0:3])"
   ]
  },
  {
   "cell_type": "code",
   "execution_count": null,
   "metadata": {},
   "outputs": [],
   "source": []
  }
 ],
 "metadata": {
  "kernelspec": {
   "display_name": "Python 3.11.0 64-bit",
   "language": "python",
   "name": "python3"
  },
  "language_info": {
   "codemirror_mode": {
    "name": "ipython",
    "version": 3
   },
   "file_extension": ".py",
   "mimetype": "text/x-python",
   "name": "python",
   "nbconvert_exporter": "python",
   "pygments_lexer": "ipython3",
   "version": "3.11.0"
  },
  "orig_nbformat": 4,
  "vscode": {
   "interpreter": {
    "hash": "de47f5c92c0ee6f12a59a5613ac5feff6aab19ddff207ba0b3964cced08c4ccc"
   }
  }
 },
 "nbformat": 4,
 "nbformat_minor": 2
}
