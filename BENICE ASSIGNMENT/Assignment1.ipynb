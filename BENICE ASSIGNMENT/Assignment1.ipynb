{
 "cells": [
  {
   "cell_type": "code",
   "execution_count": 1,
   "metadata": {},
   "outputs": [
    {
     "name": "stdout",
     "output_type": "stream",
     "text": [
      "MY FULL INFORMATION\n",
      "name: Benice\n",
      "other_nmae: Kamtochukwu\n",
      "surname: Ugochukwu\n",
      "age: 29 years\n",
      "address: 44 Hakeem Dosumu Ago Palace\n",
      "state_of_origin: Anambra\n",
      "nationalism: Nigeria\n",
      "\n"
     ]
    }
   ],
   "source": [
    "#write a program to introduce youself with full information using variable declaration? \n",
    "print(\"MY FULL INFORMATION\")\n",
    "\n",
    "name = \"name: Benice\\n\"\n",
    "other_name = \"other_nmae: Kamtochukwu\\n\"\n",
    "surname = \"surname: Ugochukwu\\n\"\n",
    "age = \"age: 29 years\\n\"\n",
    "address = \"address: 44 Hakeem Dosumu Ago Palace\\n\"\n",
    "state_of_origin = \"state_of_origin: Anambra\\n\"\n",
    "nationalism = \"nationalism: Nigeria\\n\"\n",
    "info = (name+other_name+surname+age+address+state_of_origin+nationalism) \n",
    "\n",
    "print(info)\n"
   ]
  },
  {
   "cell_type": "code",
   "execution_count": 2,
   "metadata": {},
   "outputs": [
    {
     "name": "stdout",
     "output_type": "stream",
     "text": [
      "WHAT PYTHON DO IN TECHNOLOGY ARE;\n",
      "web_development: python can be used to make web_application at a rapid rate.\n",
      "game_development: python can be used in the development of interactive games.\n",
      "data_analysis_and_machine_learning: python has become a staple in data science, allowing data_analysalis to conduct complex statistical calculations, create data visualizations, build machine learning algorithms, manipulate and analyze data.\n",
      "software_testing_and_prototyping: python can aid in tasks like build control, bug tracking, and testing. with python software developers can automate testing for new products and features\n",
      "\n"
     ]
    }
   ],
   "source": [
    "print(\"WHAT PYTHON DO IN TECHNOLOGY ARE;\")\n",
    "\n",
    "web_development = \"web_development: python can be used to make web_application at a rapid rate.\\n\"\n",
    "game_development = \"game_development: python can be used in the development of interactive games.\\n\"\n",
    "data_analysis_and_machine_learning = \"data_analysis_and_machine_learning: python has become a staple in data science, allowing data_analysalis to conduct complex statistical calculations, create data visualizations, build machine learning algorithms, manipulate and analyze data.\\n\"\n",
    "software_testing_and_prototyping = \"software_testing_and_prototyping: python can aid in tasks like build control, bug tracking, and testing. with python software developers can automate testing for new products and features\\n\"\n",
    "info = (web_development+game_development+data_analysis_and_machine_learning+software_testing_and_prototyping)\n",
    "\n",
    "print(info)\n",
    "\n"
   ]
  },
  {
   "cell_type": "code",
   "execution_count": 3,
   "metadata": {},
   "outputs": [
    {
     "name": "stdout",
     "output_type": "stream",
     "text": [
      "hey dear\n",
      "5.6\n",
      "20\n",
      "\n"
     ]
    }
   ],
   "source": [
    "#assignament\n",
    "#create a python statements with at least 3 data types using string concatenation in your expression?\n",
    "\n",
    "string = \"hey dear\\n\"\n",
    "float = str(\"5.6\\n\")\n",
    "interger = str (\"20\\n\")\n",
    "\n",
    "combo = (string+float+interger)\n",
    "print(combo)"
   ]
  },
  {
   "cell_type": "code",
   "execution_count": 1,
   "metadata": {},
   "outputs": [
    {
     "name": "stdout",
     "output_type": "stream",
     "text": [
      "yes {APC} is among\n",
      "sorry you failed\n"
     ]
    }
   ],
   "source": [
    "#assignment\n",
    "#write a python validation at least 3 steps of complete conditional statement\n",
    "# relating with comparison (relation) statement for your desire problem\n",
    "#total number of vote for primary election in Nigeria\n",
    "\n",
    "candidate = \"APC\",\"PDP\",\"LP\",\"YPP\" \n",
    "score = \"3000\"\n",
    "\n",
    "name = input(\"name of the candidate\")\n",
    "scores = int(input(\"total number of vote\"))\n",
    "\n",
    "if name ==  \"APC\":\n",
    "    print(\"yes {APC} is among\")\n",
    "    if scores>= 3000:\n",
    "        print(\"yes {3000} is valid for 2023 election\")\n",
    "        print(\"congratulation APC\")\n",
    "        \n",
    "    else:\n",
    "        print(\"sorry you failed\")\n",
    "        \n",
    "elif name == \"PDP\":\n",
    "    print(\"yes {PDP} is among\")\n",
    "    if scores<= 100:\n",
    "        print(\"opps {100} is invalid for 2023 elction\")\n",
    "        \n",
    "    else:\n",
    "        print(\"congratulation you passed\") \n",
    "        \n",
    "elif name == \"LP\":\n",
    "    print(\"yes {LP} is among\")\n",
    "    if scores>= 2000:\n",
    "        print(\"yes{score} is valid for 2023 election\")\n",
    "        print(\"congratulation LP\")\n",
    "    \n",
    "    else:\n",
    "        print(\"sorry you failed\")\n",
    "        \n",
    "elif name == \"YPP\":\n",
    "    print(\"yes {YPP} is among\")\n",
    "    if scores>= 10:\n",
    "        print(\"yes {score} is valid for 2023 electon\")\n",
    "        print(\"congratulation YPP\")\n",
    "        \n",
    "    else:\n",
    "        print(\"failed\")\n",
    "        "
   ]
  },
  {
   "cell_type": "code",
   "execution_count": null,
   "metadata": {},
   "outputs": [],
   "source": [
    "# Assignment\n",
    "# 1, using while loop analyze a range of numbers from 1-15 and let the output retured even and odd in number.\n",
    "# 2. write a python loop to print a series of number uisng while loop.\n",
    "# 3. write a python while loop to convert users defined decimal to binary.\n"
   ]
  },
  {
   "cell_type": "code",
   "execution_count": 51,
   "metadata": {},
   "outputs": [
    {
     "name": "stdout",
     "output_type": "stream",
     "text": [
      "1: is odd number\n",
      "2: is even number\n",
      "3: is odd number\n",
      "4: is even number\n",
      "5: is odd number\n"
     ]
    }
   ],
   "source": [
    "#1, using a whilw loop analyze a range of numbers from 1-15 and the output returned even and odd n number.\n",
    "i = 1\n",
    "while i<=5:\n",
    "    if i%2 == 0:\n",
    "        print(f\"{i}: is even number\")\n",
    "    else:\n",
    "        print(f\"{i}: is odd number\")\n",
    "    i = i + 1\n",
    "    "
   ]
  },
  {
   "cell_type": "code",
   "execution_count": 3,
   "metadata": {},
   "outputs": [
    {
     "name": "stdout",
     "output_type": "stream",
     "text": [
      "25\n",
      "30\n",
      "35\n",
      "40\n",
      "45\n",
      "50\n"
     ]
    }
   ],
   "source": [
    "# 2. write a python loop to print a series of number uisng while loop.\n",
    "a = 20\n",
    "while a in range (a,50,5):\n",
    "    a = a + 5\n",
    "    print(a)\n"
   ]
  },
  {
   "cell_type": "code",
   "execution_count": 6,
   "metadata": {},
   "outputs": [
    {
     "name": "stdout",
     "output_type": "stream",
     "text": [
      "250\n"
     ]
    }
   ],
   "source": [
    "#To convert binary number to Decimal num\n",
    "binary_number = 11111010\n",
    "print(int(\"11111010\", 2))"
   ]
  },
  {
   "cell_type": "code",
   "execution_count": 36,
   "metadata": {},
   "outputs": [
    {
     "name": "stdout",
     "output_type": "stream",
     "text": [
      "the decimal_number is 250 and binary_num is 11111010\n"
     ]
    }
   ],
   "source": [
    "# 3. write a python while loop to convert users defined decimal to binary.\n",
    "\n",
    "decimal_num = 250\n",
    "binary_num = bin(decimal_num)[2:]\n",
    "print(f'the decimal_number is {decimal_num} and binary_num is {binary_num}')"
   ]
  },
  {
   "cell_type": "code",
   "execution_count": null,
   "metadata": {},
   "outputs": [],
   "source": [
    "#1. write a function to find a maximum of 3 numbers.\n",
    "# 2. write a function to find the sum of 2 list\n",
    "# 3. write a function to reverse a string method.\n",
    "# 4. write a python function to check weather a number falls in a given range.\n",
    "# 5. write a function to create and print a list where the values are square of number between 1 and 30.\n",
    "# 6. write a function to access a function inside a function.\n",
    "# 7. Write a function to detect the number of local variables decleared in a given function."
   ]
  },
  {
   "cell_type": "code",
   "execution_count": 6,
   "metadata": {},
   "outputs": [
    {
     "name": "stdout",
     "output_type": "stream",
     "text": [
      "the maximum num is 15\n"
     ]
    }
   ],
   "source": [
    "#1. write a function to find a maximum of 3 numbers.\n",
    "def max(a,b,c):\n",
    "    if c <= a >= b:\n",
    "        print(f'the maximum num is {a}')\n",
    "    elif c <= b >= a:\n",
    "        print(f'the maximum num is {b}')\n",
    "    else:\n",
    "        print(f'the maximu num is {c}')\n",
    "max(15,6,9)"
   ]
  },
  {
   "cell_type": "code",
   "execution_count": 13,
   "metadata": {},
   "outputs": [
    {
     "name": "stdout",
     "output_type": "stream",
     "text": [
      " num in list1 [1, 2, 3, 4, 5]\n",
      " num in list2 [6, 7, 8, 9, 10]\n",
      "the total sum of list1 and list2 is [7, 9, 11, 13, 15]\n"
     ]
    }
   ],
   "source": [
    " #2. write a function to find the sum of 2 list\n",
    "def number(total_list):\n",
    "    total_list = [list1 + list2]\n",
    "    return total_list\n",
    "list1 = [1,2,3,4,5] \n",
    "list2 = [6,7,8,9,10]\n",
    "total_of_lists = []\n",
    "for a in range(0, len(list1)):\n",
    "    total_of_lists.append(list1[a] + list2[a])\n",
    "print(f\" num in list1 {list1}\")\n",
    "print(f\" num in list2 {list2}\")\n",
    "print(f\"the total sum of list1 and list2 is {total_of_lists}\")  \n",
    "    "
   ]
  },
  {
   "cell_type": "code",
   "execution_count": 31,
   "metadata": {},
   "outputs": [
    {
     "name": "stdout",
     "output_type": "stream",
     "text": [
      "yob a si ibO\n"
     ]
    }
   ],
   "source": [
    "# 3. write a function to reverse a string method\n",
    "def string():\n",
    "    string_method = 'Obi is a boy'\n",
    "    print(string_method[::-1])\n",
    "string()  "
   ]
  },
  {
   "cell_type": "code",
   "execution_count": 46,
   "metadata": {},
   "outputs": [
    {
     "name": "stdout",
     "output_type": "stream",
     "text": [
      "ugo\n",
      "kc\n",
      "ekene\n",
      "uche\n"
     ]
    }
   ],
   "source": [
    "def name():\n",
    "    names = \"uche\", \"ekene\", \"kc\", \"ugo\"\n",
    "    for k in reversed (names):\n",
    "        print(k)\n",
    "name()\n",
    "    "
   ]
  },
  {
   "cell_type": "code",
   "execution_count": null,
   "metadata": {},
   "outputs": [],
   "source": [
    "# 4. write a python function to check weather a number falls in a given range.\n",
    "        "
   ]
  },
  {
   "cell_type": "code",
   "execution_count": 63,
   "metadata": {},
   "outputs": [
    {
     "name": "stdout",
     "output_type": "stream",
     "text": [
      "[1, 4, 9, 16, 25, 36]\n"
     ]
    }
   ],
   "source": [
    "# 5. write a function to create and print a list where the values are square of number between 1 and 30.\n",
    "def square():\n",
    "    list1 = [1,2,3,4,5,6]\n",
    "    value = [number **2 for number in list1]\n",
    "    print(value)\n",
    "square()"
   ]
  },
  {
   "cell_type": "code",
   "execution_count": 53,
   "metadata": {},
   "outputs": [
    {
     "name": "stdout",
     "output_type": "stream",
     "text": [
      "Hello Ghost 😎 you're 30 years old\n"
     ]
    }
   ],
   "source": [
    "\n",
    "# 6. write a function to access a function inside a function \n",
    "def function(name,emoji):\n",
    "    def function2(age):\n",
    "        print(f'Hello {name} {emoji} you\\'re {age} years old')\n",
    "    function2(30)\n",
    "function('Ghost','😎')\n",
    "        "
   ]
  },
  {
   "cell_type": "code",
   "execution_count": null,
   "metadata": {},
   "outputs": [],
   "source": [
    "#database should be in dictionary\n",
    "#assign password for each users\n",
    "#add email to the database and to log in method\n",
    "#assign one email to one user\n",
    "#extend your output to another file with python module"
   ]
  },
  {
   "cell_type": "code",
   "execution_count": 4,
   "metadata": {},
   "outputs": [
    {
     "name": "stdout",
     "output_type": "stream",
     "text": [
      "Benice is a registered user\n"
     ]
    }
   ],
   "source": [
    "\n",
    "database = {'usernames': ['Benice', 'Cindy', 'Favour', 'Chioma'],\n",
    "          'passwords': ['benitoo', 'cindylv', 'favour24', 'chiomzy'],\n",
    "          'emails':['beni24@gmail.com', 'cin2@gmail.com', 'fav@gmail.com', 'chi@gmail.com']\n",
    "          } \n",
    "try:\n",
    "    username = input('enter ur usernames:')\n",
    "    password = input('please enter your password:')\n",
    "    email = input('enter you emails address:')\n",
    "    if username in database:\n",
    "        print(\"{username} is in our database\")\n",
    "        if password == database.items(\"benitoo\"):\n",
    "            print(f\"{username} and {password} are verified\")\n",
    "            if email == database.items(\"beni24@gmail.com\"):\n",
    "                print(f\"{username} , {email} and {password} are verified\")\n",
    "        else:\n",
    "            print(f\"{password} ,{password} and {email} is not in our database\")\n",
    "    else:\n",
    "        print(f\"{username} is a registered user\")\n",
    "         \n",
    "except:\n",
    "    print(\"this is a bad program\")\n"
   ]
  },
  {
   "cell_type": "code",
   "execution_count": null,
   "metadata": {},
   "outputs": [],
   "source": [
    "\n",
    "database = {'usernames': ['Benice', 'Cindy', 'Favour', 'Chioma'],\n",
    "          'passwords': ['benitoo', 'cindylv', 'favour24', 'chiomzy'],\n",
    "          'emails':['beni24@gmail.com', 'cin2@gmail.com', 'fav@gmail.com', 'chi@gmail.com']\n",
    "          } \n",
    "try:\n",
    "    username = input('enter ur usernames:')\n",
    "    password = input('please enter your password:')\n",
    "    email = input('enter you emails address:')\n",
    "    if username in database:\n",
    "        print(\"{username} is in our database\")\n",
    "        if password == database.items(\"benitoo\"):\n",
    "            print(f\"{username} and {password} are verified\")\n",
    "            if email == database.items(\"beni24@gmail.com\"):\n",
    "                print(f\"{username} , {email} and {password} are verified\")\n",
    "        else:\n",
    "            print(f\"{password} ,{password} and {email} is not in our database\")\n",
    "    else:\n",
    "        print(f\"{username} is a registered user\")\n",
    "         \n",
    "except:\n",
    "    print(\"this is a bad program\")\n"
   ]
  },
  {
   "cell_type": "code",
   "execution_count": 1,
   "metadata": {},
   "outputs": [
    {
     "name": "stdout",
     "output_type": "stream",
     "text": [
      "you have successfully logged in kate\n"
     ]
    }
   ],
   "source": [
    "database =  {'kate': '1234', 'funke': '5678', 'adaeze': '9087',}\n",
    "\n",
    "try:\n",
    "    details = input('enter username: ')\n",
    "    ask = input('enter pin: ')\n",
    "    if ask in database[details]:\n",
    "        print(f'you have successfully logged in {details}')\n",
    "    else:\n",
    "        print(f'invalid input')\n",
    "except:\n",
    "    print('invalid code')"
   ]
  },
  {
   "cell_type": "code",
   "execution_count": null,
   "metadata": {},
   "outputs": [],
   "source": [
    "#1. write a python programming to create a vehicle class with max_speed and mileage instance attributes.\n",
    "#2. create a bus class that inherits from the vehicle class. Give the capacity argument of Bus.seating_capacity() a default value of 50.\n",
    "#3. create a Bus child class that inherits from the vehicle class. The default fare charge of any vehicle is seating capacity *100. if vehicle\n",
    "# is Bus instance, we need to add an extra 10% on full fare as a maintenance charge. so total fare for bus instance will become the final amount = total fare + 10% of the \n",
    "# of the total fare.\n",
    "# Note: the bus seating capacity is 50. so the final fare amount should be 5500. you need to override the fare() method of a Vehicle class in Bus class. "
   ]
  },
  {
   "cell_type": "code",
   "execution_count": 2,
   "metadata": {},
   "outputs": [
    {
     "data": {
      "text/plain": [
       "'190 has Benz speed and mileage of 200mph'"
      ]
     },
     "execution_count": 2,
     "metadata": {},
     "output_type": "execute_result"
    }
   ],
   "source": [
    "class Vehicle:\n",
    "    def __init__(self, max_speed, mileage, brand):\n",
    "        self.max_speed = max_speed\n",
    "        self.mileage = mileage\n",
    "        self.brand = brand\n",
    "\n",
    "    def output(self):\n",
    "        return f\"{self.brand} has {self.max_speed} speed and mileage of {self.mileage}\"\n",
    "\n",
    "modelX = Vehicle(\"Benz\", \"200mph\", 190)\n",
    "modelX.output()"
   ]
  },
  {
   "cell_type": "code",
   "execution_count": null,
   "metadata": {},
   "outputs": [],
   "source": [
    "database = {'usernames': ['Benice', 'Cindy', 'Favour'],\n",
    "          'passwords': ['benitoo', 'cindylv', 'favour24'],\n",
    "          'emails':['beni24@gmail.com', 'cin2@gmail.com', 'fav@gmail.com']\n",
    "          }"
   ]
  },
  {
   "cell_type": "code",
   "execution_count": 48,
   "metadata": {},
   "outputs": [],
   "source": [
    "from tkinter import *\n",
    "gui = Tk()\n",
    "gui.title(\"Project X\")\n",
    "gui.geometry(\"400x500\")\n",
    "frame = Frame(gui)\n",
    "frame.grid()\n",
    "\n",
    "butt = Button(frame, text=\"National ID Form\", fg=\"red\").grid(row=0, column= 1)\n",
    "\n",
    "labe1 = Label(frame, text=\"Surname:\", fg=\"red\").grid(row=1)\n",
    "label2 = Label(frame, text=\"Middlename:\", fg=\"red\").grid(row=2)\n",
    "label3 = Label(frame, text=\"Lastname:\", fg=\"red\").grid(row=3)\n",
    "label4 = Label(frame, text=\"Address:\", fg=\"red\").grid(row=4)\n",
    "label5 = Label(frame, text=\"State Of Origin:\", fg=\"red\").grid(row=5)\n",
    "label6 = Label(frame, text=\"Place Of Birth:\", fg=\"red\").grid(row=6)\n",
    "label7 = Label(frame, text=\"Nationalism:\", fg=\"red\").grid(row=7)\n",
    "label8 = Label(frame, text=\"Mobile number:\"   , fg=\"red\").grid(row=8)\n",
    "\n",
    "e1 = Entry(frame).grid(row=1, column=1)\n",
    "e2 = Entry(frame).grid(row=2, column=1)\n",
    "e3 = Entry(frame).grid(row=3, column=1)\n",
    "e4 = Entry(frame).grid(row=4, column=1)\n",
    "e5 = Entry(frame).grid(row=5, column=1)\n",
    "e6 = Entry(frame).grid(row=6, column=1)\n",
    "e7 = Entry(frame).grid(row=7, column=1)\n",
    "e8 = Entry(frame).grid(row=8, column=1)\n",
    "\n",
    "checkb1 = Checkbutton(frame, text=\"Female\", fg=\"red\").grid(row=10, column=1)\n",
    "checkb2 = Checkbutton(frame, text=\"Male\", fg=\"red\").grid(row=10)\n",
    "\n",
    "label9 = Label(frame, text=\"Marital Status:\", fg=\"red\").grid(row=11)\n",
    "checkb3 = Checkbutton(frame, text=\"Married\", fg=\"red\").grid(row=11, column=1)\n",
    "checkb3 = Checkbutton(frame, text=\"Single\", fg=\"red\").grid(row=11, column=2)\n",
    "\n",
    "gui.mainloop()"
   ]
  }
 ],
 "metadata": {
  "kernelspec": {
   "display_name": "Python 3.11.0 64-bit",
   "language": "python",
   "name": "python3"
  },
  "language_info": {
   "codemirror_mode": {
    "name": "ipython",
    "version": 3
   },
   "file_extension": ".py",
   "mimetype": "text/x-python",
   "name": "python",
   "nbconvert_exporter": "python",
   "pygments_lexer": "ipython3",
   "version": "3.11.0"
  },
  "orig_nbformat": 4,
  "vscode": {
   "interpreter": {
    "hash": "de47f5c92c0ee6f12a59a5613ac5feff6aab19ddff207ba0b3964cced08c4ccc"
   }
  }
 },
 "nbformat": 4,
 "nbformat_minor": 2
}
