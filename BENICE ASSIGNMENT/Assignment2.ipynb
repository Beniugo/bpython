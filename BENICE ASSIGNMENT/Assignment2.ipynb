{
 "cells": [
  {
   "cell_type": "code",
   "execution_count": 1,
   "metadata": {},
   "outputs": [],
   "source": [
    "# 1. using while loop, analyze a range of numbers from 1 - 15 and let the output of the loop return even and odd (in number).\n",
    "\n",
    "# 2. Write a python loop to print a series of number.\n",
    "\n",
    "# 3. write a python while loop to convert users defined decimal to binary number."
   ]
  },
  {
   "cell_type": "code",
   "execution_count": 3,
   "metadata": {},
   "outputs": [
    {
     "name": "stdout",
     "output_type": "stream",
     "text": [
      "1\n",
      "even\n",
      "3\n",
      "even\n",
      "5\n",
      "even\n",
      "7\n",
      "even\n",
      "9\n",
      "even\n",
      "11\n",
      "even\n",
      "13\n",
      "even\n",
      "15\n"
     ]
    }
   ],
   "source": [
    "a = 0\n",
    "b = 'even'\n",
    "\n",
    "while a < 15:\n",
    "    a += 1\n",
    "    if a % 2 == 1:\n",
    "     print(a)\n",
    "    else:\n",
    "        print(b)"
   ]
  },
  {
   "cell_type": "code",
   "execution_count": 11,
   "metadata": {},
   "outputs": [
    {
     "name": "stdout",
     "output_type": "stream",
     "text": [
      "250\n",
      "300\n",
      "350\n",
      "400\n",
      "450\n",
      "500\n",
      "550\n",
      "600\n",
      "650\n",
      "700\n",
      "750\n",
      "800\n",
      "850\n",
      "900\n",
      "950\n",
      "1000\n",
      "1050\n"
     ]
    }
   ],
   "source": [
    "a = 200\n",
    "while a in range(a,1050,50):\n",
    "    a += 50\n",
    "\n",
    "    print(a)"
   ]
  },
  {
   "cell_type": "code",
   "execution_count": 14,
   "metadata": {},
   "outputs": [
    {
     "name": "stdout",
     "output_type": "stream",
     "text": [
      "Hello, the binary number of 50 is 110010\n"
     ]
    }
   ],
   "source": [
    "number = int(input('Enter your desired number.'))\n",
    "binary = bin(number)[2:]\n",
    "print(f'Hello, the binary number of {number} is {binary}')"
   ]
  },
  {
   "cell_type": "code",
   "execution_count": null,
   "metadata": {},
   "outputs": [],
   "source": [
    "#1. write a function to find a maximum of 3 numbers.\n",
    "# 2. write a function to find the sum of 2 list\n",
    "# 3. write a function to reverse a string method.\n",
    "# 4. write a python function to check weather a number falls in a given range.\n",
    "# 5. write a function to create and print a list where the values are square of number between 1 and 30.\n",
    "# 6. write a function to access a function inside a function.\n",
    "# 7. Write a function to detect the number of local variables decleared in a given function."
   ]
  },
  {
   "cell_type": "code",
   "execution_count": 50,
   "metadata": {},
   "outputs": [
    {
     "name": "stdout",
     "output_type": "stream",
     "text": [
      "The maximum number of variable a is 1000\n"
     ]
    }
   ],
   "source": [
    "def bolt():\n",
    "    a = [1000,2,500]\n",
    "    b = max(a)\n",
    "    print(f'The maximum number of variable a is {b}')\n",
    "bolt()"
   ]
  },
  {
   "cell_type": "code",
   "execution_count": null,
   "metadata": {},
   "outputs": [],
   "source": [
    "def sum():\n",
    "    first_list = [10]\n",
    "    second_list = [20]\n",
    "    \n",
    "    print(first_list + second_list)\n",
    "sum()"
   ]
  },
  {
   "cell_type": "code",
   "execution_count": 4,
   "metadata": {},
   "outputs": [
    {
     "data": {
      "text/plain": [
       "50"
      ]
     },
     "execution_count": 4,
     "metadata": {},
     "output_type": "execute_result"
    }
   ],
   "source": [
    "def sum():\n",
    "    a = 20\n",
    "    b = 30\n",
    "    sum = a + b\n",
    "    return sum\n",
    "sum()"
   ]
  },
  {
   "cell_type": "code",
   "execution_count": 19,
   "metadata": {},
   "outputs": [
    {
     "name": "stdout",
     "output_type": "stream",
     "text": [
      "yob a si ibO\n"
     ]
    }
   ],
   "source": [
    "def string():\n",
    "    string_method = 'Obi is a boy'\n",
    "    print(string_method[::-1])\n",
    "string()"
   ]
  },
  {
   "cell_type": "code",
   "execution_count": 24,
   "metadata": {},
   "outputs": [
    {
     "name": "stdout",
     "output_type": "stream",
     "text": [
      "Yes, 5 is in range(0, 10)\n"
     ]
    }
   ],
   "source": [
    "def number():\n",
    "    a = 5\n",
    "    b = range(10)\n",
    "    if a in b:\n",
    "        print(f'Yes, {a} is in {b}')\n",
    "number()"
   ]
  },
  {
   "cell_type": "code",
   "execution_count": 3,
   "metadata": {},
   "outputs": [
    {
     "name": "stdout",
     "output_type": "stream",
     "text": [
      "[1, 2, 3, 4, 5, 6, 7, 8, 9, 10, 11, 12, 13, 14, 15, 16, 17, 18, 19, 20, 21, 22, 23, 24, 25, 26, 27, 28, 29, 30]\n"
     ]
    }
   ],
   "source": [
    "def my_list():\n",
    "    my_list2 = range(1,31)\n",
    "    my_list3 = list(my_list2)\n",
    "    print(my_list3)\n",
    "my_list()"
   ]
  },
  {
   "cell_type": "code",
   "execution_count": 46,
   "metadata": {},
   "outputs": [
    {
     "name": "stdout",
     "output_type": "stream",
     "text": [
      "Hello Ghost 😎 you're 30 years old\n"
     ]
    }
   ],
   "source": [
    "def function(name,emoji):\n",
    "    def function2(age):\n",
    "        print(f'Hello {name} {emoji} you\\'re {age} years old')\n",
    "    function2(30)\n",
    "function('Ghost','😎')\n",
    "        "
   ]
  },
  {
   "cell_type": "code",
   "execution_count": 1,
   "metadata": {},
   "outputs": [
    {
     "name": "stdout",
     "output_type": "stream",
     "text": [
      "The total number of local variables in this function are 3 variables\n"
     ]
    }
   ],
   "source": [
    "def variable():\n",
    "    a = 100\n",
    "    b = 200\n",
    "    c = a + b\n",
    "print(f'The total number of local variables in this function are {variable.__code__.co_nlocals} variables')"
   ]
  }
 ],
 "metadata": {
  "kernelspec": {
   "display_name": "Python 3.11.0 64-bit",
   "language": "python",
   "name": "python3"
  },
  "language_info": {
   "codemirror_mode": {
    "name": "ipython",
    "version": 3
   },
   "file_extension": ".py",
   "mimetype": "text/x-python",
   "name": "python",
   "nbconvert_exporter": "python",
   "pygments_lexer": "ipython3",
   "version": "3.11.0"
  },
  "orig_nbformat": 4,
  "vscode": {
   "interpreter": {
    "hash": "de47f5c92c0ee6f12a59a5613ac5feff6aab19ddff207ba0b3964cced08c4ccc"
   }
  }
 },
 "nbformat": 4,
 "nbformat_minor": 2
}
